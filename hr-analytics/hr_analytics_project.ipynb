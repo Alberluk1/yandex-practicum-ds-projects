{
 "cells": [
  {
   "cell_type": "markdown",
   "id": "444b8fcc",
   "metadata": {},
   "source": [
    "## Сборный проект — 2: HR-аналитика: Прогнозирование оттока сотрудников"
   ]
  },
  {
   "cell_type": "markdown",
   "id": "343ec903",
   "metadata": {},
   "source": [
    "### Описание проекта:\n",
    "\n",
    "В рамках данного проекта была решена задача прогнозирования оттока сотрудников для компании. Это важная задача для HR-анализа, так как позволяет заранее выявить потенциальных \"уязвимых\" сотрудников и принять меры для их удержания, что может снизить затраты на рекрутинг и улучшить корпоративную атмосферу. Анализ данных о сотрудниках помогает не только снизить текучесть кадров, но и оптимизировать внутренние процессы и улучшить управление персоналом."
   ]
  },
  {
   "cell_type": "markdown",
   "id": "60a6f746",
   "metadata": {},
   "source": [
    "### Задачи:\n",
    "\n",
    "Построить модель, которая будет предсказывать, покинет ли сотрудник компанию в будущем. Модель должна использовать данные о характеристиках сотрудников, таких как возраст, зарплата, рабочий стаж, отдел, степень удовлетворённости и другие факторы."
   ]
  },
  {
   "cell_type": "markdown",
   "id": "4fed6bc0",
   "metadata": {},
   "source": [
    "### Цели:\n",
    "\n",
    "1) Изучить и проанализировать данные о сотрудниках.\n",
    "\n",
    "2) Применить методы машинного обучения для предсказания вероятности оттока сотрудников.\n",
    "\n",
    "3) Оценить эффективность различных моделей и выбрать лучшую для решения задачи.\n",
    "\n",
    "4) Сделать выводы о факторах, влияющих на решение сотрудников покинуть компанию."
   ]
  },
  {
   "cell_type": "markdown",
   "id": "af2d8b0d",
   "metadata": {},
   "source": [
    "### 1.4 Методы и инструменты:\n",
    "\n",
    "Методы машинного обучения: Логистическая регрессия, Random Forest, CatBoost.\n",
    "\n",
    "Метрики для оценки модели: Accuracy, Precision, Recall, F1-score.\n",
    "\n",
    "Инструменты: Python, Pandas, Scikit-learn, Matplotlib, Seaborn."
   ]
  },
  {
   "cell_type": "markdown",
   "id": "2abf2294",
   "metadata": {},
   "source": [
    "### Описание данных:\n",
    "\n",
    "id — уникальный идентификатор сотрудника;\n",
    "\n",
    "dept — отдел, в котором работает сотрудник;\n",
    "\n",
    "level — уровень занимаемой должности;\n",
    "\n",
    "workload — уровень загруженности сотрудника;\n",
    "\n",
    "employment_years — длительность работы в компании (в годах);\n",
    "\n",
    "last_year_promo — показывает, было ли повышение за последний год;\n",
    "\n",
    "last_year_violations — показывает, нарушал ли сотрудник трудовой договор за последний год;\n",
    "\n",
    "supervisor_evaluation — оценка качества работы сотрудника, которую дал руководитель;\n",
    "\n",
    "salary — ежемесячная зарплата сотрудника;\n",
    "\n",
    "job_satisfaction_rate — уровень удовлетворённости сотрудника работой в компании, целевой признак."
   ]
  },
  {
   "cell_type": "markdown",
   "id": "0bec9af1",
   "metadata": {},
   "source": [
    "## Задача 1  предсказание уровня удовлетворённости сотрудника"
   ]
  },
  {
   "cell_type": "markdown",
   "id": "b44d7f70",
   "metadata": {},
   "source": [
    "### Загрузка данных "
   ]
  },
  {
   "cell_type": "code",
   "execution_count": 1,
   "id": "ed33621e",
   "metadata": {},
   "outputs": [
    {
     "name": "stdout",
     "output_type": "stream",
     "text": [
      "Requirement already satisfied: phik in /opt/conda/lib/python3.9/site-packages (0.12.4)\n",
      "Requirement already satisfied: matplotlib>=2.2.3 in /opt/conda/lib/python3.9/site-packages (from phik) (3.3.4)\n",
      "Requirement already satisfied: numpy>=1.18.0 in /opt/conda/lib/python3.9/site-packages (from phik) (1.21.1)\n",
      "Requirement already satisfied: scipy>=1.5.2 in /opt/conda/lib/python3.9/site-packages (from phik) (1.9.1)\n",
      "Requirement already satisfied: pandas>=0.25.1 in /opt/conda/lib/python3.9/site-packages (from phik) (1.2.4)\n",
      "Requirement already satisfied: joblib>=0.14.1 in /opt/conda/lib/python3.9/site-packages (from phik) (1.1.0)\n",
      "Requirement already satisfied: pillow>=6.2.0 in /opt/conda/lib/python3.9/site-packages (from matplotlib>=2.2.3->phik) (8.4.0)\n",
      "Requirement already satisfied: kiwisolver>=1.0.1 in /opt/conda/lib/python3.9/site-packages (from matplotlib>=2.2.3->phik) (1.4.4)\n",
      "Requirement already satisfied: python-dateutil>=2.1 in /opt/conda/lib/python3.9/site-packages (from matplotlib>=2.2.3->phik) (2.8.1)\n",
      "Requirement already satisfied: cycler>=0.10 in /opt/conda/lib/python3.9/site-packages (from matplotlib>=2.2.3->phik) (0.11.0)\n",
      "Requirement already satisfied: pyparsing!=2.0.4,!=2.1.2,!=2.1.6,>=2.0.3 in /opt/conda/lib/python3.9/site-packages (from matplotlib>=2.2.3->phik) (2.4.7)\n",
      "Requirement already satisfied: pytz>=2017.3 in /opt/conda/lib/python3.9/site-packages (from pandas>=0.25.1->phik) (2021.1)\n",
      "Requirement already satisfied: six>=1.5 in /opt/conda/lib/python3.9/site-packages (from python-dateutil>=2.1->matplotlib>=2.2.3->phik) (1.16.0)\n",
      "Note: you may need to restart the kernel to use updated packages.\n"
     ]
    }
   ],
   "source": [
    "pip install phik"
   ]
  },
  {
   "cell_type": "code",
   "execution_count": 2,
   "id": "8d4cdc5e",
   "metadata": {},
   "outputs": [],
   "source": [
    "import pandas as pd\n",
    "import numpy as np\n",
    "\n",
    "import matplotlib.pyplot as plt\n",
    "import seaborn as sns\n",
    "from phik import phik_matrix\n",
    "from phik.report import plot_correlation_matrix\n",
    "import pylab\n",
    "\n",
    "from sklearn.preprocessing import OneHotEncoder, OrdinalEncoder, StandardScaler, MinMaxScaler, LabelEncoder\n",
    "from sklearn.model_selection import train_test_split, RandomizedSearchCV\n",
    "from sklearn.pipeline import Pipeline\n",
    "from sklearn.compose import ColumnTransformer\n",
    "from sklearn.metrics import make_scorer, roc_auc_score\n",
    "\n",
    "from sklearn.neighbors import KNeighborsClassifier\n",
    "from sklearn.linear_model import LinearRegression\n",
    "from sklearn.svm import SVC\n",
    "from sklearn.tree import DecisionTreeRegressor, DecisionTreeClassifier"
   ]
  },
  {
   "cell_type": "code",
   "execution_count": 3,
   "id": "157c14d0",
   "metadata": {},
   "outputs": [],
   "source": [
    "data = pd.read_csv('/datasets/train_job_satisfaction_rate.csv')\n",
    "X_test = pd.read_csv('/datasets/test_features.csv')\n",
    "y_test = pd.read_csv('/datasets/test_target_job_satisfaction_rate.csv')"
   ]
  },
  {
   "cell_type": "code",
   "execution_count": 4,
   "id": "613e00c2",
   "metadata": {},
   "outputs": [
    {
     "data": {
      "text/html": [
       "<div>\n",
       "<style scoped>\n",
       "    .dataframe tbody tr th:only-of-type {\n",
       "        vertical-align: middle;\n",
       "    }\n",
       "\n",
       "    .dataframe tbody tr th {\n",
       "        vertical-align: top;\n",
       "    }\n",
       "\n",
       "    .dataframe thead th {\n",
       "        text-align: right;\n",
       "    }\n",
       "</style>\n",
       "<table border=\"1\" class=\"dataframe\">\n",
       "  <thead>\n",
       "    <tr style=\"text-align: right;\">\n",
       "      <th></th>\n",
       "      <th>id</th>\n",
       "      <th>dept</th>\n",
       "      <th>level</th>\n",
       "      <th>workload</th>\n",
       "      <th>employment_years</th>\n",
       "      <th>last_year_promo</th>\n",
       "      <th>last_year_violations</th>\n",
       "      <th>supervisor_evaluation</th>\n",
       "      <th>salary</th>\n",
       "      <th>job_satisfaction_rate</th>\n",
       "    </tr>\n",
       "  </thead>\n",
       "  <tbody>\n",
       "    <tr>\n",
       "      <th>0</th>\n",
       "      <td>155278</td>\n",
       "      <td>sales</td>\n",
       "      <td>junior</td>\n",
       "      <td>medium</td>\n",
       "      <td>2</td>\n",
       "      <td>no</td>\n",
       "      <td>no</td>\n",
       "      <td>1</td>\n",
       "      <td>24000</td>\n",
       "      <td>0.58</td>\n",
       "    </tr>\n",
       "    <tr>\n",
       "      <th>1</th>\n",
       "      <td>653870</td>\n",
       "      <td>hr</td>\n",
       "      <td>junior</td>\n",
       "      <td>high</td>\n",
       "      <td>2</td>\n",
       "      <td>no</td>\n",
       "      <td>no</td>\n",
       "      <td>5</td>\n",
       "      <td>38400</td>\n",
       "      <td>0.76</td>\n",
       "    </tr>\n",
       "    <tr>\n",
       "      <th>2</th>\n",
       "      <td>184592</td>\n",
       "      <td>sales</td>\n",
       "      <td>junior</td>\n",
       "      <td>low</td>\n",
       "      <td>1</td>\n",
       "      <td>no</td>\n",
       "      <td>no</td>\n",
       "      <td>2</td>\n",
       "      <td>12000</td>\n",
       "      <td>0.11</td>\n",
       "    </tr>\n",
       "    <tr>\n",
       "      <th>3</th>\n",
       "      <td>171431</td>\n",
       "      <td>technology</td>\n",
       "      <td>junior</td>\n",
       "      <td>low</td>\n",
       "      <td>4</td>\n",
       "      <td>no</td>\n",
       "      <td>no</td>\n",
       "      <td>2</td>\n",
       "      <td>18000</td>\n",
       "      <td>0.37</td>\n",
       "    </tr>\n",
       "    <tr>\n",
       "      <th>4</th>\n",
       "      <td>693419</td>\n",
       "      <td>hr</td>\n",
       "      <td>junior</td>\n",
       "      <td>medium</td>\n",
       "      <td>1</td>\n",
       "      <td>no</td>\n",
       "      <td>no</td>\n",
       "      <td>3</td>\n",
       "      <td>22800</td>\n",
       "      <td>0.20</td>\n",
       "    </tr>\n",
       "  </tbody>\n",
       "</table>\n",
       "</div>"
      ],
      "text/plain": [
       "       id        dept   level workload  employment_years last_year_promo  \\\n",
       "0  155278       sales  junior   medium                 2              no   \n",
       "1  653870          hr  junior     high                 2              no   \n",
       "2  184592       sales  junior      low                 1              no   \n",
       "3  171431  technology  junior      low                 4              no   \n",
       "4  693419          hr  junior   medium                 1              no   \n",
       "\n",
       "  last_year_violations  supervisor_evaluation  salary  job_satisfaction_rate  \n",
       "0                   no                      1   24000                   0.58  \n",
       "1                   no                      5   38400                   0.76  \n",
       "2                   no                      2   12000                   0.11  \n",
       "3                   no                      2   18000                   0.37  \n",
       "4                   no                      3   22800                   0.20  "
      ]
     },
     "execution_count": 4,
     "metadata": {},
     "output_type": "execute_result"
    }
   ],
   "source": [
    "data.head()"
   ]
  },
  {
   "cell_type": "code",
   "execution_count": 5,
   "id": "405b8bf0",
   "metadata": {},
   "outputs": [
    {
     "data": {
      "text/html": [
       "<div>\n",
       "<style scoped>\n",
       "    .dataframe tbody tr th:only-of-type {\n",
       "        vertical-align: middle;\n",
       "    }\n",
       "\n",
       "    .dataframe tbody tr th {\n",
       "        vertical-align: top;\n",
       "    }\n",
       "\n",
       "    .dataframe thead th {\n",
       "        text-align: right;\n",
       "    }\n",
       "</style>\n",
       "<table border=\"1\" class=\"dataframe\">\n",
       "  <thead>\n",
       "    <tr style=\"text-align: right;\">\n",
       "      <th></th>\n",
       "      <th>id</th>\n",
       "      <th>dept</th>\n",
       "      <th>level</th>\n",
       "      <th>workload</th>\n",
       "      <th>employment_years</th>\n",
       "      <th>last_year_promo</th>\n",
       "      <th>last_year_violations</th>\n",
       "      <th>supervisor_evaluation</th>\n",
       "      <th>salary</th>\n",
       "    </tr>\n",
       "  </thead>\n",
       "  <tbody>\n",
       "    <tr>\n",
       "      <th>0</th>\n",
       "      <td>485046</td>\n",
       "      <td>marketing</td>\n",
       "      <td>junior</td>\n",
       "      <td>medium</td>\n",
       "      <td>2</td>\n",
       "      <td>no</td>\n",
       "      <td>no</td>\n",
       "      <td>5</td>\n",
       "      <td>28800</td>\n",
       "    </tr>\n",
       "    <tr>\n",
       "      <th>1</th>\n",
       "      <td>686555</td>\n",
       "      <td>hr</td>\n",
       "      <td>junior</td>\n",
       "      <td>medium</td>\n",
       "      <td>1</td>\n",
       "      <td>no</td>\n",
       "      <td>no</td>\n",
       "      <td>4</td>\n",
       "      <td>30000</td>\n",
       "    </tr>\n",
       "    <tr>\n",
       "      <th>2</th>\n",
       "      <td>467458</td>\n",
       "      <td>sales</td>\n",
       "      <td>middle</td>\n",
       "      <td>low</td>\n",
       "      <td>5</td>\n",
       "      <td>no</td>\n",
       "      <td>no</td>\n",
       "      <td>4</td>\n",
       "      <td>19200</td>\n",
       "    </tr>\n",
       "    <tr>\n",
       "      <th>3</th>\n",
       "      <td>418655</td>\n",
       "      <td>sales</td>\n",
       "      <td>middle</td>\n",
       "      <td>low</td>\n",
       "      <td>6</td>\n",
       "      <td>no</td>\n",
       "      <td>no</td>\n",
       "      <td>4</td>\n",
       "      <td>19200</td>\n",
       "    </tr>\n",
       "    <tr>\n",
       "      <th>4</th>\n",
       "      <td>789145</td>\n",
       "      <td>hr</td>\n",
       "      <td>middle</td>\n",
       "      <td>medium</td>\n",
       "      <td>5</td>\n",
       "      <td>no</td>\n",
       "      <td>no</td>\n",
       "      <td>5</td>\n",
       "      <td>40800</td>\n",
       "    </tr>\n",
       "  </tbody>\n",
       "</table>\n",
       "</div>"
      ],
      "text/plain": [
       "       id       dept   level workload  employment_years last_year_promo  \\\n",
       "0  485046  marketing  junior   medium                 2              no   \n",
       "1  686555         hr  junior   medium                 1              no   \n",
       "2  467458      sales  middle      low                 5              no   \n",
       "3  418655      sales  middle      low                 6              no   \n",
       "4  789145         hr  middle   medium                 5              no   \n",
       "\n",
       "  last_year_violations  supervisor_evaluation  salary  \n",
       "0                   no                      5   28800  \n",
       "1                   no                      4   30000  \n",
       "2                   no                      4   19200  \n",
       "3                   no                      4   19200  \n",
       "4                   no                      5   40800  "
      ]
     },
     "execution_count": 5,
     "metadata": {},
     "output_type": "execute_result"
    }
   ],
   "source": [
    "X_test.head()"
   ]
  },
  {
   "cell_type": "code",
   "execution_count": 6,
   "id": "21994640",
   "metadata": {},
   "outputs": [
    {
     "data": {
      "text/html": [
       "<div>\n",
       "<style scoped>\n",
       "    .dataframe tbody tr th:only-of-type {\n",
       "        vertical-align: middle;\n",
       "    }\n",
       "\n",
       "    .dataframe tbody tr th {\n",
       "        vertical-align: top;\n",
       "    }\n",
       "\n",
       "    .dataframe thead th {\n",
       "        text-align: right;\n",
       "    }\n",
       "</style>\n",
       "<table border=\"1\" class=\"dataframe\">\n",
       "  <thead>\n",
       "    <tr style=\"text-align: right;\">\n",
       "      <th></th>\n",
       "      <th>id</th>\n",
       "      <th>job_satisfaction_rate</th>\n",
       "    </tr>\n",
       "  </thead>\n",
       "  <tbody>\n",
       "    <tr>\n",
       "      <th>0</th>\n",
       "      <td>130604</td>\n",
       "      <td>0.74</td>\n",
       "    </tr>\n",
       "    <tr>\n",
       "      <th>1</th>\n",
       "      <td>825977</td>\n",
       "      <td>0.75</td>\n",
       "    </tr>\n",
       "    <tr>\n",
       "      <th>2</th>\n",
       "      <td>418490</td>\n",
       "      <td>0.60</td>\n",
       "    </tr>\n",
       "    <tr>\n",
       "      <th>3</th>\n",
       "      <td>555320</td>\n",
       "      <td>0.72</td>\n",
       "    </tr>\n",
       "    <tr>\n",
       "      <th>4</th>\n",
       "      <td>826430</td>\n",
       "      <td>0.08</td>\n",
       "    </tr>\n",
       "  </tbody>\n",
       "</table>\n",
       "</div>"
      ],
      "text/plain": [
       "       id  job_satisfaction_rate\n",
       "0  130604                   0.74\n",
       "1  825977                   0.75\n",
       "2  418490                   0.60\n",
       "3  555320                   0.72\n",
       "4  826430                   0.08"
      ]
     },
     "execution_count": 6,
     "metadata": {},
     "output_type": "execute_result"
    }
   ],
   "source": [
    "y_test.head()"
   ]
  },
  {
   "cell_type": "markdown",
   "id": "93b4f859",
   "metadata": {},
   "source": [
    "на первый взгляд всё в порядке, посмотрим подробнее во время предобработки"
   ]
  },
  {
   "cell_type": "markdown",
   "id": "04df47e4",
   "metadata": {},
   "source": [
    "### Предобработка данных"
   ]
  },
  {
   "cell_type": "markdown",
   "id": "0b5c0e35",
   "metadata": {},
   "source": [
    "#### Предобработка data"
   ]
  },
  {
   "cell_type": "markdown",
   "id": "4543b320",
   "metadata": {},
   "source": [
    "проверим нули"
   ]
  },
  {
   "cell_type": "code",
   "execution_count": 7,
   "id": "627322d9",
   "metadata": {},
   "outputs": [
    {
     "data": {
      "text/plain": [
       "id                       0\n",
       "dept                     6\n",
       "level                    4\n",
       "workload                 0\n",
       "employment_years         0\n",
       "last_year_promo          0\n",
       "last_year_violations     0\n",
       "supervisor_evaluation    0\n",
       "salary                   0\n",
       "job_satisfaction_rate    0\n",
       "dtype: int64"
      ]
     },
     "execution_count": 7,
     "metadata": {},
     "output_type": "execute_result"
    }
   ],
   "source": [
    "data.isna().sum()"
   ]
  },
  {
   "cell_type": "code",
   "execution_count": 8,
   "id": "a395b419",
   "metadata": {},
   "outputs": [],
   "source": [
    "data = data.fillna(data.mode().iloc[0])"
   ]
  },
  {
   "cell_type": "code",
   "execution_count": 9,
   "id": "015b5f8f",
   "metadata": {},
   "outputs": [
    {
     "data": {
      "text/plain": [
       "id                       0\n",
       "dept                     0\n",
       "level                    0\n",
       "workload                 0\n",
       "employment_years         0\n",
       "last_year_promo          0\n",
       "last_year_violations     0\n",
       "supervisor_evaluation    0\n",
       "salary                   0\n",
       "job_satisfaction_rate    0\n",
       "dtype: int64"
      ]
     },
     "execution_count": 9,
     "metadata": {},
     "output_type": "execute_result"
    }
   ],
   "source": [
    "data.isna().sum()"
   ]
  },
  {
   "cell_type": "markdown",
   "id": "ff6a5328",
   "metadata": {},
   "source": [
    "проверим типы данных"
   ]
  },
  {
   "cell_type": "code",
   "execution_count": 10,
   "id": "683ea8ab",
   "metadata": {},
   "outputs": [
    {
     "name": "stdout",
     "output_type": "stream",
     "text": [
      "<class 'pandas.core.frame.DataFrame'>\n",
      "RangeIndex: 4000 entries, 0 to 3999\n",
      "Data columns (total 10 columns):\n",
      " #   Column                 Non-Null Count  Dtype  \n",
      "---  ------                 --------------  -----  \n",
      " 0   id                     4000 non-null   int64  \n",
      " 1   dept                   4000 non-null   object \n",
      " 2   level                  4000 non-null   object \n",
      " 3   workload               4000 non-null   object \n",
      " 4   employment_years       4000 non-null   int64  \n",
      " 5   last_year_promo        4000 non-null   object \n",
      " 6   last_year_violations   4000 non-null   object \n",
      " 7   supervisor_evaluation  4000 non-null   int64  \n",
      " 8   salary                 4000 non-null   int64  \n",
      " 9   job_satisfaction_rate  4000 non-null   float64\n",
      "dtypes: float64(1), int64(4), object(5)\n",
      "memory usage: 312.6+ KB\n"
     ]
    }
   ],
   "source": [
    "data.info()"
   ]
  },
  {
   "cell_type": "markdown",
   "id": "cf01005f",
   "metadata": {},
   "source": [
    "всё в порядке"
   ]
  },
  {
   "cell_type": "markdown",
   "id": "ea454786",
   "metadata": {},
   "source": [
    "проверим дубликаты"
   ]
  },
  {
   "cell_type": "code",
   "execution_count": 11,
   "id": "dab42b68",
   "metadata": {},
   "outputs": [
    {
     "data": {
      "text/plain": [
       "0"
      ]
     },
     "execution_count": 11,
     "metadata": {},
     "output_type": "execute_result"
    }
   ],
   "source": [
    "data.duplicated().sum()"
   ]
  },
  {
   "cell_type": "code",
   "execution_count": 12,
   "id": "5abea7c1",
   "metadata": {},
   "outputs": [
    {
     "name": "stdout",
     "output_type": "stream",
     "text": [
      "['sales' 'hr' 'technology' 'purchasing' 'marketing']\n",
      "['junior' 'middle' 'sinior']\n",
      "['medium' 'high' 'low']\n",
      "['no' 'yes']\n",
      "['no' 'yes']\n"
     ]
    }
   ],
   "source": [
    "lst = data.select_dtypes(exclude = np.number).columns\n",
    "\n",
    "for i in lst:\n",
    "    print(data[i].unique())"
   ]
  },
  {
   "cell_type": "markdown",
   "id": "8ff57d2e",
   "metadata": {},
   "source": [
    "никаких дубликатов нет"
   ]
  },
  {
   "cell_type": "markdown",
   "id": "7dab6560",
   "metadata": {},
   "source": [
    "#### предобработка тестовых данных"
   ]
  },
  {
   "cell_type": "code",
   "execution_count": 13,
   "id": "34b7c3dd",
   "metadata": {},
   "outputs": [
    {
     "data": {
      "text/plain": [
       "id                       0\n",
       "dept                     2\n",
       "level                    1\n",
       "workload                 0\n",
       "employment_years         0\n",
       "last_year_promo          0\n",
       "last_year_violations     0\n",
       "supervisor_evaluation    0\n",
       "salary                   0\n",
       "dtype: int64"
      ]
     },
     "execution_count": 13,
     "metadata": {},
     "output_type": "execute_result"
    }
   ],
   "source": [
    "X_test.isna().sum()"
   ]
  },
  {
   "cell_type": "code",
   "execution_count": 14,
   "id": "2e119a60",
   "metadata": {},
   "outputs": [],
   "source": [
    "X_test = X_test.fillna(X_test.mode().iloc[0])"
   ]
  },
  {
   "cell_type": "code",
   "execution_count": 15,
   "id": "6251a2e0",
   "metadata": {},
   "outputs": [
    {
     "name": "stdout",
     "output_type": "stream",
     "text": [
      "<class 'pandas.core.frame.DataFrame'>\n",
      "RangeIndex: 2000 entries, 0 to 1999\n",
      "Data columns (total 9 columns):\n",
      " #   Column                 Non-Null Count  Dtype \n",
      "---  ------                 --------------  ----- \n",
      " 0   id                     2000 non-null   int64 \n",
      " 1   dept                   2000 non-null   object\n",
      " 2   level                  2000 non-null   object\n",
      " 3   workload               2000 non-null   object\n",
      " 4   employment_years       2000 non-null   int64 \n",
      " 5   last_year_promo        2000 non-null   object\n",
      " 6   last_year_violations   2000 non-null   object\n",
      " 7   supervisor_evaluation  2000 non-null   int64 \n",
      " 8   salary                 2000 non-null   int64 \n",
      "dtypes: int64(4), object(5)\n",
      "memory usage: 140.8+ KB\n"
     ]
    }
   ],
   "source": [
    "X_test.info()"
   ]
  },
  {
   "cell_type": "code",
   "execution_count": 16,
   "id": "8a7c1eb2",
   "metadata": {},
   "outputs": [
    {
     "data": {
      "text/plain": [
       "0"
      ]
     },
     "execution_count": 16,
     "metadata": {},
     "output_type": "execute_result"
    }
   ],
   "source": [
    "X_test.duplicated().sum()"
   ]
  },
  {
   "cell_type": "code",
   "execution_count": 17,
   "id": "e64dcc72",
   "metadata": {},
   "outputs": [
    {
     "name": "stdout",
     "output_type": "stream",
     "text": [
      "['marketing' 'hr' 'sales' 'purchasing' 'technology' ' ']\n",
      "['junior' 'middle' 'sinior']\n",
      "['medium' 'low' 'high' ' ']\n",
      "['no' 'yes']\n",
      "['no' 'yes']\n"
     ]
    }
   ],
   "source": [
    "lst = X_test.select_dtypes(exclude = np.number).columns\n",
    "\n",
    "for i in lst:\n",
    "    print(X_test[i].unique())"
   ]
  },
  {
   "cell_type": "code",
   "execution_count": 18,
   "id": "ed1fbabe",
   "metadata": {},
   "outputs": [],
   "source": [
    "X_test = X_test[X_test['dept'] != ' ']\n",
    "X_test = X_test[X_test['workload'] != ' ']"
   ]
  },
  {
   "cell_type": "code",
   "execution_count": 19,
   "id": "7aef94c7",
   "metadata": {},
   "outputs": [
    {
     "data": {
      "text/plain": [
       "id                       0\n",
       "job_satisfaction_rate    0\n",
       "dtype: int64"
      ]
     },
     "execution_count": 19,
     "metadata": {},
     "output_type": "execute_result"
    }
   ],
   "source": [
    "y_test.isna().sum()"
   ]
  },
  {
   "cell_type": "code",
   "execution_count": 20,
   "id": "2968dce1",
   "metadata": {},
   "outputs": [],
   "source": [
    "test = X_test.merge(y_test, on = 'id').drop('id', axis = 1)"
   ]
  },
  {
   "cell_type": "code",
   "execution_count": 21,
   "id": "c59033cb",
   "metadata": {},
   "outputs": [
    {
     "data": {
      "text/html": [
       "<div>\n",
       "<style scoped>\n",
       "    .dataframe tbody tr th:only-of-type {\n",
       "        vertical-align: middle;\n",
       "    }\n",
       "\n",
       "    .dataframe tbody tr th {\n",
       "        vertical-align: top;\n",
       "    }\n",
       "\n",
       "    .dataframe thead th {\n",
       "        text-align: right;\n",
       "    }\n",
       "</style>\n",
       "<table border=\"1\" class=\"dataframe\">\n",
       "  <thead>\n",
       "    <tr style=\"text-align: right;\">\n",
       "      <th></th>\n",
       "      <th>dept</th>\n",
       "      <th>level</th>\n",
       "      <th>workload</th>\n",
       "      <th>employment_years</th>\n",
       "      <th>last_year_promo</th>\n",
       "      <th>last_year_violations</th>\n",
       "      <th>supervisor_evaluation</th>\n",
       "      <th>salary</th>\n",
       "      <th>job_satisfaction_rate</th>\n",
       "    </tr>\n",
       "  </thead>\n",
       "  <tbody>\n",
       "    <tr>\n",
       "      <th>0</th>\n",
       "      <td>marketing</td>\n",
       "      <td>junior</td>\n",
       "      <td>medium</td>\n",
       "      <td>2</td>\n",
       "      <td>no</td>\n",
       "      <td>no</td>\n",
       "      <td>5</td>\n",
       "      <td>28800</td>\n",
       "      <td>0.79</td>\n",
       "    </tr>\n",
       "    <tr>\n",
       "      <th>1</th>\n",
       "      <td>hr</td>\n",
       "      <td>junior</td>\n",
       "      <td>medium</td>\n",
       "      <td>1</td>\n",
       "      <td>no</td>\n",
       "      <td>no</td>\n",
       "      <td>4</td>\n",
       "      <td>30000</td>\n",
       "      <td>0.72</td>\n",
       "    </tr>\n",
       "    <tr>\n",
       "      <th>2</th>\n",
       "      <td>sales</td>\n",
       "      <td>middle</td>\n",
       "      <td>low</td>\n",
       "      <td>5</td>\n",
       "      <td>no</td>\n",
       "      <td>no</td>\n",
       "      <td>4</td>\n",
       "      <td>19200</td>\n",
       "      <td>0.64</td>\n",
       "    </tr>\n",
       "    <tr>\n",
       "      <th>3</th>\n",
       "      <td>sales</td>\n",
       "      <td>middle</td>\n",
       "      <td>low</td>\n",
       "      <td>6</td>\n",
       "      <td>no</td>\n",
       "      <td>no</td>\n",
       "      <td>4</td>\n",
       "      <td>19200</td>\n",
       "      <td>0.60</td>\n",
       "    </tr>\n",
       "    <tr>\n",
       "      <th>4</th>\n",
       "      <td>hr</td>\n",
       "      <td>middle</td>\n",
       "      <td>medium</td>\n",
       "      <td>5</td>\n",
       "      <td>no</td>\n",
       "      <td>no</td>\n",
       "      <td>5</td>\n",
       "      <td>40800</td>\n",
       "      <td>0.75</td>\n",
       "    </tr>\n",
       "    <tr>\n",
       "      <th>...</th>\n",
       "      <td>...</td>\n",
       "      <td>...</td>\n",
       "      <td>...</td>\n",
       "      <td>...</td>\n",
       "      <td>...</td>\n",
       "      <td>...</td>\n",
       "      <td>...</td>\n",
       "      <td>...</td>\n",
       "      <td>...</td>\n",
       "    </tr>\n",
       "    <tr>\n",
       "      <th>1993</th>\n",
       "      <td>marketing</td>\n",
       "      <td>junior</td>\n",
       "      <td>low</td>\n",
       "      <td>3</td>\n",
       "      <td>no</td>\n",
       "      <td>no</td>\n",
       "      <td>3</td>\n",
       "      <td>20400</td>\n",
       "      <td>0.56</td>\n",
       "    </tr>\n",
       "    <tr>\n",
       "      <th>1994</th>\n",
       "      <td>technology</td>\n",
       "      <td>middle</td>\n",
       "      <td>low</td>\n",
       "      <td>3</td>\n",
       "      <td>no</td>\n",
       "      <td>no</td>\n",
       "      <td>2</td>\n",
       "      <td>21600</td>\n",
       "      <td>0.14</td>\n",
       "    </tr>\n",
       "    <tr>\n",
       "      <th>1995</th>\n",
       "      <td>technology</td>\n",
       "      <td>junior</td>\n",
       "      <td>low</td>\n",
       "      <td>1</td>\n",
       "      <td>no</td>\n",
       "      <td>no</td>\n",
       "      <td>3</td>\n",
       "      <td>14400</td>\n",
       "      <td>0.11</td>\n",
       "    </tr>\n",
       "    <tr>\n",
       "      <th>1996</th>\n",
       "      <td>technology</td>\n",
       "      <td>middle</td>\n",
       "      <td>low</td>\n",
       "      <td>8</td>\n",
       "      <td>no</td>\n",
       "      <td>no</td>\n",
       "      <td>1</td>\n",
       "      <td>32400</td>\n",
       "      <td>0.43</td>\n",
       "    </tr>\n",
       "    <tr>\n",
       "      <th>1997</th>\n",
       "      <td>purchasing</td>\n",
       "      <td>middle</td>\n",
       "      <td>medium</td>\n",
       "      <td>1</td>\n",
       "      <td>no</td>\n",
       "      <td>no</td>\n",
       "      <td>4</td>\n",
       "      <td>38400</td>\n",
       "      <td>0.67</td>\n",
       "    </tr>\n",
       "  </tbody>\n",
       "</table>\n",
       "<p>1998 rows × 9 columns</p>\n",
       "</div>"
      ],
      "text/plain": [
       "            dept   level workload  employment_years last_year_promo  \\\n",
       "0      marketing  junior   medium                 2              no   \n",
       "1             hr  junior   medium                 1              no   \n",
       "2          sales  middle      low                 5              no   \n",
       "3          sales  middle      low                 6              no   \n",
       "4             hr  middle   medium                 5              no   \n",
       "...          ...     ...      ...               ...             ...   \n",
       "1993   marketing  junior      low                 3              no   \n",
       "1994  technology  middle      low                 3              no   \n",
       "1995  technology  junior      low                 1              no   \n",
       "1996  technology  middle      low                 8              no   \n",
       "1997  purchasing  middle   medium                 1              no   \n",
       "\n",
       "     last_year_violations  supervisor_evaluation  salary  \\\n",
       "0                      no                      5   28800   \n",
       "1                      no                      4   30000   \n",
       "2                      no                      4   19200   \n",
       "3                      no                      4   19200   \n",
       "4                      no                      5   40800   \n",
       "...                   ...                    ...     ...   \n",
       "1993                   no                      3   20400   \n",
       "1994                   no                      2   21600   \n",
       "1995                   no                      3   14400   \n",
       "1996                   no                      1   32400   \n",
       "1997                   no                      4   38400   \n",
       "\n",
       "      job_satisfaction_rate  \n",
       "0                      0.79  \n",
       "1                      0.72  \n",
       "2                      0.64  \n",
       "3                      0.60  \n",
       "4                      0.75  \n",
       "...                     ...  \n",
       "1993                   0.56  \n",
       "1994                   0.14  \n",
       "1995                   0.11  \n",
       "1996                   0.43  \n",
       "1997                   0.67  \n",
       "\n",
       "[1998 rows x 9 columns]"
      ]
     },
     "execution_count": 21,
     "metadata": {},
     "output_type": "execute_result"
    }
   ],
   "source": [
    "test"
   ]
  },
  {
   "cell_type": "code",
   "execution_count": 22,
   "id": "c5f99573",
   "metadata": {},
   "outputs": [],
   "source": [
    "X_test = test.drop(['job_satisfaction_rate'], axis = 1)\n",
    "y_test = test['job_satisfaction_rate']"
   ]
  },
  {
   "cell_type": "markdown",
   "id": "1a42adb8",
   "metadata": {},
   "source": [
    "### Исследовательский анализ данных"
   ]
  },
  {
   "cell_type": "code",
   "execution_count": 23,
   "id": "fd9600b9",
   "metadata": {},
   "outputs": [
    {
     "data": {
      "text/html": [
       "<div>\n",
       "<style scoped>\n",
       "    .dataframe tbody tr th:only-of-type {\n",
       "        vertical-align: middle;\n",
       "    }\n",
       "\n",
       "    .dataframe tbody tr th {\n",
       "        vertical-align: top;\n",
       "    }\n",
       "\n",
       "    .dataframe thead th {\n",
       "        text-align: right;\n",
       "    }\n",
       "</style>\n",
       "<table border=\"1\" class=\"dataframe\">\n",
       "  <thead>\n",
       "    <tr style=\"text-align: right;\">\n",
       "      <th></th>\n",
       "      <th>id</th>\n",
       "      <th>dept</th>\n",
       "      <th>level</th>\n",
       "      <th>workload</th>\n",
       "      <th>employment_years</th>\n",
       "      <th>last_year_promo</th>\n",
       "      <th>last_year_violations</th>\n",
       "      <th>supervisor_evaluation</th>\n",
       "      <th>salary</th>\n",
       "      <th>job_satisfaction_rate</th>\n",
       "    </tr>\n",
       "  </thead>\n",
       "  <tbody>\n",
       "    <tr>\n",
       "      <th>0</th>\n",
       "      <td>155278</td>\n",
       "      <td>sales</td>\n",
       "      <td>junior</td>\n",
       "      <td>medium</td>\n",
       "      <td>2</td>\n",
       "      <td>no</td>\n",
       "      <td>no</td>\n",
       "      <td>1</td>\n",
       "      <td>24000</td>\n",
       "      <td>0.58</td>\n",
       "    </tr>\n",
       "    <tr>\n",
       "      <th>1</th>\n",
       "      <td>653870</td>\n",
       "      <td>hr</td>\n",
       "      <td>junior</td>\n",
       "      <td>high</td>\n",
       "      <td>2</td>\n",
       "      <td>no</td>\n",
       "      <td>no</td>\n",
       "      <td>5</td>\n",
       "      <td>38400</td>\n",
       "      <td>0.76</td>\n",
       "    </tr>\n",
       "    <tr>\n",
       "      <th>2</th>\n",
       "      <td>184592</td>\n",
       "      <td>sales</td>\n",
       "      <td>junior</td>\n",
       "      <td>low</td>\n",
       "      <td>1</td>\n",
       "      <td>no</td>\n",
       "      <td>no</td>\n",
       "      <td>2</td>\n",
       "      <td>12000</td>\n",
       "      <td>0.11</td>\n",
       "    </tr>\n",
       "    <tr>\n",
       "      <th>3</th>\n",
       "      <td>171431</td>\n",
       "      <td>technology</td>\n",
       "      <td>junior</td>\n",
       "      <td>low</td>\n",
       "      <td>4</td>\n",
       "      <td>no</td>\n",
       "      <td>no</td>\n",
       "      <td>2</td>\n",
       "      <td>18000</td>\n",
       "      <td>0.37</td>\n",
       "    </tr>\n",
       "    <tr>\n",
       "      <th>4</th>\n",
       "      <td>693419</td>\n",
       "      <td>hr</td>\n",
       "      <td>junior</td>\n",
       "      <td>medium</td>\n",
       "      <td>1</td>\n",
       "      <td>no</td>\n",
       "      <td>no</td>\n",
       "      <td>3</td>\n",
       "      <td>22800</td>\n",
       "      <td>0.20</td>\n",
       "    </tr>\n",
       "    <tr>\n",
       "      <th>...</th>\n",
       "      <td>...</td>\n",
       "      <td>...</td>\n",
       "      <td>...</td>\n",
       "      <td>...</td>\n",
       "      <td>...</td>\n",
       "      <td>...</td>\n",
       "      <td>...</td>\n",
       "      <td>...</td>\n",
       "      <td>...</td>\n",
       "      <td>...</td>\n",
       "    </tr>\n",
       "    <tr>\n",
       "      <th>3995</th>\n",
       "      <td>457950</td>\n",
       "      <td>technology</td>\n",
       "      <td>junior</td>\n",
       "      <td>high</td>\n",
       "      <td>2</td>\n",
       "      <td>no</td>\n",
       "      <td>no</td>\n",
       "      <td>3</td>\n",
       "      <td>46800</td>\n",
       "      <td>0.45</td>\n",
       "    </tr>\n",
       "    <tr>\n",
       "      <th>3996</th>\n",
       "      <td>957499</td>\n",
       "      <td>sales</td>\n",
       "      <td>junior</td>\n",
       "      <td>medium</td>\n",
       "      <td>2</td>\n",
       "      <td>no</td>\n",
       "      <td>no</td>\n",
       "      <td>4</td>\n",
       "      <td>21600</td>\n",
       "      <td>0.68</td>\n",
       "    </tr>\n",
       "    <tr>\n",
       "      <th>3997</th>\n",
       "      <td>533318</td>\n",
       "      <td>sales</td>\n",
       "      <td>middle</td>\n",
       "      <td>low</td>\n",
       "      <td>7</td>\n",
       "      <td>no</td>\n",
       "      <td>no</td>\n",
       "      <td>5</td>\n",
       "      <td>24000</td>\n",
       "      <td>0.76</td>\n",
       "    </tr>\n",
       "    <tr>\n",
       "      <th>3998</th>\n",
       "      <td>706868</td>\n",
       "      <td>sales</td>\n",
       "      <td>junior</td>\n",
       "      <td>medium</td>\n",
       "      <td>2</td>\n",
       "      <td>no</td>\n",
       "      <td>no</td>\n",
       "      <td>3</td>\n",
       "      <td>24000</td>\n",
       "      <td>0.48</td>\n",
       "    </tr>\n",
       "    <tr>\n",
       "      <th>3999</th>\n",
       "      <td>338347</td>\n",
       "      <td>technology</td>\n",
       "      <td>middle</td>\n",
       "      <td>medium</td>\n",
       "      <td>5</td>\n",
       "      <td>no</td>\n",
       "      <td>yes</td>\n",
       "      <td>1</td>\n",
       "      <td>44400</td>\n",
       "      <td>0.18</td>\n",
       "    </tr>\n",
       "  </tbody>\n",
       "</table>\n",
       "<p>4000 rows × 10 columns</p>\n",
       "</div>"
      ],
      "text/plain": [
       "          id        dept   level workload  employment_years last_year_promo  \\\n",
       "0     155278       sales  junior   medium                 2              no   \n",
       "1     653870          hr  junior     high                 2              no   \n",
       "2     184592       sales  junior      low                 1              no   \n",
       "3     171431  technology  junior      low                 4              no   \n",
       "4     693419          hr  junior   medium                 1              no   \n",
       "...      ...         ...     ...      ...               ...             ...   \n",
       "3995  457950  technology  junior     high                 2              no   \n",
       "3996  957499       sales  junior   medium                 2              no   \n",
       "3997  533318       sales  middle      low                 7              no   \n",
       "3998  706868       sales  junior   medium                 2              no   \n",
       "3999  338347  technology  middle   medium                 5              no   \n",
       "\n",
       "     last_year_violations  supervisor_evaluation  salary  \\\n",
       "0                      no                      1   24000   \n",
       "1                      no                      5   38400   \n",
       "2                      no                      2   12000   \n",
       "3                      no                      2   18000   \n",
       "4                      no                      3   22800   \n",
       "...                   ...                    ...     ...   \n",
       "3995                   no                      3   46800   \n",
       "3996                   no                      4   21600   \n",
       "3997                   no                      5   24000   \n",
       "3998                   no                      3   24000   \n",
       "3999                  yes                      1   44400   \n",
       "\n",
       "      job_satisfaction_rate  \n",
       "0                      0.58  \n",
       "1                      0.76  \n",
       "2                      0.11  \n",
       "3                      0.37  \n",
       "4                      0.20  \n",
       "...                     ...  \n",
       "3995                   0.45  \n",
       "3996                   0.68  \n",
       "3997                   0.76  \n",
       "3998                   0.48  \n",
       "3999                   0.18  \n",
       "\n",
       "[4000 rows x 10 columns]"
      ]
     },
     "execution_count": 23,
     "metadata": {},
     "output_type": "execute_result"
    }
   ],
   "source": [
    "data"
   ]
  },
  {
   "cell_type": "code",
   "execution_count": 24,
   "id": "4ff95b56",
   "metadata": {},
   "outputs": [],
   "source": [
    "def bar(col):\n",
    "    plt.figure(figsize = (20,9))\n",
    "    sns.barplot(x = col.value_counts().index, y = col.value_counts())\n",
    "    plt.show()\n",
    "    \n",
    "def hst(col):\n",
    "    plt.figure(figsize = (20,9))\n",
    "    sns.histplot(x = col)\n",
    "    plt.show()"
   ]
  },
  {
   "cell_type": "code",
   "execution_count": 25,
   "id": "12fd5b93",
   "metadata": {},
   "outputs": [
    {
     "data": {
      "image/png": "[encoded data removed]",
      "text/plain": [
       "<Figure size 1440x648 with 1 Axes>"
      ]
     },
     "metadata": {
      "needs_background": "light"
     },
     "output_type": "display_data"
    }
   ],
   "source": [
    "bar(data['dept'])"
   ]
  },
  {
   "cell_type": "markdown",
   "id": "c0594dbd",
   "metadata": {},
   "source": [
    "больше всего сотрудников работает в отделе sales"
   ]
  },
  {
   "cell_type": "code",
   "execution_count": 26,
   "id": "78fa8705",
   "metadata": {},
   "outputs": [
    {
     "data": {
      "image/png": "[encoded data removed]",
      "text/plain": [
       "<Figure size 1440x648 with 1 Axes>"
      ]
     },
     "metadata": {
      "needs_background": "light"
     },
     "output_type": "display_data"
    }
   ],
   "source": [
    "bar(data['level'])"
   ]
  },
  {
   "cell_type": "markdown",
   "id": "eee430fe",
   "metadata": {},
   "source": [
    "меньше всего в компании sinior сотрудников "
   ]
  },
  {
   "cell_type": "code",
   "execution_count": 27,
   "id": "980fd063",
   "metadata": {},
   "outputs": [
    {
     "data": {
      "image/png": "[encoded data removed]",
      "text/plain": [
       "<Figure size 1440x648 with 1 Axes>"
      ]
     },
     "metadata": {
      "needs_background": "light"
     },
     "output_type": "display_data"
    }
   ],
   "source": [
    "bar(data['workload'])"
   ]
  },
  {
   "cell_type": "markdown",
   "id": "c0153123",
   "metadata": {},
   "source": [
    "больше всего сотрудников имеют среднюю загруженность"
   ]
  },
  {
   "cell_type": "code",
   "execution_count": 28,
   "id": "8ffca249",
   "metadata": {},
   "outputs": [
    {
     "data": {
      "image/png": "[encoded data removed]",
      "text/plain": [
       "<Figure size 1440x648 with 1 Axes>"
      ]
     },
     "metadata": {
      "needs_background": "light"
     },
     "output_type": "display_data"
    }
   ],
   "source": [
    "bar(data['last_year_promo'])"
   ]
  },
  {
   "cell_type": "code",
   "execution_count": 29,
   "id": "7ede3191",
   "metadata": {},
   "outputs": [
    {
     "data": {
      "text/plain": [
       "no     3880\n",
       "yes     120\n",
       "Name: last_year_promo, dtype: int64"
      ]
     },
     "execution_count": 29,
     "metadata": {},
     "output_type": "execute_result"
    }
   ],
   "source": [
    "data['last_year_promo'].value_counts()"
   ]
  },
  {
   "cell_type": "markdown",
   "id": "869e3681",
   "metadata": {},
   "source": [
    "всего в компании было 120 повышений за последний год"
   ]
  },
  {
   "cell_type": "code",
   "execution_count": 30,
   "id": "29fba116",
   "metadata": {},
   "outputs": [
    {
     "data": {
      "image/png": "[encoded data removed]",
      "text/plain": [
       "<Figure size 1440x648 with 1 Axes>"
      ]
     },
     "metadata": {
      "needs_background": "light"
     },
     "output_type": "display_data"
    }
   ],
   "source": [
    "bar(data['last_year_violations'])"
   ]
  },
  {
   "cell_type": "code",
   "execution_count": 31,
   "id": "0c9ce508",
   "metadata": {},
   "outputs": [
    {
     "data": {
      "text/plain": [
       "no     3441\n",
       "yes     559\n",
       "Name: last_year_violations, dtype: int64"
      ]
     },
     "execution_count": 31,
     "metadata": {},
     "output_type": "execute_result"
    }
   ],
   "source": [
    "data['last_year_violations'].value_counts()"
   ]
  },
  {
   "cell_type": "markdown",
   "id": "80b3b0e5",
   "metadata": {},
   "source": [
    "трудовой договор нарушили целых 559 сотрудников"
   ]
  },
  {
   "cell_type": "code",
   "execution_count": 32,
   "id": "724f835a",
   "metadata": {},
   "outputs": [
    {
     "data": {
      "image/png": "[encoded data removed]",
      "text/plain": [
       "<Figure size 1440x648 with 1 Axes>"
      ]
     },
     "metadata": {
      "needs_background": "light"
     },
     "output_type": "display_data"
    }
   ],
   "source": [
    "bar(data['employment_years'])"
   ]
  },
  {
   "cell_type": "markdown",
   "id": "59c99b2d",
   "metadata": {},
   "source": [
    "чем больше стаж сотрудников тем их меньше"
   ]
  },
  {
   "cell_type": "code",
   "execution_count": 33,
   "id": "3ed052a7",
   "metadata": {},
   "outputs": [
    {
     "data": {
      "image/png": "[encoded data removed]",
      "text/plain": [
       "<Figure size 1440x648 with 1 Axes>"
      ]
     },
     "metadata": {
      "needs_background": "light"
     },
     "output_type": "display_data"
    }
   ],
   "source": [
    "bar(data['supervisor_evaluation'])"
   ]
  },
  {
   "cell_type": "markdown",
   "id": "a794d4b3",
   "metadata": {},
   "source": [
    "у большенства сотрудников оценка труда - 4"
   ]
  },
  {
   "cell_type": "code",
   "execution_count": 34,
   "id": "c306096a",
   "metadata": {},
   "outputs": [
    {
     "data": {
      "image/png": "[encoded data removed]",
      "text/plain": [
       "<Figure size 1440x648 with 1 Axes>"
      ]
     },
     "metadata": {
      "needs_background": "light"
     },
     "output_type": "display_data"
    }
   ],
   "source": [
    "hst(data['salary'])"
   ]
  },
  {
   "cell_type": "markdown",
   "id": "5db9ae3c",
   "metadata": {},
   "source": [
    "зарплата в среднем составляем 20000 - 40000"
   ]
  },
  {
   "cell_type": "code",
   "execution_count": 35,
   "id": "ccd696f5",
   "metadata": {},
   "outputs": [
    {
     "data": {
      "image/png": "[encoded data removed]",
      "text/plain": [
       "<Figure size 1440x648 with 1 Axes>"
      ]
     },
     "metadata": {
      "needs_background": "light"
     },
     "output_type": "display_data"
    }
   ],
   "source": [
    "hst(data['job_satisfaction_rate'])"
   ]
  },
  {
   "cell_type": "markdown",
   "id": "4f54d0e3",
   "metadata": {},
   "source": [
    "оценки удовлетворенности работой распределяются практически равномерно с 0.1 до 0.9, но также есть и преблодающие значения такие как: ~3.9 и 0.7"
   ]
  },
  {
   "cell_type": "markdown",
   "id": "d9114168",
   "metadata": {},
   "source": [
    "посмотрим как выглядят тренировочные данные относительно тестовых"
   ]
  },
  {
   "cell_type": "code",
   "execution_count": 36,
   "id": "4efd22eb",
   "metadata": {
    "scrolled": false
   },
   "outputs": [
    {
     "data": {
      "image/png": "[encoded data removed]",
      "text/plain": [
       "<Figure size 648x648 with 1 Axes>"
      ]
     },
     "metadata": {
      "needs_background": "light"
     },
     "output_type": "display_data"
    },
    {
     "data": {
      "image/png": "[encoded data removed]",
      "text/plain": [
       "<Figure size 648x648 with 1 Axes>"
      ]
     },
     "metadata": {
      "needs_background": "light"
     },
     "output_type": "display_data"
    },
    {
     "data": {
      "image/png": "[encoded data removed]",
      "text/plain": [
       "<Figure size 648x648 with 1 Axes>"
      ]
     },
     "metadata": {
      "needs_background": "light"
     },
     "output_type": "display_data"
    },
    {
     "data": {
      "image/png": "[encoded data removed]",
      "text/plain": [
       "<Figure size 648x648 with 1 Axes>"
      ]
     },
     "metadata": {
      "needs_background": "light"
     },
     "output_type": "display_data"
    },
    {
     "data": {
      "image/png": "[encoded data removed]",
      "text/plain": [
       "<Figure size 648x648 with 1 Axes>"
      ]
     },
     "metadata": {
      "needs_background": "light"
     },
     "output_type": "display_data"
    },
    {
     "data": {
      "image/png": "[encoded data removed]",
      "text/plain": [
       "<Figure size 648x648 with 1 Axes>"
      ]
     },
     "metadata": {
      "needs_background": "light"
     },
     "output_type": "display_data"
    },
    {
     "data": {
      "image/png": "[encoded data removed]",
      "text/plain": [
       "<Figure size 648x648 with 1 Axes>"
      ]
     },
     "metadata": {
      "needs_background": "light"
     },
     "output_type": "display_data"
    },
    {
     "data": {
      "image/png": "[encoded data removed]",
      "text/plain": [
       "<Figure size 648x648 with 1 Axes>"
      ]
     },
     "metadata": {
      "needs_background": "light"
     },
     "output_type": "display_data"
    },
    {
     "data": {
      "image/png": "[encoded data removed]",
      "text/plain": [
       "<Figure size 648x648 with 1 Axes>"
      ]
     },
     "metadata": {
      "needs_background": "light"
     },
     "output_type": "display_data"
    },
    {
     "data": {
      "image/png": "[encoded data removed]",
      "text/plain": [
       "<Figure size 648x648 with 1 Axes>"
      ]
     },
     "metadata": {
      "needs_background": "light"
     },
     "output_type": "display_data"
    },
    {
     "data": {
      "image/png": "[encoded data removed]",
      "text/plain": [
       "<Figure size 648x648 with 1 Axes>"
      ]
     },
     "metadata": {
      "needs_background": "light"
     },
     "output_type": "display_data"
    },
    {
     "data": {
      "image/png": "[encoded data removed]",
      "text/plain": [
       "<Figure size 648x648 with 1 Axes>"
      ]
     },
     "metadata": {
      "needs_background": "light"
     },
     "output_type": "display_data"
    },
    {
     "data": {
      "image/png": "[encoded data removed]",
      "text/plain": [
       "<Figure size 648x648 with 1 Axes>"
      ]
     },
     "metadata": {
      "needs_background": "light"
     },
     "output_type": "display_data"
    },
    {
     "data": {
      "image/png": "[encoded data removed]",
      "text/plain": [
       "<Figure size 648x648 with 1 Axes>"
      ]
     },
     "metadata": {
      "needs_background": "light"
     },
     "output_type": "display_data"
    }
   ],
   "source": [
    "lst_b = ['supervisor_evaluation', 'employment_years', 'last_year_violations', 'last_year_promo', 'workload', 'level', 'dept']\n",
    "lst_hist = ['job_satisfaction_rate', 'salary']\n",
    "\n",
    "for i in  lst_b:\n",
    "    plt.figure(figsize = (9,9))\n",
    "    sns.barplot(x = X_test[i].value_counts().index, y = X_test[i].value_counts()).set_title(\"Тестовые данные\")\n",
    "    plt.show()\n",
    "    plt.figure(figsize = (9,9))\n",
    "    sns.barplot(x = data[i].value_counts().index, y = data[i].value_counts()).set_title(\"Тренировочные данные\")\n",
    "    plt.show()\n",
    "#подскажите пожалуйста как можно это грамотно либо объеденить в один график либо сделать как то чтобы графики были два одну строку"
   ]
  },
  {
   "cell_type": "markdown",
   "id": "2bbb2ef5",
   "metadata": {},
   "source": [
    "все данные распределены одинаково "
   ]
  },
  {
   "cell_type": "markdown",
   "id": "bd0ab5f5",
   "metadata": {},
   "source": [
    "Вывод:\n",
    "\n",
    "у сотрудников в среднем маленькие зарплаты, но скорее всего это связано с тем, что в компании много новых сотрудников, также совсем немного повышений за год и оценки работников на счет своей работы оставляют желать лучшего, так как много людей имеют оценку ниже 0.5"
   ]
  },
  {
   "cell_type": "markdown",
   "id": "2724dd83",
   "metadata": {},
   "source": [
    "### Подготовка данных к обучению"
   ]
  },
  {
   "cell_type": "markdown",
   "id": "5d6f59b8",
   "metadata": {},
   "source": [
    "проведем корреляционный и проверим нет ли мультиколлинеарности"
   ]
  },
  {
   "cell_type": "code",
   "execution_count": 37,
   "id": "3db3c3f7",
   "metadata": {},
   "outputs": [
    {
     "name": "stdout",
     "output_type": "stream",
     "text": [
      "interval columns not set, guessing: ['employment_years', 'supervisor_evaluation', 'salary', 'job_satisfaction_rate']\n"
     ]
    },
    {
     "data": {
      "image/png": "[encoded data removed]",
      "text/plain": [
       "<Figure size 1440x1080 with 2 Axes>"
      ]
     },
     "metadata": {
      "needs_background": "light"
     },
     "output_type": "display_data"
    }
   ],
   "source": [
    "phik_overview = data.drop('id', axis = 1).phik_matrix()\n",
    "\n",
    "plot_correlation_matrix(\n",
    "  phik_overview.values,\n",
    "    x_labels=phik_overview.columns,\n",
    "    y_labels=phik_overview.index,\n",
    "    vmin=0, vmax=1, color_map='Greens',\n",
    "    title=r'correlation $\\phi_K$',\n",
    "    fontsize_factor=1.5,\n",
    "    figsize=(20, 15)\n",
    ")  "
   ]
  },
  {
   "cell_type": "markdown",
   "id": "9016517e",
   "metadata": {},
   "source": [
    "кажется все хорошо, но есть сильная корреляция между зарплатой и загруженностью (вопрос является ли это мультиколлинеарностью...)"
   ]
  },
  {
   "cell_type": "code",
   "execution_count": 38,
   "id": "6cef5bb3",
   "metadata": {},
   "outputs": [
    {
     "data": {
      "text/html": [
       "<div>\n",
       "<style scoped>\n",
       "    .dataframe tbody tr th:only-of-type {\n",
       "        vertical-align: middle;\n",
       "    }\n",
       "\n",
       "    .dataframe tbody tr th {\n",
       "        vertical-align: top;\n",
       "    }\n",
       "\n",
       "    .dataframe thead th {\n",
       "        text-align: right;\n",
       "    }\n",
       "</style>\n",
       "<table border=\"1\" class=\"dataframe\">\n",
       "  <thead>\n",
       "    <tr style=\"text-align: right;\">\n",
       "      <th></th>\n",
       "      <th>id</th>\n",
       "      <th>dept</th>\n",
       "      <th>level</th>\n",
       "      <th>workload</th>\n",
       "      <th>employment_years</th>\n",
       "      <th>last_year_promo</th>\n",
       "      <th>last_year_violations</th>\n",
       "      <th>supervisor_evaluation</th>\n",
       "      <th>salary</th>\n",
       "      <th>job_satisfaction_rate</th>\n",
       "    </tr>\n",
       "  </thead>\n",
       "  <tbody>\n",
       "    <tr>\n",
       "      <th>0</th>\n",
       "      <td>155278</td>\n",
       "      <td>sales</td>\n",
       "      <td>junior</td>\n",
       "      <td>medium</td>\n",
       "      <td>2</td>\n",
       "      <td>no</td>\n",
       "      <td>no</td>\n",
       "      <td>1</td>\n",
       "      <td>24000</td>\n",
       "      <td>0.58</td>\n",
       "    </tr>\n",
       "    <tr>\n",
       "      <th>1</th>\n",
       "      <td>653870</td>\n",
       "      <td>hr</td>\n",
       "      <td>junior</td>\n",
       "      <td>high</td>\n",
       "      <td>2</td>\n",
       "      <td>no</td>\n",
       "      <td>no</td>\n",
       "      <td>5</td>\n",
       "      <td>38400</td>\n",
       "      <td>0.76</td>\n",
       "    </tr>\n",
       "    <tr>\n",
       "      <th>2</th>\n",
       "      <td>184592</td>\n",
       "      <td>sales</td>\n",
       "      <td>junior</td>\n",
       "      <td>low</td>\n",
       "      <td>1</td>\n",
       "      <td>no</td>\n",
       "      <td>no</td>\n",
       "      <td>2</td>\n",
       "      <td>12000</td>\n",
       "      <td>0.11</td>\n",
       "    </tr>\n",
       "    <tr>\n",
       "      <th>3</th>\n",
       "      <td>171431</td>\n",
       "      <td>technology</td>\n",
       "      <td>junior</td>\n",
       "      <td>low</td>\n",
       "      <td>4</td>\n",
       "      <td>no</td>\n",
       "      <td>no</td>\n",
       "      <td>2</td>\n",
       "      <td>18000</td>\n",
       "      <td>0.37</td>\n",
       "    </tr>\n",
       "    <tr>\n",
       "      <th>4</th>\n",
       "      <td>693419</td>\n",
       "      <td>hr</td>\n",
       "      <td>junior</td>\n",
       "      <td>medium</td>\n",
       "      <td>1</td>\n",
       "      <td>no</td>\n",
       "      <td>no</td>\n",
       "      <td>3</td>\n",
       "      <td>22800</td>\n",
       "      <td>0.20</td>\n",
       "    </tr>\n",
       "    <tr>\n",
       "      <th>...</th>\n",
       "      <td>...</td>\n",
       "      <td>...</td>\n",
       "      <td>...</td>\n",
       "      <td>...</td>\n",
       "      <td>...</td>\n",
       "      <td>...</td>\n",
       "      <td>...</td>\n",
       "      <td>...</td>\n",
       "      <td>...</td>\n",
       "      <td>...</td>\n",
       "    </tr>\n",
       "    <tr>\n",
       "      <th>3995</th>\n",
       "      <td>457950</td>\n",
       "      <td>technology</td>\n",
       "      <td>junior</td>\n",
       "      <td>high</td>\n",
       "      <td>2</td>\n",
       "      <td>no</td>\n",
       "      <td>no</td>\n",
       "      <td>3</td>\n",
       "      <td>46800</td>\n",
       "      <td>0.45</td>\n",
       "    </tr>\n",
       "    <tr>\n",
       "      <th>3996</th>\n",
       "      <td>957499</td>\n",
       "      <td>sales</td>\n",
       "      <td>junior</td>\n",
       "      <td>medium</td>\n",
       "      <td>2</td>\n",
       "      <td>no</td>\n",
       "      <td>no</td>\n",
       "      <td>4</td>\n",
       "      <td>21600</td>\n",
       "      <td>0.68</td>\n",
       "    </tr>\n",
       "    <tr>\n",
       "      <th>3997</th>\n",
       "      <td>533318</td>\n",
       "      <td>sales</td>\n",
       "      <td>middle</td>\n",
       "      <td>low</td>\n",
       "      <td>7</td>\n",
       "      <td>no</td>\n",
       "      <td>no</td>\n",
       "      <td>5</td>\n",
       "      <td>24000</td>\n",
       "      <td>0.76</td>\n",
       "    </tr>\n",
       "    <tr>\n",
       "      <th>3998</th>\n",
       "      <td>706868</td>\n",
       "      <td>sales</td>\n",
       "      <td>junior</td>\n",
       "      <td>medium</td>\n",
       "      <td>2</td>\n",
       "      <td>no</td>\n",
       "      <td>no</td>\n",
       "      <td>3</td>\n",
       "      <td>24000</td>\n",
       "      <td>0.48</td>\n",
       "    </tr>\n",
       "    <tr>\n",
       "      <th>3999</th>\n",
       "      <td>338347</td>\n",
       "      <td>technology</td>\n",
       "      <td>middle</td>\n",
       "      <td>medium</td>\n",
       "      <td>5</td>\n",
       "      <td>no</td>\n",
       "      <td>yes</td>\n",
       "      <td>1</td>\n",
       "      <td>44400</td>\n",
       "      <td>0.18</td>\n",
       "    </tr>\n",
       "  </tbody>\n",
       "</table>\n",
       "<p>4000 rows × 10 columns</p>\n",
       "</div>"
      ],
      "text/plain": [
       "          id        dept   level workload  employment_years last_year_promo  \\\n",
       "0     155278       sales  junior   medium                 2              no   \n",
       "1     653870          hr  junior     high                 2              no   \n",
       "2     184592       sales  junior      low                 1              no   \n",
       "3     171431  technology  junior      low                 4              no   \n",
       "4     693419          hr  junior   medium                 1              no   \n",
       "...      ...         ...     ...      ...               ...             ...   \n",
       "3995  457950  technology  junior     high                 2              no   \n",
       "3996  957499       sales  junior   medium                 2              no   \n",
       "3997  533318       sales  middle      low                 7              no   \n",
       "3998  706868       sales  junior   medium                 2              no   \n",
       "3999  338347  technology  middle   medium                 5              no   \n",
       "\n",
       "     last_year_violations  supervisor_evaluation  salary  \\\n",
       "0                      no                      1   24000   \n",
       "1                      no                      5   38400   \n",
       "2                      no                      2   12000   \n",
       "3                      no                      2   18000   \n",
       "4                      no                      3   22800   \n",
       "...                   ...                    ...     ...   \n",
       "3995                   no                      3   46800   \n",
       "3996                   no                      4   21600   \n",
       "3997                   no                      5   24000   \n",
       "3998                   no                      3   24000   \n",
       "3999                  yes                      1   44400   \n",
       "\n",
       "      job_satisfaction_rate  \n",
       "0                      0.58  \n",
       "1                      0.76  \n",
       "2                      0.11  \n",
       "3                      0.37  \n",
       "4                      0.20  \n",
       "...                     ...  \n",
       "3995                   0.45  \n",
       "3996                   0.68  \n",
       "3997                   0.76  \n",
       "3998                   0.48  \n",
       "3999                   0.18  \n",
       "\n",
       "[4000 rows x 10 columns]"
      ]
     },
     "execution_count": 38,
     "metadata": {},
     "output_type": "execute_result"
    }
   ],
   "source": [
    "data"
   ]
  },
  {
   "cell_type": "code",
   "execution_count": 39,
   "id": "5c743465",
   "metadata": {},
   "outputs": [],
   "source": [
    "def smape(y_true, y_pred):\n",
    "    return 100 * np.mean(np.abs(y_pred - y_true) / ((np.abs(y_pred) + np.abs(y_true))/2))"
   ]
  },
  {
   "cell_type": "code",
   "execution_count": 40,
   "id": "4ac2b135",
   "metadata": {},
   "outputs": [],
   "source": [
    "smape_score = make_scorer(smape, greater_is_better=False)"
   ]
  },
  {
   "cell_type": "code",
   "execution_count": 41,
   "id": "8eddb148",
   "metadata": {},
   "outputs": [],
   "source": [
    "ohe_columns = ['dept', 'last_year_promo', 'last_year_violations']\n",
    "ord_columns = ['level', 'workload']\n",
    "num_columns = data.drop(['job_satisfaction_rate', 'id'], axis = 1).select_dtypes(include = np.number).columns.to_list()"
   ]
  },
  {
   "cell_type": "code",
   "execution_count": 42,
   "id": "4d194dbf",
   "metadata": {},
   "outputs": [],
   "source": [
    "RANDOM_STATE = 42\n",
    "\n",
    "X_train = data.drop(['job_satisfaction_rate', 'id'], axis = 1)\n",
    "y_train = data['job_satisfaction_rate']\n"
   ]
  },
  {
   "cell_type": "code",
   "execution_count": 43,
   "id": "52bd9525",
   "metadata": {},
   "outputs": [],
   "source": [
    "ohe_pipe = Pipeline(\n",
    "    [\n",
    "        (\n",
    "            'ohe', \n",
    "            OneHotEncoder(drop = 'first', handle_unknown = 'error', sparse = False)\n",
    "        )\n",
    "    ]\n",
    ")\n",
    "\n",
    "ord_pipe = Pipeline(\n",
    "    [\n",
    "        (\n",
    "            'ord',\n",
    "            OrdinalEncoder(categories = [['junior', 'middle', 'sinior'], \n",
    "                                         ['low', 'medium', 'high']\n",
    "                                        ],\n",
    "                           handle_unknown=\"use_encoded_value\", \n",
    "                           unknown_value = np.nan)\n",
    "        )\n",
    "    ]\n",
    ")\n",
    "\n",
    "data_preprocessor = ColumnTransformer(\n",
    "    [\n",
    "        ('ohe', ohe_pipe, ohe_columns),\n",
    "        ('ord', ord_pipe, ord_columns),\n",
    "        ('num', StandardScaler(), num_columns)\n",
    "    ],\n",
    "    remainder='passthrough'\n",
    ")\n",
    "\n",
    "pipe_final = Pipeline(\n",
    "    [\n",
    "        ('preprocessor', data_preprocessor),\n",
    "        ('models', DecisionTreeRegressor(random_state = RANDOM_STATE))\n",
    "    ]\n",
    ")\n",
    "\n",
    "param_grid = [\n",
    "    {\n",
    "        'models': [DecisionTreeRegressor(random_state = RANDOM_STATE)],\n",
    "        'models__max_depth': range(2, 10),\n",
    "        'models__min_samples_leaf': range(2, 10),\n",
    "        'models__min_samples_split': range(2, 10),\n",
    "        'preprocessor__num': [StandardScaler(), MinMaxScaler(), 'passthrough']\n",
    "    },\n",
    "    {\n",
    "        'models': [LinearRegression()],\n",
    "        'preprocessor__num': [StandardScaler(), MinMaxScaler(), 'passthrough']\n",
    "    }\n",
    "]\n",
    "\n",
    "randomized_search = RandomizedSearchCV(\n",
    "    pipe_final,\n",
    "    param_grid,\n",
    "    cv = 5,\n",
    "    n_jobs = -1,\n",
    "    scoring = smape_score,\n",
    "    random_state = RANDOM_STATE\n",
    ")\n",
    "\n",
    "randomized_search.fit(X_train, y_train);"
   ]
  },
  {
   "cell_type": "code",
   "execution_count": 44,
   "id": "572d54aa",
   "metadata": {},
   "outputs": [
    {
     "data": {
      "text/plain": [
       "{'preprocessor__num': MinMaxScaler(),\n",
       " 'models__min_samples_split': 8,\n",
       " 'models__min_samples_leaf': 6,\n",
       " 'models__max_depth': 9,\n",
       " 'models': DecisionTreeRegressor(max_depth=9, min_samples_leaf=6, min_samples_split=8,\n",
       "                       random_state=42)}"
      ]
     },
     "execution_count": 44,
     "metadata": {},
     "output_type": "execute_result"
    }
   ],
   "source": [
    "best_model = randomized_search.best_estimator_\n",
    "randomized_search.best_params_"
   ]
  },
  {
   "cell_type": "markdown",
   "id": "799e2456",
   "metadata": {},
   "source": [
    "лучшей моделью оказалось дерево решений с параметрами max_depth=8, min_samples_leaf=6, min_samples_split=9, посмотрим на ее результаты"
   ]
  },
  {
   "cell_type": "code",
   "execution_count": 45,
   "id": "cef3422e",
   "metadata": {},
   "outputs": [
    {
     "data": {
      "text/plain": [
       "16.13244749359763"
      ]
     },
     "execution_count": 45,
     "metadata": {},
     "output_type": "execute_result"
    }
   ],
   "source": [
    "randomized_search.best_score_ * (-1)"
   ]
  },
  {
   "cell_type": "markdown",
   "id": "2f0b10b0",
   "metadata": {},
   "source": [
    "Значение метрики smape для нашей модели на тренировочной выборке получилось 16, посмотрим на значение на тестовых данных"
   ]
  },
  {
   "cell_type": "code",
   "execution_count": 46,
   "id": "c8523ba7",
   "metadata": {},
   "outputs": [
    {
     "data": {
      "text/plain": [
       "14.994216760492215"
      ]
     },
     "execution_count": 46,
     "metadata": {},
     "output_type": "execute_result"
    }
   ],
   "source": [
    "pred = randomized_search.best_estimator_.predict(X_test)\n",
    "smape(y_test, pred)"
   ]
  },
  {
   "cell_type": "markdown",
   "id": "9b713188",
   "metadata": {},
   "source": [
    "Значение метрики на тестовых данных увеличилось, значит модель работает хорошо, посмотрим на работу других моделей с другими гиперпараметрами и сделаем выводы"
   ]
  },
  {
   "cell_type": "code",
   "execution_count": 47,
   "id": "99bcbded",
   "metadata": {
    "scrolled": true
   },
   "outputs": [
    {
     "data": {
      "text/html": [
       "<div>\n",
       "<style scoped>\n",
       "    .dataframe tbody tr th:only-of-type {\n",
       "        vertical-align: middle;\n",
       "    }\n",
       "\n",
       "    .dataframe tbody tr th {\n",
       "        vertical-align: top;\n",
       "    }\n",
       "\n",
       "    .dataframe thead th {\n",
       "        text-align: right;\n",
       "    }\n",
       "</style>\n",
       "<table border=\"1\" class=\"dataframe\">\n",
       "  <thead>\n",
       "    <tr style=\"text-align: right;\">\n",
       "      <th></th>\n",
       "      <th>mean_fit_time</th>\n",
       "      <th>std_fit_time</th>\n",
       "      <th>mean_score_time</th>\n",
       "      <th>std_score_time</th>\n",
       "      <th>param_preprocessor__num</th>\n",
       "      <th>param_models__min_samples_split</th>\n",
       "      <th>param_models__min_samples_leaf</th>\n",
       "      <th>param_models__max_depth</th>\n",
       "      <th>param_models</th>\n",
       "      <th>params</th>\n",
       "      <th>split0_test_score</th>\n",
       "      <th>split1_test_score</th>\n",
       "      <th>split2_test_score</th>\n",
       "      <th>split3_test_score</th>\n",
       "      <th>split4_test_score</th>\n",
       "      <th>mean_test_score</th>\n",
       "      <th>std_test_score</th>\n",
       "      <th>rank_test_score</th>\n",
       "    </tr>\n",
       "  </thead>\n",
       "  <tbody>\n",
       "    <tr>\n",
       "      <th>1</th>\n",
       "      <td>0.017517</td>\n",
       "      <td>0.000383</td>\n",
       "      <td>0.007206</td>\n",
       "      <td>0.000267</td>\n",
       "      <td>MinMaxScaler()</td>\n",
       "      <td>8</td>\n",
       "      <td>6</td>\n",
       "      <td>9</td>\n",
       "      <td>DecisionTreeRegressor(max_depth=9, min_samples...</td>\n",
       "      <td>{'preprocessor__num': MinMaxScaler(), 'models_...</td>\n",
       "      <td>-16.450746</td>\n",
       "      <td>-15.852729</td>\n",
       "      <td>-16.007975</td>\n",
       "      <td>-16.635594</td>\n",
       "      <td>-15.715193</td>\n",
       "      <td>-16.132447</td>\n",
       "      <td>0.352791</td>\n",
       "      <td>1</td>\n",
       "    </tr>\n",
       "    <tr>\n",
       "      <th>9</th>\n",
       "      <td>0.014614</td>\n",
       "      <td>0.000426</td>\n",
       "      <td>0.005930</td>\n",
       "      <td>0.000164</td>\n",
       "      <td>passthrough</td>\n",
       "      <td>6</td>\n",
       "      <td>5</td>\n",
       "      <td>8</td>\n",
       "      <td>DecisionTreeRegressor(max_depth=9, min_samples...</td>\n",
       "      <td>{'preprocessor__num': 'passthrough', 'models__...</td>\n",
       "      <td>-16.958574</td>\n",
       "      <td>-16.182069</td>\n",
       "      <td>-16.732749</td>\n",
       "      <td>-16.469868</td>\n",
       "      <td>-16.723898</td>\n",
       "      <td>-16.613431</td>\n",
       "      <td>0.265423</td>\n",
       "      <td>2</td>\n",
       "    </tr>\n",
       "    <tr>\n",
       "      <th>3</th>\n",
       "      <td>0.017127</td>\n",
       "      <td>0.000208</td>\n",
       "      <td>0.007287</td>\n",
       "      <td>0.000281</td>\n",
       "      <td>MinMaxScaler()</td>\n",
       "      <td>9</td>\n",
       "      <td>7</td>\n",
       "      <td>8</td>\n",
       "      <td>DecisionTreeRegressor(max_depth=9, min_samples...</td>\n",
       "      <td>{'preprocessor__num': MinMaxScaler(), 'models_...</td>\n",
       "      <td>-17.242389</td>\n",
       "      <td>-16.096255</td>\n",
       "      <td>-16.672103</td>\n",
       "      <td>-16.914033</td>\n",
       "      <td>-16.500110</td>\n",
       "      <td>-16.684978</td>\n",
       "      <td>0.385774</td>\n",
       "      <td>3</td>\n",
       "    </tr>\n",
       "    <tr>\n",
       "      <th>4</th>\n",
       "      <td>0.014374</td>\n",
       "      <td>0.000180</td>\n",
       "      <td>0.005831</td>\n",
       "      <td>0.000157</td>\n",
       "      <td>passthrough</td>\n",
       "      <td>2</td>\n",
       "      <td>9</td>\n",
       "      <td>7</td>\n",
       "      <td>DecisionTreeRegressor(max_depth=9, min_samples...</td>\n",
       "      <td>{'preprocessor__num': 'passthrough', 'models__...</td>\n",
       "      <td>-18.055301</td>\n",
       "      <td>-16.749391</td>\n",
       "      <td>-17.506413</td>\n",
       "      <td>-17.880749</td>\n",
       "      <td>-17.379917</td>\n",
       "      <td>-17.514354</td>\n",
       "      <td>0.453910</td>\n",
       "      <td>4</td>\n",
       "    </tr>\n",
       "    <tr>\n",
       "      <th>6</th>\n",
       "      <td>0.017421</td>\n",
       "      <td>0.000498</td>\n",
       "      <td>0.007246</td>\n",
       "      <td>0.000234</td>\n",
       "      <td>StandardScaler()</td>\n",
       "      <td>6</td>\n",
       "      <td>5</td>\n",
       "      <td>7</td>\n",
       "      <td>DecisionTreeRegressor(max_depth=9, min_samples...</td>\n",
       "      <td>{'preprocessor__num': StandardScaler(), 'model...</td>\n",
       "      <td>-17.697805</td>\n",
       "      <td>-16.895803</td>\n",
       "      <td>-17.812433</td>\n",
       "      <td>-17.937054</td>\n",
       "      <td>-17.286353</td>\n",
       "      <td>-17.525890</td>\n",
       "      <td>0.383433</td>\n",
       "      <td>5</td>\n",
       "    </tr>\n",
       "    <tr>\n",
       "      <th>0</th>\n",
       "      <td>0.016942</td>\n",
       "      <td>0.000387</td>\n",
       "      <td>0.007063</td>\n",
       "      <td>0.000047</td>\n",
       "      <td>MinMaxScaler()</td>\n",
       "      <td>9</td>\n",
       "      <td>8</td>\n",
       "      <td>7</td>\n",
       "      <td>DecisionTreeRegressor(max_depth=9, min_samples...</td>\n",
       "      <td>{'preprocessor__num': MinMaxScaler(), 'models_...</td>\n",
       "      <td>-18.059047</td>\n",
       "      <td>-16.671575</td>\n",
       "      <td>-17.646238</td>\n",
       "      <td>-18.004300</td>\n",
       "      <td>-17.345912</td>\n",
       "      <td>-17.545414</td>\n",
       "      <td>0.507534</td>\n",
       "      <td>6</td>\n",
       "    </tr>\n",
       "    <tr>\n",
       "      <th>5</th>\n",
       "      <td>0.020324</td>\n",
       "      <td>0.002587</td>\n",
       "      <td>0.008776</td>\n",
       "      <td>0.001811</td>\n",
       "      <td>StandardScaler()</td>\n",
       "      <td>7</td>\n",
       "      <td>7</td>\n",
       "      <td>7</td>\n",
       "      <td>DecisionTreeRegressor(max_depth=9, min_samples...</td>\n",
       "      <td>{'preprocessor__num': StandardScaler(), 'model...</td>\n",
       "      <td>-17.950545</td>\n",
       "      <td>-16.812021</td>\n",
       "      <td>-17.636196</td>\n",
       "      <td>-18.011383</td>\n",
       "      <td>-17.323231</td>\n",
       "      <td>-17.546675</td>\n",
       "      <td>0.441978</td>\n",
       "      <td>7</td>\n",
       "    </tr>\n",
       "    <tr>\n",
       "      <th>2</th>\n",
       "      <td>0.013728</td>\n",
       "      <td>0.000285</td>\n",
       "      <td>0.005756</td>\n",
       "      <td>0.000173</td>\n",
       "      <td>passthrough</td>\n",
       "      <td>8</td>\n",
       "      <td>5</td>\n",
       "      <td>6</td>\n",
       "      <td>DecisionTreeRegressor(max_depth=9, min_samples...</td>\n",
       "      <td>{'preprocessor__num': 'passthrough', 'models__...</td>\n",
       "      <td>-19.228719</td>\n",
       "      <td>-18.172056</td>\n",
       "      <td>-19.061119</td>\n",
       "      <td>-18.900056</td>\n",
       "      <td>-17.810132</td>\n",
       "      <td>-18.634416</td>\n",
       "      <td>0.547550</td>\n",
       "      <td>8</td>\n",
       "    </tr>\n",
       "    <tr>\n",
       "      <th>8</th>\n",
       "      <td>0.016771</td>\n",
       "      <td>0.002246</td>\n",
       "      <td>0.007001</td>\n",
       "      <td>0.000237</td>\n",
       "      <td>MinMaxScaler()</td>\n",
       "      <td>5</td>\n",
       "      <td>5</td>\n",
       "      <td>4</td>\n",
       "      <td>DecisionTreeRegressor(max_depth=9, min_samples...</td>\n",
       "      <td>{'preprocessor__num': MinMaxScaler(), 'models_...</td>\n",
       "      <td>-21.348331</td>\n",
       "      <td>-21.627685</td>\n",
       "      <td>-21.772860</td>\n",
       "      <td>-21.543329</td>\n",
       "      <td>-20.409089</td>\n",
       "      <td>-21.340259</td>\n",
       "      <td>0.485415</td>\n",
       "      <td>9</td>\n",
       "    </tr>\n",
       "    <tr>\n",
       "      <th>7</th>\n",
       "      <td>0.015107</td>\n",
       "      <td>0.000449</td>\n",
       "      <td>0.007061</td>\n",
       "      <td>0.000225</td>\n",
       "      <td>MinMaxScaler()</td>\n",
       "      <td>2</td>\n",
       "      <td>7</td>\n",
       "      <td>2</td>\n",
       "      <td>DecisionTreeRegressor(max_depth=9, min_samples...</td>\n",
       "      <td>{'preprocessor__num': MinMaxScaler(), 'models_...</td>\n",
       "      <td>-24.406881</td>\n",
       "      <td>-24.556504</td>\n",
       "      <td>-23.604857</td>\n",
       "      <td>-23.679547</td>\n",
       "      <td>-21.835983</td>\n",
       "      <td>-23.616754</td>\n",
       "      <td>0.967746</td>\n",
       "      <td>10</td>\n",
       "    </tr>\n",
       "  </tbody>\n",
       "</table>\n",
       "</div>"
      ],
      "text/plain": [
       "   mean_fit_time  std_fit_time  mean_score_time  std_score_time  \\\n",
       "1       0.017517      0.000383         0.007206        0.000267   \n",
       "9       0.014614      0.000426         0.005930        0.000164   \n",
       "3       0.017127      0.000208         0.007287        0.000281   \n",
       "4       0.014374      0.000180         0.005831        0.000157   \n",
       "6       0.017421      0.000498         0.007246        0.000234   \n",
       "0       0.016942      0.000387         0.007063        0.000047   \n",
       "5       0.020324      0.002587         0.008776        0.001811   \n",
       "2       0.013728      0.000285         0.005756        0.000173   \n",
       "8       0.016771      0.002246         0.007001        0.000237   \n",
       "7       0.015107      0.000449         0.007061        0.000225   \n",
       "\n",
       "  param_preprocessor__num param_models__min_samples_split  \\\n",
       "1          MinMaxScaler()                               8   \n",
       "9             passthrough                               6   \n",
       "3          MinMaxScaler()                               9   \n",
       "4             passthrough                               2   \n",
       "6        StandardScaler()                               6   \n",
       "0          MinMaxScaler()                               9   \n",
       "5        StandardScaler()                               7   \n",
       "2             passthrough                               8   \n",
       "8          MinMaxScaler()                               5   \n",
       "7          MinMaxScaler()                               2   \n",
       "\n",
       "  param_models__min_samples_leaf param_models__max_depth  \\\n",
       "1                              6                       9   \n",
       "9                              5                       8   \n",
       "3                              7                       8   \n",
       "4                              9                       7   \n",
       "6                              5                       7   \n",
       "0                              8                       7   \n",
       "5                              7                       7   \n",
       "2                              5                       6   \n",
       "8                              5                       4   \n",
       "7                              7                       2   \n",
       "\n",
       "                                        param_models  \\\n",
       "1  DecisionTreeRegressor(max_depth=9, min_samples...   \n",
       "9  DecisionTreeRegressor(max_depth=9, min_samples...   \n",
       "3  DecisionTreeRegressor(max_depth=9, min_samples...   \n",
       "4  DecisionTreeRegressor(max_depth=9, min_samples...   \n",
       "6  DecisionTreeRegressor(max_depth=9, min_samples...   \n",
       "0  DecisionTreeRegressor(max_depth=9, min_samples...   \n",
       "5  DecisionTreeRegressor(max_depth=9, min_samples...   \n",
       "2  DecisionTreeRegressor(max_depth=9, min_samples...   \n",
       "8  DecisionTreeRegressor(max_depth=9, min_samples...   \n",
       "7  DecisionTreeRegressor(max_depth=9, min_samples...   \n",
       "\n",
       "                                              params  split0_test_score  \\\n",
       "1  {'preprocessor__num': MinMaxScaler(), 'models_...         -16.450746   \n",
       "9  {'preprocessor__num': 'passthrough', 'models__...         -16.958574   \n",
       "3  {'preprocessor__num': MinMaxScaler(), 'models_...         -17.242389   \n",
       "4  {'preprocessor__num': 'passthrough', 'models__...         -18.055301   \n",
       "6  {'preprocessor__num': StandardScaler(), 'model...         -17.697805   \n",
       "0  {'preprocessor__num': MinMaxScaler(), 'models_...         -18.059047   \n",
       "5  {'preprocessor__num': StandardScaler(), 'model...         -17.950545   \n",
       "2  {'preprocessor__num': 'passthrough', 'models__...         -19.228719   \n",
       "8  {'preprocessor__num': MinMaxScaler(), 'models_...         -21.348331   \n",
       "7  {'preprocessor__num': MinMaxScaler(), 'models_...         -24.406881   \n",
       "\n",
       "   split1_test_score  split2_test_score  split3_test_score  split4_test_score  \\\n",
       "1         -15.852729         -16.007975         -16.635594         -15.715193   \n",
       "9         -16.182069         -16.732749         -16.469868         -16.723898   \n",
       "3         -16.096255         -16.672103         -16.914033         -16.500110   \n",
       "4         -16.749391         -17.506413         -17.880749         -17.379917   \n",
       "6         -16.895803         -17.812433         -17.937054         -17.286353   \n",
       "0         -16.671575         -17.646238         -18.004300         -17.345912   \n",
       "5         -16.812021         -17.636196         -18.011383         -17.323231   \n",
       "2         -18.172056         -19.061119         -18.900056         -17.810132   \n",
       "8         -21.627685         -21.772860         -21.543329         -20.409089   \n",
       "7         -24.556504         -23.604857         -23.679547         -21.835983   \n",
       "\n",
       "   mean_test_score  std_test_score  rank_test_score  \n",
       "1       -16.132447        0.352791                1  \n",
       "9       -16.613431        0.265423                2  \n",
       "3       -16.684978        0.385774                3  \n",
       "4       -17.514354        0.453910                4  \n",
       "6       -17.525890        0.383433                5  \n",
       "0       -17.545414        0.507534                6  \n",
       "5       -17.546675        0.441978                7  \n",
       "2       -18.634416        0.547550                8  \n",
       "8       -21.340259        0.485415                9  \n",
       "7       -23.616754        0.967746               10  "
      ]
     },
     "execution_count": 47,
     "metadata": {},
     "output_type": "execute_result"
    }
   ],
   "source": [
    "pd.DataFrame(randomized_search.cv_results_).sort_values(by = 'rank_test_score')"
   ]
  },
  {
   "cell_type": "markdown",
   "id": "ebc335df",
   "metadata": {},
   "source": [
    "видно что результаты разными и лучшим и правда оказалось дерево решение и оно c даже независимо от гиперпараметров показывает результат лучше линейной регрессии"
   ]
  },
  {
   "cell_type": "markdown",
   "id": "5ba39d99",
   "metadata": {},
   "source": [
    "Вывод:\n",
    "\n",
    "была обучены и протестированы Дерево решений и линейная регрессия, дерево решений во всех тестах с разными гиперпараметрами показало себя лучше, самый лучший результат был получен с: max_depth=9, min_samples_leaf=6, min_samples_split=8.\n",
    "\n",
    "Возможно дерево решений показывает более хороший результат, как раз таки из за различных вариаций гиперпараметров, чем не может похвастаться линейная регрессия"
   ]
  },
  {
   "cell_type": "markdown",
   "id": "6d6f5333",
   "metadata": {},
   "source": [
    "## Задача 2: предсказание увольнения сотрудника из компании"
   ]
  },
  {
   "cell_type": "code",
   "execution_count": 48,
   "id": "b6095fd8",
   "metadata": {},
   "outputs": [],
   "source": [
    "data_train = pd.read_csv('/datasets/train_quit.csv')\n",
    "y_test_2 = pd.read_csv('/datasets/test_target_quit.csv')\n",
    "X_test_2 = pd.read_csv('/datasets/test_features.csv')"
   ]
  },
  {
   "cell_type": "code",
   "execution_count": 49,
   "id": "fcd8eae0",
   "metadata": {},
   "outputs": [],
   "source": [
    "test = X_test_2.merge(y_test_2, on = 'id')"
   ]
  },
  {
   "cell_type": "code",
   "execution_count": 50,
   "id": "462f945e",
   "metadata": {},
   "outputs": [],
   "source": [
    "y_test_2 = test[['id', 'quit']]\n",
    "X_test_2 = test.drop('quit', axis = 1)"
   ]
  },
  {
   "cell_type": "code",
   "execution_count": 51,
   "id": "74340695",
   "metadata": {},
   "outputs": [
    {
     "data": {
      "text/html": [
       "<div>\n",
       "<style scoped>\n",
       "    .dataframe tbody tr th:only-of-type {\n",
       "        vertical-align: middle;\n",
       "    }\n",
       "\n",
       "    .dataframe tbody tr th {\n",
       "        vertical-align: top;\n",
       "    }\n",
       "\n",
       "    .dataframe thead th {\n",
       "        text-align: right;\n",
       "    }\n",
       "</style>\n",
       "<table border=\"1\" class=\"dataframe\">\n",
       "  <thead>\n",
       "    <tr style=\"text-align: right;\">\n",
       "      <th></th>\n",
       "      <th>id</th>\n",
       "      <th>quit</th>\n",
       "    </tr>\n",
       "  </thead>\n",
       "  <tbody>\n",
       "    <tr>\n",
       "      <th>0</th>\n",
       "      <td>485046</td>\n",
       "      <td>no</td>\n",
       "    </tr>\n",
       "    <tr>\n",
       "      <th>1</th>\n",
       "      <td>686555</td>\n",
       "      <td>no</td>\n",
       "    </tr>\n",
       "    <tr>\n",
       "      <th>2</th>\n",
       "      <td>467458</td>\n",
       "      <td>no</td>\n",
       "    </tr>\n",
       "    <tr>\n",
       "      <th>3</th>\n",
       "      <td>418655</td>\n",
       "      <td>no</td>\n",
       "    </tr>\n",
       "    <tr>\n",
       "      <th>4</th>\n",
       "      <td>789145</td>\n",
       "      <td>no</td>\n",
       "    </tr>\n",
       "    <tr>\n",
       "      <th>...</th>\n",
       "      <td>...</td>\n",
       "      <td>...</td>\n",
       "    </tr>\n",
       "    <tr>\n",
       "      <th>1995</th>\n",
       "      <td>393147</td>\n",
       "      <td>yes</td>\n",
       "    </tr>\n",
       "    <tr>\n",
       "      <th>1996</th>\n",
       "      <td>109582</td>\n",
       "      <td>yes</td>\n",
       "    </tr>\n",
       "    <tr>\n",
       "      <th>1997</th>\n",
       "      <td>305653</td>\n",
       "      <td>yes</td>\n",
       "    </tr>\n",
       "    <tr>\n",
       "      <th>1998</th>\n",
       "      <td>160233</td>\n",
       "      <td>no</td>\n",
       "    </tr>\n",
       "    <tr>\n",
       "      <th>1999</th>\n",
       "      <td>771859</td>\n",
       "      <td>no</td>\n",
       "    </tr>\n",
       "  </tbody>\n",
       "</table>\n",
       "<p>2000 rows × 2 columns</p>\n",
       "</div>"
      ],
      "text/plain": [
       "          id quit\n",
       "0     485046   no\n",
       "1     686555   no\n",
       "2     467458   no\n",
       "3     418655   no\n",
       "4     789145   no\n",
       "...      ...  ...\n",
       "1995  393147  yes\n",
       "1996  109582  yes\n",
       "1997  305653  yes\n",
       "1998  160233   no\n",
       "1999  771859   no\n",
       "\n",
       "[2000 rows x 2 columns]"
      ]
     },
     "execution_count": 51,
     "metadata": {},
     "output_type": "execute_result"
    }
   ],
   "source": [
    "y_test_2"
   ]
  },
  {
   "cell_type": "code",
   "execution_count": 52,
   "id": "28efea66",
   "metadata": {},
   "outputs": [
    {
     "data": {
      "text/html": [
       "<div>\n",
       "<style scoped>\n",
       "    .dataframe tbody tr th:only-of-type {\n",
       "        vertical-align: middle;\n",
       "    }\n",
       "\n",
       "    .dataframe tbody tr th {\n",
       "        vertical-align: top;\n",
       "    }\n",
       "\n",
       "    .dataframe thead th {\n",
       "        text-align: right;\n",
       "    }\n",
       "</style>\n",
       "<table border=\"1\" class=\"dataframe\">\n",
       "  <thead>\n",
       "    <tr style=\"text-align: right;\">\n",
       "      <th></th>\n",
       "      <th>id</th>\n",
       "      <th>dept</th>\n",
       "      <th>level</th>\n",
       "      <th>workload</th>\n",
       "      <th>employment_years</th>\n",
       "      <th>last_year_promo</th>\n",
       "      <th>last_year_violations</th>\n",
       "      <th>supervisor_evaluation</th>\n",
       "      <th>salary</th>\n",
       "    </tr>\n",
       "  </thead>\n",
       "  <tbody>\n",
       "    <tr>\n",
       "      <th>0</th>\n",
       "      <td>485046</td>\n",
       "      <td>marketing</td>\n",
       "      <td>junior</td>\n",
       "      <td>medium</td>\n",
       "      <td>2</td>\n",
       "      <td>no</td>\n",
       "      <td>no</td>\n",
       "      <td>5</td>\n",
       "      <td>28800</td>\n",
       "    </tr>\n",
       "    <tr>\n",
       "      <th>1</th>\n",
       "      <td>686555</td>\n",
       "      <td>hr</td>\n",
       "      <td>junior</td>\n",
       "      <td>medium</td>\n",
       "      <td>1</td>\n",
       "      <td>no</td>\n",
       "      <td>no</td>\n",
       "      <td>4</td>\n",
       "      <td>30000</td>\n",
       "    </tr>\n",
       "    <tr>\n",
       "      <th>2</th>\n",
       "      <td>467458</td>\n",
       "      <td>sales</td>\n",
       "      <td>middle</td>\n",
       "      <td>low</td>\n",
       "      <td>5</td>\n",
       "      <td>no</td>\n",
       "      <td>no</td>\n",
       "      <td>4</td>\n",
       "      <td>19200</td>\n",
       "    </tr>\n",
       "    <tr>\n",
       "      <th>3</th>\n",
       "      <td>418655</td>\n",
       "      <td>sales</td>\n",
       "      <td>middle</td>\n",
       "      <td>low</td>\n",
       "      <td>6</td>\n",
       "      <td>no</td>\n",
       "      <td>no</td>\n",
       "      <td>4</td>\n",
       "      <td>19200</td>\n",
       "    </tr>\n",
       "    <tr>\n",
       "      <th>4</th>\n",
       "      <td>789145</td>\n",
       "      <td>hr</td>\n",
       "      <td>middle</td>\n",
       "      <td>medium</td>\n",
       "      <td>5</td>\n",
       "      <td>no</td>\n",
       "      <td>no</td>\n",
       "      <td>5</td>\n",
       "      <td>40800</td>\n",
       "    </tr>\n",
       "    <tr>\n",
       "      <th>...</th>\n",
       "      <td>...</td>\n",
       "      <td>...</td>\n",
       "      <td>...</td>\n",
       "      <td>...</td>\n",
       "      <td>...</td>\n",
       "      <td>...</td>\n",
       "      <td>...</td>\n",
       "      <td>...</td>\n",
       "      <td>...</td>\n",
       "    </tr>\n",
       "    <tr>\n",
       "      <th>1995</th>\n",
       "      <td>393147</td>\n",
       "      <td>marketing</td>\n",
       "      <td>junior</td>\n",
       "      <td>low</td>\n",
       "      <td>3</td>\n",
       "      <td>no</td>\n",
       "      <td>no</td>\n",
       "      <td>3</td>\n",
       "      <td>20400</td>\n",
       "    </tr>\n",
       "    <tr>\n",
       "      <th>1996</th>\n",
       "      <td>109582</td>\n",
       "      <td>technology</td>\n",
       "      <td>middle</td>\n",
       "      <td>low</td>\n",
       "      <td>3</td>\n",
       "      <td>no</td>\n",
       "      <td>no</td>\n",
       "      <td>2</td>\n",
       "      <td>21600</td>\n",
       "    </tr>\n",
       "    <tr>\n",
       "      <th>1997</th>\n",
       "      <td>305653</td>\n",
       "      <td>technology</td>\n",
       "      <td>junior</td>\n",
       "      <td>low</td>\n",
       "      <td>1</td>\n",
       "      <td>no</td>\n",
       "      <td>no</td>\n",
       "      <td>3</td>\n",
       "      <td>14400</td>\n",
       "    </tr>\n",
       "    <tr>\n",
       "      <th>1998</th>\n",
       "      <td>160233</td>\n",
       "      <td>technology</td>\n",
       "      <td>middle</td>\n",
       "      <td>low</td>\n",
       "      <td>8</td>\n",
       "      <td>no</td>\n",
       "      <td>no</td>\n",
       "      <td>1</td>\n",
       "      <td>32400</td>\n",
       "    </tr>\n",
       "    <tr>\n",
       "      <th>1999</th>\n",
       "      <td>771859</td>\n",
       "      <td>purchasing</td>\n",
       "      <td>middle</td>\n",
       "      <td>medium</td>\n",
       "      <td>1</td>\n",
       "      <td>no</td>\n",
       "      <td>no</td>\n",
       "      <td>4</td>\n",
       "      <td>38400</td>\n",
       "    </tr>\n",
       "  </tbody>\n",
       "</table>\n",
       "<p>2000 rows × 9 columns</p>\n",
       "</div>"
      ],
      "text/plain": [
       "          id        dept   level workload  employment_years last_year_promo  \\\n",
       "0     485046   marketing  junior   medium                 2              no   \n",
       "1     686555          hr  junior   medium                 1              no   \n",
       "2     467458       sales  middle      low                 5              no   \n",
       "3     418655       sales  middle      low                 6              no   \n",
       "4     789145          hr  middle   medium                 5              no   \n",
       "...      ...         ...     ...      ...               ...             ...   \n",
       "1995  393147   marketing  junior      low                 3              no   \n",
       "1996  109582  technology  middle      low                 3              no   \n",
       "1997  305653  technology  junior      low                 1              no   \n",
       "1998  160233  technology  middle      low                 8              no   \n",
       "1999  771859  purchasing  middle   medium                 1              no   \n",
       "\n",
       "     last_year_violations  supervisor_evaluation  salary  \n",
       "0                      no                      5   28800  \n",
       "1                      no                      4   30000  \n",
       "2                      no                      4   19200  \n",
       "3                      no                      4   19200  \n",
       "4                      no                      5   40800  \n",
       "...                   ...                    ...     ...  \n",
       "1995                   no                      3   20400  \n",
       "1996                   no                      2   21600  \n",
       "1997                   no                      3   14400  \n",
       "1998                   no                      1   32400  \n",
       "1999                   no                      4   38400  \n",
       "\n",
       "[2000 rows x 9 columns]"
      ]
     },
     "execution_count": 52,
     "metadata": {},
     "output_type": "execute_result"
    }
   ],
   "source": [
    "X_test_2"
   ]
  },
  {
   "cell_type": "code",
   "execution_count": 53,
   "id": "94fdee76",
   "metadata": {},
   "outputs": [],
   "source": [
    "y_train_2 = pd.read_csv('/datasets/test_target_job_satisfaction_rate.csv')"
   ]
  },
  {
   "cell_type": "code",
   "execution_count": 54,
   "id": "d1522a00",
   "metadata": {},
   "outputs": [
    {
     "data": {
      "text/html": [
       "<div>\n",
       "<style scoped>\n",
       "    .dataframe tbody tr th:only-of-type {\n",
       "        vertical-align: middle;\n",
       "    }\n",
       "\n",
       "    .dataframe tbody tr th {\n",
       "        vertical-align: top;\n",
       "    }\n",
       "\n",
       "    .dataframe thead th {\n",
       "        text-align: right;\n",
       "    }\n",
       "</style>\n",
       "<table border=\"1\" class=\"dataframe\">\n",
       "  <thead>\n",
       "    <tr style=\"text-align: right;\">\n",
       "      <th></th>\n",
       "      <th>id</th>\n",
       "      <th>dept</th>\n",
       "      <th>level</th>\n",
       "      <th>workload</th>\n",
       "      <th>employment_years</th>\n",
       "      <th>last_year_promo</th>\n",
       "      <th>last_year_violations</th>\n",
       "      <th>supervisor_evaluation</th>\n",
       "      <th>salary</th>\n",
       "      <th>quit</th>\n",
       "    </tr>\n",
       "  </thead>\n",
       "  <tbody>\n",
       "    <tr>\n",
       "      <th>0</th>\n",
       "      <td>723290</td>\n",
       "      <td>sales</td>\n",
       "      <td>middle</td>\n",
       "      <td>high</td>\n",
       "      <td>2</td>\n",
       "      <td>no</td>\n",
       "      <td>no</td>\n",
       "      <td>4</td>\n",
       "      <td>54000</td>\n",
       "      <td>no</td>\n",
       "    </tr>\n",
       "    <tr>\n",
       "      <th>1</th>\n",
       "      <td>814010</td>\n",
       "      <td>sales</td>\n",
       "      <td>junior</td>\n",
       "      <td>medium</td>\n",
       "      <td>2</td>\n",
       "      <td>no</td>\n",
       "      <td>no</td>\n",
       "      <td>4</td>\n",
       "      <td>27600</td>\n",
       "      <td>no</td>\n",
       "    </tr>\n",
       "    <tr>\n",
       "      <th>2</th>\n",
       "      <td>155091</td>\n",
       "      <td>purchasing</td>\n",
       "      <td>middle</td>\n",
       "      <td>medium</td>\n",
       "      <td>5</td>\n",
       "      <td>no</td>\n",
       "      <td>no</td>\n",
       "      <td>1</td>\n",
       "      <td>37200</td>\n",
       "      <td>no</td>\n",
       "    </tr>\n",
       "    <tr>\n",
       "      <th>3</th>\n",
       "      <td>257132</td>\n",
       "      <td>sales</td>\n",
       "      <td>junior</td>\n",
       "      <td>medium</td>\n",
       "      <td>2</td>\n",
       "      <td>no</td>\n",
       "      <td>yes</td>\n",
       "      <td>3</td>\n",
       "      <td>24000</td>\n",
       "      <td>yes</td>\n",
       "    </tr>\n",
       "    <tr>\n",
       "      <th>4</th>\n",
       "      <td>910140</td>\n",
       "      <td>marketing</td>\n",
       "      <td>junior</td>\n",
       "      <td>medium</td>\n",
       "      <td>2</td>\n",
       "      <td>no</td>\n",
       "      <td>no</td>\n",
       "      <td>5</td>\n",
       "      <td>25200</td>\n",
       "      <td>no</td>\n",
       "    </tr>\n",
       "  </tbody>\n",
       "</table>\n",
       "</div>"
      ],
      "text/plain": [
       "       id        dept   level workload  employment_years last_year_promo  \\\n",
       "0  723290       sales  middle     high                 2              no   \n",
       "1  814010       sales  junior   medium                 2              no   \n",
       "2  155091  purchasing  middle   medium                 5              no   \n",
       "3  257132       sales  junior   medium                 2              no   \n",
       "4  910140   marketing  junior   medium                 2              no   \n",
       "\n",
       "  last_year_violations  supervisor_evaluation  salary quit  \n",
       "0                   no                      4   54000   no  \n",
       "1                   no                      4   27600   no  \n",
       "2                   no                      1   37200   no  \n",
       "3                  yes                      3   24000  yes  \n",
       "4                   no                      5   25200   no  "
      ]
     },
     "execution_count": 54,
     "metadata": {},
     "output_type": "execute_result"
    }
   ],
   "source": [
    "data_train.head()"
   ]
  },
  {
   "cell_type": "code",
   "execution_count": 55,
   "id": "7a4817e3",
   "metadata": {},
   "outputs": [
    {
     "data": {
      "text/html": [
       "<div>\n",
       "<style scoped>\n",
       "    .dataframe tbody tr th:only-of-type {\n",
       "        vertical-align: middle;\n",
       "    }\n",
       "\n",
       "    .dataframe tbody tr th {\n",
       "        vertical-align: top;\n",
       "    }\n",
       "\n",
       "    .dataframe thead th {\n",
       "        text-align: right;\n",
       "    }\n",
       "</style>\n",
       "<table border=\"1\" class=\"dataframe\">\n",
       "  <thead>\n",
       "    <tr style=\"text-align: right;\">\n",
       "      <th></th>\n",
       "      <th>id</th>\n",
       "      <th>quit</th>\n",
       "    </tr>\n",
       "  </thead>\n",
       "  <tbody>\n",
       "    <tr>\n",
       "      <th>0</th>\n",
       "      <td>485046</td>\n",
       "      <td>no</td>\n",
       "    </tr>\n",
       "    <tr>\n",
       "      <th>1</th>\n",
       "      <td>686555</td>\n",
       "      <td>no</td>\n",
       "    </tr>\n",
       "    <tr>\n",
       "      <th>2</th>\n",
       "      <td>467458</td>\n",
       "      <td>no</td>\n",
       "    </tr>\n",
       "    <tr>\n",
       "      <th>3</th>\n",
       "      <td>418655</td>\n",
       "      <td>no</td>\n",
       "    </tr>\n",
       "    <tr>\n",
       "      <th>4</th>\n",
       "      <td>789145</td>\n",
       "      <td>no</td>\n",
       "    </tr>\n",
       "  </tbody>\n",
       "</table>\n",
       "</div>"
      ],
      "text/plain": [
       "       id quit\n",
       "0  485046   no\n",
       "1  686555   no\n",
       "2  467458   no\n",
       "3  418655   no\n",
       "4  789145   no"
      ]
     },
     "execution_count": 55,
     "metadata": {},
     "output_type": "execute_result"
    }
   ],
   "source": [
    "y_test_2.head()"
   ]
  },
  {
   "cell_type": "code",
   "execution_count": 56,
   "id": "3aff5968",
   "metadata": {},
   "outputs": [
    {
     "data": {
      "text/html": [
       "<div>\n",
       "<style scoped>\n",
       "    .dataframe tbody tr th:only-of-type {\n",
       "        vertical-align: middle;\n",
       "    }\n",
       "\n",
       "    .dataframe tbody tr th {\n",
       "        vertical-align: top;\n",
       "    }\n",
       "\n",
       "    .dataframe thead th {\n",
       "        text-align: right;\n",
       "    }\n",
       "</style>\n",
       "<table border=\"1\" class=\"dataframe\">\n",
       "  <thead>\n",
       "    <tr style=\"text-align: right;\">\n",
       "      <th></th>\n",
       "      <th>id</th>\n",
       "      <th>dept</th>\n",
       "      <th>level</th>\n",
       "      <th>workload</th>\n",
       "      <th>employment_years</th>\n",
       "      <th>last_year_promo</th>\n",
       "      <th>last_year_violations</th>\n",
       "      <th>supervisor_evaluation</th>\n",
       "      <th>salary</th>\n",
       "    </tr>\n",
       "  </thead>\n",
       "  <tbody>\n",
       "    <tr>\n",
       "      <th>0</th>\n",
       "      <td>485046</td>\n",
       "      <td>marketing</td>\n",
       "      <td>junior</td>\n",
       "      <td>medium</td>\n",
       "      <td>2</td>\n",
       "      <td>no</td>\n",
       "      <td>no</td>\n",
       "      <td>5</td>\n",
       "      <td>28800</td>\n",
       "    </tr>\n",
       "    <tr>\n",
       "      <th>1</th>\n",
       "      <td>686555</td>\n",
       "      <td>hr</td>\n",
       "      <td>junior</td>\n",
       "      <td>medium</td>\n",
       "      <td>1</td>\n",
       "      <td>no</td>\n",
       "      <td>no</td>\n",
       "      <td>4</td>\n",
       "      <td>30000</td>\n",
       "    </tr>\n",
       "    <tr>\n",
       "      <th>2</th>\n",
       "      <td>467458</td>\n",
       "      <td>sales</td>\n",
       "      <td>middle</td>\n",
       "      <td>low</td>\n",
       "      <td>5</td>\n",
       "      <td>no</td>\n",
       "      <td>no</td>\n",
       "      <td>4</td>\n",
       "      <td>19200</td>\n",
       "    </tr>\n",
       "    <tr>\n",
       "      <th>3</th>\n",
       "      <td>418655</td>\n",
       "      <td>sales</td>\n",
       "      <td>middle</td>\n",
       "      <td>low</td>\n",
       "      <td>6</td>\n",
       "      <td>no</td>\n",
       "      <td>no</td>\n",
       "      <td>4</td>\n",
       "      <td>19200</td>\n",
       "    </tr>\n",
       "    <tr>\n",
       "      <th>4</th>\n",
       "      <td>789145</td>\n",
       "      <td>hr</td>\n",
       "      <td>middle</td>\n",
       "      <td>medium</td>\n",
       "      <td>5</td>\n",
       "      <td>no</td>\n",
       "      <td>no</td>\n",
       "      <td>5</td>\n",
       "      <td>40800</td>\n",
       "    </tr>\n",
       "    <tr>\n",
       "      <th>...</th>\n",
       "      <td>...</td>\n",
       "      <td>...</td>\n",
       "      <td>...</td>\n",
       "      <td>...</td>\n",
       "      <td>...</td>\n",
       "      <td>...</td>\n",
       "      <td>...</td>\n",
       "      <td>...</td>\n",
       "      <td>...</td>\n",
       "    </tr>\n",
       "    <tr>\n",
       "      <th>1995</th>\n",
       "      <td>393147</td>\n",
       "      <td>marketing</td>\n",
       "      <td>junior</td>\n",
       "      <td>low</td>\n",
       "      <td>3</td>\n",
       "      <td>no</td>\n",
       "      <td>no</td>\n",
       "      <td>3</td>\n",
       "      <td>20400</td>\n",
       "    </tr>\n",
       "    <tr>\n",
       "      <th>1996</th>\n",
       "      <td>109582</td>\n",
       "      <td>technology</td>\n",
       "      <td>middle</td>\n",
       "      <td>low</td>\n",
       "      <td>3</td>\n",
       "      <td>no</td>\n",
       "      <td>no</td>\n",
       "      <td>2</td>\n",
       "      <td>21600</td>\n",
       "    </tr>\n",
       "    <tr>\n",
       "      <th>1997</th>\n",
       "      <td>305653</td>\n",
       "      <td>technology</td>\n",
       "      <td>junior</td>\n",
       "      <td>low</td>\n",
       "      <td>1</td>\n",
       "      <td>no</td>\n",
       "      <td>no</td>\n",
       "      <td>3</td>\n",
       "      <td>14400</td>\n",
       "    </tr>\n",
       "    <tr>\n",
       "      <th>1998</th>\n",
       "      <td>160233</td>\n",
       "      <td>technology</td>\n",
       "      <td>middle</td>\n",
       "      <td>low</td>\n",
       "      <td>8</td>\n",
       "      <td>no</td>\n",
       "      <td>no</td>\n",
       "      <td>1</td>\n",
       "      <td>32400</td>\n",
       "    </tr>\n",
       "    <tr>\n",
       "      <th>1999</th>\n",
       "      <td>771859</td>\n",
       "      <td>purchasing</td>\n",
       "      <td>middle</td>\n",
       "      <td>medium</td>\n",
       "      <td>1</td>\n",
       "      <td>no</td>\n",
       "      <td>no</td>\n",
       "      <td>4</td>\n",
       "      <td>38400</td>\n",
       "    </tr>\n",
       "  </tbody>\n",
       "</table>\n",
       "<p>2000 rows × 9 columns</p>\n",
       "</div>"
      ],
      "text/plain": [
       "          id        dept   level workload  employment_years last_year_promo  \\\n",
       "0     485046   marketing  junior   medium                 2              no   \n",
       "1     686555          hr  junior   medium                 1              no   \n",
       "2     467458       sales  middle      low                 5              no   \n",
       "3     418655       sales  middle      low                 6              no   \n",
       "4     789145          hr  middle   medium                 5              no   \n",
       "...      ...         ...     ...      ...               ...             ...   \n",
       "1995  393147   marketing  junior      low                 3              no   \n",
       "1996  109582  technology  middle      low                 3              no   \n",
       "1997  305653  technology  junior      low                 1              no   \n",
       "1998  160233  technology  middle      low                 8              no   \n",
       "1999  771859  purchasing  middle   medium                 1              no   \n",
       "\n",
       "     last_year_violations  supervisor_evaluation  salary  \n",
       "0                      no                      5   28800  \n",
       "1                      no                      4   30000  \n",
       "2                      no                      4   19200  \n",
       "3                      no                      4   19200  \n",
       "4                      no                      5   40800  \n",
       "...                   ...                    ...     ...  \n",
       "1995                   no                      3   20400  \n",
       "1996                   no                      2   21600  \n",
       "1997                   no                      3   14400  \n",
       "1998                   no                      1   32400  \n",
       "1999                   no                      4   38400  \n",
       "\n",
       "[2000 rows x 9 columns]"
      ]
     },
     "execution_count": 56,
     "metadata": {},
     "output_type": "execute_result"
    }
   ],
   "source": [
    "X_test_2"
   ]
  },
  {
   "cell_type": "markdown",
   "id": "37932ff8",
   "metadata": {},
   "source": [
    "все выглядит нормально подробнее посмотрим на предобработке\n",
    "\n",
    "\n",
    "\n",
    "\n",
    "\n",
    "\n"
   ]
  },
  {
   "cell_type": "markdown",
   "id": "bc40f752",
   "metadata": {},
   "source": [
    "### Предобработка данных"
   ]
  },
  {
   "cell_type": "markdown",
   "id": "4692b95e",
   "metadata": {},
   "source": [
    "#### предобработка data_train"
   ]
  },
  {
   "cell_type": "code",
   "execution_count": 57,
   "id": "afe6a0e9",
   "metadata": {},
   "outputs": [
    {
     "data": {
      "text/html": [
       "<div>\n",
       "<style scoped>\n",
       "    .dataframe tbody tr th:only-of-type {\n",
       "        vertical-align: middle;\n",
       "    }\n",
       "\n",
       "    .dataframe tbody tr th {\n",
       "        vertical-align: top;\n",
       "    }\n",
       "\n",
       "    .dataframe thead th {\n",
       "        text-align: right;\n",
       "    }\n",
       "</style>\n",
       "<table border=\"1\" class=\"dataframe\">\n",
       "  <thead>\n",
       "    <tr style=\"text-align: right;\">\n",
       "      <th></th>\n",
       "      <th>id</th>\n",
       "      <th>dept</th>\n",
       "      <th>level</th>\n",
       "      <th>workload</th>\n",
       "      <th>employment_years</th>\n",
       "      <th>last_year_promo</th>\n",
       "      <th>last_year_violations</th>\n",
       "      <th>supervisor_evaluation</th>\n",
       "      <th>salary</th>\n",
       "      <th>quit</th>\n",
       "    </tr>\n",
       "  </thead>\n",
       "  <tbody>\n",
       "    <tr>\n",
       "      <th>0</th>\n",
       "      <td>723290</td>\n",
       "      <td>sales</td>\n",
       "      <td>middle</td>\n",
       "      <td>high</td>\n",
       "      <td>2</td>\n",
       "      <td>no</td>\n",
       "      <td>no</td>\n",
       "      <td>4</td>\n",
       "      <td>54000</td>\n",
       "      <td>no</td>\n",
       "    </tr>\n",
       "    <tr>\n",
       "      <th>1</th>\n",
       "      <td>814010</td>\n",
       "      <td>sales</td>\n",
       "      <td>junior</td>\n",
       "      <td>medium</td>\n",
       "      <td>2</td>\n",
       "      <td>no</td>\n",
       "      <td>no</td>\n",
       "      <td>4</td>\n",
       "      <td>27600</td>\n",
       "      <td>no</td>\n",
       "    </tr>\n",
       "    <tr>\n",
       "      <th>2</th>\n",
       "      <td>155091</td>\n",
       "      <td>purchasing</td>\n",
       "      <td>middle</td>\n",
       "      <td>medium</td>\n",
       "      <td>5</td>\n",
       "      <td>no</td>\n",
       "      <td>no</td>\n",
       "      <td>1</td>\n",
       "      <td>37200</td>\n",
       "      <td>no</td>\n",
       "    </tr>\n",
       "    <tr>\n",
       "      <th>3</th>\n",
       "      <td>257132</td>\n",
       "      <td>sales</td>\n",
       "      <td>junior</td>\n",
       "      <td>medium</td>\n",
       "      <td>2</td>\n",
       "      <td>no</td>\n",
       "      <td>yes</td>\n",
       "      <td>3</td>\n",
       "      <td>24000</td>\n",
       "      <td>yes</td>\n",
       "    </tr>\n",
       "    <tr>\n",
       "      <th>4</th>\n",
       "      <td>910140</td>\n",
       "      <td>marketing</td>\n",
       "      <td>junior</td>\n",
       "      <td>medium</td>\n",
       "      <td>2</td>\n",
       "      <td>no</td>\n",
       "      <td>no</td>\n",
       "      <td>5</td>\n",
       "      <td>25200</td>\n",
       "      <td>no</td>\n",
       "    </tr>\n",
       "    <tr>\n",
       "      <th>...</th>\n",
       "      <td>...</td>\n",
       "      <td>...</td>\n",
       "      <td>...</td>\n",
       "      <td>...</td>\n",
       "      <td>...</td>\n",
       "      <td>...</td>\n",
       "      <td>...</td>\n",
       "      <td>...</td>\n",
       "      <td>...</td>\n",
       "      <td>...</td>\n",
       "    </tr>\n",
       "    <tr>\n",
       "      <th>3995</th>\n",
       "      <td>588809</td>\n",
       "      <td>sales</td>\n",
       "      <td>junior</td>\n",
       "      <td>medium</td>\n",
       "      <td>4</td>\n",
       "      <td>no</td>\n",
       "      <td>no</td>\n",
       "      <td>3</td>\n",
       "      <td>26400</td>\n",
       "      <td>no</td>\n",
       "    </tr>\n",
       "    <tr>\n",
       "      <th>3996</th>\n",
       "      <td>672059</td>\n",
       "      <td>sales</td>\n",
       "      <td>middle</td>\n",
       "      <td>high</td>\n",
       "      <td>9</td>\n",
       "      <td>no</td>\n",
       "      <td>no</td>\n",
       "      <td>4</td>\n",
       "      <td>52800</td>\n",
       "      <td>no</td>\n",
       "    </tr>\n",
       "    <tr>\n",
       "      <th>3997</th>\n",
       "      <td>536432</td>\n",
       "      <td>purchasing</td>\n",
       "      <td>junior</td>\n",
       "      <td>low</td>\n",
       "      <td>2</td>\n",
       "      <td>no</td>\n",
       "      <td>yes</td>\n",
       "      <td>4</td>\n",
       "      <td>12000</td>\n",
       "      <td>yes</td>\n",
       "    </tr>\n",
       "    <tr>\n",
       "      <th>3998</th>\n",
       "      <td>692133</td>\n",
       "      <td>purchasing</td>\n",
       "      <td>middle</td>\n",
       "      <td>medium</td>\n",
       "      <td>2</td>\n",
       "      <td>no</td>\n",
       "      <td>no</td>\n",
       "      <td>4</td>\n",
       "      <td>33600</td>\n",
       "      <td>no</td>\n",
       "    </tr>\n",
       "    <tr>\n",
       "      <th>3999</th>\n",
       "      <td>853842</td>\n",
       "      <td>sales</td>\n",
       "      <td>junior</td>\n",
       "      <td>medium</td>\n",
       "      <td>2</td>\n",
       "      <td>no</td>\n",
       "      <td>no</td>\n",
       "      <td>3</td>\n",
       "      <td>27600</td>\n",
       "      <td>yes</td>\n",
       "    </tr>\n",
       "  </tbody>\n",
       "</table>\n",
       "<p>4000 rows × 10 columns</p>\n",
       "</div>"
      ],
      "text/plain": [
       "          id        dept   level workload  employment_years last_year_promo  \\\n",
       "0     723290       sales  middle     high                 2              no   \n",
       "1     814010       sales  junior   medium                 2              no   \n",
       "2     155091  purchasing  middle   medium                 5              no   \n",
       "3     257132       sales  junior   medium                 2              no   \n",
       "4     910140   marketing  junior   medium                 2              no   \n",
       "...      ...         ...     ...      ...               ...             ...   \n",
       "3995  588809       sales  junior   medium                 4              no   \n",
       "3996  672059       sales  middle     high                 9              no   \n",
       "3997  536432  purchasing  junior      low                 2              no   \n",
       "3998  692133  purchasing  middle   medium                 2              no   \n",
       "3999  853842       sales  junior   medium                 2              no   \n",
       "\n",
       "     last_year_violations  supervisor_evaluation  salary quit  \n",
       "0                      no                      4   54000   no  \n",
       "1                      no                      4   27600   no  \n",
       "2                      no                      1   37200   no  \n",
       "3                     yes                      3   24000  yes  \n",
       "4                      no                      5   25200   no  \n",
       "...                   ...                    ...     ...  ...  \n",
       "3995                   no                      3   26400   no  \n",
       "3996                   no                      4   52800   no  \n",
       "3997                  yes                      4   12000  yes  \n",
       "3998                   no                      4   33600   no  \n",
       "3999                   no                      3   27600  yes  \n",
       "\n",
       "[4000 rows x 10 columns]"
      ]
     },
     "execution_count": 57,
     "metadata": {},
     "output_type": "execute_result"
    }
   ],
   "source": [
    "data_train"
   ]
  },
  {
   "cell_type": "code",
   "execution_count": 58,
   "id": "fd8057f0",
   "metadata": {},
   "outputs": [
    {
     "name": "stdout",
     "output_type": "stream",
     "text": [
      "<class 'pandas.core.frame.DataFrame'>\n",
      "RangeIndex: 4000 entries, 0 to 3999\n",
      "Data columns (total 10 columns):\n",
      " #   Column                 Non-Null Count  Dtype \n",
      "---  ------                 --------------  ----- \n",
      " 0   id                     4000 non-null   int64 \n",
      " 1   dept                   4000 non-null   object\n",
      " 2   level                  4000 non-null   object\n",
      " 3   workload               4000 non-null   object\n",
      " 4   employment_years       4000 non-null   int64 \n",
      " 5   last_year_promo        4000 non-null   object\n",
      " 6   last_year_violations   4000 non-null   object\n",
      " 7   supervisor_evaluation  4000 non-null   int64 \n",
      " 8   salary                 4000 non-null   int64 \n",
      " 9   quit                   4000 non-null   object\n",
      "dtypes: int64(4), object(6)\n",
      "memory usage: 312.6+ KB\n"
     ]
    }
   ],
   "source": [
    "data_train.info()"
   ]
  },
  {
   "cell_type": "code",
   "execution_count": 59,
   "id": "06fdfc27",
   "metadata": {},
   "outputs": [
    {
     "data": {
      "text/plain": [
       "0"
      ]
     },
     "execution_count": 59,
     "metadata": {},
     "output_type": "execute_result"
    }
   ],
   "source": [
    "data_train.duplicated().sum()"
   ]
  },
  {
   "cell_type": "code",
   "execution_count": 60,
   "id": "7970569a",
   "metadata": {},
   "outputs": [
    {
     "name": "stdout",
     "output_type": "stream",
     "text": [
      "['sales' 'purchasing' 'marketing' 'technology' 'hr']\n",
      "['middle' 'junior' 'sinior']\n",
      "['high' 'medium' 'low']\n",
      "['no' 'yes']\n",
      "['no' 'yes']\n",
      "['no' 'yes']\n"
     ]
    }
   ],
   "source": [
    "lst = data_train.select_dtypes(exclude = np.number).columns\n",
    "\n",
    "for i in lst:\n",
    "    print(data_train[i].unique())"
   ]
  },
  {
   "cell_type": "markdown",
   "id": "669a4b77",
   "metadata": {},
   "source": [
    "всё в порядке"
   ]
  },
  {
   "cell_type": "markdown",
   "id": "f7ab01c2",
   "metadata": {},
   "source": [
    "### Предобрабокта X_test и y_test"
   ]
  },
  {
   "cell_type": "code",
   "execution_count": 61,
   "id": "3ef65c72",
   "metadata": {},
   "outputs": [
    {
     "data": {
      "text/html": [
       "<div>\n",
       "<style scoped>\n",
       "    .dataframe tbody tr th:only-of-type {\n",
       "        vertical-align: middle;\n",
       "    }\n",
       "\n",
       "    .dataframe tbody tr th {\n",
       "        vertical-align: top;\n",
       "    }\n",
       "\n",
       "    .dataframe thead th {\n",
       "        text-align: right;\n",
       "    }\n",
       "</style>\n",
       "<table border=\"1\" class=\"dataframe\">\n",
       "  <thead>\n",
       "    <tr style=\"text-align: right;\">\n",
       "      <th></th>\n",
       "      <th>id</th>\n",
       "      <th>dept</th>\n",
       "      <th>level</th>\n",
       "      <th>workload</th>\n",
       "      <th>employment_years</th>\n",
       "      <th>last_year_promo</th>\n",
       "      <th>last_year_violations</th>\n",
       "      <th>supervisor_evaluation</th>\n",
       "      <th>salary</th>\n",
       "    </tr>\n",
       "  </thead>\n",
       "  <tbody>\n",
       "    <tr>\n",
       "      <th>0</th>\n",
       "      <td>485046</td>\n",
       "      <td>marketing</td>\n",
       "      <td>junior</td>\n",
       "      <td>medium</td>\n",
       "      <td>2</td>\n",
       "      <td>no</td>\n",
       "      <td>no</td>\n",
       "      <td>5</td>\n",
       "      <td>28800</td>\n",
       "    </tr>\n",
       "    <tr>\n",
       "      <th>1</th>\n",
       "      <td>686555</td>\n",
       "      <td>hr</td>\n",
       "      <td>junior</td>\n",
       "      <td>medium</td>\n",
       "      <td>1</td>\n",
       "      <td>no</td>\n",
       "      <td>no</td>\n",
       "      <td>4</td>\n",
       "      <td>30000</td>\n",
       "    </tr>\n",
       "    <tr>\n",
       "      <th>2</th>\n",
       "      <td>467458</td>\n",
       "      <td>sales</td>\n",
       "      <td>middle</td>\n",
       "      <td>low</td>\n",
       "      <td>5</td>\n",
       "      <td>no</td>\n",
       "      <td>no</td>\n",
       "      <td>4</td>\n",
       "      <td>19200</td>\n",
       "    </tr>\n",
       "    <tr>\n",
       "      <th>3</th>\n",
       "      <td>418655</td>\n",
       "      <td>sales</td>\n",
       "      <td>middle</td>\n",
       "      <td>low</td>\n",
       "      <td>6</td>\n",
       "      <td>no</td>\n",
       "      <td>no</td>\n",
       "      <td>4</td>\n",
       "      <td>19200</td>\n",
       "    </tr>\n",
       "    <tr>\n",
       "      <th>4</th>\n",
       "      <td>789145</td>\n",
       "      <td>hr</td>\n",
       "      <td>middle</td>\n",
       "      <td>medium</td>\n",
       "      <td>5</td>\n",
       "      <td>no</td>\n",
       "      <td>no</td>\n",
       "      <td>5</td>\n",
       "      <td>40800</td>\n",
       "    </tr>\n",
       "    <tr>\n",
       "      <th>...</th>\n",
       "      <td>...</td>\n",
       "      <td>...</td>\n",
       "      <td>...</td>\n",
       "      <td>...</td>\n",
       "      <td>...</td>\n",
       "      <td>...</td>\n",
       "      <td>...</td>\n",
       "      <td>...</td>\n",
       "      <td>...</td>\n",
       "    </tr>\n",
       "    <tr>\n",
       "      <th>1995</th>\n",
       "      <td>393147</td>\n",
       "      <td>marketing</td>\n",
       "      <td>junior</td>\n",
       "      <td>low</td>\n",
       "      <td>3</td>\n",
       "      <td>no</td>\n",
       "      <td>no</td>\n",
       "      <td>3</td>\n",
       "      <td>20400</td>\n",
       "    </tr>\n",
       "    <tr>\n",
       "      <th>1996</th>\n",
       "      <td>109582</td>\n",
       "      <td>technology</td>\n",
       "      <td>middle</td>\n",
       "      <td>low</td>\n",
       "      <td>3</td>\n",
       "      <td>no</td>\n",
       "      <td>no</td>\n",
       "      <td>2</td>\n",
       "      <td>21600</td>\n",
       "    </tr>\n",
       "    <tr>\n",
       "      <th>1997</th>\n",
       "      <td>305653</td>\n",
       "      <td>technology</td>\n",
       "      <td>junior</td>\n",
       "      <td>low</td>\n",
       "      <td>1</td>\n",
       "      <td>no</td>\n",
       "      <td>no</td>\n",
       "      <td>3</td>\n",
       "      <td>14400</td>\n",
       "    </tr>\n",
       "    <tr>\n",
       "      <th>1998</th>\n",
       "      <td>160233</td>\n",
       "      <td>technology</td>\n",
       "      <td>middle</td>\n",
       "      <td>low</td>\n",
       "      <td>8</td>\n",
       "      <td>no</td>\n",
       "      <td>no</td>\n",
       "      <td>1</td>\n",
       "      <td>32400</td>\n",
       "    </tr>\n",
       "    <tr>\n",
       "      <th>1999</th>\n",
       "      <td>771859</td>\n",
       "      <td>purchasing</td>\n",
       "      <td>middle</td>\n",
       "      <td>medium</td>\n",
       "      <td>1</td>\n",
       "      <td>no</td>\n",
       "      <td>no</td>\n",
       "      <td>4</td>\n",
       "      <td>38400</td>\n",
       "    </tr>\n",
       "  </tbody>\n",
       "</table>\n",
       "<p>2000 rows × 9 columns</p>\n",
       "</div>"
      ],
      "text/plain": [
       "          id        dept   level workload  employment_years last_year_promo  \\\n",
       "0     485046   marketing  junior   medium                 2              no   \n",
       "1     686555          hr  junior   medium                 1              no   \n",
       "2     467458       sales  middle      low                 5              no   \n",
       "3     418655       sales  middle      low                 6              no   \n",
       "4     789145          hr  middle   medium                 5              no   \n",
       "...      ...         ...     ...      ...               ...             ...   \n",
       "1995  393147   marketing  junior      low                 3              no   \n",
       "1996  109582  technology  middle      low                 3              no   \n",
       "1997  305653  technology  junior      low                 1              no   \n",
       "1998  160233  technology  middle      low                 8              no   \n",
       "1999  771859  purchasing  middle   medium                 1              no   \n",
       "\n",
       "     last_year_violations  supervisor_evaluation  salary  \n",
       "0                      no                      5   28800  \n",
       "1                      no                      4   30000  \n",
       "2                      no                      4   19200  \n",
       "3                      no                      4   19200  \n",
       "4                      no                      5   40800  \n",
       "...                   ...                    ...     ...  \n",
       "1995                   no                      3   20400  \n",
       "1996                   no                      2   21600  \n",
       "1997                   no                      3   14400  \n",
       "1998                   no                      1   32400  \n",
       "1999                   no                      4   38400  \n",
       "\n",
       "[2000 rows x 9 columns]"
      ]
     },
     "execution_count": 61,
     "metadata": {},
     "output_type": "execute_result"
    }
   ],
   "source": [
    "X_test_2"
   ]
  },
  {
   "cell_type": "code",
   "execution_count": 62,
   "id": "20c92e11",
   "metadata": {},
   "outputs": [
    {
     "name": "stdout",
     "output_type": "stream",
     "text": [
      "<class 'pandas.core.frame.DataFrame'>\n",
      "Int64Index: 2000 entries, 0 to 1999\n",
      "Data columns (total 9 columns):\n",
      " #   Column                 Non-Null Count  Dtype \n",
      "---  ------                 --------------  ----- \n",
      " 0   id                     2000 non-null   int64 \n",
      " 1   dept                   1998 non-null   object\n",
      " 2   level                  1999 non-null   object\n",
      " 3   workload               2000 non-null   object\n",
      " 4   employment_years       2000 non-null   int64 \n",
      " 5   last_year_promo        2000 non-null   object\n",
      " 6   last_year_violations   2000 non-null   object\n",
      " 7   supervisor_evaluation  2000 non-null   int64 \n",
      " 8   salary                 2000 non-null   int64 \n",
      "dtypes: int64(4), object(5)\n",
      "memory usage: 156.2+ KB\n"
     ]
    }
   ],
   "source": [
    "X_test_2.info()"
   ]
  },
  {
   "cell_type": "code",
   "execution_count": 63,
   "id": "8851858c",
   "metadata": {},
   "outputs": [],
   "source": [
    "X_test_2 = X_test_2.fillna(X_test.mode().iloc[0])"
   ]
  },
  {
   "cell_type": "code",
   "execution_count": 64,
   "id": "9b0f5c4f",
   "metadata": {},
   "outputs": [
    {
     "name": "stdout",
     "output_type": "stream",
     "text": [
      "['marketing' 'hr' 'sales' 'purchasing' 'technology' ' ']\n",
      "['junior' 'middle' 'sinior']\n",
      "['medium' 'low' 'high' ' ']\n",
      "['no' 'yes']\n",
      "['no' 'yes']\n"
     ]
    }
   ],
   "source": [
    "lst = X_test_2.select_dtypes(exclude = np.number).columns\n",
    "\n",
    "for i in lst:\n",
    "    print(X_test_2[i].unique())"
   ]
  },
  {
   "cell_type": "code",
   "execution_count": 65,
   "id": "1f8767e1",
   "metadata": {},
   "outputs": [
    {
     "data": {
      "text/html": [
       "<div>\n",
       "<style scoped>\n",
       "    .dataframe tbody tr th:only-of-type {\n",
       "        vertical-align: middle;\n",
       "    }\n",
       "\n",
       "    .dataframe tbody tr th {\n",
       "        vertical-align: top;\n",
       "    }\n",
       "\n",
       "    .dataframe thead th {\n",
       "        text-align: right;\n",
       "    }\n",
       "</style>\n",
       "<table border=\"1\" class=\"dataframe\">\n",
       "  <thead>\n",
       "    <tr style=\"text-align: right;\">\n",
       "      <th></th>\n",
       "      <th>id</th>\n",
       "      <th>dept</th>\n",
       "      <th>level</th>\n",
       "      <th>workload</th>\n",
       "      <th>employment_years</th>\n",
       "      <th>last_year_promo</th>\n",
       "      <th>last_year_violations</th>\n",
       "      <th>supervisor_evaluation</th>\n",
       "      <th>salary</th>\n",
       "    </tr>\n",
       "  </thead>\n",
       "  <tbody>\n",
       "    <tr>\n",
       "      <th>15</th>\n",
       "      <td>590867</td>\n",
       "      <td>marketing</td>\n",
       "      <td>junior</td>\n",
       "      <td></td>\n",
       "      <td>4</td>\n",
       "      <td>no</td>\n",
       "      <td>no</td>\n",
       "      <td>4</td>\n",
       "      <td>28800</td>\n",
       "    </tr>\n",
       "    <tr>\n",
       "      <th>1699</th>\n",
       "      <td>822186</td>\n",
       "      <td></td>\n",
       "      <td>middle</td>\n",
       "      <td>medium</td>\n",
       "      <td>3</td>\n",
       "      <td>no</td>\n",
       "      <td>no</td>\n",
       "      <td>4</td>\n",
       "      <td>38400</td>\n",
       "    </tr>\n",
       "  </tbody>\n",
       "</table>\n",
       "</div>"
      ],
      "text/plain": [
       "          id       dept   level workload  employment_years last_year_promo  \\\n",
       "15    590867  marketing  junior                          4              no   \n",
       "1699  822186             middle   medium                 3              no   \n",
       "\n",
       "     last_year_violations  supervisor_evaluation  salary  \n",
       "15                     no                      4   28800  \n",
       "1699                   no                      4   38400  "
      ]
     },
     "execution_count": 65,
     "metadata": {},
     "output_type": "execute_result"
    }
   ],
   "source": [
    "X_test_2[(X_test_2['dept'] == ' ') | (X_test_2['workload'] == ' ')]"
   ]
  },
  {
   "cell_type": "code",
   "execution_count": 66,
   "id": "eee28852",
   "metadata": {},
   "outputs": [],
   "source": [
    "X_test_2 = X_test_2[(X_test_2['dept'] != ' ') & (X_test_2['workload'] != ' ')]"
   ]
  },
  {
   "cell_type": "code",
   "execution_count": 67,
   "id": "6e3d3d5d",
   "metadata": {},
   "outputs": [
    {
     "data": {
      "text/plain": [
       "0"
      ]
     },
     "execution_count": 67,
     "metadata": {},
     "output_type": "execute_result"
    }
   ],
   "source": [
    "X_test_2.duplicated().sum()"
   ]
  },
  {
   "cell_type": "markdown",
   "id": "fc22334a",
   "metadata": {},
   "source": [
    "Вывод:\n",
    "\n",
    "Данные приведены в порядок, где необходимо нули заменены на моду, а также убраны неявные дубликаты, можно переходить к Исследовательскому анализу данных"
   ]
  },
  {
   "cell_type": "markdown",
   "id": "c2426914",
   "metadata": {},
   "source": [
    "### Исследовательский анализ данных"
   ]
  },
  {
   "cell_type": "code",
   "execution_count": 68,
   "id": "3a446253",
   "metadata": {},
   "outputs": [
    {
     "data": {
      "text/html": [
       "<div>\n",
       "<style scoped>\n",
       "    .dataframe tbody tr th:only-of-type {\n",
       "        vertical-align: middle;\n",
       "    }\n",
       "\n",
       "    .dataframe tbody tr th {\n",
       "        vertical-align: top;\n",
       "    }\n",
       "\n",
       "    .dataframe thead th {\n",
       "        text-align: right;\n",
       "    }\n",
       "</style>\n",
       "<table border=\"1\" class=\"dataframe\">\n",
       "  <thead>\n",
       "    <tr style=\"text-align: right;\">\n",
       "      <th></th>\n",
       "      <th>id</th>\n",
       "      <th>dept</th>\n",
       "      <th>level</th>\n",
       "      <th>workload</th>\n",
       "      <th>employment_years</th>\n",
       "      <th>last_year_promo</th>\n",
       "      <th>last_year_violations</th>\n",
       "      <th>supervisor_evaluation</th>\n",
       "      <th>salary</th>\n",
       "      <th>quit</th>\n",
       "    </tr>\n",
       "  </thead>\n",
       "  <tbody>\n",
       "    <tr>\n",
       "      <th>0</th>\n",
       "      <td>723290</td>\n",
       "      <td>sales</td>\n",
       "      <td>middle</td>\n",
       "      <td>high</td>\n",
       "      <td>2</td>\n",
       "      <td>no</td>\n",
       "      <td>no</td>\n",
       "      <td>4</td>\n",
       "      <td>54000</td>\n",
       "      <td>no</td>\n",
       "    </tr>\n",
       "    <tr>\n",
       "      <th>1</th>\n",
       "      <td>814010</td>\n",
       "      <td>sales</td>\n",
       "      <td>junior</td>\n",
       "      <td>medium</td>\n",
       "      <td>2</td>\n",
       "      <td>no</td>\n",
       "      <td>no</td>\n",
       "      <td>4</td>\n",
       "      <td>27600</td>\n",
       "      <td>no</td>\n",
       "    </tr>\n",
       "    <tr>\n",
       "      <th>2</th>\n",
       "      <td>155091</td>\n",
       "      <td>purchasing</td>\n",
       "      <td>middle</td>\n",
       "      <td>medium</td>\n",
       "      <td>5</td>\n",
       "      <td>no</td>\n",
       "      <td>no</td>\n",
       "      <td>1</td>\n",
       "      <td>37200</td>\n",
       "      <td>no</td>\n",
       "    </tr>\n",
       "    <tr>\n",
       "      <th>3</th>\n",
       "      <td>257132</td>\n",
       "      <td>sales</td>\n",
       "      <td>junior</td>\n",
       "      <td>medium</td>\n",
       "      <td>2</td>\n",
       "      <td>no</td>\n",
       "      <td>yes</td>\n",
       "      <td>3</td>\n",
       "      <td>24000</td>\n",
       "      <td>yes</td>\n",
       "    </tr>\n",
       "    <tr>\n",
       "      <th>4</th>\n",
       "      <td>910140</td>\n",
       "      <td>marketing</td>\n",
       "      <td>junior</td>\n",
       "      <td>medium</td>\n",
       "      <td>2</td>\n",
       "      <td>no</td>\n",
       "      <td>no</td>\n",
       "      <td>5</td>\n",
       "      <td>25200</td>\n",
       "      <td>no</td>\n",
       "    </tr>\n",
       "    <tr>\n",
       "      <th>...</th>\n",
       "      <td>...</td>\n",
       "      <td>...</td>\n",
       "      <td>...</td>\n",
       "      <td>...</td>\n",
       "      <td>...</td>\n",
       "      <td>...</td>\n",
       "      <td>...</td>\n",
       "      <td>...</td>\n",
       "      <td>...</td>\n",
       "      <td>...</td>\n",
       "    </tr>\n",
       "    <tr>\n",
       "      <th>3995</th>\n",
       "      <td>588809</td>\n",
       "      <td>sales</td>\n",
       "      <td>junior</td>\n",
       "      <td>medium</td>\n",
       "      <td>4</td>\n",
       "      <td>no</td>\n",
       "      <td>no</td>\n",
       "      <td>3</td>\n",
       "      <td>26400</td>\n",
       "      <td>no</td>\n",
       "    </tr>\n",
       "    <tr>\n",
       "      <th>3996</th>\n",
       "      <td>672059</td>\n",
       "      <td>sales</td>\n",
       "      <td>middle</td>\n",
       "      <td>high</td>\n",
       "      <td>9</td>\n",
       "      <td>no</td>\n",
       "      <td>no</td>\n",
       "      <td>4</td>\n",
       "      <td>52800</td>\n",
       "      <td>no</td>\n",
       "    </tr>\n",
       "    <tr>\n",
       "      <th>3997</th>\n",
       "      <td>536432</td>\n",
       "      <td>purchasing</td>\n",
       "      <td>junior</td>\n",
       "      <td>low</td>\n",
       "      <td>2</td>\n",
       "      <td>no</td>\n",
       "      <td>yes</td>\n",
       "      <td>4</td>\n",
       "      <td>12000</td>\n",
       "      <td>yes</td>\n",
       "    </tr>\n",
       "    <tr>\n",
       "      <th>3998</th>\n",
       "      <td>692133</td>\n",
       "      <td>purchasing</td>\n",
       "      <td>middle</td>\n",
       "      <td>medium</td>\n",
       "      <td>2</td>\n",
       "      <td>no</td>\n",
       "      <td>no</td>\n",
       "      <td>4</td>\n",
       "      <td>33600</td>\n",
       "      <td>no</td>\n",
       "    </tr>\n",
       "    <tr>\n",
       "      <th>3999</th>\n",
       "      <td>853842</td>\n",
       "      <td>sales</td>\n",
       "      <td>junior</td>\n",
       "      <td>medium</td>\n",
       "      <td>2</td>\n",
       "      <td>no</td>\n",
       "      <td>no</td>\n",
       "      <td>3</td>\n",
       "      <td>27600</td>\n",
       "      <td>yes</td>\n",
       "    </tr>\n",
       "  </tbody>\n",
       "</table>\n",
       "<p>4000 rows × 10 columns</p>\n",
       "</div>"
      ],
      "text/plain": [
       "          id        dept   level workload  employment_years last_year_promo  \\\n",
       "0     723290       sales  middle     high                 2              no   \n",
       "1     814010       sales  junior   medium                 2              no   \n",
       "2     155091  purchasing  middle   medium                 5              no   \n",
       "3     257132       sales  junior   medium                 2              no   \n",
       "4     910140   marketing  junior   medium                 2              no   \n",
       "...      ...         ...     ...      ...               ...             ...   \n",
       "3995  588809       sales  junior   medium                 4              no   \n",
       "3996  672059       sales  middle     high                 9              no   \n",
       "3997  536432  purchasing  junior      low                 2              no   \n",
       "3998  692133  purchasing  middle   medium                 2              no   \n",
       "3999  853842       sales  junior   medium                 2              no   \n",
       "\n",
       "     last_year_violations  supervisor_evaluation  salary quit  \n",
       "0                      no                      4   54000   no  \n",
       "1                      no                      4   27600   no  \n",
       "2                      no                      1   37200   no  \n",
       "3                     yes                      3   24000  yes  \n",
       "4                      no                      5   25200   no  \n",
       "...                   ...                    ...     ...  ...  \n",
       "3995                   no                      3   26400   no  \n",
       "3996                   no                      4   52800   no  \n",
       "3997                  yes                      4   12000  yes  \n",
       "3998                   no                      4   33600   no  \n",
       "3999                   no                      3   27600  yes  \n",
       "\n",
       "[4000 rows x 10 columns]"
      ]
     },
     "execution_count": 68,
     "metadata": {},
     "output_type": "execute_result"
    }
   ],
   "source": [
    "data_train"
   ]
  },
  {
   "cell_type": "markdown",
   "id": "ee1c4b6d",
   "metadata": {},
   "source": [
    "проверим отличие между сотрудниками, которые уволились и котоыре остались"
   ]
  },
  {
   "cell_type": "code",
   "execution_count": 69,
   "id": "331986e3",
   "metadata": {},
   "outputs": [
    {
     "data": {
      "text/html": [
       "<div>\n",
       "<style scoped>\n",
       "    .dataframe tbody tr th:only-of-type {\n",
       "        vertical-align: middle;\n",
       "    }\n",
       "\n",
       "    .dataframe tbody tr th {\n",
       "        vertical-align: top;\n",
       "    }\n",
       "\n",
       "    .dataframe thead th {\n",
       "        text-align: right;\n",
       "    }\n",
       "</style>\n",
       "<table border=\"1\" class=\"dataframe\">\n",
       "  <thead>\n",
       "    <tr style=\"text-align: right;\">\n",
       "      <th></th>\n",
       "      <th>id</th>\n",
       "      <th>quit</th>\n",
       "    </tr>\n",
       "  </thead>\n",
       "  <tbody>\n",
       "    <tr>\n",
       "      <th>0</th>\n",
       "      <td>485046</td>\n",
       "      <td>no</td>\n",
       "    </tr>\n",
       "    <tr>\n",
       "      <th>1</th>\n",
       "      <td>686555</td>\n",
       "      <td>no</td>\n",
       "    </tr>\n",
       "    <tr>\n",
       "      <th>2</th>\n",
       "      <td>467458</td>\n",
       "      <td>no</td>\n",
       "    </tr>\n",
       "    <tr>\n",
       "      <th>3</th>\n",
       "      <td>418655</td>\n",
       "      <td>no</td>\n",
       "    </tr>\n",
       "    <tr>\n",
       "      <th>4</th>\n",
       "      <td>789145</td>\n",
       "      <td>no</td>\n",
       "    </tr>\n",
       "    <tr>\n",
       "      <th>...</th>\n",
       "      <td>...</td>\n",
       "      <td>...</td>\n",
       "    </tr>\n",
       "    <tr>\n",
       "      <th>1995</th>\n",
       "      <td>393147</td>\n",
       "      <td>yes</td>\n",
       "    </tr>\n",
       "    <tr>\n",
       "      <th>1996</th>\n",
       "      <td>109582</td>\n",
       "      <td>yes</td>\n",
       "    </tr>\n",
       "    <tr>\n",
       "      <th>1997</th>\n",
       "      <td>305653</td>\n",
       "      <td>yes</td>\n",
       "    </tr>\n",
       "    <tr>\n",
       "      <th>1998</th>\n",
       "      <td>160233</td>\n",
       "      <td>no</td>\n",
       "    </tr>\n",
       "    <tr>\n",
       "      <th>1999</th>\n",
       "      <td>771859</td>\n",
       "      <td>no</td>\n",
       "    </tr>\n",
       "  </tbody>\n",
       "</table>\n",
       "<p>2000 rows × 2 columns</p>\n",
       "</div>"
      ],
      "text/plain": [
       "          id quit\n",
       "0     485046   no\n",
       "1     686555   no\n",
       "2     467458   no\n",
       "3     418655   no\n",
       "4     789145   no\n",
       "...      ...  ...\n",
       "1995  393147  yes\n",
       "1996  109582  yes\n",
       "1997  305653  yes\n",
       "1998  160233   no\n",
       "1999  771859   no\n",
       "\n",
       "[2000 rows x 2 columns]"
      ]
     },
     "execution_count": 69,
     "metadata": {},
     "output_type": "execute_result"
    }
   ],
   "source": [
    "y_test_2"
   ]
  },
  {
   "cell_type": "code",
   "execution_count": 70,
   "id": "758dd324",
   "metadata": {},
   "outputs": [],
   "source": [
    "good_guys = data_train[data_train['quit'] == 'no']\n",
    "bad_guys = data_train[data_train['quit'] == 'yes']"
   ]
  },
  {
   "cell_type": "code",
   "execution_count": 71,
   "id": "df1ced56",
   "metadata": {},
   "outputs": [
    {
     "data": {
      "text/plain": [
       "<matplotlib.legend.Legend at 0x7f7dc1239670>"
      ]
     },
     "execution_count": 71,
     "metadata": {},
     "output_type": "execute_result"
    },
    {
     "data": {
      "image/png": "[encoded data removed]",
      "text/plain": [
       "<Figure size 1152x864 with 1 Axes>"
      ]
     },
     "metadata": {
      "needs_background": "light"
     },
     "output_type": "display_data"
    }
   ],
   "source": [
    "plt.figure(figsize = (16, 12))\n",
    "sns.countplot(data = data_train, x =  data_train['dept'], hue = 'quit')\n",
    "plt.legend(['не уволились', 'уволились'])"
   ]
  },
  {
   "cell_type": "markdown",
   "id": "9b475933",
   "metadata": {},
   "source": [
    "больше всего увольнений в отделе продаж но это из-за того, что в нем больше всего сотрудников, посмотрим в процентом соотношении"
   ]
  },
  {
   "cell_type": "code",
   "execution_count": 98,
   "id": "109fd07b",
   "metadata": {},
   "outputs": [
    {
     "data": {
      "text/plain": [
       "dept\n",
       "hr            0.333333\n",
       "marketing     0.389021\n",
       "purchasing    0.393365\n",
       "sales         0.394762\n",
       "technology    0.423313\n",
       "Name: quit, dtype: float64"
      ]
     },
     "execution_count": 98,
     "metadata": {},
     "output_type": "execute_result"
    }
   ],
   "source": [
    "data_train[data_train['quit'] == 'yes'].groupby('dept').count()['quit'] / data_train[data_train['quit'] == 'no'].groupby('dept').count()['quit']"
   ]
  },
  {
   "cell_type": "markdown",
   "id": "2bb7a8fa",
   "metadata": {},
   "source": [
    "чаще всего увольняются из отдела технологий"
   ]
  },
  {
   "cell_type": "markdown",
   "id": "f60aa9a0",
   "metadata": {},
   "source": [
    "видно, что больше всего процент увольнений в отделе маркетинга и закупок"
   ]
  },
  {
   "cell_type": "code",
   "execution_count": null,
   "id": "c8991292",
   "metadata": {
    "scrolled": true
   },
   "outputs": [],
   "source": [
    "plt.figure(figsize = (16, 12))\n",
    "sns.countplot(data = data_train, x = 'level', hue = 'quit')\n",
    "plt.legend(['не уволились', 'уволились'])"
   ]
  },
  {
   "cell_type": "markdown",
   "id": "ea978d50",
   "metadata": {},
   "source": [
    "сотрудники грейда junior, увольняются чаще чем остаются "
   ]
  },
  {
   "cell_type": "code",
   "execution_count": null,
   "id": "cfad1442",
   "metadata": {},
   "outputs": [],
   "source": [
    "plt.figure(figsize = (16, 12))\n",
    "sns.countplot(data = data_train, x = 'workload', hue = 'quit')\n",
    "plt.legend(['не уволились', 'уволились'])"
   ]
  },
  {
   "cell_type": "markdown",
   "id": "5e6d352f",
   "metadata": {},
   "source": [
    "удивительно, но сотрудинки с маленькой занятостью увольняются чаще"
   ]
  },
  {
   "cell_type": "code",
   "execution_count": null,
   "id": "86cc113f",
   "metadata": {},
   "outputs": [],
   "source": [
    "plt.figure(figsize = (16, 12))\n",
    "sns.countplot(data = data_train, x = 'last_year_promo', hue = 'quit')\n",
    "plt.legend(['не уволились', 'уволились'])"
   ]
  },
  {
   "cell_type": "markdown",
   "id": "6dc04d5d",
   "metadata": {},
   "source": [
    "ожидаемо, те кому не дают премию вообще не увольняются "
   ]
  },
  {
   "cell_type": "code",
   "execution_count": null,
   "id": "0c16b506",
   "metadata": {},
   "outputs": [],
   "source": [
    "plt.figure(figsize = (16, 12))\n",
    "sns.countplot(data = data_train, x = 'last_year_violations', hue = 'quit')\n",
    "plt.legend(['не уволились', 'уволились'])"
   ]
  },
  {
   "cell_type": "markdown",
   "id": "60e7cc3f",
   "metadata": {},
   "source": [
    "большой процент людей увольняется после повышения"
   ]
  },
  {
   "cell_type": "code",
   "execution_count": null,
   "id": "a32ffcfa",
   "metadata": {},
   "outputs": [],
   "source": [
    "plt.figure(figsize = (16, 12))\n",
    "plt.hist(good_guys['employment_years'])\n",
    "plt.hist(bad_guys['employment_years'])\n",
    "plt.legend(['не уволились', 'уволились'])"
   ]
  },
  {
   "cell_type": "markdown",
   "id": "0b7efc86",
   "metadata": {},
   "source": [
    "чем меньше стаж тем больше людей вольняется"
   ]
  },
  {
   "cell_type": "code",
   "execution_count": null,
   "id": "6436b0b5",
   "metadata": {},
   "outputs": [],
   "source": [
    "plt.figure(figsize = (16, 12))\n",
    "plt.hist(good_guys['salary'])\n",
    "plt.hist(bad_guys['salary'])\n",
    "plt.legend(['не уволились', 'уволились'])"
   ]
  },
  {
   "cell_type": "markdown",
   "id": "aab06c56",
   "metadata": {},
   "source": [
    "сотрудники с зарплатой меньше 20000 уволняются очень часто"
   ]
  },
  {
   "cell_type": "code",
   "execution_count": null,
   "id": "67b5edd4",
   "metadata": {},
   "outputs": [],
   "source": [
    "plt.figure(figsize = (16, 12))\n",
    "plt.hist(good_guys['supervisor_evaluation'])\n",
    "plt.hist(bad_guys['supervisor_evaluation'])\n",
    "plt.legend(['не уволились', 'уволились'])"
   ]
  },
  {
   "cell_type": "markdown",
   "id": "599dc5ba",
   "metadata": {},
   "source": [
    "те у кого оценка работы меньше чем 4 балла, скорее всего будут уволены"
   ]
  },
  {
   "cell_type": "markdown",
   "id": "ab28ef74",
   "metadata": {},
   "source": [
    "вывод: \n",
    "\n",
    "видно, что больше всего увольняются сотрудники с уровнем должности junior, с рабочей нагрузкой low, имеющие низкие оценки руководителя < 3, недавно работающие в компании и работники отдела технологий"
   ]
  },
  {
   "cell_type": "markdown",
   "id": "fc914715",
   "metadata": {},
   "source": [
    "Проверим как влияет уровень удовлетворённости сотрудника работой в компании на то уволится сотрудник или нет"
   ]
  },
  {
   "cell_type": "code",
   "execution_count": null,
   "id": "80da9c3c",
   "metadata": {},
   "outputs": [],
   "source": [
    "data_t = y_train_2.merge(y_test_2, on = 'id')"
   ]
  },
  {
   "cell_type": "code",
   "execution_count": null,
   "id": "671dc477",
   "metadata": {},
   "outputs": [],
   "source": [
    "phik_overview = data_t.drop('id', axis = 1).phik_matrix()\n",
    "\n",
    "plot_correlation_matrix(\n",
    "  phik_overview.values,\n",
    "    x_labels=phik_overview.columns,\n",
    "    y_labels=phik_overview.index,\n",
    "    vmin=0, vmax=1, color_map='Greens',\n",
    "    title=r'correlation $\\phi_K$',\n",
    "    fontsize_factor=1.5,\n",
    "    figsize=(20, 15)\n",
    ")  "
   ]
  },
  {
   "cell_type": "markdown",
   "id": "ec4f75ff",
   "metadata": {},
   "source": [
    "видно, что удовлетворенность сотрудинка сильно влияет, нужно добавить его в признаки для обучения"
   ]
  },
  {
   "cell_type": "code",
   "execution_count": null,
   "id": "57b9dc24",
   "metadata": {},
   "outputs": [],
   "source": [
    "X_test_2['job_satisfaction_rate'] = randomized_search.best_estimator_.predict(X_test)"
   ]
  },
  {
   "cell_type": "code",
   "execution_count": null,
   "id": "814f26f5",
   "metadata": {},
   "outputs": [],
   "source": [
    "X_test.head()"
   ]
  },
  {
   "cell_type": "code",
   "execution_count": null,
   "id": "a6f22ae2",
   "metadata": {},
   "outputs": [],
   "source": [
    "data_train['job_satisfaction_rate'] = randomized_search.best_estimator_.predict(data_train.drop(['quit', 'id'], axis=1))"
   ]
  },
  {
   "cell_type": "markdown",
   "id": "ee5696c4",
   "metadata": {},
   "source": [
    "#### Подготовка данных"
   ]
  },
  {
   "cell_type": "code",
   "execution_count": null,
   "id": "ae107108",
   "metadata": {},
   "outputs": [],
   "source": [
    "data_train = data_train.drop('id', axis = 1)"
   ]
  },
  {
   "cell_type": "code",
   "execution_count": null,
   "id": "5b008bec",
   "metadata": {},
   "outputs": [],
   "source": [
    "X_train_2 = data_train.drop(['quit'], axis=1)\n",
    "y_train_2 = data_train['quit']"
   ]
  },
  {
   "cell_type": "code",
   "execution_count": null,
   "id": "b24ac808",
   "metadata": {},
   "outputs": [],
   "source": [
    "y_test_2 = y_test_2[y_test_2['id'].isin(X_test_2['id'])]"
   ]
  },
  {
   "cell_type": "code",
   "execution_count": null,
   "id": "523bee0d",
   "metadata": {},
   "outputs": [],
   "source": [
    "le = LabelEncoder()\n",
    "y_train_2 = le.fit_transform(y_train_2)\n",
    "y_test_2 = le.transform(y_test_2.drop('id', axis = 1))"
   ]
  },
  {
   "cell_type": "code",
   "execution_count": null,
   "id": "90549212",
   "metadata": {},
   "outputs": [],
   "source": [
    "ohe_columns = [\n",
    "    'last_year_violations', \n",
    "    'last_year_promo', \n",
    "    'dept'\n",
    "]\n",
    "ord_columns = [\n",
    "    'level', \n",
    "    'workload' \n",
    "]\n",
    "num_columns = ['salary', 'employment_years', 'supervisor_evaluation', 'job_satisfaction_rate'] "
   ]
  },
  {
   "cell_type": "code",
   "execution_count": null,
   "id": "697e0597",
   "metadata": {},
   "outputs": [],
   "source": [
    "ohe_pipe = Pipeline(\n",
    "    [\n",
    "        (\n",
    "            'ohe', \n",
    "            OneHotEncoder(drop = 'first', handle_unknown = 'error', sparse = False)\n",
    "        )\n",
    "    ]\n",
    ")\n",
    "\n",
    "ord_pipe = Pipeline(\n",
    "    [\n",
    "        (\n",
    "            'ord',\n",
    "            OrdinalEncoder(categories = [['junior', 'middle', 'sinior'], \n",
    "                                         ['low', 'medium', 'high']\n",
    "                                        ],\n",
    "                           handle_unknown=\"use_encoded_value\", \n",
    "                           unknown_value = np.nan)\n",
    "        )\n",
    "    ]\n",
    ")\n",
    "\n",
    "data_preprocessor = ColumnTransformer(\n",
    "    [\n",
    "        ('ohe', ohe_pipe, ohe_columns),\n",
    "        ('ord', ord_pipe, ord_columns),\n",
    "        ('num', StandardScaler(), num_columns)\n",
    "    ],\n",
    "    remainder='passthrough'\n",
    ")\n",
    "\n",
    "pipe_final = Pipeline(\n",
    "    [\n",
    "        ('preprocessor', data_preprocessor),\n",
    "        ('models', DecisionTreeRegressor(random_state = RANDOM_STATE))\n",
    "    ]\n",
    ")\n",
    "\n",
    "param_grid = [\n",
    "    {\n",
    "        'models': [DecisionTreeClassifier(random_state = RANDOM_STATE)],\n",
    "        'models__max_depth': range(2, 10),\n",
    "        'models__min_samples_split': range(2, 10),\n",
    "        'preprocessor__num': [StandardScaler(), MinMaxScaler(), 'passthrough']\n",
    "    },\n",
    "    {\n",
    "        'models': [KNeighborsClassifier()],\n",
    "        'models__n_neighbors': range(2, 10),\n",
    "        'preprocessor__num': [StandardScaler(), MinMaxScaler(), 'passthrough']\n",
    "    },\n",
    "    {\n",
    "        'models': [SVC(probability= True, random_state = RANDOM_STATE)],\n",
    "        'preprocessor__num': [StandardScaler(), MinMaxScaler(), 'passthrough']\n",
    "    }\n",
    "]\n",
    "\n",
    "randomized_search = RandomizedSearchCV(\n",
    "    pipe_final,\n",
    "    param_grid,\n",
    "    cv = 5,\n",
    "    n_jobs = -1,\n",
    "    scoring = 'roc_auc',\n",
    "    random_state = RANDOM_STATE\n",
    ")\n",
    "\n",
    "randomized_search.fit(X_train_2, y_train_2);"
   ]
  },
  {
   "cell_type": "code",
   "execution_count": null,
   "id": "08e51856",
   "metadata": {},
   "outputs": [],
   "source": [
    "randomized_search.best_estimator_"
   ]
  },
  {
   "cell_type": "markdown",
   "id": "0c64de21",
   "metadata": {},
   "source": [
    "лучшая модель - DecisionTreeClassifier(max_depth=5, min_samples_leaf=9), посмотрим какое значение метрики рок аук мы получили на тренировочных и тестовых данных"
   ]
  },
  {
   "cell_type": "code",
   "execution_count": null,
   "id": "64f0b0ec",
   "metadata": {},
   "outputs": [],
   "source": [
    "randomized_search.best_score_"
   ]
  },
  {
   "cell_type": "markdown",
   "id": "b77485f1",
   "metadata": {},
   "source": [
    "0.93 на тренировочной"
   ]
  },
  {
   "cell_type": "code",
   "execution_count": null,
   "id": "a24bb4b0",
   "metadata": {},
   "outputs": [],
   "source": [
    "pred = randomized_search.best_estimator_.predict(X_test_2.drop('id', axis = 1))"
   ]
  },
  {
   "cell_type": "code",
   "execution_count": null,
   "id": "c686c0cd",
   "metadata": {},
   "outputs": [],
   "source": [
    "y_test_proba = randomized_search.predict_proba(X_test_2.drop('id', axis = 1))[:,1]"
   ]
  },
  {
   "cell_type": "code",
   "execution_count": null,
   "id": "6b1e62a6",
   "metadata": {},
   "outputs": [],
   "source": [
    "roc_auc = roc_auc_score(y_test_2, y_test_proba)"
   ]
  },
  {
   "cell_type": "code",
   "execution_count": null,
   "id": "ceebb1d0",
   "metadata": {},
   "outputs": [],
   "source": [
    "roc_auc"
   ]
  },
  {
   "cell_type": "markdown",
   "id": "9a671bc9",
   "metadata": {},
   "source": [
    "0.91 на тестовой"
   ]
  },
  {
   "cell_type": "markdown",
   "id": "38533d31",
   "metadata": {},
   "source": [
    "Вывод:\n",
    "\n",
    "и снова дерево решений показало лучший результат, вероятно это сново связано с гибкостью гиперпараметров модели"
   ]
  },
  {
   "cell_type": "markdown",
   "id": "d2a0f355",
   "metadata": {},
   "source": [
    "### Вывод"
   ]
  },
  {
   "cell_type": "markdown",
   "id": "4387e499",
   "metadata": {},
   "source": [
    "В ходе работы были проделаны следующие шаги:\n",
    "\n",
    "1) Были получены данные, некоторые из которых содержали пропуски и дубликаты, пропуски были заполнены модой, дубликаты удалены\n",
    "\n",
    "2) После того как данные были приведены в порядок, был проведен исследовательский анализ данных, благодаря которому выяснилось, что в данных не присутствует аномалий или же выбросов\n",
    "\n",
    "3) Данные были подготовлены к обучению модели с помощью нескольких методов кодирования и нескольких методом масштабироваиня\n",
    "\n",
    "4) для первой задачи были обучены модели: дерево решений и линейная регрессия, для второй задачи: дерево решений, SVC и KNn\n",
    "\n",
    "5) в ходе перебора нескольких видов масштабирования, кодировщиков, моделей и их гиперпараметров, лучшей моделью оказалось дерево решений на обоих этапах задачи\n",
    "\n",
    "6) был сделан портрет сотрудника, который уволится: новый сотрудник компании, позиция junior, низкая загрузка и оценка работодателя меньше 3\n",
    "\n",
    "можно выделить некоторые советы для удержания сотрудников\n",
    "\n",
    "1) новые сотрудники компании чаще всего увольняются, что является вполне естественным, возможно стоит обратить внимание на взаимоотношения в коллективе, вероятно новичков встречают не очень тепло\n",
    "\n",
    "2) когда у людей мало нагрузки на их рабочем месте они увольняются, возможно, люди скучают и им стоит давать больше работы \n",
    "\n",
    "3) также люди с зарплатой меньше 20000, с очень большой вероятностью уволятся, возможно стоит немного увеличить начальную зарплату, чтобы удержать хоть кого-нибудь\n",
    "\n",
    "4) также возможно стоит сделать систему оценивания сотрудников менее строгую, ведь люди с оценкой 3 с большой вероятностью уволятся\n",
    "\n",
    "на данных были обучены некотомодели машинного обучения, лучшей моделью оказалось дерево решений, благодаря своим гибким гиперпараметрам"
   ]
  },
  {
   "cell_type": "code",
   "execution_count": null,
   "id": "40f4bf3a",
   "metadata": {},
   "outputs": [],
   "source": []
  }
 ],
 "metadata": {
  "ExecuteTimeLog": [
   {
    "duration": 385,
    "start_time": "2025-01-22T15:02:27.383Z"
   },
   {
    "duration": 122,
    "start_time": "2025-01-22T15:02:43.926Z"
   },
   {
    "duration": 83,
    "start_time": "2025-01-22T15:05:48.186Z"
   },
   {
    "duration": 179,
    "start_time": "2025-01-22T15:06:22.963Z"
   },
   {
    "duration": 21,
    "start_time": "2025-01-22T15:06:36.445Z"
   },
   {
    "duration": 23,
    "start_time": "2025-01-22T15:06:54.437Z"
   },
   {
    "duration": 15,
    "start_time": "2025-01-22T15:06:57.185Z"
   },
   {
    "duration": 12,
    "start_time": "2025-01-22T15:07:25.743Z"
   },
   {
    "duration": 8,
    "start_time": "2025-01-22T15:07:26.994Z"
   },
   {
    "duration": 8,
    "start_time": "2025-01-22T15:08:38.899Z"
   },
   {
    "duration": 32,
    "start_time": "2025-01-22T15:08:49.409Z"
   },
   {
    "duration": 18,
    "start_time": "2025-01-22T15:09:09.438Z"
   },
   {
    "duration": 17,
    "start_time": "2025-01-22T15:09:18.593Z"
   },
   {
    "duration": 14,
    "start_time": "2025-01-22T15:09:32.976Z"
   },
   {
    "duration": 23,
    "start_time": "2025-01-22T15:09:37.731Z"
   },
   {
    "duration": 8,
    "start_time": "2025-01-22T15:11:14.151Z"
   },
   {
    "duration": 8,
    "start_time": "2025-01-22T15:11:37.556Z"
   },
   {
    "duration": 8,
    "start_time": "2025-01-22T15:13:14.594Z"
   },
   {
    "duration": 20,
    "start_time": "2025-01-22T15:13:18.592Z"
   },
   {
    "duration": 8,
    "start_time": "2025-01-22T15:13:23.882Z"
   },
   {
    "duration": 23,
    "start_time": "2025-01-22T15:13:40.280Z"
   },
   {
    "duration": 10,
    "start_time": "2025-01-22T15:13:40.860Z"
   },
   {
    "duration": 1348,
    "start_time": "2025-01-22T15:14:18.103Z"
   },
   {
    "duration": 0,
    "start_time": "2025-01-22T15:14:19.453Z"
   },
   {
    "duration": 14,
    "start_time": "2025-01-22T15:14:24.999Z"
   },
   {
    "duration": 7,
    "start_time": "2025-01-22T15:14:26.010Z"
   },
   {
    "duration": 26,
    "start_time": "2025-01-22T15:14:38.442Z"
   },
   {
    "duration": 17,
    "start_time": "2025-01-22T15:14:54.385Z"
   },
   {
    "duration": 11,
    "start_time": "2025-01-22T15:14:59.826Z"
   },
   {
    "duration": 19,
    "start_time": "2025-01-22T15:15:03.915Z"
   },
   {
    "duration": 25,
    "start_time": "2025-01-22T15:15:07.907Z"
   },
   {
    "duration": 11,
    "start_time": "2025-01-22T15:15:14.424Z"
   },
   {
    "duration": 25,
    "start_time": "2025-01-22T15:15:36.046Z"
   },
   {
    "duration": 6,
    "start_time": "2025-01-22T15:17:52.459Z"
   },
   {
    "duration": 3,
    "start_time": "2025-01-22T15:17:58.143Z"
   },
   {
    "duration": 81,
    "start_time": "2025-01-22T15:17:58.303Z"
   },
   {
    "duration": 17,
    "start_time": "2025-01-22T15:17:58.468Z"
   },
   {
    "duration": 12,
    "start_time": "2025-01-22T15:17:58.635Z"
   },
   {
    "duration": 8,
    "start_time": "2025-01-22T15:17:58.784Z"
   },
   {
    "duration": 8,
    "start_time": "2025-01-22T15:18:00.864Z"
   },
   {
    "duration": 6,
    "start_time": "2025-01-22T15:18:01.515Z"
   },
   {
    "duration": 15,
    "start_time": "2025-01-22T15:18:04.590Z"
   },
   {
    "duration": 12,
    "start_time": "2025-01-22T15:18:04.765Z"
   },
   {
    "duration": 10,
    "start_time": "2025-01-22T15:18:50.118Z"
   },
   {
    "duration": 13,
    "start_time": "2025-01-22T15:23:34.352Z"
   },
   {
    "duration": 8,
    "start_time": "2025-01-22T15:24:04.040Z"
   },
   {
    "duration": 3,
    "start_time": "2025-01-22T15:24:13.705Z"
   },
   {
    "duration": 12,
    "start_time": "2025-01-22T15:24:16.633Z"
   },
   {
    "duration": 8,
    "start_time": "2025-01-22T15:24:26.067Z"
   },
   {
    "duration": 6,
    "start_time": "2025-01-22T15:24:29.264Z"
   },
   {
    "duration": 8,
    "start_time": "2025-01-22T15:24:48.790Z"
   },
   {
    "duration": 7,
    "start_time": "2025-01-22T15:28:28.295Z"
   },
   {
    "duration": 17,
    "start_time": "2025-01-22T15:28:34.930Z"
   },
   {
    "duration": 9,
    "start_time": "2025-01-22T15:28:53.635Z"
   },
   {
    "duration": 12,
    "start_time": "2025-01-22T15:29:20.311Z"
   },
   {
    "duration": 7,
    "start_time": "2025-01-22T15:29:21.744Z"
   },
   {
    "duration": 7,
    "start_time": "2025-01-22T15:29:33.663Z"
   },
   {
    "duration": 9,
    "start_time": "2025-01-22T15:29:47.026Z"
   },
   {
    "duration": 8,
    "start_time": "2025-01-22T15:29:53.731Z"
   },
   {
    "duration": 17,
    "start_time": "2025-01-22T15:30:15.171Z"
   },
   {
    "duration": 12,
    "start_time": "2025-01-22T15:30:23.161Z"
   },
   {
    "duration": 16,
    "start_time": "2025-01-22T15:30:36.279Z"
   },
   {
    "duration": 10,
    "start_time": "2025-01-22T15:31:37.599Z"
   },
   {
    "duration": 11,
    "start_time": "2025-01-22T15:31:43.177Z"
   },
   {
    "duration": 6,
    "start_time": "2025-01-22T15:31:54.378Z"
   },
   {
    "duration": 7,
    "start_time": "2025-01-22T15:32:02.258Z"
   },
   {
    "duration": 17,
    "start_time": "2025-01-22T15:38:15.502Z"
   },
   {
    "duration": 474,
    "start_time": "2025-01-22T15:40:33.759Z"
   },
   {
    "duration": 607,
    "start_time": "2025-01-22T15:40:52.588Z"
   },
   {
    "duration": 4,
    "start_time": "2025-01-22T15:40:56.404Z"
   },
   {
    "duration": 212,
    "start_time": "2025-01-22T15:42:04.351Z"
   },
   {
    "duration": 184,
    "start_time": "2025-01-22T15:43:09.328Z"
   },
   {
    "duration": 173,
    "start_time": "2025-01-22T15:44:36.717Z"
   },
   {
    "duration": 171,
    "start_time": "2025-01-22T15:45:30.219Z"
   },
   {
    "duration": 8,
    "start_time": "2025-01-22T15:45:49.288Z"
   },
   {
    "duration": 157,
    "start_time": "2025-01-22T15:46:17.032Z"
   },
   {
    "duration": 6,
    "start_time": "2025-01-22T15:46:29.712Z"
   },
   {
    "duration": 8,
    "start_time": "2025-01-22T15:46:38.232Z"
   },
   {
    "duration": 49,
    "start_time": "2025-01-22T15:48:22.036Z"
   },
   {
    "duration": 202,
    "start_time": "2025-01-22T15:48:38.019Z"
   },
   {
    "duration": 276,
    "start_time": "2025-01-22T15:49:44.611Z"
   },
   {
    "duration": 306,
    "start_time": "2025-01-22T15:50:28.466Z"
   },
   {
    "duration": 212,
    "start_time": "2025-01-22T15:51:01.424Z"
   },
   {
    "duration": 14,
    "start_time": "2025-01-22T15:58:33.095Z"
   },
   {
    "duration": 11,
    "start_time": "2025-01-22T15:58:48.344Z"
   },
   {
    "duration": 3987,
    "start_time": "2025-01-22T15:58:50.594Z"
   },
   {
    "duration": 55,
    "start_time": "2025-01-22T15:58:54.585Z"
   },
   {
    "duration": 302,
    "start_time": "2025-01-22T15:59:01.811Z"
   },
   {
    "duration": 9,
    "start_time": "2025-01-22T15:59:34.360Z"
   },
   {
    "duration": 1576,
    "start_time": "2025-01-22T15:59:36.731Z"
   },
   {
    "duration": 19,
    "start_time": "2025-01-22T16:08:29.376Z"
   },
   {
    "duration": 6,
    "start_time": "2025-01-22T16:10:19.845Z"
   },
   {
    "duration": 308,
    "start_time": "2025-01-22T16:10:40.856Z"
   },
   {
    "duration": 11,
    "start_time": "2025-01-22T16:13:16.510Z"
   },
   {
    "duration": 23,
    "start_time": "2025-01-22T16:13:28.898Z"
   },
   {
    "duration": 16,
    "start_time": "2025-01-22T16:24:20.443Z"
   },
   {
    "duration": 4,
    "start_time": "2025-01-22T16:24:33.388Z"
   },
   {
    "duration": 14,
    "start_time": "2025-01-22T16:24:37.010Z"
   },
   {
    "duration": 15,
    "start_time": "2025-01-22T16:24:43.551Z"
   },
   {
    "duration": 24,
    "start_time": "2025-01-22T16:24:54.225Z"
   },
   {
    "duration": 9,
    "start_time": "2025-01-22T16:25:06.344Z"
   },
   {
    "duration": 11,
    "start_time": "2025-01-22T16:25:30.375Z"
   },
   {
    "duration": 8,
    "start_time": "2025-01-22T16:25:34.644Z"
   },
   {
    "duration": 10,
    "start_time": "2025-01-22T16:25:35.986Z"
   },
   {
    "duration": 36,
    "start_time": "2025-01-22T16:25:57.968Z"
   },
   {
    "duration": 8,
    "start_time": "2025-01-22T16:26:10.743Z"
   },
   {
    "duration": 35,
    "start_time": "2025-01-22T16:26:18.271Z"
   },
   {
    "duration": 7,
    "start_time": "2025-01-22T16:27:45.015Z"
   },
   {
    "duration": 11,
    "start_time": "2025-01-22T16:27:45.422Z"
   },
   {
    "duration": 41,
    "start_time": "2025-01-22T16:27:47.028Z"
   },
   {
    "duration": 35,
    "start_time": "2025-01-22T16:28:20.152Z"
   },
   {
    "duration": 38,
    "start_time": "2025-01-22T16:29:01.111Z"
   },
   {
    "duration": 48,
    "start_time": "2025-01-22T16:29:28.399Z"
   },
   {
    "duration": 591,
    "start_time": "2025-01-22T16:30:09.128Z"
   },
   {
    "duration": 951,
    "start_time": "2025-01-22T16:32:56.463Z"
   },
   {
    "duration": 4,
    "start_time": "2025-01-22T16:34:26.496Z"
   },
   {
    "duration": 9,
    "start_time": "2025-01-22T16:34:38.127Z"
   },
   {
    "duration": 5,
    "start_time": "2025-01-22T16:34:38.467Z"
   },
   {
    "duration": 4,
    "start_time": "2025-01-22T16:35:32.584Z"
   },
   {
    "duration": 11,
    "start_time": "2025-01-22T16:35:56.966Z"
   },
   {
    "duration": 4,
    "start_time": "2025-01-22T16:36:28.061Z"
   },
   {
    "duration": 3,
    "start_time": "2025-01-22T16:36:31.748Z"
   },
   {
    "duration": 2,
    "start_time": "2025-01-22T16:36:32.166Z"
   },
   {
    "duration": 919,
    "start_time": "2025-01-22T16:36:37.823Z"
   },
   {
    "duration": 5,
    "start_time": "2025-01-22T16:38:52.221Z"
   },
   {
    "duration": 1248,
    "start_time": "2025-01-22T16:38:52.876Z"
   },
   {
    "duration": 14,
    "start_time": "2025-01-22T16:41:15.943Z"
   },
   {
    "duration": 5,
    "start_time": "2025-01-22T16:41:16.250Z"
   },
   {
    "duration": 1013,
    "start_time": "2025-01-22T16:41:17.855Z"
   },
   {
    "duration": 19,
    "start_time": "2025-01-22T16:44:44.074Z"
   },
   {
    "duration": 4,
    "start_time": "2025-01-22T16:45:56.020Z"
   },
   {
    "duration": 15,
    "start_time": "2025-01-22T16:46:19.599Z"
   },
   {
    "duration": 20729,
    "start_time": "2025-01-22T16:46:39.329Z"
   },
   {
    "duration": 13,
    "start_time": "2025-01-22T16:47:20.427Z"
   },
   {
    "duration": 2881,
    "start_time": "2025-01-22T16:51:47.825Z"
   },
   {
    "duration": 265,
    "start_time": "2025-01-22T16:52:37.124Z"
   },
   {
    "duration": 252,
    "start_time": "2025-01-22T16:52:42.463Z"
   },
   {
    "duration": 16,
    "start_time": "2025-01-22T16:52:53.805Z"
   },
   {
    "duration": 14,
    "start_time": "2025-01-22T16:53:52.584Z"
   },
   {
    "duration": 8,
    "start_time": "2025-01-22T16:54:15.640Z"
   },
   {
    "duration": 298,
    "start_time": "2025-01-22T16:54:19.012Z"
   },
   {
    "duration": 4,
    "start_time": "2025-01-22T16:54:26.375Z"
   },
   {
    "duration": 295,
    "start_time": "2025-01-22T16:55:04.425Z"
   },
   {
    "duration": 27,
    "start_time": "2025-01-22T16:56:40.413Z"
   },
   {
    "duration": 12,
    "start_time": "2025-01-22T16:57:04.301Z"
   },
   {
    "duration": 12,
    "start_time": "2025-01-22T16:57:13.917Z"
   },
   {
    "duration": 5,
    "start_time": "2025-01-22T16:57:16.204Z"
   },
   {
    "duration": 260,
    "start_time": "2025-01-22T16:57:19.953Z"
   },
   {
    "duration": 4,
    "start_time": "2025-01-22T16:58:31.643Z"
   },
   {
    "duration": 254,
    "start_time": "2025-01-22T16:58:41.240Z"
   },
   {
    "duration": 3,
    "start_time": "2025-01-22T16:58:46.863Z"
   },
   {
    "duration": 3,
    "start_time": "2025-01-22T16:58:47.108Z"
   },
   {
    "duration": 6,
    "start_time": "2025-01-22T16:58:47.424Z"
   },
   {
    "duration": 4,
    "start_time": "2025-01-22T16:58:47.717Z"
   },
   {
    "duration": 261,
    "start_time": "2025-01-22T16:58:48.086Z"
   },
   {
    "duration": 268,
    "start_time": "2025-01-22T17:00:31.118Z"
   },
   {
    "duration": 11,
    "start_time": "2025-01-22T17:00:56.699Z"
   },
   {
    "duration": 14,
    "start_time": "2025-01-22T17:01:00.610Z"
   },
   {
    "duration": 2898,
    "start_time": "2025-01-22T17:02:37.038Z"
   },
   {
    "duration": 1714,
    "start_time": "2025-01-22T17:02:39.939Z"
   },
   {
    "duration": 78,
    "start_time": "2025-01-22T17:02:41.657Z"
   },
   {
    "duration": 26,
    "start_time": "2025-01-22T17:02:41.738Z"
   },
   {
    "duration": 10,
    "start_time": "2025-01-22T17:02:41.766Z"
   },
   {
    "duration": 12,
    "start_time": "2025-01-22T17:02:41.777Z"
   },
   {
    "duration": 8,
    "start_time": "2025-01-22T17:02:41.790Z"
   },
   {
    "duration": 37,
    "start_time": "2025-01-22T17:02:41.799Z"
   },
   {
    "duration": 10,
    "start_time": "2025-01-22T17:02:41.837Z"
   },
   {
    "duration": 15,
    "start_time": "2025-01-22T17:02:41.850Z"
   },
   {
    "duration": 8,
    "start_time": "2025-01-22T17:02:41.867Z"
   },
   {
    "duration": 9,
    "start_time": "2025-01-22T17:02:41.876Z"
   },
   {
    "duration": 9,
    "start_time": "2025-01-22T17:02:41.886Z"
   },
   {
    "duration": 17,
    "start_time": "2025-01-22T17:02:41.933Z"
   },
   {
    "duration": 13,
    "start_time": "2025-01-22T17:02:41.958Z"
   },
   {
    "duration": 6,
    "start_time": "2025-01-22T17:02:41.973Z"
   },
   {
    "duration": 13,
    "start_time": "2025-01-22T17:02:41.981Z"
   },
   {
    "duration": 6,
    "start_time": "2025-01-22T17:02:41.995Z"
   },
   {
    "duration": 38,
    "start_time": "2025-01-22T17:02:42.002Z"
   },
   {
    "duration": 12,
    "start_time": "2025-01-22T17:02:42.045Z"
   },
   {
    "duration": 220,
    "start_time": "2025-01-22T17:02:42.059Z"
   },
   {
    "duration": 201,
    "start_time": "2025-01-22T17:02:42.281Z"
   },
   {
    "duration": 212,
    "start_time": "2025-01-22T17:02:42.484Z"
   },
   {
    "duration": 278,
    "start_time": "2025-01-22T17:02:42.698Z"
   },
   {
    "duration": 6,
    "start_time": "2025-01-22T17:02:42.978Z"
   },
   {
    "duration": 193,
    "start_time": "2025-01-22T17:02:42.986Z"
   },
   {
    "duration": 5,
    "start_time": "2025-01-22T17:02:43.181Z"
   },
   {
    "duration": 227,
    "start_time": "2025-01-22T17:02:43.188Z"
   },
   {
    "duration": 289,
    "start_time": "2025-01-22T17:02:43.416Z"
   },
   {
    "duration": 264,
    "start_time": "2025-01-22T17:02:43.707Z"
   },
   {
    "duration": 245,
    "start_time": "2025-01-22T17:02:43.973Z"
   },
   {
    "duration": 1671,
    "start_time": "2025-01-22T17:02:44.220Z"
   },
   {
    "duration": 19,
    "start_time": "2025-01-22T17:02:45.893Z"
   },
   {
    "duration": 3,
    "start_time": "2025-01-22T17:02:45.916Z"
   },
   {
    "duration": 9,
    "start_time": "2025-01-22T17:02:45.920Z"
   },
   {
    "duration": 15,
    "start_time": "2025-01-22T17:02:45.931Z"
   },
   {
    "duration": 33,
    "start_time": "2025-01-22T17:02:45.948Z"
   },
   {
    "duration": 132,
    "start_time": "2025-01-22T17:02:45.983Z"
   },
   {
    "duration": 0,
    "start_time": "2025-01-22T17:02:46.116Z"
   },
   {
    "duration": 280,
    "start_time": "2025-01-22T17:03:06.643Z"
   },
   {
    "duration": 2854,
    "start_time": "2025-01-22T17:03:29.544Z"
   },
   {
    "duration": 1653,
    "start_time": "2025-01-22T17:03:32.401Z"
   },
   {
    "duration": 95,
    "start_time": "2025-01-22T17:03:34.059Z"
   },
   {
    "duration": 18,
    "start_time": "2025-01-22T17:03:34.156Z"
   },
   {
    "duration": 11,
    "start_time": "2025-01-22T17:03:34.176Z"
   },
   {
    "duration": 66,
    "start_time": "2025-01-22T17:03:34.189Z"
   },
   {
    "duration": 12,
    "start_time": "2025-01-22T17:03:34.257Z"
   },
   {
    "duration": 20,
    "start_time": "2025-01-22T17:03:34.271Z"
   },
   {
    "duration": 7,
    "start_time": "2025-01-22T17:03:34.293Z"
   },
   {
    "duration": 13,
    "start_time": "2025-01-22T17:03:34.302Z"
   },
   {
    "duration": 20,
    "start_time": "2025-01-22T17:03:34.317Z"
   },
   {
    "duration": 16,
    "start_time": "2025-01-22T17:03:34.346Z"
   },
   {
    "duration": 6,
    "start_time": "2025-01-22T17:03:34.364Z"
   },
   {
    "duration": 16,
    "start_time": "2025-01-22T17:03:34.374Z"
   },
   {
    "duration": 17,
    "start_time": "2025-01-22T17:03:34.392Z"
   },
   {
    "duration": 15,
    "start_time": "2025-01-22T17:03:34.410Z"
   },
   {
    "duration": 25,
    "start_time": "2025-01-22T17:03:34.430Z"
   },
   {
    "duration": 14,
    "start_time": "2025-01-22T17:03:34.458Z"
   },
   {
    "duration": 34,
    "start_time": "2025-01-22T17:03:34.474Z"
   },
   {
    "duration": 15,
    "start_time": "2025-01-22T17:03:34.510Z"
   },
   {
    "duration": 274,
    "start_time": "2025-01-22T17:03:34.526Z"
   },
   {
    "duration": 202,
    "start_time": "2025-01-22T17:03:34.802Z"
   },
   {
    "duration": 203,
    "start_time": "2025-01-22T17:03:35.006Z"
   },
   {
    "duration": 279,
    "start_time": "2025-01-22T17:03:35.211Z"
   },
   {
    "duration": 6,
    "start_time": "2025-01-22T17:03:35.491Z"
   },
   {
    "duration": 192,
    "start_time": "2025-01-22T17:03:35.499Z"
   },
   {
    "duration": 8,
    "start_time": "2025-01-22T17:03:35.694Z"
   },
   {
    "duration": 261,
    "start_time": "2025-01-22T17:03:35.704Z"
   },
   {
    "duration": 290,
    "start_time": "2025-01-22T17:03:35.967Z"
   },
   {
    "duration": 269,
    "start_time": "2025-01-22T17:03:36.260Z"
   },
   {
    "duration": 244,
    "start_time": "2025-01-22T17:03:36.536Z"
   },
   {
    "duration": 1620,
    "start_time": "2025-01-22T17:03:36.783Z"
   },
   {
    "duration": 21,
    "start_time": "2025-01-22T17:03:38.405Z"
   },
   {
    "duration": 20,
    "start_time": "2025-01-22T17:03:38.428Z"
   },
   {
    "duration": 10,
    "start_time": "2025-01-22T17:03:38.451Z"
   },
   {
    "duration": 7,
    "start_time": "2025-01-22T17:03:38.465Z"
   },
   {
    "duration": 7,
    "start_time": "2025-01-22T17:03:38.474Z"
   },
   {
    "duration": 403,
    "start_time": "2025-01-22T17:03:38.483Z"
   },
   {
    "duration": 0,
    "start_time": "2025-01-22T17:03:38.888Z"
   },
   {
    "duration": 9,
    "start_time": "2025-01-22T17:03:58.142Z"
   },
   {
    "duration": 4,
    "start_time": "2025-01-22T17:03:58.467Z"
   },
   {
    "duration": 8054,
    "start_time": "2025-01-22T17:03:58.987Z"
   },
   {
    "duration": 6,
    "start_time": "2025-01-22T17:04:23.307Z"
   },
   {
    "duration": 4,
    "start_time": "2025-01-22T17:04:23.909Z"
   },
   {
    "duration": 309,
    "start_time": "2025-01-22T17:04:24.567Z"
   },
   {
    "duration": 262,
    "start_time": "2025-01-22T18:34:12.645Z"
   },
   {
    "duration": 32,
    "start_time": "2025-01-22T18:49:48.252Z"
   },
   {
    "duration": 60,
    "start_time": "2025-01-22T18:49:58.507Z"
   },
   {
    "duration": 1522,
    "start_time": "2025-01-22T18:50:02.508Z"
   },
   {
    "duration": 66,
    "start_time": "2025-01-22T18:50:45.298Z"
   },
   {
    "duration": 32,
    "start_time": "2025-01-22T18:51:21.161Z"
   },
   {
    "duration": 304,
    "start_time": "2025-01-22T18:51:53.023Z"
   },
   {
    "duration": 1683,
    "start_time": "2025-01-22T18:52:05.796Z"
   },
   {
    "duration": 24,
    "start_time": "2025-01-22T18:52:08.488Z"
   },
   {
    "duration": 33,
    "start_time": "2025-01-22T18:54:38.308Z"
   },
   {
    "duration": 4,
    "start_time": "2025-01-22T18:55:18.569Z"
   },
   {
    "duration": 10,
    "start_time": "2025-01-22T18:55:38.812Z"
   },
   {
    "duration": 7,
    "start_time": "2025-01-22T18:55:50.338Z"
   },
   {
    "duration": 3,
    "start_time": "2025-01-22T18:59:16.017Z"
   },
   {
    "duration": 4,
    "start_time": "2025-01-22T18:59:16.292Z"
   },
   {
    "duration": 7,
    "start_time": "2025-01-22T18:59:16.616Z"
   },
   {
    "duration": 9,
    "start_time": "2025-01-22T18:59:16.945Z"
   },
   {
    "duration": 1801,
    "start_time": "2025-01-22T18:59:17.313Z"
   },
   {
    "duration": 5,
    "start_time": "2025-01-22T18:59:19.116Z"
   },
   {
    "duration": 6,
    "start_time": "2025-01-22T18:59:21.168Z"
   },
   {
    "duration": 3,
    "start_time": "2025-01-22T19:00:15.391Z"
   },
   {
    "duration": 3,
    "start_time": "2025-01-22T19:00:15.571Z"
   },
   {
    "duration": 12,
    "start_time": "2025-01-22T19:00:15.744Z"
   },
   {
    "duration": 4,
    "start_time": "2025-01-22T19:00:15.914Z"
   },
   {
    "duration": 1693,
    "start_time": "2025-01-22T19:00:16.091Z"
   },
   {
    "duration": 5,
    "start_time": "2025-01-22T19:00:17.786Z"
   },
   {
    "duration": 8,
    "start_time": "2025-01-22T19:00:20.027Z"
   },
   {
    "duration": 1804,
    "start_time": "2025-01-22T19:00:42.697Z"
   },
   {
    "duration": 5,
    "start_time": "2025-01-22T19:00:45.122Z"
   },
   {
    "duration": 5,
    "start_time": "2025-01-22T19:00:46.777Z"
   },
   {
    "duration": 1799,
    "start_time": "2025-01-22T19:01:09.783Z"
   },
   {
    "duration": 5,
    "start_time": "2025-01-22T19:01:11.584Z"
   },
   {
    "duration": 5,
    "start_time": "2025-01-22T19:01:11.591Z"
   },
   {
    "duration": 5,
    "start_time": "2025-01-22T19:02:42.563Z"
   },
   {
    "duration": 27,
    "start_time": "2025-01-22T19:03:18.550Z"
   },
   {
    "duration": 9,
    "start_time": "2025-01-22T19:03:25.963Z"
   },
   {
    "duration": 5,
    "start_time": "2025-01-22T19:03:29.493Z"
   },
   {
    "duration": 5,
    "start_time": "2025-01-22T19:03:44.183Z"
   },
   {
    "duration": 3,
    "start_time": "2025-01-22T19:03:46.699Z"
   },
   {
    "duration": 9,
    "start_time": "2025-01-22T19:03:46.954Z"
   },
   {
    "duration": 8,
    "start_time": "2025-01-22T19:03:47.248Z"
   },
   {
    "duration": 5,
    "start_time": "2025-01-22T19:03:47.572Z"
   },
   {
    "duration": 1465,
    "start_time": "2025-01-22T19:03:49.210Z"
   },
   {
    "duration": 4,
    "start_time": "2025-01-22T19:03:50.677Z"
   },
   {
    "duration": 6,
    "start_time": "2025-01-22T19:03:53.138Z"
   },
   {
    "duration": 13,
    "start_time": "2025-01-22T19:04:40.525Z"
   },
   {
    "duration": 16,
    "start_time": "2025-01-22T19:06:33.506Z"
   },
   {
    "duration": 18,
    "start_time": "2025-01-22T19:07:17.893Z"
   },
   {
    "duration": 16,
    "start_time": "2025-01-22T19:07:19.093Z"
   },
   {
    "duration": 5,
    "start_time": "2025-01-22T19:07:24.208Z"
   },
   {
    "duration": 45,
    "start_time": "2025-01-22T19:07:26.626Z"
   },
   {
    "duration": 10,
    "start_time": "2025-01-22T19:07:39.795Z"
   },
   {
    "duration": 13,
    "start_time": "2025-01-22T19:07:46.458Z"
   },
   {
    "duration": 15,
    "start_time": "2025-01-22T19:07:52.651Z"
   },
   {
    "duration": 2928,
    "start_time": "2025-01-22T19:08:24.282Z"
   },
   {
    "duration": 1730,
    "start_time": "2025-01-22T19:08:27.212Z"
   },
   {
    "duration": 76,
    "start_time": "2025-01-22T19:08:28.952Z"
   },
   {
    "duration": 35,
    "start_time": "2025-01-22T19:08:29.030Z"
   },
   {
    "duration": 12,
    "start_time": "2025-01-22T19:08:29.067Z"
   },
   {
    "duration": 7,
    "start_time": "2025-01-22T19:08:29.080Z"
   },
   {
    "duration": 10,
    "start_time": "2025-01-22T19:08:29.088Z"
   },
   {
    "duration": 39,
    "start_time": "2025-01-22T19:08:29.099Z"
   },
   {
    "duration": 13,
    "start_time": "2025-01-22T19:08:29.151Z"
   },
   {
    "duration": 13,
    "start_time": "2025-01-22T19:08:29.169Z"
   },
   {
    "duration": 9,
    "start_time": "2025-01-22T19:08:29.184Z"
   },
   {
    "duration": 15,
    "start_time": "2025-01-22T19:08:29.195Z"
   },
   {
    "duration": 26,
    "start_time": "2025-01-22T19:08:29.211Z"
   },
   {
    "duration": 42,
    "start_time": "2025-01-22T19:08:29.238Z"
   },
   {
    "duration": 11,
    "start_time": "2025-01-22T19:08:29.282Z"
   },
   {
    "duration": 11,
    "start_time": "2025-01-22T19:08:29.294Z"
   },
   {
    "duration": 8,
    "start_time": "2025-01-22T19:08:29.307Z"
   },
   {
    "duration": 34,
    "start_time": "2025-01-22T19:08:29.317Z"
   },
   {
    "duration": 25,
    "start_time": "2025-01-22T19:08:29.353Z"
   },
   {
    "duration": 4,
    "start_time": "2025-01-22T19:08:29.380Z"
   },
   {
    "duration": 221,
    "start_time": "2025-01-22T19:08:29.385Z"
   },
   {
    "duration": 202,
    "start_time": "2025-01-22T19:08:29.608Z"
   },
   {
    "duration": 201,
    "start_time": "2025-01-22T19:08:29.812Z"
   },
   {
    "duration": 302,
    "start_time": "2025-01-22T19:08:30.015Z"
   },
   {
    "duration": 7,
    "start_time": "2025-01-22T19:08:30.318Z"
   },
   {
    "duration": 204,
    "start_time": "2025-01-22T19:08:30.338Z"
   },
   {
    "duration": 14,
    "start_time": "2025-01-22T19:08:30.549Z"
   },
   {
    "duration": 250,
    "start_time": "2025-01-22T19:08:30.570Z"
   },
   {
    "duration": 308,
    "start_time": "2025-01-22T19:08:30.822Z"
   },
   {
    "duration": 286,
    "start_time": "2025-01-22T19:08:31.134Z"
   },
   {
    "duration": 256,
    "start_time": "2025-01-22T19:08:31.432Z"
   },
   {
    "duration": 1712,
    "start_time": "2025-01-22T19:08:31.690Z"
   },
   {
    "duration": 20,
    "start_time": "2025-01-22T19:08:33.404Z"
   },
   {
    "duration": 20,
    "start_time": "2025-01-22T19:08:33.426Z"
   },
   {
    "duration": 17,
    "start_time": "2025-01-22T19:08:33.453Z"
   },
   {
    "duration": 11,
    "start_time": "2025-01-22T19:08:33.472Z"
   },
   {
    "duration": 8,
    "start_time": "2025-01-22T19:08:33.485Z"
   },
   {
    "duration": 1541,
    "start_time": "2025-01-22T19:08:33.495Z"
   },
   {
    "duration": 9,
    "start_time": "2025-01-22T19:08:35.041Z"
   },
   {
    "duration": 47,
    "start_time": "2025-01-22T19:08:35.052Z"
   },
   {
    "duration": 21,
    "start_time": "2025-01-22T19:08:35.101Z"
   },
   {
    "duration": 177,
    "start_time": "2025-01-22T19:08:35.125Z"
   },
   {
    "duration": 16,
    "start_time": "2025-01-22T19:08:44.578Z"
   },
   {
    "duration": 3053,
    "start_time": "2025-01-22T19:08:53.870Z"
   },
   {
    "duration": 1776,
    "start_time": "2025-01-22T19:08:56.926Z"
   },
   {
    "duration": 89,
    "start_time": "2025-01-22T19:08:58.704Z"
   },
   {
    "duration": 18,
    "start_time": "2025-01-22T19:08:58.795Z"
   },
   {
    "duration": 12,
    "start_time": "2025-01-22T19:08:58.815Z"
   },
   {
    "duration": 27,
    "start_time": "2025-01-22T19:08:58.828Z"
   },
   {
    "duration": 23,
    "start_time": "2025-01-22T19:08:58.858Z"
   },
   {
    "duration": 20,
    "start_time": "2025-01-22T19:08:58.883Z"
   },
   {
    "duration": 6,
    "start_time": "2025-01-22T19:08:58.905Z"
   },
   {
    "duration": 12,
    "start_time": "2025-01-22T19:08:58.913Z"
   },
   {
    "duration": 18,
    "start_time": "2025-01-22T19:08:58.927Z"
   },
   {
    "duration": 17,
    "start_time": "2025-01-22T19:08:58.950Z"
   },
   {
    "duration": 10,
    "start_time": "2025-01-22T19:08:58.971Z"
   },
   {
    "duration": 13,
    "start_time": "2025-01-22T19:08:58.984Z"
   },
   {
    "duration": 11,
    "start_time": "2025-01-22T19:08:58.998Z"
   },
   {
    "duration": 35,
    "start_time": "2025-01-22T19:08:59.011Z"
   },
   {
    "duration": 16,
    "start_time": "2025-01-22T19:08:59.050Z"
   },
   {
    "duration": 7,
    "start_time": "2025-01-22T19:08:59.069Z"
   },
   {
    "duration": 18,
    "start_time": "2025-01-22T19:08:59.077Z"
   },
   {
    "duration": 4,
    "start_time": "2025-01-22T19:08:59.097Z"
   },
   {
    "duration": 243,
    "start_time": "2025-01-22T19:08:59.102Z"
   },
   {
    "duration": 199,
    "start_time": "2025-01-22T19:08:59.354Z"
   },
   {
    "duration": 208,
    "start_time": "2025-01-22T19:08:59.555Z"
   },
   {
    "duration": 275,
    "start_time": "2025-01-22T19:08:59.766Z"
   },
   {
    "duration": 16,
    "start_time": "2025-01-22T19:09:00.052Z"
   },
   {
    "duration": 245,
    "start_time": "2025-01-22T19:09:00.069Z"
   },
   {
    "duration": 6,
    "start_time": "2025-01-22T19:09:00.316Z"
   },
   {
    "duration": 277,
    "start_time": "2025-01-22T19:09:00.337Z"
   },
   {
    "duration": 308,
    "start_time": "2025-01-22T19:09:00.616Z"
   },
   {
    "duration": 278,
    "start_time": "2025-01-22T19:09:00.929Z"
   },
   {
    "duration": 261,
    "start_time": "2025-01-22T19:09:01.208Z"
   },
   {
    "duration": 1650,
    "start_time": "2025-01-22T19:09:01.473Z"
   },
   {
    "duration": 45,
    "start_time": "2025-01-22T19:09:03.124Z"
   },
   {
    "duration": 3,
    "start_time": "2025-01-22T19:09:03.171Z"
   },
   {
    "duration": 8,
    "start_time": "2025-01-22T19:09:03.175Z"
   },
   {
    "duration": 8,
    "start_time": "2025-01-22T19:09:03.184Z"
   },
   {
    "duration": 5,
    "start_time": "2025-01-22T19:09:03.194Z"
   },
   {
    "duration": 1571,
    "start_time": "2025-01-22T19:09:03.200Z"
   },
   {
    "duration": 7,
    "start_time": "2025-01-22T19:09:04.773Z"
   },
   {
    "duration": 83,
    "start_time": "2025-01-22T19:09:04.782Z"
   },
   {
    "duration": 146,
    "start_time": "2025-01-22T19:09:04.871Z"
   },
   {
    "duration": 28,
    "start_time": "2025-01-22T19:09:25.382Z"
   },
   {
    "duration": 6,
    "start_time": "2025-01-22T19:09:52.762Z"
   },
   {
    "duration": 13,
    "start_time": "2025-01-22T19:10:13.844Z"
   },
   {
    "duration": 5,
    "start_time": "2025-01-22T19:10:54.597Z"
   },
   {
    "duration": 5,
    "start_time": "2025-01-22T19:10:58.510Z"
   },
   {
    "duration": 16,
    "start_time": "2025-01-22T19:11:05.485Z"
   },
   {
    "duration": 14,
    "start_time": "2025-01-22T19:11:09.129Z"
   },
   {
    "duration": 33,
    "start_time": "2025-01-22T19:12:43.241Z"
   },
   {
    "duration": 23,
    "start_time": "2025-01-22T19:12:53.800Z"
   },
   {
    "duration": 20,
    "start_time": "2025-01-22T19:13:10.916Z"
   },
   {
    "duration": 3010,
    "start_time": "2025-01-22T19:13:47.885Z"
   },
   {
    "duration": 1661,
    "start_time": "2025-01-22T19:13:50.899Z"
   },
   {
    "duration": 83,
    "start_time": "2025-01-22T19:13:52.570Z"
   },
   {
    "duration": 20,
    "start_time": "2025-01-22T19:13:52.660Z"
   },
   {
    "duration": 11,
    "start_time": "2025-01-22T19:13:52.682Z"
   },
   {
    "duration": 7,
    "start_time": "2025-01-22T19:13:52.694Z"
   },
   {
    "duration": 7,
    "start_time": "2025-01-22T19:13:52.703Z"
   },
   {
    "duration": 30,
    "start_time": "2025-01-22T19:13:52.711Z"
   },
   {
    "duration": 18,
    "start_time": "2025-01-22T19:13:52.743Z"
   },
   {
    "duration": 23,
    "start_time": "2025-01-22T19:13:52.765Z"
   },
   {
    "duration": 50,
    "start_time": "2025-01-22T19:13:52.790Z"
   },
   {
    "duration": 21,
    "start_time": "2025-01-22T19:13:52.846Z"
   },
   {
    "duration": 16,
    "start_time": "2025-01-22T19:13:52.869Z"
   },
   {
    "duration": 12,
    "start_time": "2025-01-22T19:13:52.888Z"
   },
   {
    "duration": 23,
    "start_time": "2025-01-22T19:13:52.901Z"
   },
   {
    "duration": 34,
    "start_time": "2025-01-22T19:13:52.926Z"
   },
   {
    "duration": 12,
    "start_time": "2025-01-22T19:13:52.964Z"
   },
   {
    "duration": 41,
    "start_time": "2025-01-22T19:13:52.977Z"
   },
   {
    "duration": 27,
    "start_time": "2025-01-22T19:13:53.019Z"
   },
   {
    "duration": 47,
    "start_time": "2025-01-22T19:13:53.048Z"
   },
   {
    "duration": 4,
    "start_time": "2025-01-22T19:13:53.096Z"
   },
   {
    "duration": 267,
    "start_time": "2025-01-22T19:13:53.102Z"
   },
   {
    "duration": 205,
    "start_time": "2025-01-22T19:13:53.374Z"
   },
   {
    "duration": 205,
    "start_time": "2025-01-22T19:13:53.581Z"
   },
   {
    "duration": 298,
    "start_time": "2025-01-22T19:13:53.788Z"
   },
   {
    "duration": 9,
    "start_time": "2025-01-22T19:13:54.088Z"
   },
   {
    "duration": 214,
    "start_time": "2025-01-22T19:13:54.098Z"
   },
   {
    "duration": 7,
    "start_time": "2025-01-22T19:13:54.314Z"
   },
   {
    "duration": 250,
    "start_time": "2025-01-22T19:13:54.333Z"
   },
   {
    "duration": 329,
    "start_time": "2025-01-22T19:13:54.585Z"
   },
   {
    "duration": 293,
    "start_time": "2025-01-22T19:13:54.916Z"
   },
   {
    "duration": 262,
    "start_time": "2025-01-22T19:13:55.211Z"
   },
   {
    "duration": 1673,
    "start_time": "2025-01-22T19:13:55.475Z"
   },
   {
    "duration": 23,
    "start_time": "2025-01-22T19:13:57.150Z"
   },
   {
    "duration": 3,
    "start_time": "2025-01-22T19:13:57.175Z"
   },
   {
    "duration": 7,
    "start_time": "2025-01-22T19:13:57.180Z"
   },
   {
    "duration": 18,
    "start_time": "2025-01-22T19:13:57.189Z"
   },
   {
    "duration": 16,
    "start_time": "2025-01-22T19:13:57.208Z"
   },
   {
    "duration": 1492,
    "start_time": "2025-01-22T19:13:57.225Z"
   },
   {
    "duration": 5,
    "start_time": "2025-01-22T19:13:58.718Z"
   },
   {
    "duration": 10,
    "start_time": "2025-01-22T19:13:58.744Z"
   },
   {
    "duration": 187,
    "start_time": "2025-01-22T19:13:58.755Z"
   },
   {
    "duration": 36,
    "start_time": "2025-01-22T19:14:14.633Z"
   },
   {
    "duration": 1238,
    "start_time": "2025-01-22T19:14:24.680Z"
   },
   {
    "duration": 5,
    "start_time": "2025-01-22T19:14:30.976Z"
   },
   {
    "duration": 8,
    "start_time": "2025-01-22T19:14:36.845Z"
   },
   {
    "duration": 20,
    "start_time": "2025-01-22T19:14:47.945Z"
   },
   {
    "duration": 16,
    "start_time": "2025-01-22T19:14:53.124Z"
   },
   {
    "duration": 16,
    "start_time": "2025-01-22T19:14:55.862Z"
   },
   {
    "duration": 629,
    "start_time": "2025-01-22T19:15:09.037Z"
   },
   {
    "duration": 21,
    "start_time": "2025-01-22T19:15:14.666Z"
   },
   {
    "duration": 1330,
    "start_time": "2025-01-22T19:15:24.166Z"
   },
   {
    "duration": 6,
    "start_time": "2025-01-22T19:15:30.692Z"
   },
   {
    "duration": 1349,
    "start_time": "2025-01-22T19:15:38.267Z"
   },
   {
    "duration": 1390,
    "start_time": "2025-01-22T19:15:47.361Z"
   },
   {
    "duration": 1566,
    "start_time": "2025-01-22T19:15:51.015Z"
   },
   {
    "duration": 5,
    "start_time": "2025-01-22T19:16:01.589Z"
   },
   {
    "duration": 17,
    "start_time": "2025-01-22T19:17:07.998Z"
   },
   {
    "duration": 15,
    "start_time": "2025-01-22T19:17:15.307Z"
   },
   {
    "duration": 16,
    "start_time": "2025-01-22T19:17:19.866Z"
   },
   {
    "duration": 30,
    "start_time": "2025-01-22T19:17:29.224Z"
   },
   {
    "duration": 25,
    "start_time": "2025-01-22T19:17:35.451Z"
   },
   {
    "duration": 15,
    "start_time": "2025-01-22T19:17:37.484Z"
   },
   {
    "duration": 7,
    "start_time": "2025-01-22T19:17:55.769Z"
   },
   {
    "duration": 11,
    "start_time": "2025-01-22T19:18:09.167Z"
   },
   {
    "duration": 24,
    "start_time": "2025-01-22T19:18:11.544Z"
   },
   {
    "duration": 6,
    "start_time": "2025-01-22T19:18:17.066Z"
   },
   {
    "duration": 48,
    "start_time": "2025-01-22T19:18:18.822Z"
   },
   {
    "duration": 7,
    "start_time": "2025-01-22T19:18:28.014Z"
   },
   {
    "duration": 2929,
    "start_time": "2025-01-22T19:18:45.696Z"
   },
   {
    "duration": 1719,
    "start_time": "2025-01-22T19:18:48.627Z"
   },
   {
    "duration": 82,
    "start_time": "2025-01-22T19:18:50.358Z"
   },
   {
    "duration": 28,
    "start_time": "2025-01-22T19:18:50.445Z"
   },
   {
    "duration": 16,
    "start_time": "2025-01-22T19:18:50.475Z"
   },
   {
    "duration": 11,
    "start_time": "2025-01-22T19:18:50.492Z"
   },
   {
    "duration": 15,
    "start_time": "2025-01-22T19:18:50.505Z"
   },
   {
    "duration": 37,
    "start_time": "2025-01-22T19:18:50.522Z"
   },
   {
    "duration": 7,
    "start_time": "2025-01-22T19:18:50.561Z"
   },
   {
    "duration": 12,
    "start_time": "2025-01-22T19:18:50.571Z"
   },
   {
    "duration": 19,
    "start_time": "2025-01-22T19:18:50.585Z"
   },
   {
    "duration": 22,
    "start_time": "2025-01-22T19:18:50.606Z"
   },
   {
    "duration": 23,
    "start_time": "2025-01-22T19:18:50.629Z"
   },
   {
    "duration": 12,
    "start_time": "2025-01-22T19:18:50.663Z"
   },
   {
    "duration": 13,
    "start_time": "2025-01-22T19:18:50.677Z"
   },
   {
    "duration": 23,
    "start_time": "2025-01-22T19:18:50.691Z"
   },
   {
    "duration": 7,
    "start_time": "2025-01-22T19:18:50.720Z"
   },
   {
    "duration": 6,
    "start_time": "2025-01-22T19:18:50.875Z"
   },
   {
    "duration": 5,
    "start_time": "2025-01-22T19:18:51.037Z"
   },
   {
    "duration": 7,
    "start_time": "2025-01-22T19:19:06.424Z"
   },
   {
    "duration": 5,
    "start_time": "2025-01-22T19:19:13.188Z"
   },
   {
    "duration": 8,
    "start_time": "2025-01-22T19:19:23.901Z"
   },
   {
    "duration": 12,
    "start_time": "2025-01-22T19:19:24.430Z"
   },
   {
    "duration": 8,
    "start_time": "2025-01-22T19:19:26.619Z"
   },
   {
    "duration": 8,
    "start_time": "2025-01-22T19:19:58.511Z"
   },
   {
    "duration": 4,
    "start_time": "2025-01-22T19:20:21.671Z"
   },
   {
    "duration": 2878,
    "start_time": "2025-01-22T19:20:35.764Z"
   },
   {
    "duration": 1725,
    "start_time": "2025-01-22T19:20:38.644Z"
   },
   {
    "duration": 85,
    "start_time": "2025-01-22T19:20:40.373Z"
   },
   {
    "duration": 24,
    "start_time": "2025-01-22T19:20:40.460Z"
   },
   {
    "duration": 10,
    "start_time": "2025-01-22T19:20:40.487Z"
   },
   {
    "duration": 9,
    "start_time": "2025-01-22T19:20:40.498Z"
   },
   {
    "duration": 9,
    "start_time": "2025-01-22T19:20:40.509Z"
   },
   {
    "duration": 19,
    "start_time": "2025-01-22T19:20:40.520Z"
   },
   {
    "duration": 9,
    "start_time": "2025-01-22T19:20:40.542Z"
   },
   {
    "duration": 17,
    "start_time": "2025-01-22T19:20:40.553Z"
   },
   {
    "duration": 10,
    "start_time": "2025-01-22T19:20:40.572Z"
   },
   {
    "duration": 9,
    "start_time": "2025-01-22T19:20:40.584Z"
   },
   {
    "duration": 43,
    "start_time": "2025-01-22T19:20:40.595Z"
   },
   {
    "duration": 21,
    "start_time": "2025-01-22T19:20:40.643Z"
   },
   {
    "duration": 12,
    "start_time": "2025-01-22T19:20:40.667Z"
   },
   {
    "duration": 14,
    "start_time": "2025-01-22T19:20:40.681Z"
   },
   {
    "duration": 8,
    "start_time": "2025-01-22T19:20:40.697Z"
   },
   {
    "duration": 24,
    "start_time": "2025-01-22T19:20:40.734Z"
   },
   {
    "duration": 9,
    "start_time": "2025-01-22T19:20:40.760Z"
   },
   {
    "duration": 6,
    "start_time": "2025-01-22T19:20:40.771Z"
   },
   {
    "duration": 20,
    "start_time": "2025-01-22T19:20:40.779Z"
   },
   {
    "duration": 5,
    "start_time": "2025-01-22T19:20:40.802Z"
   },
   {
    "duration": 256,
    "start_time": "2025-01-22T19:20:40.809Z"
   },
   {
    "duration": 199,
    "start_time": "2025-01-22T19:20:41.070Z"
   },
   {
    "duration": 215,
    "start_time": "2025-01-22T19:20:41.271Z"
   },
   {
    "duration": 292,
    "start_time": "2025-01-22T19:20:41.487Z"
   },
   {
    "duration": 6,
    "start_time": "2025-01-22T19:20:41.781Z"
   },
   {
    "duration": 199,
    "start_time": "2025-01-22T19:20:41.789Z"
   },
   {
    "duration": 6,
    "start_time": "2025-01-22T19:20:41.990Z"
   },
   {
    "duration": 252,
    "start_time": "2025-01-22T19:20:41.997Z"
   },
   {
    "duration": 293,
    "start_time": "2025-01-22T19:20:42.251Z"
   },
   {
    "duration": 268,
    "start_time": "2025-01-22T19:20:42.548Z"
   },
   {
    "duration": 261,
    "start_time": "2025-01-22T19:20:42.817Z"
   },
   {
    "duration": 1707,
    "start_time": "2025-01-22T19:20:43.080Z"
   },
   {
    "duration": 21,
    "start_time": "2025-01-22T19:20:44.789Z"
   },
   {
    "duration": 38,
    "start_time": "2025-01-22T19:20:44.812Z"
   },
   {
    "duration": 33,
    "start_time": "2025-01-22T19:20:44.861Z"
   },
   {
    "duration": 6,
    "start_time": "2025-01-22T19:20:44.896Z"
   },
   {
    "duration": 5,
    "start_time": "2025-01-22T19:20:44.904Z"
   },
   {
    "duration": 1487,
    "start_time": "2025-01-22T19:20:44.911Z"
   },
   {
    "duration": 5,
    "start_time": "2025-01-22T19:20:46.404Z"
   },
   {
    "duration": 26,
    "start_time": "2025-01-22T19:20:46.411Z"
   },
   {
    "duration": 165,
    "start_time": "2025-01-22T19:20:46.439Z"
   },
   {
    "duration": 9,
    "start_time": "2025-01-22T19:21:19.807Z"
   },
   {
    "duration": 10,
    "start_time": "2025-01-22T19:21:48.321Z"
   },
   {
    "duration": 13,
    "start_time": "2025-01-22T19:21:54.184Z"
   },
   {
    "duration": 46,
    "start_time": "2025-01-22T19:22:25.511Z"
   },
   {
    "duration": 2898,
    "start_time": "2025-01-22T19:22:33.501Z"
   },
   {
    "duration": 1646,
    "start_time": "2025-01-22T19:22:36.401Z"
   },
   {
    "duration": 78,
    "start_time": "2025-01-22T19:22:38.048Z"
   },
   {
    "duration": 29,
    "start_time": "2025-01-22T19:22:38.127Z"
   },
   {
    "duration": 26,
    "start_time": "2025-01-22T19:22:38.160Z"
   },
   {
    "duration": 11,
    "start_time": "2025-01-22T19:22:38.188Z"
   },
   {
    "duration": 17,
    "start_time": "2025-01-22T19:22:38.201Z"
   },
   {
    "duration": 32,
    "start_time": "2025-01-22T19:22:38.220Z"
   },
   {
    "duration": 8,
    "start_time": "2025-01-22T19:22:38.257Z"
   },
   {
    "duration": 32,
    "start_time": "2025-01-22T19:22:38.267Z"
   },
   {
    "duration": 17,
    "start_time": "2025-01-22T19:22:38.301Z"
   },
   {
    "duration": 39,
    "start_time": "2025-01-22T19:22:38.320Z"
   },
   {
    "duration": 26,
    "start_time": "2025-01-22T19:22:38.361Z"
   },
   {
    "duration": 33,
    "start_time": "2025-01-22T19:22:38.392Z"
   },
   {
    "duration": 23,
    "start_time": "2025-01-22T19:22:38.427Z"
   },
   {
    "duration": 21,
    "start_time": "2025-01-22T19:22:38.452Z"
   },
   {
    "duration": 9,
    "start_time": "2025-01-22T19:22:38.476Z"
   },
   {
    "duration": 6,
    "start_time": "2025-01-22T19:22:38.487Z"
   },
   {
    "duration": 30,
    "start_time": "2025-01-22T19:22:38.495Z"
   },
   {
    "duration": 34,
    "start_time": "2025-01-22T19:22:38.527Z"
   },
   {
    "duration": 22,
    "start_time": "2025-01-22T19:22:38.563Z"
   },
   {
    "duration": 5,
    "start_time": "2025-01-22T19:22:38.587Z"
   },
   {
    "duration": 218,
    "start_time": "2025-01-22T19:22:38.594Z"
   },
   {
    "duration": 195,
    "start_time": "2025-01-22T19:22:38.814Z"
   },
   {
    "duration": 189,
    "start_time": "2025-01-22T19:22:39.011Z"
   },
   {
    "duration": 291,
    "start_time": "2025-01-22T19:22:39.201Z"
   },
   {
    "duration": 7,
    "start_time": "2025-01-22T19:22:39.493Z"
   },
   {
    "duration": 197,
    "start_time": "2025-01-22T19:22:39.502Z"
   },
   {
    "duration": 6,
    "start_time": "2025-01-22T19:22:39.700Z"
   },
   {
    "duration": 240,
    "start_time": "2025-01-22T19:22:39.708Z"
   },
   {
    "duration": 304,
    "start_time": "2025-01-22T19:22:39.951Z"
   },
   {
    "duration": 262,
    "start_time": "2025-01-22T19:22:40.257Z"
   },
   {
    "duration": 256,
    "start_time": "2025-01-22T19:22:40.520Z"
   },
   {
    "duration": 1613,
    "start_time": "2025-01-22T19:22:40.778Z"
   },
   {
    "duration": 19,
    "start_time": "2025-01-22T19:22:42.393Z"
   },
   {
    "duration": 3,
    "start_time": "2025-01-22T19:22:42.414Z"
   },
   {
    "duration": 5,
    "start_time": "2025-01-22T19:22:42.419Z"
   },
   {
    "duration": 11,
    "start_time": "2025-01-22T19:22:42.434Z"
   },
   {
    "duration": 9,
    "start_time": "2025-01-22T19:22:42.453Z"
   },
   {
    "duration": 1392,
    "start_time": "2025-01-22T19:22:42.464Z"
   },
   {
    "duration": 6,
    "start_time": "2025-01-22T19:22:43.860Z"
   },
   {
    "duration": 7,
    "start_time": "2025-01-22T19:22:43.867Z"
   },
   {
    "duration": 174,
    "start_time": "2025-01-22T19:22:43.876Z"
   },
   {
    "duration": 17,
    "start_time": "2025-01-22T19:24:38.185Z"
   },
   {
    "duration": 34,
    "start_time": "2025-01-22T19:24:50.425Z"
   },
   {
    "duration": 31,
    "start_time": "2025-01-22T19:24:58.452Z"
   },
   {
    "duration": 28,
    "start_time": "2025-01-22T19:25:04.651Z"
   },
   {
    "duration": 7,
    "start_time": "2025-01-22T19:25:17.646Z"
   },
   {
    "duration": 8,
    "start_time": "2025-01-22T19:25:29.304Z"
   },
   {
    "duration": 2809,
    "start_time": "2025-01-22T19:25:35.365Z"
   },
   {
    "duration": 1640,
    "start_time": "2025-01-22T19:25:38.176Z"
   },
   {
    "duration": 76,
    "start_time": "2025-01-22T19:25:39.817Z"
   },
   {
    "duration": 19,
    "start_time": "2025-01-22T19:25:39.895Z"
   },
   {
    "duration": 11,
    "start_time": "2025-01-22T19:25:39.917Z"
   },
   {
    "duration": 19,
    "start_time": "2025-01-22T19:25:39.932Z"
   },
   {
    "duration": 9,
    "start_time": "2025-01-22T19:25:39.953Z"
   },
   {
    "duration": 17,
    "start_time": "2025-01-22T19:25:39.964Z"
   },
   {
    "duration": 8,
    "start_time": "2025-01-22T19:25:39.983Z"
   },
   {
    "duration": 13,
    "start_time": "2025-01-22T19:25:39.992Z"
   },
   {
    "duration": 40,
    "start_time": "2025-01-22T19:25:40.007Z"
   },
   {
    "duration": 8,
    "start_time": "2025-01-22T19:25:40.049Z"
   },
   {
    "duration": 17,
    "start_time": "2025-01-22T19:25:40.059Z"
   },
   {
    "duration": 26,
    "start_time": "2025-01-22T19:25:40.079Z"
   },
   {
    "duration": 15,
    "start_time": "2025-01-22T19:25:40.108Z"
   },
   {
    "duration": 22,
    "start_time": "2025-01-22T19:25:40.126Z"
   },
   {
    "duration": 8,
    "start_time": "2025-01-22T19:25:40.150Z"
   },
   {
    "duration": 5,
    "start_time": "2025-01-22T19:25:40.160Z"
   },
   {
    "duration": 18,
    "start_time": "2025-01-22T19:25:40.167Z"
   },
   {
    "duration": 5,
    "start_time": "2025-01-22T19:25:40.186Z"
   },
   {
    "duration": 18,
    "start_time": "2025-01-22T19:25:40.192Z"
   },
   {
    "duration": 7,
    "start_time": "2025-01-22T19:25:40.229Z"
   },
   {
    "duration": 234,
    "start_time": "2025-01-22T19:25:40.243Z"
   },
   {
    "duration": 181,
    "start_time": "2025-01-22T19:25:40.479Z"
   },
   {
    "duration": 199,
    "start_time": "2025-01-22T19:25:40.662Z"
   },
   {
    "duration": 286,
    "start_time": "2025-01-22T19:25:40.863Z"
   },
   {
    "duration": 5,
    "start_time": "2025-01-22T19:25:41.151Z"
   },
   {
    "duration": 195,
    "start_time": "2025-01-22T19:25:41.158Z"
   },
   {
    "duration": 7,
    "start_time": "2025-01-22T19:25:41.355Z"
   },
   {
    "duration": 238,
    "start_time": "2025-01-22T19:25:41.364Z"
   },
   {
    "duration": 286,
    "start_time": "2025-01-22T19:25:41.604Z"
   },
   {
    "duration": 261,
    "start_time": "2025-01-22T19:25:41.891Z"
   },
   {
    "duration": 240,
    "start_time": "2025-01-22T19:25:42.154Z"
   },
   {
    "duration": 1619,
    "start_time": "2025-01-22T19:25:42.396Z"
   },
   {
    "duration": 24,
    "start_time": "2025-01-22T19:25:44.017Z"
   },
   {
    "duration": 6,
    "start_time": "2025-01-22T19:25:44.045Z"
   },
   {
    "duration": 9,
    "start_time": "2025-01-22T19:25:44.053Z"
   },
   {
    "duration": 11,
    "start_time": "2025-01-22T19:25:44.064Z"
   },
   {
    "duration": 6,
    "start_time": "2025-01-22T19:25:44.078Z"
   },
   {
    "duration": 1451,
    "start_time": "2025-01-22T19:25:44.087Z"
   },
   {
    "duration": 13,
    "start_time": "2025-01-22T19:25:45.545Z"
   },
   {
    "duration": 6,
    "start_time": "2025-01-22T19:25:45.561Z"
   },
   {
    "duration": 170,
    "start_time": "2025-01-22T19:25:45.569Z"
   },
   {
    "duration": 13,
    "start_time": "2025-01-22T19:26:07.937Z"
   },
   {
    "duration": 7,
    "start_time": "2025-01-22T19:26:27.586Z"
   },
   {
    "duration": 19,
    "start_time": "2025-01-22T19:26:53.875Z"
   },
   {
    "duration": 2961,
    "start_time": "2025-01-22T19:26:58.824Z"
   },
   {
    "duration": 1668,
    "start_time": "2025-01-22T19:27:01.788Z"
   },
   {
    "duration": 76,
    "start_time": "2025-01-22T19:27:03.457Z"
   },
   {
    "duration": 23,
    "start_time": "2025-01-22T19:27:03.537Z"
   },
   {
    "duration": 21,
    "start_time": "2025-01-22T19:27:03.562Z"
   },
   {
    "duration": 18,
    "start_time": "2025-01-22T19:27:03.584Z"
   },
   {
    "duration": 49,
    "start_time": "2025-01-22T19:27:03.604Z"
   },
   {
    "duration": 53,
    "start_time": "2025-01-22T19:27:03.659Z"
   },
   {
    "duration": 10,
    "start_time": "2025-01-22T19:27:03.715Z"
   },
   {
    "duration": 35,
    "start_time": "2025-01-22T19:27:03.728Z"
   },
   {
    "duration": 21,
    "start_time": "2025-01-22T19:27:03.765Z"
   },
   {
    "duration": 35,
    "start_time": "2025-01-22T19:27:03.788Z"
   },
   {
    "duration": 40,
    "start_time": "2025-01-22T19:27:03.826Z"
   },
   {
    "duration": 33,
    "start_time": "2025-01-22T19:27:03.868Z"
   },
   {
    "duration": 16,
    "start_time": "2025-01-22T19:27:03.903Z"
   },
   {
    "duration": 39,
    "start_time": "2025-01-22T19:27:03.921Z"
   },
   {
    "duration": 39,
    "start_time": "2025-01-22T19:27:03.962Z"
   },
   {
    "duration": 19,
    "start_time": "2025-01-22T19:27:04.004Z"
   },
   {
    "duration": 33,
    "start_time": "2025-01-22T19:27:04.025Z"
   },
   {
    "duration": 20,
    "start_time": "2025-01-22T19:27:04.060Z"
   },
   {
    "duration": 31,
    "start_time": "2025-01-22T19:27:04.082Z"
   },
   {
    "duration": 13,
    "start_time": "2025-01-22T19:27:04.115Z"
   },
   {
    "duration": 266,
    "start_time": "2025-01-22T19:27:04.130Z"
   },
   {
    "duration": 202,
    "start_time": "2025-01-22T19:27:04.398Z"
   },
   {
    "duration": 242,
    "start_time": "2025-01-22T19:27:04.602Z"
   },
   {
    "duration": 295,
    "start_time": "2025-01-22T19:27:04.846Z"
   },
   {
    "duration": 11,
    "start_time": "2025-01-22T19:27:05.143Z"
   },
   {
    "duration": 211,
    "start_time": "2025-01-22T19:27:05.158Z"
   },
   {
    "duration": 6,
    "start_time": "2025-01-22T19:27:05.371Z"
   },
   {
    "duration": 244,
    "start_time": "2025-01-22T19:27:05.379Z"
   },
   {
    "duration": 289,
    "start_time": "2025-01-22T19:27:05.625Z"
   },
   {
    "duration": 290,
    "start_time": "2025-01-22T19:27:05.916Z"
   },
   {
    "duration": 270,
    "start_time": "2025-01-22T19:27:06.208Z"
   },
   {
    "duration": 1771,
    "start_time": "2025-01-22T19:27:06.480Z"
   },
   {
    "duration": 19,
    "start_time": "2025-01-22T19:27:08.253Z"
   },
   {
    "duration": 4,
    "start_time": "2025-01-22T19:27:08.274Z"
   },
   {
    "duration": 4,
    "start_time": "2025-01-22T19:27:08.280Z"
   },
   {
    "duration": 8,
    "start_time": "2025-01-22T19:27:08.286Z"
   },
   {
    "duration": 5,
    "start_time": "2025-01-22T19:27:08.295Z"
   },
   {
    "duration": 1508,
    "start_time": "2025-01-22T19:27:08.302Z"
   },
   {
    "duration": 6,
    "start_time": "2025-01-22T19:27:09.811Z"
   },
   {
    "duration": 24,
    "start_time": "2025-01-22T19:27:09.819Z"
   },
   {
    "duration": 166,
    "start_time": "2025-01-22T19:27:09.849Z"
   },
   {
    "duration": 12,
    "start_time": "2025-01-22T19:30:58.844Z"
   },
   {
    "duration": 2762,
    "start_time": "2025-01-22T19:31:36.833Z"
   },
   {
    "duration": 1650,
    "start_time": "2025-01-22T19:31:39.597Z"
   },
   {
    "duration": 76,
    "start_time": "2025-01-22T19:31:41.249Z"
   },
   {
    "duration": 18,
    "start_time": "2025-01-22T19:31:41.327Z"
   },
   {
    "duration": 12,
    "start_time": "2025-01-22T19:31:41.347Z"
   },
   {
    "duration": 14,
    "start_time": "2025-01-22T19:31:41.360Z"
   },
   {
    "duration": 13,
    "start_time": "2025-01-22T19:31:41.376Z"
   },
   {
    "duration": 39,
    "start_time": "2025-01-22T19:31:41.391Z"
   },
   {
    "duration": 8,
    "start_time": "2025-01-22T19:31:41.432Z"
   },
   {
    "duration": 14,
    "start_time": "2025-01-22T19:31:41.442Z"
   },
   {
    "duration": 8,
    "start_time": "2025-01-22T19:31:41.458Z"
   },
   {
    "duration": 9,
    "start_time": "2025-01-22T19:31:41.468Z"
   },
   {
    "duration": 13,
    "start_time": "2025-01-22T19:31:41.479Z"
   },
   {
    "duration": 45,
    "start_time": "2025-01-22T19:31:41.495Z"
   },
   {
    "duration": 13,
    "start_time": "2025-01-22T19:31:41.542Z"
   },
   {
    "duration": 11,
    "start_time": "2025-01-22T19:31:41.556Z"
   },
   {
    "duration": 18,
    "start_time": "2025-01-22T19:31:41.568Z"
   },
   {
    "duration": 6,
    "start_time": "2025-01-22T19:31:41.588Z"
   },
   {
    "duration": 7,
    "start_time": "2025-01-22T19:31:41.596Z"
   },
   {
    "duration": 6,
    "start_time": "2025-01-22T19:31:41.631Z"
   },
   {
    "duration": 23,
    "start_time": "2025-01-22T19:31:41.639Z"
   },
   {
    "duration": 5,
    "start_time": "2025-01-22T19:31:41.664Z"
   },
   {
    "duration": 226,
    "start_time": "2025-01-22T19:31:41.670Z"
   },
   {
    "duration": 181,
    "start_time": "2025-01-22T19:31:41.899Z"
   },
   {
    "duration": 192,
    "start_time": "2025-01-22T19:31:42.083Z"
   },
   {
    "duration": 272,
    "start_time": "2025-01-22T19:31:42.277Z"
   },
   {
    "duration": 7,
    "start_time": "2025-01-22T19:31:42.551Z"
   },
   {
    "duration": 178,
    "start_time": "2025-01-22T19:31:42.560Z"
   },
   {
    "duration": 7,
    "start_time": "2025-01-22T19:31:42.739Z"
   },
   {
    "duration": 227,
    "start_time": "2025-01-22T19:31:42.748Z"
   },
   {
    "duration": 273,
    "start_time": "2025-01-22T19:31:42.977Z"
   },
   {
    "duration": 252,
    "start_time": "2025-01-22T19:31:43.252Z"
   },
   {
    "duration": 232,
    "start_time": "2025-01-22T19:31:43.506Z"
   },
   {
    "duration": 1631,
    "start_time": "2025-01-22T19:31:43.740Z"
   },
   {
    "duration": 19,
    "start_time": "2025-01-22T19:31:45.373Z"
   },
   {
    "duration": 29,
    "start_time": "2025-01-22T19:31:45.395Z"
   },
   {
    "duration": 5,
    "start_time": "2025-01-22T19:31:45.426Z"
   },
   {
    "duration": 14,
    "start_time": "2025-01-22T19:31:45.432Z"
   },
   {
    "duration": 26,
    "start_time": "2025-01-22T19:31:45.448Z"
   },
   {
    "duration": 1323,
    "start_time": "2025-01-22T19:31:45.476Z"
   },
   {
    "duration": 8,
    "start_time": "2025-01-22T19:31:46.803Z"
   },
   {
    "duration": 20,
    "start_time": "2025-01-22T19:31:46.812Z"
   },
   {
    "duration": 143,
    "start_time": "2025-01-22T19:31:46.834Z"
   },
   {
    "duration": 88,
    "start_time": "2025-01-22T19:32:18.504Z"
   },
   {
    "duration": 28,
    "start_time": "2025-01-22T19:32:23.731Z"
   },
   {
    "duration": 22,
    "start_time": "2025-01-22T19:33:09.417Z"
   },
   {
    "duration": 316,
    "start_time": "2025-01-22T19:33:33.610Z"
   },
   {
    "duration": 4,
    "start_time": "2025-01-22T19:34:57.374Z"
   },
   {
    "duration": 23,
    "start_time": "2025-01-22T19:35:17.361Z"
   },
   {
    "duration": 20,
    "start_time": "2025-01-22T19:35:22.480Z"
   },
   {
    "duration": 338,
    "start_time": "2025-01-22T19:36:32.282Z"
   },
   {
    "duration": 19,
    "start_time": "2025-01-22T19:36:39.339Z"
   },
   {
    "duration": 20,
    "start_time": "2025-01-22T19:43:27.535Z"
   },
   {
    "duration": 421,
    "start_time": "2025-01-22T19:44:32.526Z"
   },
   {
    "duration": 16,
    "start_time": "2025-01-22T19:46:53.895Z"
   },
   {
    "duration": 26,
    "start_time": "2025-01-22T19:47:19.569Z"
   },
   {
    "duration": 37,
    "start_time": "2025-01-22T19:47:31.108Z"
   },
   {
    "duration": 19,
    "start_time": "2025-01-22T19:47:54.982Z"
   },
   {
    "duration": 20,
    "start_time": "2025-01-22T19:48:01.215Z"
   },
   {
    "duration": 25,
    "start_time": "2025-01-22T19:48:09.595Z"
   },
   {
    "duration": 25,
    "start_time": "2025-01-22T19:48:18.156Z"
   },
   {
    "duration": 23,
    "start_time": "2025-01-22T19:48:47.364Z"
   },
   {
    "duration": 409,
    "start_time": "2025-01-22T19:48:54.006Z"
   },
   {
    "duration": 25,
    "start_time": "2025-01-22T19:49:01.667Z"
   },
   {
    "duration": 23,
    "start_time": "2025-01-22T19:49:06.600Z"
   },
   {
    "duration": 35,
    "start_time": "2025-01-22T19:49:34.186Z"
   },
   {
    "duration": 15,
    "start_time": "2025-01-22T19:49:45.301Z"
   },
   {
    "duration": 2627,
    "start_time": "2025-01-22T19:50:25.129Z"
   },
   {
    "duration": 1543,
    "start_time": "2025-01-22T19:50:27.759Z"
   },
   {
    "duration": 76,
    "start_time": "2025-01-22T19:50:29.304Z"
   },
   {
    "duration": 19,
    "start_time": "2025-01-22T19:50:29.382Z"
   },
   {
    "duration": 10,
    "start_time": "2025-01-22T19:50:29.403Z"
   },
   {
    "duration": 9,
    "start_time": "2025-01-22T19:50:29.415Z"
   },
   {
    "duration": 7,
    "start_time": "2025-01-22T19:50:29.425Z"
   },
   {
    "duration": 16,
    "start_time": "2025-01-22T19:50:29.434Z"
   },
   {
    "duration": 8,
    "start_time": "2025-01-22T19:50:29.451Z"
   },
   {
    "duration": 13,
    "start_time": "2025-01-22T19:50:29.460Z"
   },
   {
    "duration": 8,
    "start_time": "2025-01-22T19:50:29.474Z"
   },
   {
    "duration": 7,
    "start_time": "2025-01-22T19:50:29.484Z"
   },
   {
    "duration": 41,
    "start_time": "2025-01-22T19:50:29.492Z"
   },
   {
    "duration": 12,
    "start_time": "2025-01-22T19:50:29.537Z"
   },
   {
    "duration": 11,
    "start_time": "2025-01-22T19:50:29.550Z"
   },
   {
    "duration": 9,
    "start_time": "2025-01-22T19:50:29.562Z"
   },
   {
    "duration": 7,
    "start_time": "2025-01-22T19:50:29.573Z"
   },
   {
    "duration": 12,
    "start_time": "2025-01-22T19:50:29.582Z"
   },
   {
    "duration": 38,
    "start_time": "2025-01-22T19:50:29.595Z"
   },
   {
    "duration": 4,
    "start_time": "2025-01-22T19:50:29.635Z"
   },
   {
    "duration": 19,
    "start_time": "2025-01-22T19:50:29.641Z"
   },
   {
    "duration": 5,
    "start_time": "2025-01-22T19:50:29.661Z"
   },
   {
    "duration": 218,
    "start_time": "2025-01-22T19:50:29.668Z"
   },
   {
    "duration": 179,
    "start_time": "2025-01-22T19:50:29.888Z"
   },
   {
    "duration": 174,
    "start_time": "2025-01-22T19:50:30.068Z"
   },
   {
    "duration": 248,
    "start_time": "2025-01-22T19:50:30.244Z"
   },
   {
    "duration": 5,
    "start_time": "2025-01-22T19:50:30.494Z"
   },
   {
    "duration": 172,
    "start_time": "2025-01-22T19:50:30.501Z"
   },
   {
    "duration": 5,
    "start_time": "2025-01-22T19:50:30.675Z"
   },
   {
    "duration": 230,
    "start_time": "2025-01-22T19:50:30.682Z"
   },
   {
    "duration": 255,
    "start_time": "2025-01-22T19:50:30.913Z"
   },
   {
    "duration": 237,
    "start_time": "2025-01-22T19:50:31.170Z"
   },
   {
    "duration": 221,
    "start_time": "2025-01-22T19:50:31.409Z"
   },
   {
    "duration": 1491,
    "start_time": "2025-01-22T19:50:31.632Z"
   },
   {
    "duration": 19,
    "start_time": "2025-01-22T19:50:33.125Z"
   },
   {
    "duration": 3,
    "start_time": "2025-01-22T19:50:33.145Z"
   },
   {
    "duration": 31,
    "start_time": "2025-01-22T19:50:33.150Z"
   },
   {
    "duration": 10,
    "start_time": "2025-01-22T19:50:33.182Z"
   },
   {
    "duration": 64,
    "start_time": "2025-01-22T19:50:33.194Z"
   },
   {
    "duration": 1271,
    "start_time": "2025-01-22T19:50:33.260Z"
   },
   {
    "duration": 5,
    "start_time": "2025-01-22T19:50:34.535Z"
   },
   {
    "duration": 20,
    "start_time": "2025-01-22T19:50:34.542Z"
   },
   {
    "duration": 179,
    "start_time": "2025-01-22T19:50:34.564Z"
   },
   {
    "duration": 24,
    "start_time": "2025-01-22T19:50:53.786Z"
   },
   {
    "duration": 15,
    "start_time": "2025-01-22T19:50:59.264Z"
   },
   {
    "duration": 25,
    "start_time": "2025-01-22T19:51:14.254Z"
   },
   {
    "duration": 22,
    "start_time": "2025-01-22T19:52:05.960Z"
   },
   {
    "duration": 366,
    "start_time": "2025-01-22T19:52:10.168Z"
   },
   {
    "duration": 10,
    "start_time": "2025-01-22T19:52:24.167Z"
   },
   {
    "duration": 15,
    "start_time": "2025-01-22T19:52:30.623Z"
   },
   {
    "duration": 24,
    "start_time": "2025-01-22T19:52:39.660Z"
   },
   {
    "duration": 339,
    "start_time": "2025-01-22T19:52:55.845Z"
   },
   {
    "duration": 9,
    "start_time": "2025-01-22T19:54:55.075Z"
   },
   {
    "duration": 15,
    "start_time": "2025-01-22T19:55:34.917Z"
   },
   {
    "duration": 2676,
    "start_time": "2025-01-22T19:55:43.964Z"
   },
   {
    "duration": 1584,
    "start_time": "2025-01-22T19:55:46.643Z"
   },
   {
    "duration": 73,
    "start_time": "2025-01-22T19:55:48.229Z"
   },
   {
    "duration": 19,
    "start_time": "2025-01-22T19:55:48.304Z"
   },
   {
    "duration": 11,
    "start_time": "2025-01-22T19:55:48.325Z"
   },
   {
    "duration": 14,
    "start_time": "2025-01-22T19:55:48.338Z"
   },
   {
    "duration": 21,
    "start_time": "2025-01-22T19:55:48.354Z"
   },
   {
    "duration": 23,
    "start_time": "2025-01-22T19:55:48.377Z"
   },
   {
    "duration": 11,
    "start_time": "2025-01-22T19:55:48.402Z"
   },
   {
    "duration": 24,
    "start_time": "2025-01-22T19:55:48.416Z"
   },
   {
    "duration": 7,
    "start_time": "2025-01-22T19:55:48.442Z"
   },
   {
    "duration": 17,
    "start_time": "2025-01-22T19:55:48.451Z"
   },
   {
    "duration": 7,
    "start_time": "2025-01-22T19:55:48.470Z"
   },
   {
    "duration": 12,
    "start_time": "2025-01-22T19:55:48.585Z"
   },
   {
    "duration": 11,
    "start_time": "2025-01-22T19:55:48.740Z"
   },
   {
    "duration": 7,
    "start_time": "2025-01-22T19:55:49.982Z"
   },
   {
    "duration": 8,
    "start_time": "2025-01-22T19:55:50.166Z"
   },
   {
    "duration": 6,
    "start_time": "2025-01-22T19:55:50.287Z"
   },
   {
    "duration": 6,
    "start_time": "2025-01-22T19:55:50.459Z"
   },
   {
    "duration": 10,
    "start_time": "2025-01-22T19:55:51.854Z"
   },
   {
    "duration": 28,
    "start_time": "2025-01-22T19:55:55.719Z"
   },
   {
    "duration": 11,
    "start_time": "2025-01-22T19:56:18.354Z"
   },
   {
    "duration": 16,
    "start_time": "2025-01-22T19:56:21.348Z"
   },
   {
    "duration": 134,
    "start_time": "2025-01-22T19:57:01.329Z"
   },
   {
    "duration": 16,
    "start_time": "2025-01-22T19:57:09.635Z"
   },
   {
    "duration": 4,
    "start_time": "2025-01-22T19:57:19.456Z"
   },
   {
    "duration": 18,
    "start_time": "2025-01-22T19:57:20.722Z"
   },
   {
    "duration": 4,
    "start_time": "2025-01-22T19:57:20.874Z"
   },
   {
    "duration": 196,
    "start_time": "2025-01-22T19:57:21.385Z"
   },
   {
    "duration": 180,
    "start_time": "2025-01-22T19:57:21.583Z"
   },
   {
    "duration": 189,
    "start_time": "2025-01-22T19:57:21.765Z"
   },
   {
    "duration": 257,
    "start_time": "2025-01-22T19:57:21.956Z"
   },
   {
    "duration": 19,
    "start_time": "2025-01-22T19:57:22.215Z"
   },
   {
    "duration": 187,
    "start_time": "2025-01-22T19:57:22.236Z"
   },
   {
    "duration": 8,
    "start_time": "2025-01-22T19:57:22.425Z"
   },
   {
    "duration": 221,
    "start_time": "2025-01-22T19:57:22.435Z"
   },
   {
    "duration": 264,
    "start_time": "2025-01-22T19:57:22.658Z"
   },
   {
    "duration": 255,
    "start_time": "2025-01-22T19:57:22.924Z"
   },
   {
    "duration": 222,
    "start_time": "2025-01-22T19:57:23.181Z"
   },
   {
    "duration": 1566,
    "start_time": "2025-01-22T19:57:23.405Z"
   },
   {
    "duration": 18,
    "start_time": "2025-01-22T19:57:24.973Z"
   },
   {
    "duration": 7,
    "start_time": "2025-01-22T19:57:24.992Z"
   },
   {
    "duration": 31,
    "start_time": "2025-01-22T19:57:25.001Z"
   },
   {
    "duration": 33,
    "start_time": "2025-01-22T19:57:25.034Z"
   },
   {
    "duration": 6,
    "start_time": "2025-01-22T19:57:25.068Z"
   },
   {
    "duration": 1287,
    "start_time": "2025-01-22T19:57:25.076Z"
   },
   {
    "duration": 6,
    "start_time": "2025-01-22T19:57:26.365Z"
   },
   {
    "duration": 4,
    "start_time": "2025-01-22T19:57:26.372Z"
   },
   {
    "duration": 15,
    "start_time": "2025-01-22T19:57:26.378Z"
   },
   {
    "duration": 44,
    "start_time": "2025-01-23T14:09:05.831Z"
   },
   {
    "duration": 3471,
    "start_time": "2025-01-23T14:09:10.853Z"
   },
   {
    "duration": 1667,
    "start_time": "2025-01-23T14:09:14.326Z"
   },
   {
    "duration": 181,
    "start_time": "2025-01-23T14:09:15.997Z"
   },
   {
    "duration": 16,
    "start_time": "2025-01-23T14:09:16.180Z"
   },
   {
    "duration": 9,
    "start_time": "2025-01-23T14:09:16.198Z"
   },
   {
    "duration": 8,
    "start_time": "2025-01-23T14:09:16.208Z"
   },
   {
    "duration": 7,
    "start_time": "2025-01-23T14:09:16.218Z"
   },
   {
    "duration": 15,
    "start_time": "2025-01-23T14:09:16.227Z"
   },
   {
    "duration": 6,
    "start_time": "2025-01-23T14:09:16.253Z"
   },
   {
    "duration": 13,
    "start_time": "2025-01-23T14:09:16.261Z"
   },
   {
    "duration": 6,
    "start_time": "2025-01-23T14:09:16.276Z"
   },
   {
    "duration": 7,
    "start_time": "2025-01-23T14:09:16.284Z"
   },
   {
    "duration": 6,
    "start_time": "2025-01-23T14:09:16.293Z"
   },
   {
    "duration": 11,
    "start_time": "2025-01-23T14:09:16.300Z"
   },
   {
    "duration": 48,
    "start_time": "2025-01-23T14:09:16.312Z"
   },
   {
    "duration": 6,
    "start_time": "2025-01-23T14:09:16.361Z"
   },
   {
    "duration": 14,
    "start_time": "2025-01-23T14:09:16.368Z"
   },
   {
    "duration": 4,
    "start_time": "2025-01-23T14:09:16.383Z"
   },
   {
    "duration": 26,
    "start_time": "2025-01-23T14:09:16.388Z"
   },
   {
    "duration": 9,
    "start_time": "2025-01-23T14:09:16.415Z"
   },
   {
    "duration": 21,
    "start_time": "2025-01-23T14:09:16.425Z"
   },
   {
    "duration": 20,
    "start_time": "2025-01-23T14:09:16.447Z"
   },
   {
    "duration": 26,
    "start_time": "2025-01-23T14:09:16.468Z"
   },
   {
    "duration": 3,
    "start_time": "2025-01-23T14:09:16.495Z"
   },
   {
    "duration": 257,
    "start_time": "2025-01-23T14:09:16.500Z"
   },
   {
    "duration": 169,
    "start_time": "2025-01-23T14:09:16.759Z"
   },
   {
    "duration": 157,
    "start_time": "2025-01-23T14:09:16.931Z"
   },
   {
    "duration": 209,
    "start_time": "2025-01-23T14:09:17.090Z"
   },
   {
    "duration": 5,
    "start_time": "2025-01-23T14:09:17.301Z"
   },
   {
    "duration": 148,
    "start_time": "2025-01-23T14:09:17.308Z"
   },
   {
    "duration": 7,
    "start_time": "2025-01-23T14:09:17.457Z"
   },
   {
    "duration": 220,
    "start_time": "2025-01-23T14:09:17.465Z"
   },
   {
    "duration": 224,
    "start_time": "2025-01-23T14:09:17.686Z"
   },
   {
    "duration": 202,
    "start_time": "2025-01-23T14:09:17.912Z"
   },
   {
    "duration": 180,
    "start_time": "2025-01-23T14:09:18.116Z"
   },
   {
    "duration": 1341,
    "start_time": "2025-01-23T14:09:18.297Z"
   },
   {
    "duration": 23,
    "start_time": "2025-01-23T14:09:19.640Z"
   },
   {
    "duration": 3,
    "start_time": "2025-01-23T14:09:19.665Z"
   },
   {
    "duration": 9,
    "start_time": "2025-01-23T14:09:19.670Z"
   },
   {
    "duration": 19,
    "start_time": "2025-01-23T14:09:19.680Z"
   },
   {
    "duration": 42,
    "start_time": "2025-01-23T14:09:19.700Z"
   },
   {
    "duration": 1052,
    "start_time": "2025-01-23T14:09:19.743Z"
   },
   {
    "duration": 5,
    "start_time": "2025-01-23T14:09:20.796Z"
   },
   {
    "duration": 8,
    "start_time": "2025-01-23T14:09:20.802Z"
   },
   {
    "duration": 34,
    "start_time": "2025-01-23T14:09:20.811Z"
   },
   {
    "duration": 39,
    "start_time": "2025-01-23T14:09:20.847Z"
   },
   {
    "duration": 116,
    "start_time": "2025-01-23T14:10:20.799Z"
   },
   {
    "duration": 3066,
    "start_time": "2025-01-23T14:10:24.664Z"
   },
   {
    "duration": 4,
    "start_time": "2025-01-23T14:10:27.732Z"
   },
   {
    "duration": 36,
    "start_time": "2025-01-23T14:10:27.737Z"
   },
   {
    "duration": 15,
    "start_time": "2025-01-23T14:10:27.775Z"
   },
   {
    "duration": 73,
    "start_time": "2025-01-23T14:10:27.792Z"
   },
   {
    "duration": 107,
    "start_time": "2025-01-23T14:11:06.364Z"
   },
   {
    "duration": 49,
    "start_time": "2025-01-23T14:11:11.917Z"
   },
   {
    "duration": 69,
    "start_time": "2025-01-23T14:12:29.305Z"
   },
   {
    "duration": 67,
    "start_time": "2025-01-23T14:12:32.933Z"
   },
   {
    "duration": 5042,
    "start_time": "2025-01-23T14:12:41.474Z"
   },
   {
    "duration": 4,
    "start_time": "2025-01-23T14:12:46.518Z"
   },
   {
    "duration": 19,
    "start_time": "2025-01-23T14:12:46.523Z"
   },
   {
    "duration": 55,
    "start_time": "2025-01-23T14:12:46.543Z"
   },
   {
    "duration": 102,
    "start_time": "2025-01-23T14:12:46.599Z"
   },
   {
    "duration": 2387,
    "start_time": "2025-01-23T14:13:38.028Z"
   },
   {
    "duration": 1428,
    "start_time": "2025-01-23T14:13:40.417Z"
   },
   {
    "duration": 60,
    "start_time": "2025-01-23T14:13:41.847Z"
   },
   {
    "duration": 15,
    "start_time": "2025-01-23T14:13:41.909Z"
   },
   {
    "duration": 9,
    "start_time": "2025-01-23T14:13:41.925Z"
   },
   {
    "duration": 6,
    "start_time": "2025-01-23T14:13:41.936Z"
   },
   {
    "duration": 11,
    "start_time": "2025-01-23T14:13:41.944Z"
   },
   {
    "duration": 15,
    "start_time": "2025-01-23T14:13:41.956Z"
   },
   {
    "duration": 8,
    "start_time": "2025-01-23T14:13:41.972Z"
   },
   {
    "duration": 10,
    "start_time": "2025-01-23T14:13:41.983Z"
   },
   {
    "duration": 8,
    "start_time": "2025-01-23T14:13:41.995Z"
   },
   {
    "duration": 9,
    "start_time": "2025-01-23T14:13:42.004Z"
   },
   {
    "duration": 43,
    "start_time": "2025-01-23T14:13:42.015Z"
   },
   {
    "duration": 11,
    "start_time": "2025-01-23T14:13:42.060Z"
   },
   {
    "duration": 12,
    "start_time": "2025-01-23T14:13:42.073Z"
   },
   {
    "duration": 9,
    "start_time": "2025-01-23T14:13:42.087Z"
   },
   {
    "duration": 8,
    "start_time": "2025-01-23T14:13:42.098Z"
   },
   {
    "duration": 9,
    "start_time": "2025-01-23T14:13:42.108Z"
   },
   {
    "duration": 12,
    "start_time": "2025-01-23T14:13:42.119Z"
   },
   {
    "duration": 9,
    "start_time": "2025-01-23T14:13:42.154Z"
   },
   {
    "duration": 15,
    "start_time": "2025-01-23T14:13:42.164Z"
   },
   {
    "duration": 3,
    "start_time": "2025-01-23T14:13:42.181Z"
   },
   {
    "duration": 15,
    "start_time": "2025-01-23T14:13:42.186Z"
   },
   {
    "duration": 4,
    "start_time": "2025-01-23T14:13:42.202Z"
   },
   {
    "duration": 204,
    "start_time": "2025-01-23T14:13:42.207Z"
   },
   {
    "duration": 161,
    "start_time": "2025-01-23T14:13:42.412Z"
   },
   {
    "duration": 162,
    "start_time": "2025-01-23T14:13:42.574Z"
   },
   {
    "duration": 226,
    "start_time": "2025-01-23T14:13:42.740Z"
   },
   {
    "duration": 6,
    "start_time": "2025-01-23T14:13:42.968Z"
   },
   {
    "duration": 151,
    "start_time": "2025-01-23T14:13:42.976Z"
   },
   {
    "duration": 5,
    "start_time": "2025-01-23T14:13:43.129Z"
   },
   {
    "duration": 199,
    "start_time": "2025-01-23T14:13:43.135Z"
   },
   {
    "duration": 222,
    "start_time": "2025-01-23T14:13:43.336Z"
   },
   {
    "duration": 208,
    "start_time": "2025-01-23T14:13:43.559Z"
   },
   {
    "duration": 188,
    "start_time": "2025-01-23T14:13:43.768Z"
   },
   {
    "duration": 1370,
    "start_time": "2025-01-23T14:13:43.957Z"
   },
   {
    "duration": 16,
    "start_time": "2025-01-23T14:13:45.328Z"
   },
   {
    "duration": 19,
    "start_time": "2025-01-23T14:13:45.345Z"
   },
   {
    "duration": 159,
    "start_time": "2025-01-23T14:13:45.366Z"
   },
   {
    "duration": 33,
    "start_time": "2025-01-23T14:13:45.527Z"
   },
   {
    "duration": 5,
    "start_time": "2025-01-23T14:13:45.562Z"
   },
   {
    "duration": 157114,
    "start_time": "2025-01-23T14:13:45.569Z"
   },
   {
    "duration": 74,
    "start_time": "2025-01-23T14:16:22.684Z"
   },
   {
    "duration": 10,
    "start_time": "2025-01-23T14:16:22.760Z"
   },
   {
    "duration": 13,
    "start_time": "2025-01-23T14:16:22.771Z"
   },
   {
    "duration": 118,
    "start_time": "2025-01-23T14:16:22.785Z"
   },
   {
    "duration": 38,
    "start_time": "2025-01-23T14:16:48.796Z"
   },
   {
    "duration": 110,
    "start_time": "2025-01-23T14:16:53.018Z"
   },
   {
    "duration": 35,
    "start_time": "2025-01-23T14:16:59.076Z"
   },
   {
    "duration": 4,
    "start_time": "2025-01-23T14:17:47.879Z"
   },
   {
    "duration": 91,
    "start_time": "2025-01-23T14:17:58.432Z"
   },
   {
    "duration": 13,
    "start_time": "2025-01-23T14:18:02.418Z"
   },
   {
    "duration": 13,
    "start_time": "2025-01-23T14:18:16.087Z"
   },
   {
    "duration": 1042,
    "start_time": "2025-01-23T14:18:24.507Z"
   },
   {
    "duration": 4,
    "start_time": "2025-01-23T14:18:25.888Z"
   },
   {
    "duration": 4,
    "start_time": "2025-01-23T14:18:26.739Z"
   },
   {
    "duration": 13,
    "start_time": "2025-01-23T14:18:28.306Z"
   },
   {
    "duration": 37,
    "start_time": "2025-01-23T14:18:36.729Z"
   },
   {
    "duration": 36,
    "start_time": "2025-01-23T14:18:42.759Z"
   },
   {
    "duration": 126,
    "start_time": "2025-01-23T14:28:59.723Z"
   },
   {
    "duration": 14,
    "start_time": "2025-01-23T14:29:40.542Z"
   },
   {
    "duration": 15,
    "start_time": "2025-01-23T14:29:47.051Z"
   },
   {
    "duration": 10,
    "start_time": "2025-01-23T14:30:06.057Z"
   },
   {
    "duration": 7,
    "start_time": "2025-01-23T14:30:10.818Z"
   },
   {
    "duration": 15,
    "start_time": "2025-01-23T14:30:17.114Z"
   },
   {
    "duration": 14,
    "start_time": "2025-01-23T14:32:46.299Z"
   },
   {
    "duration": 11,
    "start_time": "2025-01-23T14:32:54.843Z"
   },
   {
    "duration": 7,
    "start_time": "2025-01-23T14:33:50.250Z"
   },
   {
    "duration": 7,
    "start_time": "2025-01-23T14:34:07.874Z"
   },
   {
    "duration": 13,
    "start_time": "2025-01-23T14:34:39.933Z"
   },
   {
    "duration": 9,
    "start_time": "2025-01-23T14:34:46.198Z"
   },
   {
    "duration": 21,
    "start_time": "2025-01-23T14:35:05.628Z"
   },
   {
    "duration": 10,
    "start_time": "2025-01-23T14:35:09.276Z"
   },
   {
    "duration": 9,
    "start_time": "2025-01-23T14:35:11.685Z"
   },
   {
    "duration": 6,
    "start_time": "2025-01-23T14:35:28.858Z"
   },
   {
    "duration": 8,
    "start_time": "2025-01-23T14:35:38.591Z"
   },
   {
    "duration": 4,
    "start_time": "2025-01-23T14:36:29.981Z"
   },
   {
    "duration": 6,
    "start_time": "2025-01-23T14:36:32.948Z"
   },
   {
    "duration": 5,
    "start_time": "2025-01-23T14:36:45.013Z"
   },
   {
    "duration": 7,
    "start_time": "2025-01-23T14:36:45.158Z"
   },
   {
    "duration": 11,
    "start_time": "2025-01-23T14:36:54.462Z"
   },
   {
    "duration": 11,
    "start_time": "2025-01-23T14:37:02.542Z"
   },
   {
    "duration": 7,
    "start_time": "2025-01-23T14:37:07.362Z"
   },
   {
    "duration": 6,
    "start_time": "2025-01-23T14:37:14.447Z"
   },
   {
    "duration": 15,
    "start_time": "2025-01-23T14:38:38.241Z"
   },
   {
    "duration": 152,
    "start_time": "2025-01-23T14:39:00.313Z"
   },
   {
    "duration": 1360,
    "start_time": "2025-01-23T14:41:02.288Z"
   },
   {
    "duration": 5,
    "start_time": "2025-01-23T14:41:08.061Z"
   },
   {
    "duration": 30,
    "start_time": "2025-01-23T14:41:31.219Z"
   },
   {
    "duration": 382,
    "start_time": "2025-01-23T14:41:40.739Z"
   },
   {
    "duration": 14,
    "start_time": "2025-01-23T14:41:51.162Z"
   },
   {
    "duration": 307,
    "start_time": "2025-01-23T14:42:20.885Z"
   },
   {
    "duration": 9,
    "start_time": "2025-01-23T14:42:31.715Z"
   },
   {
    "duration": 108,
    "start_time": "2025-01-23T14:42:38.308Z"
   },
   {
    "duration": 8,
    "start_time": "2025-01-23T14:42:44.254Z"
   },
   {
    "duration": 11,
    "start_time": "2025-01-23T14:42:49.943Z"
   },
   {
    "duration": 11,
    "start_time": "2025-01-23T14:42:52.817Z"
   },
   {
    "duration": 12,
    "start_time": "2025-01-23T14:43:36.133Z"
   },
   {
    "duration": 169,
    "start_time": "2025-01-23T14:44:04.568Z"
   },
   {
    "duration": 166,
    "start_time": "2025-01-23T14:44:23.903Z"
   },
   {
    "duration": 156,
    "start_time": "2025-01-23T14:44:32.054Z"
   },
   {
    "duration": 170,
    "start_time": "2025-01-23T14:44:49.908Z"
   },
   {
    "duration": 196,
    "start_time": "2025-01-23T14:44:54.329Z"
   },
   {
    "duration": 153,
    "start_time": "2025-01-23T14:45:17.429Z"
   },
   {
    "duration": 11,
    "start_time": "2025-01-23T14:45:59.565Z"
   },
   {
    "duration": 143,
    "start_time": "2025-01-23T14:46:07.466Z"
   },
   {
    "duration": 257,
    "start_time": "2025-01-23T14:46:13.906Z"
   },
   {
    "duration": 180,
    "start_time": "2025-01-23T14:46:32.347Z"
   },
   {
    "duration": 157,
    "start_time": "2025-01-23T14:46:42.632Z"
   },
   {
    "duration": 177,
    "start_time": "2025-01-23T14:46:46.255Z"
   },
   {
    "duration": 183,
    "start_time": "2025-01-23T14:46:53.176Z"
   },
   {
    "duration": 187,
    "start_time": "2025-01-23T14:47:28.778Z"
   },
   {
    "duration": 184,
    "start_time": "2025-01-23T14:48:05.572Z"
   },
   {
    "duration": 183,
    "start_time": "2025-01-23T14:48:13.042Z"
   },
   {
    "duration": 179,
    "start_time": "2025-01-23T14:49:30.720Z"
   },
   {
    "duration": 183,
    "start_time": "2025-01-23T14:49:39.098Z"
   },
   {
    "duration": 182,
    "start_time": "2025-01-23T14:51:18.842Z"
   },
   {
    "duration": 159,
    "start_time": "2025-01-23T14:52:09.715Z"
   },
   {
    "duration": 247,
    "start_time": "2025-01-23T14:52:54.929Z"
   },
   {
    "duration": 11,
    "start_time": "2025-01-23T14:55:05.248Z"
   },
   {
    "duration": 472,
    "start_time": "2025-01-23T14:55:35.029Z"
   },
   {
    "duration": 216,
    "start_time": "2025-01-23T14:55:46.652Z"
   },
   {
    "duration": 184,
    "start_time": "2025-01-23T14:56:32.111Z"
   },
   {
    "duration": 215,
    "start_time": "2025-01-23T14:58:02.787Z"
   },
   {
    "duration": 16,
    "start_time": "2025-01-23T14:59:38.716Z"
   },
   {
    "duration": 15,
    "start_time": "2025-01-23T14:59:47.622Z"
   },
   {
    "duration": 15,
    "start_time": "2025-01-23T14:59:53.998Z"
   },
   {
    "duration": 5,
    "start_time": "2025-01-23T15:00:25.844Z"
   },
   {
    "duration": 9,
    "start_time": "2025-01-23T15:00:54.469Z"
   },
   {
    "duration": 9,
    "start_time": "2025-01-23T15:01:16.471Z"
   },
   {
    "duration": 11,
    "start_time": "2025-01-23T15:01:18.847Z"
   },
   {
    "duration": 15,
    "start_time": "2025-01-23T15:01:46.416Z"
   },
   {
    "duration": 9,
    "start_time": "2025-01-23T15:01:50.133Z"
   },
   {
    "duration": 6,
    "start_time": "2025-01-23T15:01:55.196Z"
   },
   {
    "duration": 37,
    "start_time": "2025-01-23T15:02:08.944Z"
   },
   {
    "duration": 28,
    "start_time": "2025-01-23T15:02:22.279Z"
   },
   {
    "duration": 14,
    "start_time": "2025-01-23T15:02:35.918Z"
   },
   {
    "duration": 14,
    "start_time": "2025-01-23T15:03:22.699Z"
   },
   {
    "duration": 6,
    "start_time": "2025-01-23T15:03:31.445Z"
   },
   {
    "duration": 7,
    "start_time": "2025-01-23T15:04:01.211Z"
   },
   {
    "duration": 10,
    "start_time": "2025-01-23T15:04:11.085Z"
   },
   {
    "duration": 409,
    "start_time": "2025-01-23T15:04:38.603Z"
   },
   {
    "duration": 6,
    "start_time": "2025-01-23T15:05:45.409Z"
   },
   {
    "duration": 8,
    "start_time": "2025-01-23T15:05:47.503Z"
   },
   {
    "duration": 2921,
    "start_time": "2025-01-23T15:07:36.351Z"
   },
   {
    "duration": 1349,
    "start_time": "2025-01-23T15:07:39.275Z"
   },
   {
    "duration": 60,
    "start_time": "2025-01-23T15:07:40.625Z"
   },
   {
    "duration": 15,
    "start_time": "2025-01-23T15:07:40.687Z"
   },
   {
    "duration": 8,
    "start_time": "2025-01-23T15:07:40.703Z"
   },
   {
    "duration": 10,
    "start_time": "2025-01-23T15:07:40.713Z"
   },
   {
    "duration": 6,
    "start_time": "2025-01-23T15:07:40.724Z"
   },
   {
    "duration": 13,
    "start_time": "2025-01-23T15:07:40.731Z"
   },
   {
    "duration": 6,
    "start_time": "2025-01-23T15:07:40.746Z"
   },
   {
    "duration": 123,
    "start_time": "2025-01-23T15:07:40.754Z"
   },
   {
    "duration": 6,
    "start_time": "2025-01-23T15:07:40.879Z"
   },
   {
    "duration": 7,
    "start_time": "2025-01-23T15:07:40.886Z"
   },
   {
    "duration": 6,
    "start_time": "2025-01-23T15:07:40.894Z"
   },
   {
    "duration": 14,
    "start_time": "2025-01-23T15:07:40.901Z"
   },
   {
    "duration": 17,
    "start_time": "2025-01-23T15:07:40.917Z"
   },
   {
    "duration": 6,
    "start_time": "2025-01-23T15:07:40.935Z"
   },
   {
    "duration": 15,
    "start_time": "2025-01-23T15:07:40.942Z"
   },
   {
    "duration": 7,
    "start_time": "2025-01-23T15:07:40.958Z"
   },
   {
    "duration": 18,
    "start_time": "2025-01-23T15:07:40.966Z"
   },
   {
    "duration": 12,
    "start_time": "2025-01-23T15:07:40.986Z"
   },
   {
    "duration": 13,
    "start_time": "2025-01-23T15:07:41.000Z"
   },
   {
    "duration": 3,
    "start_time": "2025-01-23T15:07:41.015Z"
   },
   {
    "duration": 14,
    "start_time": "2025-01-23T15:07:41.019Z"
   },
   {
    "duration": 3,
    "start_time": "2025-01-23T15:07:41.034Z"
   },
   {
    "duration": 165,
    "start_time": "2025-01-23T15:07:41.054Z"
   },
   {
    "duration": 149,
    "start_time": "2025-01-23T15:07:41.220Z"
   },
   {
    "duration": 153,
    "start_time": "2025-01-23T15:07:41.370Z"
   },
   {
    "duration": 209,
    "start_time": "2025-01-23T15:07:41.527Z"
   },
   {
    "duration": 6,
    "start_time": "2025-01-23T15:07:41.737Z"
   },
   {
    "duration": 134,
    "start_time": "2025-01-23T15:07:41.753Z"
   },
   {
    "duration": 5,
    "start_time": "2025-01-23T15:07:41.888Z"
   },
   {
    "duration": 177,
    "start_time": "2025-01-23T15:07:41.895Z"
   },
   {
    "duration": 215,
    "start_time": "2025-01-23T15:07:42.073Z"
   },
   {
    "duration": 201,
    "start_time": "2025-01-23T15:07:42.290Z"
   },
   {
    "duration": 192,
    "start_time": "2025-01-23T15:07:42.492Z"
   },
   {
    "duration": 1294,
    "start_time": "2025-01-23T15:07:42.685Z"
   },
   {
    "duration": 16,
    "start_time": "2025-01-23T15:07:43.980Z"
   },
   {
    "duration": 7,
    "start_time": "2025-01-23T15:07:43.998Z"
   },
   {
    "duration": 15,
    "start_time": "2025-01-23T15:07:44.006Z"
   },
   {
    "duration": 13,
    "start_time": "2025-01-23T15:07:44.023Z"
   },
   {
    "duration": 6,
    "start_time": "2025-01-23T15:07:44.037Z"
   },
   {
    "duration": 1091,
    "start_time": "2025-01-23T15:07:44.044Z"
   },
   {
    "duration": 6,
    "start_time": "2025-01-23T15:07:45.136Z"
   },
   {
    "duration": 46,
    "start_time": "2025-01-23T15:07:45.143Z"
   },
   {
    "duration": 34,
    "start_time": "2025-01-23T15:07:45.190Z"
   },
   {
    "duration": 39,
    "start_time": "2025-01-23T15:07:45.225Z"
   },
   {
    "duration": 58,
    "start_time": "2025-01-23T15:07:45.266Z"
   },
   {
    "duration": 15,
    "start_time": "2025-01-23T15:07:45.326Z"
   },
   {
    "duration": 14,
    "start_time": "2025-01-23T15:07:45.342Z"
   },
   {
    "duration": 29,
    "start_time": "2025-01-23T15:07:45.357Z"
   },
   {
    "duration": 41,
    "start_time": "2025-01-23T15:07:45.387Z"
   },
   {
    "duration": 34,
    "start_time": "2025-01-23T15:07:45.430Z"
   },
   {
    "duration": 18,
    "start_time": "2025-01-23T15:07:45.466Z"
   },
   {
    "duration": 10,
    "start_time": "2025-01-23T15:07:45.486Z"
   },
   {
    "duration": 13,
    "start_time": "2025-01-23T15:07:45.498Z"
   },
   {
    "duration": 29,
    "start_time": "2025-01-23T15:07:45.513Z"
   },
   {
    "duration": 26,
    "start_time": "2025-01-23T15:07:45.543Z"
   },
   {
    "duration": 208,
    "start_time": "2025-01-23T15:07:45.571Z"
   },
   {
    "duration": 27,
    "start_time": "2025-01-23T15:07:45.780Z"
   },
   {
    "duration": 12,
    "start_time": "2025-01-23T15:07:45.808Z"
   },
   {
    "duration": 4,
    "start_time": "2025-01-23T15:07:45.821Z"
   },
   {
    "duration": 115,
    "start_time": "2025-01-23T15:07:45.827Z"
   },
   {
    "duration": 0,
    "start_time": "2025-01-23T15:07:45.944Z"
   },
   {
    "duration": 0,
    "start_time": "2025-01-23T15:07:45.945Z"
   },
   {
    "duration": 0,
    "start_time": "2025-01-23T15:07:45.946Z"
   },
   {
    "duration": 0,
    "start_time": "2025-01-23T15:07:45.947Z"
   },
   {
    "duration": 0,
    "start_time": "2025-01-23T15:07:45.948Z"
   },
   {
    "duration": 0,
    "start_time": "2025-01-23T15:07:45.953Z"
   },
   {
    "duration": 0,
    "start_time": "2025-01-23T15:07:45.955Z"
   },
   {
    "duration": 0,
    "start_time": "2025-01-23T15:07:45.956Z"
   },
   {
    "duration": 0,
    "start_time": "2025-01-23T15:07:45.957Z"
   },
   {
    "duration": 0,
    "start_time": "2025-01-23T15:07:45.958Z"
   },
   {
    "duration": 0,
    "start_time": "2025-01-23T15:07:45.959Z"
   },
   {
    "duration": 0,
    "start_time": "2025-01-23T15:07:45.960Z"
   },
   {
    "duration": 0,
    "start_time": "2025-01-23T15:07:45.961Z"
   },
   {
    "duration": 0,
    "start_time": "2025-01-23T15:07:45.962Z"
   },
   {
    "duration": 0,
    "start_time": "2025-01-23T15:07:45.963Z"
   },
   {
    "duration": 0,
    "start_time": "2025-01-23T15:07:45.964Z"
   },
   {
    "duration": 10,
    "start_time": "2025-01-23T15:07:56.176Z"
   },
   {
    "duration": 7,
    "start_time": "2025-01-23T15:08:07.324Z"
   },
   {
    "duration": 5,
    "start_time": "2025-01-23T15:08:07.488Z"
   },
   {
    "duration": 14,
    "start_time": "2025-01-23T15:08:11.292Z"
   },
   {
    "duration": 5,
    "start_time": "2025-01-23T15:08:11.615Z"
   },
   {
    "duration": 185,
    "start_time": "2025-01-23T15:08:11.760Z"
   },
   {
    "duration": 176,
    "start_time": "2025-01-23T15:08:12.459Z"
   },
   {
    "duration": 275,
    "start_time": "2025-01-23T15:08:12.752Z"
   },
   {
    "duration": 165,
    "start_time": "2025-01-23T15:08:13.038Z"
   },
   {
    "duration": 167,
    "start_time": "2025-01-23T15:08:13.318Z"
   },
   {
    "duration": 197,
    "start_time": "2025-01-23T15:08:13.611Z"
   },
   {
    "duration": 192,
    "start_time": "2025-01-23T15:08:13.910Z"
   },
   {
    "duration": 219,
    "start_time": "2025-01-23T15:08:14.203Z"
   },
   {
    "duration": 14,
    "start_time": "2025-01-23T15:08:14.660Z"
   },
   {
    "duration": 10,
    "start_time": "2025-01-23T15:08:14.816Z"
   },
   {
    "duration": 9,
    "start_time": "2025-01-23T15:08:15.122Z"
   },
   {
    "duration": 6,
    "start_time": "2025-01-23T15:08:48.848Z"
   },
   {
    "duration": 10,
    "start_time": "2025-01-23T15:08:51.924Z"
   },
   {
    "duration": 394,
    "start_time": "2025-01-23T15:08:56.236Z"
   },
   {
    "duration": 9,
    "start_time": "2025-01-23T15:09:03.001Z"
   },
   {
    "duration": 2239,
    "start_time": "2025-01-23T15:09:50.071Z"
   },
   {
    "duration": 1309,
    "start_time": "2025-01-23T15:09:52.312Z"
   },
   {
    "duration": 61,
    "start_time": "2025-01-23T15:09:53.622Z"
   },
   {
    "duration": 15,
    "start_time": "2025-01-23T15:09:53.684Z"
   },
   {
    "duration": 52,
    "start_time": "2025-01-23T15:09:53.700Z"
   },
   {
    "duration": 17,
    "start_time": "2025-01-23T15:09:53.753Z"
   },
   {
    "duration": 10,
    "start_time": "2025-01-23T15:09:53.771Z"
   },
   {
    "duration": 14,
    "start_time": "2025-01-23T15:09:53.783Z"
   },
   {
    "duration": 7,
    "start_time": "2025-01-23T15:09:53.798Z"
   },
   {
    "duration": 10,
    "start_time": "2025-01-23T15:09:53.807Z"
   },
   {
    "duration": 7,
    "start_time": "2025-01-23T15:09:53.818Z"
   },
   {
    "duration": 28,
    "start_time": "2025-01-23T15:09:53.826Z"
   },
   {
    "duration": 5,
    "start_time": "2025-01-23T15:09:53.856Z"
   },
   {
    "duration": 11,
    "start_time": "2025-01-23T15:09:53.862Z"
   },
   {
    "duration": 9,
    "start_time": "2025-01-23T15:09:53.874Z"
   },
   {
    "duration": 4,
    "start_time": "2025-01-23T15:09:53.885Z"
   },
   {
    "duration": 18,
    "start_time": "2025-01-23T15:09:53.891Z"
   },
   {
    "duration": 30,
    "start_time": "2025-01-23T15:09:53.910Z"
   },
   {
    "duration": 11,
    "start_time": "2025-01-23T15:09:53.941Z"
   },
   {
    "duration": 7,
    "start_time": "2025-01-23T15:09:53.953Z"
   },
   {
    "duration": 13,
    "start_time": "2025-01-23T15:09:53.961Z"
   },
   {
    "duration": 9,
    "start_time": "2025-01-23T15:09:53.976Z"
   },
   {
    "duration": 26,
    "start_time": "2025-01-23T15:09:53.987Z"
   },
   {
    "duration": 4,
    "start_time": "2025-01-23T15:09:54.014Z"
   },
   {
    "duration": 168,
    "start_time": "2025-01-23T15:09:54.019Z"
   },
   {
    "duration": 144,
    "start_time": "2025-01-23T15:09:54.188Z"
   },
   {
    "duration": 180,
    "start_time": "2025-01-23T15:09:54.333Z"
   },
   {
    "duration": 214,
    "start_time": "2025-01-23T15:09:54.516Z"
   },
   {
    "duration": 5,
    "start_time": "2025-01-23T15:09:54.731Z"
   },
   {
    "duration": 137,
    "start_time": "2025-01-23T15:09:54.738Z"
   },
   {
    "duration": 5,
    "start_time": "2025-01-23T15:09:54.876Z"
   },
   {
    "duration": 182,
    "start_time": "2025-01-23T15:09:54.882Z"
   },
   {
    "duration": 212,
    "start_time": "2025-01-23T15:09:55.065Z"
   },
   {
    "duration": 214,
    "start_time": "2025-01-23T15:09:55.279Z"
   },
   {
    "duration": 201,
    "start_time": "2025-01-23T15:09:55.494Z"
   },
   {
    "duration": 1290,
    "start_time": "2025-01-23T15:09:55.697Z"
   },
   {
    "duration": 15,
    "start_time": "2025-01-23T15:09:56.988Z"
   },
   {
    "duration": 3,
    "start_time": "2025-01-23T15:09:57.004Z"
   },
   {
    "duration": 6,
    "start_time": "2025-01-23T15:09:57.009Z"
   },
   {
    "duration": 20,
    "start_time": "2025-01-23T15:09:57.016Z"
   },
   {
    "duration": 4,
    "start_time": "2025-01-23T15:09:57.037Z"
   },
   {
    "duration": 106,
    "start_time": "2025-01-23T15:09:57.042Z"
   },
   {
    "duration": 0,
    "start_time": "2025-01-23T15:09:57.149Z"
   },
   {
    "duration": 0,
    "start_time": "2025-01-23T15:09:57.154Z"
   },
   {
    "duration": 0,
    "start_time": "2025-01-23T15:09:57.155Z"
   },
   {
    "duration": 0,
    "start_time": "2025-01-23T15:09:57.156Z"
   },
   {
    "duration": 0,
    "start_time": "2025-01-23T15:09:57.157Z"
   },
   {
    "duration": 0,
    "start_time": "2025-01-23T15:09:57.158Z"
   },
   {
    "duration": 0,
    "start_time": "2025-01-23T15:09:57.159Z"
   },
   {
    "duration": 0,
    "start_time": "2025-01-23T15:09:57.160Z"
   },
   {
    "duration": 0,
    "start_time": "2025-01-23T15:09:57.161Z"
   },
   {
    "duration": 0,
    "start_time": "2025-01-23T15:09:57.162Z"
   },
   {
    "duration": 0,
    "start_time": "2025-01-23T15:09:57.163Z"
   },
   {
    "duration": 0,
    "start_time": "2025-01-23T15:09:57.164Z"
   },
   {
    "duration": 0,
    "start_time": "2025-01-23T15:09:57.165Z"
   },
   {
    "duration": 0,
    "start_time": "2025-01-23T15:09:57.166Z"
   },
   {
    "duration": 0,
    "start_time": "2025-01-23T15:09:57.167Z"
   },
   {
    "duration": 0,
    "start_time": "2025-01-23T15:09:57.168Z"
   },
   {
    "duration": 0,
    "start_time": "2025-01-23T15:09:57.169Z"
   },
   {
    "duration": 0,
    "start_time": "2025-01-23T15:09:57.170Z"
   },
   {
    "duration": 0,
    "start_time": "2025-01-23T15:09:57.171Z"
   },
   {
    "duration": 0,
    "start_time": "2025-01-23T15:09:57.172Z"
   },
   {
    "duration": 0,
    "start_time": "2025-01-23T15:09:57.172Z"
   },
   {
    "duration": 0,
    "start_time": "2025-01-23T15:09:57.173Z"
   },
   {
    "duration": 0,
    "start_time": "2025-01-23T15:09:57.175Z"
   },
   {
    "duration": 0,
    "start_time": "2025-01-23T15:09:57.175Z"
   },
   {
    "duration": 0,
    "start_time": "2025-01-23T15:09:57.177Z"
   },
   {
    "duration": 0,
    "start_time": "2025-01-23T15:09:57.178Z"
   },
   {
    "duration": 0,
    "start_time": "2025-01-23T15:09:57.178Z"
   },
   {
    "duration": 0,
    "start_time": "2025-01-23T15:09:57.179Z"
   },
   {
    "duration": 0,
    "start_time": "2025-01-23T15:09:57.180Z"
   },
   {
    "duration": 0,
    "start_time": "2025-01-23T15:09:57.181Z"
   },
   {
    "duration": 0,
    "start_time": "2025-01-23T15:09:57.182Z"
   },
   {
    "duration": 0,
    "start_time": "2025-01-23T15:09:57.183Z"
   },
   {
    "duration": 0,
    "start_time": "2025-01-23T15:09:57.184Z"
   },
   {
    "duration": 0,
    "start_time": "2025-01-23T15:09:57.185Z"
   },
   {
    "duration": 0,
    "start_time": "2025-01-23T15:09:57.185Z"
   },
   {
    "duration": 0,
    "start_time": "2025-01-23T15:09:57.186Z"
   },
   {
    "duration": 2326,
    "start_time": "2025-01-23T15:10:10.362Z"
   },
   {
    "duration": 1369,
    "start_time": "2025-01-23T15:10:12.690Z"
   },
   {
    "duration": 60,
    "start_time": "2025-01-23T15:10:14.061Z"
   },
   {
    "duration": 16,
    "start_time": "2025-01-23T15:10:14.123Z"
   },
   {
    "duration": 8,
    "start_time": "2025-01-23T15:10:14.141Z"
   },
   {
    "duration": 8,
    "start_time": "2025-01-23T15:10:14.150Z"
   },
   {
    "duration": 22,
    "start_time": "2025-01-23T15:10:14.159Z"
   },
   {
    "duration": 13,
    "start_time": "2025-01-23T15:10:14.183Z"
   },
   {
    "duration": 5,
    "start_time": "2025-01-23T15:10:14.198Z"
   },
   {
    "duration": 24,
    "start_time": "2025-01-23T15:10:14.204Z"
   },
   {
    "duration": 31,
    "start_time": "2025-01-23T15:10:14.229Z"
   },
   {
    "duration": 10,
    "start_time": "2025-01-23T15:10:14.262Z"
   },
   {
    "duration": 7,
    "start_time": "2025-01-23T15:10:14.274Z"
   },
   {
    "duration": 11,
    "start_time": "2025-01-23T15:10:14.284Z"
   },
   {
    "duration": 9,
    "start_time": "2025-01-23T15:10:14.296Z"
   },
   {
    "duration": 14,
    "start_time": "2025-01-23T15:10:14.306Z"
   },
   {
    "duration": 6,
    "start_time": "2025-01-23T15:10:14.321Z"
   },
   {
    "duration": 25,
    "start_time": "2025-01-23T15:10:14.329Z"
   },
   {
    "duration": 5,
    "start_time": "2025-01-23T15:10:14.355Z"
   },
   {
    "duration": 13,
    "start_time": "2025-01-23T15:10:14.361Z"
   },
   {
    "duration": 20,
    "start_time": "2025-01-23T15:10:14.375Z"
   },
   {
    "duration": 11,
    "start_time": "2025-01-23T15:10:14.396Z"
   },
   {
    "duration": 28,
    "start_time": "2025-01-23T15:10:14.409Z"
   },
   {
    "duration": 20,
    "start_time": "2025-01-23T15:10:14.439Z"
   },
   {
    "duration": 166,
    "start_time": "2025-01-23T15:10:14.461Z"
   },
   {
    "duration": 156,
    "start_time": "2025-01-23T15:10:14.629Z"
   },
   {
    "duration": 150,
    "start_time": "2025-01-23T15:10:14.787Z"
   },
   {
    "duration": 216,
    "start_time": "2025-01-23T15:10:14.939Z"
   },
   {
    "duration": 6,
    "start_time": "2025-01-23T15:10:15.157Z"
   },
   {
    "duration": 168,
    "start_time": "2025-01-23T15:10:15.165Z"
   },
   {
    "duration": 5,
    "start_time": "2025-01-23T15:10:15.335Z"
   },
   {
    "duration": 181,
    "start_time": "2025-01-23T15:10:15.342Z"
   },
   {
    "duration": 246,
    "start_time": "2025-01-23T15:10:15.525Z"
   },
   {
    "duration": 208,
    "start_time": "2025-01-23T15:10:15.773Z"
   },
   {
    "duration": 183,
    "start_time": "2025-01-23T15:10:15.983Z"
   },
   {
    "duration": 1294,
    "start_time": "2025-01-23T15:10:16.168Z"
   },
   {
    "duration": 16,
    "start_time": "2025-01-23T15:10:17.464Z"
   },
   {
    "duration": 11,
    "start_time": "2025-01-23T15:10:17.482Z"
   },
   {
    "duration": 9,
    "start_time": "2025-01-23T15:10:17.494Z"
   },
   {
    "duration": 6,
    "start_time": "2025-01-23T15:10:17.504Z"
   },
   {
    "duration": 4,
    "start_time": "2025-01-23T15:10:17.515Z"
   },
   {
    "duration": 1068,
    "start_time": "2025-01-23T15:10:17.520Z"
   },
   {
    "duration": 6,
    "start_time": "2025-01-23T15:10:18.590Z"
   },
   {
    "duration": 10,
    "start_time": "2025-01-23T15:10:18.597Z"
   },
   {
    "duration": 21,
    "start_time": "2025-01-23T15:10:18.609Z"
   },
   {
    "duration": 55,
    "start_time": "2025-01-23T15:10:18.631Z"
   },
   {
    "duration": 58,
    "start_time": "2025-01-23T15:10:18.688Z"
   },
   {
    "duration": 15,
    "start_time": "2025-01-23T15:10:18.748Z"
   },
   {
    "duration": 43,
    "start_time": "2025-01-23T15:10:18.764Z"
   },
   {
    "duration": 28,
    "start_time": "2025-01-23T15:10:18.809Z"
   },
   {
    "duration": 12,
    "start_time": "2025-01-23T15:10:18.839Z"
   },
   {
    "duration": 19,
    "start_time": "2025-01-23T15:10:18.853Z"
   },
   {
    "duration": 11,
    "start_time": "2025-01-23T15:10:18.874Z"
   },
   {
    "duration": 12,
    "start_time": "2025-01-23T15:10:18.887Z"
   },
   {
    "duration": 7,
    "start_time": "2025-01-23T15:10:18.901Z"
   },
   {
    "duration": 34,
    "start_time": "2025-01-23T15:10:18.909Z"
   },
   {
    "duration": 12,
    "start_time": "2025-01-23T15:10:18.945Z"
   },
   {
    "duration": 9,
    "start_time": "2025-01-23T15:10:18.959Z"
   },
   {
    "duration": 6,
    "start_time": "2025-01-23T15:10:18.970Z"
   },
   {
    "duration": 7,
    "start_time": "2025-01-23T15:10:18.978Z"
   },
   {
    "duration": 7,
    "start_time": "2025-01-23T15:10:18.987Z"
   },
   {
    "duration": 13,
    "start_time": "2025-01-23T15:10:18.995Z"
   },
   {
    "duration": 8,
    "start_time": "2025-01-23T15:10:19.009Z"
   },
   {
    "duration": 36,
    "start_time": "2025-01-23T15:10:19.019Z"
   },
   {
    "duration": 16,
    "start_time": "2025-01-23T15:10:19.057Z"
   },
   {
    "duration": 6,
    "start_time": "2025-01-23T15:10:19.074Z"
   },
   {
    "duration": 211,
    "start_time": "2025-01-23T15:10:19.082Z"
   },
   {
    "duration": 279,
    "start_time": "2025-01-23T15:10:19.295Z"
   },
   {
    "duration": 198,
    "start_time": "2025-01-23T15:10:19.576Z"
   },
   {
    "duration": 175,
    "start_time": "2025-01-23T15:10:19.776Z"
   },
   {
    "duration": 170,
    "start_time": "2025-01-23T15:10:19.954Z"
   },
   {
    "duration": 209,
    "start_time": "2025-01-23T15:10:20.126Z"
   },
   {
    "duration": 214,
    "start_time": "2025-01-23T15:10:20.337Z"
   },
   {
    "duration": 220,
    "start_time": "2025-01-23T15:10:20.554Z"
   },
   {
    "duration": 8,
    "start_time": "2025-01-23T15:10:20.776Z"
   },
   {
    "duration": 476,
    "start_time": "2025-01-23T15:10:20.785Z"
   },
   {
    "duration": 126,
    "start_time": "2025-01-23T15:10:21.263Z"
   },
   {
    "duration": 0,
    "start_time": "2025-01-23T15:10:21.391Z"
   },
   {
    "duration": 11,
    "start_time": "2025-01-23T15:12:23.398Z"
   },
   {
    "duration": 15,
    "start_time": "2025-01-23T15:12:26.759Z"
   },
   {
    "duration": 12,
    "start_time": "2025-01-23T15:12:40.726Z"
   },
   {
    "duration": 14,
    "start_time": "2025-01-23T15:12:59.628Z"
   },
   {
    "duration": 10,
    "start_time": "2025-01-23T15:14:02.625Z"
   },
   {
    "duration": 15,
    "start_time": "2025-01-23T15:14:07.728Z"
   },
   {
    "duration": 15,
    "start_time": "2025-01-23T15:14:22.224Z"
   },
   {
    "duration": 15,
    "start_time": "2025-01-23T15:14:33.195Z"
   },
   {
    "duration": 17,
    "start_time": "2025-01-23T15:14:37.103Z"
   },
   {
    "duration": 16,
    "start_time": "2025-01-23T15:17:06.734Z"
   },
   {
    "duration": 4,
    "start_time": "2025-01-23T15:17:20.924Z"
   },
   {
    "duration": 8,
    "start_time": "2025-01-23T15:17:27.935Z"
   },
   {
    "duration": 8,
    "start_time": "2025-01-23T15:17:48.146Z"
   },
   {
    "duration": 6,
    "start_time": "2025-01-23T15:17:58.535Z"
   },
   {
    "duration": 19,
    "start_time": "2025-01-23T15:18:01.706Z"
   },
   {
    "duration": 5,
    "start_time": "2025-01-23T15:18:18.059Z"
   },
   {
    "duration": 4,
    "start_time": "2025-01-23T15:18:32.507Z"
   },
   {
    "duration": 121,
    "start_time": "2025-01-23T15:19:08.767Z"
   },
   {
    "duration": 4,
    "start_time": "2025-01-23T15:19:15.548Z"
   },
   {
    "duration": 8,
    "start_time": "2025-01-23T15:19:24.571Z"
   },
   {
    "duration": 11,
    "start_time": "2025-01-23T15:19:36.049Z"
   },
   {
    "duration": 6,
    "start_time": "2025-01-23T15:19:44.997Z"
   },
   {
    "duration": 4,
    "start_time": "2025-01-23T15:19:45.410Z"
   },
   {
    "duration": 1038,
    "start_time": "2025-01-23T15:19:45.838Z"
   },
   {
    "duration": 6,
    "start_time": "2025-01-23T15:19:46.878Z"
   },
   {
    "duration": 4,
    "start_time": "2025-01-23T15:19:55.066Z"
   },
   {
    "duration": 13,
    "start_time": "2025-01-23T15:19:56.005Z"
   },
   {
    "duration": 15,
    "start_time": "2025-01-23T15:20:05.159Z"
   },
   {
    "duration": 2278,
    "start_time": "2025-01-23T15:20:20.677Z"
   },
   {
    "duration": 2040,
    "start_time": "2025-01-23T15:20:22.958Z"
   },
   {
    "duration": 62,
    "start_time": "2025-01-23T15:20:24.999Z"
   },
   {
    "duration": 18,
    "start_time": "2025-01-23T15:20:25.063Z"
   },
   {
    "duration": 9,
    "start_time": "2025-01-23T15:20:25.083Z"
   },
   {
    "duration": 7,
    "start_time": "2025-01-23T15:20:25.093Z"
   },
   {
    "duration": 14,
    "start_time": "2025-01-23T15:20:25.101Z"
   },
   {
    "duration": 13,
    "start_time": "2025-01-23T15:20:25.117Z"
   },
   {
    "duration": 23,
    "start_time": "2025-01-23T15:20:25.132Z"
   },
   {
    "duration": 14,
    "start_time": "2025-01-23T15:20:25.158Z"
   },
   {
    "duration": 10,
    "start_time": "2025-01-23T15:20:25.174Z"
   },
   {
    "duration": 6,
    "start_time": "2025-01-23T15:20:25.186Z"
   },
   {
    "duration": 6,
    "start_time": "2025-01-23T15:20:25.193Z"
   },
   {
    "duration": 9,
    "start_time": "2025-01-23T15:20:25.200Z"
   },
   {
    "duration": 8,
    "start_time": "2025-01-23T15:20:25.211Z"
   },
   {
    "duration": 6,
    "start_time": "2025-01-23T15:20:25.253Z"
   },
   {
    "duration": 10,
    "start_time": "2025-01-23T15:20:25.260Z"
   },
   {
    "duration": 5,
    "start_time": "2025-01-23T15:20:25.271Z"
   },
   {
    "duration": 9,
    "start_time": "2025-01-23T15:20:25.277Z"
   },
   {
    "duration": 8,
    "start_time": "2025-01-23T15:20:25.287Z"
   },
   {
    "duration": 17,
    "start_time": "2025-01-23T15:20:25.296Z"
   },
   {
    "duration": 3,
    "start_time": "2025-01-23T15:20:25.315Z"
   },
   {
    "duration": 41,
    "start_time": "2025-01-23T15:20:25.319Z"
   },
   {
    "duration": 3,
    "start_time": "2025-01-23T15:20:25.361Z"
   },
   {
    "duration": 175,
    "start_time": "2025-01-23T15:20:25.365Z"
   },
   {
    "duration": 152,
    "start_time": "2025-01-23T15:20:25.542Z"
   },
   {
    "duration": 148,
    "start_time": "2025-01-23T15:20:25.696Z"
   },
   {
    "duration": 329,
    "start_time": "2025-01-23T15:20:25.853Z"
   },
   {
    "duration": 7,
    "start_time": "2025-01-23T15:20:26.184Z"
   },
   {
    "duration": 286,
    "start_time": "2025-01-23T15:20:26.193Z"
   },
   {
    "duration": 5,
    "start_time": "2025-01-23T15:20:26.480Z"
   },
   {
    "duration": 379,
    "start_time": "2025-01-23T15:20:26.487Z"
   },
   {
    "duration": 486,
    "start_time": "2025-01-23T15:20:26.868Z"
   },
   {
    "duration": 406,
    "start_time": "2025-01-23T15:20:27.356Z"
   },
   {
    "duration": 332,
    "start_time": "2025-01-23T15:20:27.764Z"
   },
   {
    "duration": 2504,
    "start_time": "2025-01-23T15:20:28.098Z"
   },
   {
    "duration": 51,
    "start_time": "2025-01-23T15:20:30.604Z"
   },
   {
    "duration": 7,
    "start_time": "2025-01-23T15:20:30.656Z"
   },
   {
    "duration": 19,
    "start_time": "2025-01-23T15:20:30.664Z"
   },
   {
    "duration": 6,
    "start_time": "2025-01-23T15:20:30.684Z"
   },
   {
    "duration": 25,
    "start_time": "2025-01-23T15:20:30.691Z"
   },
   {
    "duration": 40,
    "start_time": "2025-01-23T15:20:30.718Z"
   },
   {
    "duration": 7,
    "start_time": "2025-01-23T15:20:30.759Z"
   },
   {
    "duration": 1321,
    "start_time": "2025-01-23T15:20:30.767Z"
   },
   {
    "duration": 4,
    "start_time": "2025-01-23T15:20:32.090Z"
   },
   {
    "duration": 17,
    "start_time": "2025-01-23T15:20:32.096Z"
   },
   {
    "duration": 13,
    "start_time": "2025-01-23T15:20:32.115Z"
   },
   {
    "duration": 43,
    "start_time": "2025-01-23T15:20:32.130Z"
   },
   {
    "duration": 68,
    "start_time": "2025-01-23T15:20:32.175Z"
   },
   {
    "duration": 15,
    "start_time": "2025-01-23T15:20:32.244Z"
   },
   {
    "duration": 14,
    "start_time": "2025-01-23T15:20:32.261Z"
   },
   {
    "duration": 7,
    "start_time": "2025-01-23T15:20:32.276Z"
   },
   {
    "duration": 10,
    "start_time": "2025-01-23T15:20:32.284Z"
   },
   {
    "duration": 33,
    "start_time": "2025-01-23T15:20:32.295Z"
   },
   {
    "duration": 11,
    "start_time": "2025-01-23T15:20:32.329Z"
   },
   {
    "duration": 14,
    "start_time": "2025-01-23T15:20:32.342Z"
   },
   {
    "duration": 13,
    "start_time": "2025-01-23T15:20:32.358Z"
   },
   {
    "duration": 13,
    "start_time": "2025-01-23T15:20:32.372Z"
   },
   {
    "duration": 9,
    "start_time": "2025-01-23T15:20:32.387Z"
   },
   {
    "duration": 29,
    "start_time": "2025-01-23T15:20:32.397Z"
   },
   {
    "duration": 11,
    "start_time": "2025-01-23T15:20:32.427Z"
   },
   {
    "duration": 20,
    "start_time": "2025-01-23T15:20:32.439Z"
   },
   {
    "duration": 8,
    "start_time": "2025-01-23T15:20:32.461Z"
   },
   {
    "duration": 19,
    "start_time": "2025-01-23T15:20:32.470Z"
   },
   {
    "duration": 11,
    "start_time": "2025-01-23T15:20:32.491Z"
   },
   {
    "duration": 12,
    "start_time": "2025-01-23T15:20:32.503Z"
   },
   {
    "duration": 26,
    "start_time": "2025-01-23T15:20:32.516Z"
   },
   {
    "duration": 13,
    "start_time": "2025-01-23T15:20:32.543Z"
   },
   {
    "duration": 188,
    "start_time": "2025-01-23T15:20:32.557Z"
   },
   {
    "duration": 281,
    "start_time": "2025-01-23T15:20:32.746Z"
   },
   {
    "duration": 184,
    "start_time": "2025-01-23T15:20:33.028Z"
   },
   {
    "duration": 163,
    "start_time": "2025-01-23T15:20:33.213Z"
   },
   {
    "duration": 165,
    "start_time": "2025-01-23T15:20:33.377Z"
   },
   {
    "duration": 194,
    "start_time": "2025-01-23T15:20:33.544Z"
   },
   {
    "duration": 196,
    "start_time": "2025-01-23T15:20:33.740Z"
   },
   {
    "duration": 205,
    "start_time": "2025-01-23T15:20:33.937Z"
   },
   {
    "duration": 12,
    "start_time": "2025-01-23T15:20:34.144Z"
   },
   {
    "duration": 402,
    "start_time": "2025-01-23T15:20:34.157Z"
   },
   {
    "duration": 11,
    "start_time": "2025-01-23T15:20:34.561Z"
   },
   {
    "duration": 13,
    "start_time": "2025-01-23T15:20:34.573Z"
   },
   {
    "duration": 30,
    "start_time": "2025-01-23T15:20:34.587Z"
   },
   {
    "duration": 3,
    "start_time": "2025-01-23T15:20:34.622Z"
   },
   {
    "duration": 19,
    "start_time": "2025-01-23T15:20:34.626Z"
   },
   {
    "duration": 2293,
    "start_time": "2025-01-23T15:20:53.685Z"
   },
   {
    "duration": 1396,
    "start_time": "2025-01-23T15:20:55.980Z"
   },
   {
    "duration": 104,
    "start_time": "2025-01-23T15:20:57.377Z"
   },
   {
    "duration": 21,
    "start_time": "2025-01-23T15:20:57.483Z"
   },
   {
    "duration": 50,
    "start_time": "2025-01-23T15:20:57.507Z"
   },
   {
    "duration": 8,
    "start_time": "2025-01-23T15:20:57.559Z"
   },
   {
    "duration": 6,
    "start_time": "2025-01-23T15:20:57.568Z"
   },
   {
    "duration": 13,
    "start_time": "2025-01-23T15:20:57.576Z"
   },
   {
    "duration": 6,
    "start_time": "2025-01-23T15:20:57.591Z"
   },
   {
    "duration": 12,
    "start_time": "2025-01-23T15:20:57.653Z"
   },
   {
    "duration": 44,
    "start_time": "2025-01-23T15:20:57.666Z"
   },
   {
    "duration": 45,
    "start_time": "2025-01-23T15:20:57.711Z"
   },
   {
    "duration": 10,
    "start_time": "2025-01-23T15:20:57.758Z"
   },
   {
    "duration": 10,
    "start_time": "2025-01-23T15:20:57.771Z"
   },
   {
    "duration": 9,
    "start_time": "2025-01-23T15:20:57.783Z"
   },
   {
    "duration": 6,
    "start_time": "2025-01-23T15:20:57.794Z"
   },
   {
    "duration": 55,
    "start_time": "2025-01-23T15:20:57.802Z"
   },
   {
    "duration": 37,
    "start_time": "2025-01-23T15:20:57.859Z"
   },
   {
    "duration": 21,
    "start_time": "2025-01-23T15:20:57.898Z"
   },
   {
    "duration": 40,
    "start_time": "2025-01-23T15:20:57.921Z"
   },
   {
    "duration": 32,
    "start_time": "2025-01-23T15:20:57.962Z"
   },
   {
    "duration": 4,
    "start_time": "2025-01-23T15:20:57.995Z"
   },
   {
    "duration": 60,
    "start_time": "2025-01-23T15:20:58.000Z"
   },
   {
    "duration": 11,
    "start_time": "2025-01-23T15:20:58.061Z"
   },
   {
    "duration": 324,
    "start_time": "2025-01-23T15:20:58.073Z"
   },
   {
    "duration": 168,
    "start_time": "2025-01-23T15:20:58.453Z"
   },
   {
    "duration": 148,
    "start_time": "2025-01-23T15:20:58.623Z"
   },
   {
    "duration": 224,
    "start_time": "2025-01-23T15:20:58.772Z"
   },
   {
    "duration": 58,
    "start_time": "2025-01-23T15:20:58.997Z"
   },
   {
    "duration": 168,
    "start_time": "2025-01-23T15:20:59.056Z"
   },
   {
    "duration": 6,
    "start_time": "2025-01-23T15:20:59.254Z"
   },
   {
    "duration": 178,
    "start_time": "2025-01-23T15:20:59.261Z"
   },
   {
    "duration": 213,
    "start_time": "2025-01-23T15:20:59.441Z"
   },
   {
    "duration": 207,
    "start_time": "2025-01-23T15:20:59.655Z"
   },
   {
    "duration": 188,
    "start_time": "2025-01-23T15:20:59.863Z"
   },
   {
    "duration": 1282,
    "start_time": "2025-01-23T15:21:00.052Z"
   },
   {
    "duration": 16,
    "start_time": "2025-01-23T15:21:01.336Z"
   },
   {
    "duration": 24,
    "start_time": "2025-01-23T15:21:01.353Z"
   },
   {
    "duration": 15,
    "start_time": "2025-01-23T15:21:01.379Z"
   },
   {
    "duration": 20,
    "start_time": "2025-01-23T15:21:01.396Z"
   },
   {
    "duration": 11,
    "start_time": "2025-01-23T15:21:01.421Z"
   },
   {
    "duration": 1071,
    "start_time": "2025-01-23T15:21:01.433Z"
   },
   {
    "duration": 5,
    "start_time": "2025-01-23T15:21:02.506Z"
   },
   {
    "duration": 9,
    "start_time": "2025-01-23T15:21:02.514Z"
   },
   {
    "duration": 56,
    "start_time": "2025-01-23T15:21:02.525Z"
   },
   {
    "duration": 71,
    "start_time": "2025-01-23T15:21:02.583Z"
   },
   {
    "duration": 77,
    "start_time": "2025-01-23T15:21:02.656Z"
   },
   {
    "duration": 15,
    "start_time": "2025-01-23T15:21:02.735Z"
   },
   {
    "duration": 17,
    "start_time": "2025-01-23T15:21:02.751Z"
   },
   {
    "duration": 37,
    "start_time": "2025-01-23T15:21:02.769Z"
   },
   {
    "duration": 101,
    "start_time": "2025-01-23T15:21:02.807Z"
   },
   {
    "duration": 20,
    "start_time": "2025-01-23T15:21:02.909Z"
   },
   {
    "duration": 32,
    "start_time": "2025-01-23T15:21:02.931Z"
   },
   {
    "duration": 31,
    "start_time": "2025-01-23T15:21:02.965Z"
   },
   {
    "duration": 17,
    "start_time": "2025-01-23T15:21:02.998Z"
   },
   {
    "duration": 12,
    "start_time": "2025-01-23T15:21:03.017Z"
   },
   {
    "duration": 18,
    "start_time": "2025-01-23T15:21:03.030Z"
   },
   {
    "duration": 24,
    "start_time": "2025-01-23T15:21:03.050Z"
   },
   {
    "duration": 16,
    "start_time": "2025-01-23T15:21:03.075Z"
   },
   {
    "duration": 6,
    "start_time": "2025-01-23T15:21:03.092Z"
   },
   {
    "duration": 15,
    "start_time": "2025-01-23T15:21:03.100Z"
   },
   {
    "duration": 16,
    "start_time": "2025-01-23T15:21:03.117Z"
   },
   {
    "duration": 9,
    "start_time": "2025-01-23T15:21:03.134Z"
   },
   {
    "duration": 21,
    "start_time": "2025-01-23T15:21:03.144Z"
   },
   {
    "duration": 36,
    "start_time": "2025-01-23T15:21:03.167Z"
   },
   {
    "duration": 9,
    "start_time": "2025-01-23T15:21:03.205Z"
   },
   {
    "duration": 184,
    "start_time": "2025-01-23T15:21:03.215Z"
   },
   {
    "duration": 268,
    "start_time": "2025-01-23T15:21:03.400Z"
   },
   {
    "duration": 187,
    "start_time": "2025-01-23T15:21:03.670Z"
   },
   {
    "duration": 168,
    "start_time": "2025-01-23T15:21:03.859Z"
   },
   {
    "duration": 163,
    "start_time": "2025-01-23T15:21:04.028Z"
   },
   {
    "duration": 185,
    "start_time": "2025-01-23T15:21:04.193Z"
   },
   {
    "duration": 224,
    "start_time": "2025-01-23T15:21:04.379Z"
   },
   {
    "duration": 214,
    "start_time": "2025-01-23T15:21:04.605Z"
   },
   {
    "duration": 6,
    "start_time": "2025-01-23T15:21:04.820Z"
   },
   {
    "duration": 406,
    "start_time": "2025-01-23T15:21:04.827Z"
   },
   {
    "duration": 20,
    "start_time": "2025-01-23T15:21:05.234Z"
   },
   {
    "duration": 9,
    "start_time": "2025-01-23T15:21:05.255Z"
   },
   {
    "duration": 34,
    "start_time": "2025-01-23T15:21:05.265Z"
   },
   {
    "duration": 3,
    "start_time": "2025-01-23T15:21:05.300Z"
   },
   {
    "duration": 9,
    "start_time": "2025-01-23T15:21:05.305Z"
   },
   {
    "duration": 4,
    "start_time": "2025-01-23T15:22:02.661Z"
   },
   {
    "duration": 4,
    "start_time": "2025-01-23T15:22:54.168Z"
   },
   {
    "duration": 5,
    "start_time": "2025-01-23T15:22:56.807Z"
   },
   {
    "duration": 3,
    "start_time": "2025-01-23T15:23:13.556Z"
   },
   {
    "duration": 4,
    "start_time": "2025-01-23T15:27:34.134Z"
   },
   {
    "duration": 107,
    "start_time": "2025-01-23T15:27:37.270Z"
   },
   {
    "duration": 11,
    "start_time": "2025-01-23T15:27:59.713Z"
   },
   {
    "duration": 4,
    "start_time": "2025-01-23T15:28:13.143Z"
   },
   {
    "duration": 18,
    "start_time": "2025-01-23T15:28:19.732Z"
   },
   {
    "duration": 16,
    "start_time": "2025-01-23T15:28:37.460Z"
   },
   {
    "duration": 9139,
    "start_time": "2025-01-23T15:28:45.004Z"
   },
   {
    "duration": 4,
    "start_time": "2025-01-23T15:29:13.383Z"
   },
   {
    "duration": 9168,
    "start_time": "2025-01-23T15:29:13.989Z"
   },
   {
    "duration": 1097,
    "start_time": "2025-01-23T15:29:44.762Z"
   },
   {
    "duration": 9,
    "start_time": "2025-01-23T15:30:07.701Z"
   },
   {
    "duration": 18,
    "start_time": "2025-01-23T15:30:11.029Z"
   },
   {
    "duration": 3,
    "start_time": "2025-01-23T15:30:58.140Z"
   },
   {
    "duration": 9,
    "start_time": "2025-01-23T15:31:34.150Z"
   },
   {
    "duration": 11,
    "start_time": "2025-01-23T15:31:38.081Z"
   },
   {
    "duration": 14,
    "start_time": "2025-01-23T15:31:46.688Z"
   },
   {
    "duration": 114,
    "start_time": "2025-01-23T15:31:57.706Z"
   },
   {
    "duration": 14,
    "start_time": "2025-01-23T15:32:05.603Z"
   },
   {
    "duration": 19,
    "start_time": "2025-01-23T15:32:41.921Z"
   },
   {
    "duration": 2328,
    "start_time": "2025-01-23T15:33:03.428Z"
   },
   {
    "duration": 1382,
    "start_time": "2025-01-23T15:33:05.759Z"
   },
   {
    "duration": 62,
    "start_time": "2025-01-23T15:33:07.142Z"
   },
   {
    "duration": 15,
    "start_time": "2025-01-23T15:33:07.206Z"
   },
   {
    "duration": 9,
    "start_time": "2025-01-23T15:33:07.222Z"
   },
   {
    "duration": 15,
    "start_time": "2025-01-23T15:33:07.233Z"
   },
   {
    "duration": 57,
    "start_time": "2025-01-23T15:33:07.249Z"
   },
   {
    "duration": 39,
    "start_time": "2025-01-23T15:33:07.307Z"
   },
   {
    "duration": 13,
    "start_time": "2025-01-23T15:33:07.348Z"
   },
   {
    "duration": 27,
    "start_time": "2025-01-23T15:33:07.363Z"
   },
   {
    "duration": 7,
    "start_time": "2025-01-23T15:33:07.391Z"
   },
   {
    "duration": 23,
    "start_time": "2025-01-23T15:33:07.400Z"
   },
   {
    "duration": 32,
    "start_time": "2025-01-23T15:33:07.424Z"
   },
   {
    "duration": 19,
    "start_time": "2025-01-23T15:33:07.458Z"
   },
   {
    "duration": 10,
    "start_time": "2025-01-23T15:33:07.479Z"
   },
   {
    "duration": 10,
    "start_time": "2025-01-23T15:33:07.491Z"
   },
   {
    "duration": 61,
    "start_time": "2025-01-23T15:33:07.503Z"
   },
   {
    "duration": 7,
    "start_time": "2025-01-23T15:33:07.566Z"
   },
   {
    "duration": 7,
    "start_time": "2025-01-23T15:33:07.575Z"
   },
   {
    "duration": 9,
    "start_time": "2025-01-23T15:33:07.583Z"
   },
   {
    "duration": 30,
    "start_time": "2025-01-23T15:33:07.593Z"
   },
   {
    "duration": 36,
    "start_time": "2025-01-23T15:33:07.625Z"
   },
   {
    "duration": 137,
    "start_time": "2025-01-23T15:33:07.662Z"
   },
   {
    "duration": 31,
    "start_time": "2025-01-23T15:33:07.801Z"
   },
   {
    "duration": 178,
    "start_time": "2025-01-23T15:33:07.834Z"
   },
   {
    "duration": 150,
    "start_time": "2025-01-23T15:33:08.013Z"
   },
   {
    "duration": 146,
    "start_time": "2025-01-23T15:33:08.165Z"
   },
   {
    "duration": 220,
    "start_time": "2025-01-23T15:33:08.315Z"
   },
   {
    "duration": 5,
    "start_time": "2025-01-23T15:33:08.537Z"
   },
   {
    "duration": 162,
    "start_time": "2025-01-23T15:33:08.544Z"
   },
   {
    "duration": 6,
    "start_time": "2025-01-23T15:33:08.708Z"
   },
   {
    "duration": 184,
    "start_time": "2025-01-23T15:33:08.716Z"
   },
   {
    "duration": 215,
    "start_time": "2025-01-23T15:33:08.902Z"
   },
   {
    "duration": 203,
    "start_time": "2025-01-23T15:33:09.119Z"
   },
   {
    "duration": 192,
    "start_time": "2025-01-23T15:33:09.324Z"
   },
   {
    "duration": 1305,
    "start_time": "2025-01-23T15:33:09.517Z"
   },
   {
    "duration": 16,
    "start_time": "2025-01-23T15:33:10.824Z"
   },
   {
    "duration": 73,
    "start_time": "2025-01-23T15:33:10.842Z"
   },
   {
    "duration": 70,
    "start_time": "2025-01-23T15:33:10.917Z"
   },
   {
    "duration": 15,
    "start_time": "2025-01-23T15:33:10.988Z"
   },
   {
    "duration": 11,
    "start_time": "2025-01-23T15:33:11.005Z"
   },
   {
    "duration": 1030,
    "start_time": "2025-01-23T15:33:11.017Z"
   },
   {
    "duration": 8,
    "start_time": "2025-01-23T15:33:12.048Z"
   },
   {
    "duration": 13,
    "start_time": "2025-01-23T15:33:12.057Z"
   },
   {
    "duration": 13,
    "start_time": "2025-01-23T15:33:12.072Z"
   },
   {
    "duration": 33,
    "start_time": "2025-01-23T15:33:12.086Z"
   },
   {
    "duration": 72,
    "start_time": "2025-01-23T15:33:12.120Z"
   },
   {
    "duration": 15,
    "start_time": "2025-01-23T15:33:12.193Z"
   },
   {
    "duration": 9,
    "start_time": "2025-01-23T15:33:12.210Z"
   },
   {
    "duration": 11,
    "start_time": "2025-01-23T15:33:12.221Z"
   },
   {
    "duration": 17,
    "start_time": "2025-01-23T15:33:12.234Z"
   },
   {
    "duration": 15,
    "start_time": "2025-01-23T15:33:12.253Z"
   },
   {
    "duration": 10,
    "start_time": "2025-01-23T15:33:12.269Z"
   },
   {
    "duration": 8,
    "start_time": "2025-01-23T15:33:12.281Z"
   },
   {
    "duration": 6,
    "start_time": "2025-01-23T15:33:12.290Z"
   },
   {
    "duration": 14,
    "start_time": "2025-01-23T15:33:12.298Z"
   },
   {
    "duration": 16,
    "start_time": "2025-01-23T15:33:12.313Z"
   },
   {
    "duration": 29,
    "start_time": "2025-01-23T15:33:12.330Z"
   },
   {
    "duration": 16,
    "start_time": "2025-01-23T15:33:12.360Z"
   },
   {
    "duration": 11,
    "start_time": "2025-01-23T15:33:12.377Z"
   },
   {
    "duration": 5,
    "start_time": "2025-01-23T15:33:12.389Z"
   },
   {
    "duration": 17,
    "start_time": "2025-01-23T15:33:12.395Z"
   },
   {
    "duration": 7,
    "start_time": "2025-01-23T15:33:12.413Z"
   },
   {
    "duration": 9,
    "start_time": "2025-01-23T15:33:12.421Z"
   },
   {
    "duration": 18,
    "start_time": "2025-01-23T15:33:12.432Z"
   },
   {
    "duration": 4,
    "start_time": "2025-01-23T15:33:12.453Z"
   },
   {
    "duration": 196,
    "start_time": "2025-01-23T15:33:12.459Z"
   },
   {
    "duration": 282,
    "start_time": "2025-01-23T15:33:12.657Z"
   },
   {
    "duration": 189,
    "start_time": "2025-01-23T15:33:12.941Z"
   },
   {
    "duration": 161,
    "start_time": "2025-01-23T15:33:13.131Z"
   },
   {
    "duration": 163,
    "start_time": "2025-01-23T15:33:13.294Z"
   },
   {
    "duration": 191,
    "start_time": "2025-01-23T15:33:13.459Z"
   },
   {
    "duration": 206,
    "start_time": "2025-01-23T15:33:13.653Z"
   },
   {
    "duration": 202,
    "start_time": "2025-01-23T15:33:13.861Z"
   },
   {
    "duration": 6,
    "start_time": "2025-01-23T15:33:14.064Z"
   },
   {
    "duration": 441,
    "start_time": "2025-01-23T15:33:14.071Z"
   },
   {
    "duration": 118,
    "start_time": "2025-01-23T15:33:14.513Z"
   },
   {
    "duration": 0,
    "start_time": "2025-01-23T15:33:14.633Z"
   },
   {
    "duration": 0,
    "start_time": "2025-01-23T15:33:14.635Z"
   },
   {
    "duration": 0,
    "start_time": "2025-01-23T15:33:14.635Z"
   },
   {
    "duration": 0,
    "start_time": "2025-01-23T15:33:14.636Z"
   },
   {
    "duration": 0,
    "start_time": "2025-01-23T15:33:14.637Z"
   },
   {
    "duration": 0,
    "start_time": "2025-01-23T15:33:14.639Z"
   },
   {
    "duration": 0,
    "start_time": "2025-01-23T15:33:14.640Z"
   },
   {
    "duration": 0,
    "start_time": "2025-01-23T15:33:14.640Z"
   },
   {
    "duration": 0,
    "start_time": "2025-01-23T15:33:14.653Z"
   },
   {
    "duration": 0,
    "start_time": "2025-01-23T15:33:14.655Z"
   },
   {
    "duration": 14,
    "start_time": "2025-01-23T15:33:32.949Z"
   },
   {
    "duration": 14,
    "start_time": "2025-01-23T15:33:38.470Z"
   },
   {
    "duration": 2687,
    "start_time": "2025-01-23T15:34:50.795Z"
   },
   {
    "duration": 1536,
    "start_time": "2025-01-23T15:34:53.484Z"
   },
   {
    "duration": 50,
    "start_time": "2025-01-23T15:34:55.021Z"
   },
   {
    "duration": 19,
    "start_time": "2025-01-23T15:34:55.073Z"
   },
   {
    "duration": 15,
    "start_time": "2025-01-23T15:34:55.094Z"
   },
   {
    "duration": 16,
    "start_time": "2025-01-23T15:34:55.110Z"
   },
   {
    "duration": 26,
    "start_time": "2025-01-23T15:34:55.128Z"
   },
   {
    "duration": 12,
    "start_time": "2025-01-23T15:34:55.155Z"
   },
   {
    "duration": 22,
    "start_time": "2025-01-23T15:34:55.169Z"
   },
   {
    "duration": 8,
    "start_time": "2025-01-23T15:34:55.194Z"
   },
   {
    "duration": 22,
    "start_time": "2025-01-23T15:34:55.203Z"
   },
   {
    "duration": 22,
    "start_time": "2025-01-23T15:34:55.227Z"
   },
   {
    "duration": 7,
    "start_time": "2025-01-23T15:34:55.251Z"
   },
   {
    "duration": 37,
    "start_time": "2025-01-23T15:34:55.260Z"
   },
   {
    "duration": 22,
    "start_time": "2025-01-23T15:34:55.298Z"
   },
   {
    "duration": 10,
    "start_time": "2025-01-23T15:34:55.322Z"
   },
   {
    "duration": 18,
    "start_time": "2025-01-23T15:34:55.333Z"
   },
   {
    "duration": 7,
    "start_time": "2025-01-23T15:34:55.353Z"
   },
   {
    "duration": 4,
    "start_time": "2025-01-23T15:34:55.362Z"
   },
   {
    "duration": 5,
    "start_time": "2025-01-23T15:34:55.368Z"
   },
   {
    "duration": 9,
    "start_time": "2025-01-23T15:34:55.374Z"
   },
   {
    "duration": 16,
    "start_time": "2025-01-23T15:34:55.384Z"
   },
   {
    "duration": 6,
    "start_time": "2025-01-23T15:34:55.402Z"
   },
   {
    "duration": 15,
    "start_time": "2025-01-23T15:34:55.409Z"
   },
   {
    "duration": 8,
    "start_time": "2025-01-23T15:34:55.426Z"
   },
   {
    "duration": 191,
    "start_time": "2025-01-23T15:34:55.454Z"
   },
   {
    "duration": 146,
    "start_time": "2025-01-23T15:34:55.646Z"
   },
   {
    "duration": 153,
    "start_time": "2025-01-23T15:34:55.796Z"
   },
   {
    "duration": 205,
    "start_time": "2025-01-23T15:34:55.953Z"
   },
   {
    "duration": 5,
    "start_time": "2025-01-23T15:34:56.159Z"
   },
   {
    "duration": 146,
    "start_time": "2025-01-23T15:34:56.166Z"
   },
   {
    "duration": 6,
    "start_time": "2025-01-23T15:34:56.313Z"
   },
   {
    "duration": 182,
    "start_time": "2025-01-23T15:34:56.320Z"
   },
   {
    "duration": 227,
    "start_time": "2025-01-23T15:34:56.503Z"
   },
   {
    "duration": 222,
    "start_time": "2025-01-23T15:34:56.732Z"
   },
   {
    "duration": 181,
    "start_time": "2025-01-23T15:34:56.955Z"
   },
   {
    "duration": 1401,
    "start_time": "2025-01-23T15:34:57.137Z"
   },
   {
    "duration": 16,
    "start_time": "2025-01-23T15:34:58.540Z"
   },
   {
    "duration": 4,
    "start_time": "2025-01-23T15:34:58.558Z"
   },
   {
    "duration": 4,
    "start_time": "2025-01-23T15:34:58.563Z"
   },
   {
    "duration": 5,
    "start_time": "2025-01-23T15:34:58.569Z"
   },
   {
    "duration": 11,
    "start_time": "2025-01-23T15:34:58.576Z"
   },
   {
    "duration": 1036,
    "start_time": "2025-01-23T15:34:58.588Z"
   },
   {
    "duration": 5,
    "start_time": "2025-01-23T15:34:59.626Z"
   },
   {
    "duration": 4,
    "start_time": "2025-01-23T15:34:59.632Z"
   },
   {
    "duration": 26,
    "start_time": "2025-01-23T15:34:59.637Z"
   },
   {
    "duration": 34,
    "start_time": "2025-01-23T15:34:59.664Z"
   },
   {
    "duration": 49,
    "start_time": "2025-01-23T15:34:59.699Z"
   },
   {
    "duration": 14,
    "start_time": "2025-01-23T15:34:59.749Z"
   },
   {
    "duration": 9,
    "start_time": "2025-01-23T15:34:59.765Z"
   },
   {
    "duration": 5,
    "start_time": "2025-01-23T15:34:59.776Z"
   },
   {
    "duration": 10,
    "start_time": "2025-01-23T15:34:59.782Z"
   },
   {
    "duration": 23,
    "start_time": "2025-01-23T15:34:59.793Z"
   },
   {
    "duration": 13,
    "start_time": "2025-01-23T15:34:59.817Z"
   },
   {
    "duration": 7,
    "start_time": "2025-01-23T15:34:59.831Z"
   },
   {
    "duration": 6,
    "start_time": "2025-01-23T15:34:59.853Z"
   },
   {
    "duration": 12,
    "start_time": "2025-01-23T15:34:59.861Z"
   },
   {
    "duration": 10,
    "start_time": "2025-01-23T15:34:59.875Z"
   },
   {
    "duration": 8,
    "start_time": "2025-01-23T15:34:59.886Z"
   },
   {
    "duration": 5,
    "start_time": "2025-01-23T15:34:59.896Z"
   },
   {
    "duration": 6,
    "start_time": "2025-01-23T15:34:59.902Z"
   },
   {
    "duration": 8,
    "start_time": "2025-01-23T15:34:59.909Z"
   },
   {
    "duration": 40,
    "start_time": "2025-01-23T15:34:59.918Z"
   },
   {
    "duration": 7,
    "start_time": "2025-01-23T15:34:59.959Z"
   },
   {
    "duration": 7,
    "start_time": "2025-01-23T15:34:59.967Z"
   },
   {
    "duration": 14,
    "start_time": "2025-01-23T15:34:59.975Z"
   },
   {
    "duration": 14,
    "start_time": "2025-01-23T15:34:59.991Z"
   },
   {
    "duration": 214,
    "start_time": "2025-01-23T15:35:00.007Z"
   },
   {
    "duration": 294,
    "start_time": "2025-01-23T15:35:00.222Z"
   },
   {
    "duration": 187,
    "start_time": "2025-01-23T15:35:00.517Z"
   },
   {
    "duration": 169,
    "start_time": "2025-01-23T15:35:00.706Z"
   },
   {
    "duration": 173,
    "start_time": "2025-01-23T15:35:00.877Z"
   },
   {
    "duration": 196,
    "start_time": "2025-01-23T15:35:01.051Z"
   },
   {
    "duration": 208,
    "start_time": "2025-01-23T15:35:01.253Z"
   },
   {
    "duration": 220,
    "start_time": "2025-01-23T15:35:01.463Z"
   },
   {
    "duration": 6,
    "start_time": "2025-01-23T15:35:01.684Z"
   },
   {
    "duration": 513,
    "start_time": "2025-01-23T15:35:01.691Z"
   },
   {
    "duration": 128,
    "start_time": "2025-01-23T15:35:02.206Z"
   },
   {
    "duration": 0,
    "start_time": "2025-01-23T15:35:02.335Z"
   },
   {
    "duration": 0,
    "start_time": "2025-01-23T15:35:02.336Z"
   },
   {
    "duration": 0,
    "start_time": "2025-01-23T15:35:02.338Z"
   },
   {
    "duration": 0,
    "start_time": "2025-01-23T15:35:02.339Z"
   },
   {
    "duration": 0,
    "start_time": "2025-01-23T15:35:02.353Z"
   },
   {
    "duration": 0,
    "start_time": "2025-01-23T15:35:02.354Z"
   },
   {
    "duration": 0,
    "start_time": "2025-01-23T15:35:02.355Z"
   },
   {
    "duration": 0,
    "start_time": "2025-01-23T15:35:02.356Z"
   },
   {
    "duration": 0,
    "start_time": "2025-01-23T15:35:02.357Z"
   },
   {
    "duration": 0,
    "start_time": "2025-01-23T15:35:02.358Z"
   },
   {
    "duration": 4411,
    "start_time": "2025-01-23T15:35:52.873Z"
   },
   {
    "duration": 2414,
    "start_time": "2025-01-23T15:35:57.286Z"
   },
   {
    "duration": 62,
    "start_time": "2025-01-23T15:35:59.755Z"
   },
   {
    "duration": 47,
    "start_time": "2025-01-23T15:35:59.819Z"
   },
   {
    "duration": 9,
    "start_time": "2025-01-23T15:35:59.868Z"
   },
   {
    "duration": 17,
    "start_time": "2025-01-23T15:35:59.879Z"
   },
   {
    "duration": 70,
    "start_time": "2025-01-23T15:35:59.897Z"
   },
   {
    "duration": 20,
    "start_time": "2025-01-23T15:35:59.968Z"
   },
   {
    "duration": 8,
    "start_time": "2025-01-23T15:35:59.990Z"
   },
   {
    "duration": 64,
    "start_time": "2025-01-23T15:35:59.999Z"
   },
   {
    "duration": 40,
    "start_time": "2025-01-23T15:36:00.064Z"
   },
   {
    "duration": 54,
    "start_time": "2025-01-23T15:36:00.105Z"
   },
   {
    "duration": 39,
    "start_time": "2025-01-23T15:36:00.161Z"
   },
   {
    "duration": 65,
    "start_time": "2025-01-23T15:36:00.203Z"
   },
   {
    "duration": 57,
    "start_time": "2025-01-23T15:36:00.270Z"
   },
   {
    "duration": 89,
    "start_time": "2025-01-23T15:36:00.328Z"
   },
   {
    "duration": 59,
    "start_time": "2025-01-23T15:36:00.418Z"
   },
   {
    "duration": 17,
    "start_time": "2025-01-23T15:36:00.478Z"
   },
   {
    "duration": 16,
    "start_time": "2025-01-23T15:36:00.496Z"
   },
   {
    "duration": 62,
    "start_time": "2025-01-23T15:36:00.514Z"
   },
   {
    "duration": 28,
    "start_time": "2025-01-23T15:36:00.578Z"
   },
   {
    "duration": 53,
    "start_time": "2025-01-23T15:36:00.608Z"
   },
   {
    "duration": 61,
    "start_time": "2025-01-23T15:36:00.662Z"
   },
   {
    "duration": 43,
    "start_time": "2025-01-23T15:36:00.724Z"
   },
   {
    "duration": 323,
    "start_time": "2025-01-23T15:36:00.769Z"
   },
   {
    "duration": 238,
    "start_time": "2025-01-23T15:36:01.094Z"
   },
   {
    "duration": 156,
    "start_time": "2025-01-23T15:36:01.334Z"
   },
   {
    "duration": 221,
    "start_time": "2025-01-23T15:36:01.492Z"
   },
   {
    "duration": 7,
    "start_time": "2025-01-23T15:36:01.716Z"
   },
   {
    "duration": 201,
    "start_time": "2025-01-23T15:36:01.724Z"
   },
   {
    "duration": 5,
    "start_time": "2025-01-23T15:36:01.927Z"
   },
   {
    "duration": 212,
    "start_time": "2025-01-23T15:36:01.933Z"
   },
   {
    "duration": 221,
    "start_time": "2025-01-23T15:36:02.146Z"
   },
   {
    "duration": 211,
    "start_time": "2025-01-23T15:36:02.368Z"
   },
   {
    "duration": 191,
    "start_time": "2025-01-23T15:36:02.581Z"
   },
   {
    "duration": 1281,
    "start_time": "2025-01-23T15:36:02.774Z"
   },
   {
    "duration": 17,
    "start_time": "2025-01-23T15:36:04.056Z"
   },
   {
    "duration": 8,
    "start_time": "2025-01-23T15:36:04.075Z"
   },
   {
    "duration": 6,
    "start_time": "2025-01-23T15:36:04.085Z"
   },
   {
    "duration": 23,
    "start_time": "2025-01-23T15:36:04.092Z"
   },
   {
    "duration": 4,
    "start_time": "2025-01-23T15:36:04.120Z"
   },
   {
    "duration": 1072,
    "start_time": "2025-01-23T15:36:04.125Z"
   },
   {
    "duration": 5,
    "start_time": "2025-01-23T15:36:05.198Z"
   },
   {
    "duration": 21,
    "start_time": "2025-01-23T15:36:05.204Z"
   },
   {
    "duration": 30,
    "start_time": "2025-01-23T15:36:05.226Z"
   },
   {
    "duration": 50,
    "start_time": "2025-01-23T15:36:05.258Z"
   },
   {
    "duration": 58,
    "start_time": "2025-01-23T15:36:05.309Z"
   },
   {
    "duration": 15,
    "start_time": "2025-01-23T15:36:05.368Z"
   },
   {
    "duration": 30,
    "start_time": "2025-01-23T15:36:05.384Z"
   },
   {
    "duration": 45,
    "start_time": "2025-01-23T15:36:05.415Z"
   },
   {
    "duration": 50,
    "start_time": "2025-01-23T15:36:05.461Z"
   },
   {
    "duration": 38,
    "start_time": "2025-01-23T15:36:05.512Z"
   },
   {
    "duration": 25,
    "start_time": "2025-01-23T15:36:05.551Z"
   },
   {
    "duration": 60,
    "start_time": "2025-01-23T15:36:05.577Z"
   },
   {
    "duration": 175,
    "start_time": "2025-01-23T15:36:05.638Z"
   },
   {
    "duration": 80,
    "start_time": "2025-01-23T15:36:05.815Z"
   },
   {
    "duration": 22,
    "start_time": "2025-01-23T15:36:05.897Z"
   },
   {
    "duration": 42,
    "start_time": "2025-01-23T15:36:05.920Z"
   },
   {
    "duration": 12,
    "start_time": "2025-01-23T15:36:05.963Z"
   },
   {
    "duration": 5,
    "start_time": "2025-01-23T15:36:05.977Z"
   },
   {
    "duration": 5,
    "start_time": "2025-01-23T15:36:05.984Z"
   },
   {
    "duration": 14,
    "start_time": "2025-01-23T15:36:05.991Z"
   },
   {
    "duration": 21,
    "start_time": "2025-01-23T15:36:06.007Z"
   },
   {
    "duration": 21,
    "start_time": "2025-01-23T15:36:06.030Z"
   },
   {
    "duration": 16,
    "start_time": "2025-01-23T15:36:06.053Z"
   },
   {
    "duration": 9,
    "start_time": "2025-01-23T15:36:06.070Z"
   },
   {
    "duration": 193,
    "start_time": "2025-01-23T15:36:06.080Z"
   },
   {
    "duration": 267,
    "start_time": "2025-01-23T15:36:06.275Z"
   },
   {
    "duration": 190,
    "start_time": "2025-01-23T15:36:06.544Z"
   },
   {
    "duration": 179,
    "start_time": "2025-01-23T15:36:06.735Z"
   },
   {
    "duration": 165,
    "start_time": "2025-01-23T15:36:06.915Z"
   },
   {
    "duration": 192,
    "start_time": "2025-01-23T15:36:07.082Z"
   },
   {
    "duration": 195,
    "start_time": "2025-01-23T15:36:07.276Z"
   },
   {
    "duration": 215,
    "start_time": "2025-01-23T15:36:07.473Z"
   },
   {
    "duration": 6,
    "start_time": "2025-01-23T15:36:07.689Z"
   },
   {
    "duration": 503,
    "start_time": "2025-01-23T15:36:07.696Z"
   },
   {
    "duration": 126,
    "start_time": "2025-01-23T15:36:08.201Z"
   },
   {
    "duration": 0,
    "start_time": "2025-01-23T15:36:08.328Z"
   },
   {
    "duration": 0,
    "start_time": "2025-01-23T15:36:08.329Z"
   },
   {
    "duration": 0,
    "start_time": "2025-01-23T15:36:08.330Z"
   },
   {
    "duration": 0,
    "start_time": "2025-01-23T15:36:08.332Z"
   },
   {
    "duration": 0,
    "start_time": "2025-01-23T15:36:08.333Z"
   },
   {
    "duration": 0,
    "start_time": "2025-01-23T15:36:08.334Z"
   },
   {
    "duration": 0,
    "start_time": "2025-01-23T15:36:08.335Z"
   },
   {
    "duration": 0,
    "start_time": "2025-01-23T15:36:08.335Z"
   },
   {
    "duration": 0,
    "start_time": "2025-01-23T15:36:08.336Z"
   },
   {
    "duration": 0,
    "start_time": "2025-01-23T15:36:08.337Z"
   },
   {
    "duration": 14,
    "start_time": "2025-01-23T15:37:07.348Z"
   },
   {
    "duration": 2991,
    "start_time": "2025-01-23T15:37:14.954Z"
   },
   {
    "duration": 1387,
    "start_time": "2025-01-23T15:37:17.947Z"
   },
   {
    "duration": 60,
    "start_time": "2025-01-23T15:37:19.336Z"
   },
   {
    "duration": 15,
    "start_time": "2025-01-23T15:37:19.398Z"
   },
   {
    "duration": 9,
    "start_time": "2025-01-23T15:37:19.415Z"
   },
   {
    "duration": 6,
    "start_time": "2025-01-23T15:37:19.425Z"
   },
   {
    "duration": 14,
    "start_time": "2025-01-23T15:37:19.433Z"
   },
   {
    "duration": 14,
    "start_time": "2025-01-23T15:37:19.448Z"
   },
   {
    "duration": 6,
    "start_time": "2025-01-23T15:37:19.464Z"
   },
   {
    "duration": 11,
    "start_time": "2025-01-23T15:37:19.472Z"
   },
   {
    "duration": 10,
    "start_time": "2025-01-23T15:37:19.484Z"
   },
   {
    "duration": 6,
    "start_time": "2025-01-23T15:37:19.496Z"
   },
   {
    "duration": 7,
    "start_time": "2025-01-23T15:37:19.503Z"
   },
   {
    "duration": 10,
    "start_time": "2025-01-23T15:37:19.511Z"
   },
   {
    "duration": 39,
    "start_time": "2025-01-23T15:37:19.523Z"
   },
   {
    "duration": 8,
    "start_time": "2025-01-23T15:37:19.564Z"
   },
   {
    "duration": 7,
    "start_time": "2025-01-23T15:37:19.574Z"
   },
   {
    "duration": 5,
    "start_time": "2025-01-23T15:37:19.583Z"
   },
   {
    "duration": 5,
    "start_time": "2025-01-23T15:37:19.590Z"
   },
   {
    "duration": 9,
    "start_time": "2025-01-23T15:37:19.597Z"
   },
   {
    "duration": 54,
    "start_time": "2025-01-23T15:37:19.608Z"
   },
   {
    "duration": 4,
    "start_time": "2025-01-23T15:37:19.664Z"
   },
   {
    "duration": 26,
    "start_time": "2025-01-23T15:37:19.670Z"
   },
   {
    "duration": 71,
    "start_time": "2025-01-23T15:37:19.697Z"
   },
   {
    "duration": 175,
    "start_time": "2025-01-23T15:37:19.769Z"
   },
   {
    "duration": 154,
    "start_time": "2025-01-23T15:37:19.954Z"
   },
   {
    "duration": 158,
    "start_time": "2025-01-23T15:37:20.110Z"
   },
   {
    "duration": 230,
    "start_time": "2025-01-23T15:37:20.273Z"
   },
   {
    "duration": 6,
    "start_time": "2025-01-23T15:37:20.506Z"
   },
   {
    "duration": 165,
    "start_time": "2025-01-23T15:37:20.514Z"
   },
   {
    "duration": 6,
    "start_time": "2025-01-23T15:37:20.681Z"
   },
   {
    "duration": 192,
    "start_time": "2025-01-23T15:37:20.689Z"
   },
   {
    "duration": 228,
    "start_time": "2025-01-23T15:37:20.883Z"
   },
   {
    "duration": 208,
    "start_time": "2025-01-23T15:37:21.112Z"
   },
   {
    "duration": 194,
    "start_time": "2025-01-23T15:37:21.322Z"
   },
   {
    "duration": 1305,
    "start_time": "2025-01-23T15:37:21.518Z"
   },
   {
    "duration": 16,
    "start_time": "2025-01-23T15:37:22.824Z"
   },
   {
    "duration": 13,
    "start_time": "2025-01-23T15:37:22.842Z"
   },
   {
    "duration": 12,
    "start_time": "2025-01-23T15:37:22.857Z"
   },
   {
    "duration": 98,
    "start_time": "2025-01-23T15:37:22.870Z"
   },
   {
    "duration": 11,
    "start_time": "2025-01-23T15:37:22.970Z"
   },
   {
    "duration": 48,
    "start_time": "2025-01-23T15:37:22.982Z"
   },
   {
    "duration": 1054,
    "start_time": "2025-01-23T15:37:23.031Z"
   },
   {
    "duration": 5,
    "start_time": "2025-01-23T15:37:24.086Z"
   },
   {
    "duration": 13,
    "start_time": "2025-01-23T15:37:24.092Z"
   },
   {
    "duration": 20,
    "start_time": "2025-01-23T15:37:24.106Z"
   },
   {
    "duration": 41,
    "start_time": "2025-01-23T15:37:24.127Z"
   },
   {
    "duration": 57,
    "start_time": "2025-01-23T15:37:24.170Z"
   },
   {
    "duration": 15,
    "start_time": "2025-01-23T15:37:24.228Z"
   },
   {
    "duration": 9,
    "start_time": "2025-01-23T15:37:24.245Z"
   },
   {
    "duration": 28,
    "start_time": "2025-01-23T15:37:24.255Z"
   },
   {
    "duration": 35,
    "start_time": "2025-01-23T15:37:24.285Z"
   },
   {
    "duration": 19,
    "start_time": "2025-01-23T15:37:24.321Z"
   },
   {
    "duration": 11,
    "start_time": "2025-01-23T15:37:24.341Z"
   },
   {
    "duration": 6,
    "start_time": "2025-01-23T15:37:24.353Z"
   },
   {
    "duration": 6,
    "start_time": "2025-01-23T15:37:24.361Z"
   },
   {
    "duration": 12,
    "start_time": "2025-01-23T15:37:24.368Z"
   },
   {
    "duration": 14,
    "start_time": "2025-01-23T15:37:24.383Z"
   },
   {
    "duration": 15,
    "start_time": "2025-01-23T15:37:24.399Z"
   },
   {
    "duration": 38,
    "start_time": "2025-01-23T15:37:24.416Z"
   },
   {
    "duration": 117,
    "start_time": "2025-01-23T15:37:24.456Z"
   },
   {
    "duration": 0,
    "start_time": "2025-01-23T15:37:24.574Z"
   },
   {
    "duration": 0,
    "start_time": "2025-01-23T15:37:24.575Z"
   },
   {
    "duration": 0,
    "start_time": "2025-01-23T15:37:24.576Z"
   },
   {
    "duration": 0,
    "start_time": "2025-01-23T15:37:24.577Z"
   },
   {
    "duration": 0,
    "start_time": "2025-01-23T15:37:24.578Z"
   },
   {
    "duration": 0,
    "start_time": "2025-01-23T15:37:24.579Z"
   },
   {
    "duration": 0,
    "start_time": "2025-01-23T15:37:24.580Z"
   },
   {
    "duration": 0,
    "start_time": "2025-01-23T15:37:24.581Z"
   },
   {
    "duration": 0,
    "start_time": "2025-01-23T15:37:24.583Z"
   },
   {
    "duration": 0,
    "start_time": "2025-01-23T15:37:24.583Z"
   },
   {
    "duration": 0,
    "start_time": "2025-01-23T15:37:24.585Z"
   },
   {
    "duration": 0,
    "start_time": "2025-01-23T15:37:24.586Z"
   },
   {
    "duration": 0,
    "start_time": "2025-01-23T15:37:24.587Z"
   },
   {
    "duration": 0,
    "start_time": "2025-01-23T15:37:24.588Z"
   },
   {
    "duration": 0,
    "start_time": "2025-01-23T15:37:24.589Z"
   },
   {
    "duration": 0,
    "start_time": "2025-01-23T15:37:24.590Z"
   },
   {
    "duration": 0,
    "start_time": "2025-01-23T15:37:24.591Z"
   },
   {
    "duration": 0,
    "start_time": "2025-01-23T15:37:24.592Z"
   },
   {
    "duration": 0,
    "start_time": "2025-01-23T15:37:24.593Z"
   },
   {
    "duration": 0,
    "start_time": "2025-01-23T15:37:24.594Z"
   },
   {
    "duration": 0,
    "start_time": "2025-01-23T15:37:24.595Z"
   },
   {
    "duration": 0,
    "start_time": "2025-01-23T15:37:24.596Z"
   },
   {
    "duration": 0,
    "start_time": "2025-01-23T15:37:24.597Z"
   },
   {
    "duration": 0,
    "start_time": "2025-01-23T15:37:24.597Z"
   },
   {
    "duration": 0,
    "start_time": "2025-01-23T15:37:24.599Z"
   },
   {
    "duration": 1,
    "start_time": "2025-01-23T15:37:24.599Z"
   },
   {
    "duration": 6,
    "start_time": "2025-01-23T15:38:11.977Z"
   },
   {
    "duration": 5,
    "start_time": "2025-01-23T15:38:19.672Z"
   },
   {
    "duration": 13,
    "start_time": "2025-01-23T15:38:22.701Z"
   },
   {
    "duration": 6,
    "start_time": "2025-01-23T15:38:32.137Z"
   },
   {
    "duration": 6,
    "start_time": "2025-01-23T15:38:45.806Z"
   },
   {
    "duration": 14,
    "start_time": "2025-01-23T15:38:49.486Z"
   },
   {
    "duration": 2329,
    "start_time": "2025-01-23T15:40:53.491Z"
   },
   {
    "duration": 1414,
    "start_time": "2025-01-23T15:40:55.823Z"
   },
   {
    "duration": 60,
    "start_time": "2025-01-23T15:40:57.238Z"
   },
   {
    "duration": 15,
    "start_time": "2025-01-23T15:40:57.300Z"
   },
   {
    "duration": 11,
    "start_time": "2025-01-23T15:40:57.316Z"
   },
   {
    "duration": 20,
    "start_time": "2025-01-23T15:40:57.328Z"
   },
   {
    "duration": 8,
    "start_time": "2025-01-23T15:40:57.349Z"
   },
   {
    "duration": 16,
    "start_time": "2025-01-23T15:40:57.358Z"
   },
   {
    "duration": 6,
    "start_time": "2025-01-23T15:40:57.375Z"
   },
   {
    "duration": 10,
    "start_time": "2025-01-23T15:40:57.383Z"
   },
   {
    "duration": 6,
    "start_time": "2025-01-23T15:40:57.394Z"
   },
   {
    "duration": 7,
    "start_time": "2025-01-23T15:40:57.401Z"
   },
   {
    "duration": 5,
    "start_time": "2025-01-23T15:40:57.409Z"
   },
   {
    "duration": 40,
    "start_time": "2025-01-23T15:40:57.415Z"
   },
   {
    "duration": 9,
    "start_time": "2025-01-23T15:40:57.456Z"
   },
   {
    "duration": 17,
    "start_time": "2025-01-23T15:40:57.466Z"
   },
   {
    "duration": 6,
    "start_time": "2025-01-23T15:40:57.484Z"
   },
   {
    "duration": 4,
    "start_time": "2025-01-23T15:40:57.491Z"
   },
   {
    "duration": 4,
    "start_time": "2025-01-23T15:40:57.496Z"
   },
   {
    "duration": 7,
    "start_time": "2025-01-23T15:40:57.502Z"
   },
   {
    "duration": 13,
    "start_time": "2025-01-23T15:40:57.510Z"
   },
   {
    "duration": 3,
    "start_time": "2025-01-23T15:40:57.525Z"
   },
   {
    "duration": 30,
    "start_time": "2025-01-23T15:40:57.529Z"
   },
   {
    "duration": 3,
    "start_time": "2025-01-23T15:40:57.560Z"
   },
   {
    "duration": 167,
    "start_time": "2025-01-23T15:40:57.564Z"
   },
   {
    "duration": 153,
    "start_time": "2025-01-23T15:40:57.733Z"
   },
   {
    "duration": 214,
    "start_time": "2025-01-23T15:40:57.887Z"
   },
   {
    "duration": 290,
    "start_time": "2025-01-23T15:40:58.105Z"
   },
   {
    "duration": 5,
    "start_time": "2025-01-23T15:40:58.397Z"
   },
   {
    "duration": 143,
    "start_time": "2025-01-23T15:40:58.403Z"
   },
   {
    "duration": 10,
    "start_time": "2025-01-23T15:40:58.547Z"
   },
   {
    "duration": 175,
    "start_time": "2025-01-23T15:40:58.558Z"
   },
   {
    "duration": 210,
    "start_time": "2025-01-23T15:40:58.734Z"
   },
   {
    "duration": 209,
    "start_time": "2025-01-23T15:40:58.945Z"
   },
   {
    "duration": 177,
    "start_time": "2025-01-23T15:40:59.155Z"
   },
   {
    "duration": 1284,
    "start_time": "2025-01-23T15:40:59.334Z"
   },
   {
    "duration": 16,
    "start_time": "2025-01-23T15:41:00.620Z"
   },
   {
    "duration": 25,
    "start_time": "2025-01-23T15:41:00.638Z"
   },
   {
    "duration": 4,
    "start_time": "2025-01-23T15:41:00.665Z"
   },
   {
    "duration": 13,
    "start_time": "2025-01-23T15:41:00.671Z"
   },
   {
    "duration": 55,
    "start_time": "2025-01-23T15:41:00.685Z"
   },
   {
    "duration": 1038,
    "start_time": "2025-01-23T15:41:00.742Z"
   },
   {
    "duration": 6,
    "start_time": "2025-01-23T15:41:01.781Z"
   },
   {
    "duration": 5,
    "start_time": "2025-01-23T15:41:01.789Z"
   },
   {
    "duration": 86,
    "start_time": "2025-01-23T15:41:01.796Z"
   },
   {
    "duration": 95,
    "start_time": "2025-01-23T15:41:01.883Z"
   },
   {
    "duration": 60,
    "start_time": "2025-01-23T15:41:01.980Z"
   },
   {
    "duration": 16,
    "start_time": "2025-01-23T15:41:02.042Z"
   },
   {
    "duration": 11,
    "start_time": "2025-01-23T15:41:02.059Z"
   },
   {
    "duration": 18,
    "start_time": "2025-01-23T15:41:02.072Z"
   },
   {
    "duration": 53,
    "start_time": "2025-01-23T15:41:02.092Z"
   },
   {
    "duration": 29,
    "start_time": "2025-01-23T15:41:02.147Z"
   },
   {
    "duration": 33,
    "start_time": "2025-01-23T15:41:02.178Z"
   },
   {
    "duration": 22,
    "start_time": "2025-01-23T15:41:02.213Z"
   },
   {
    "duration": 16,
    "start_time": "2025-01-23T15:41:02.236Z"
   },
   {
    "duration": 27,
    "start_time": "2025-01-23T15:41:02.253Z"
   },
   {
    "duration": 58,
    "start_time": "2025-01-23T15:41:02.282Z"
   },
   {
    "duration": 138,
    "start_time": "2025-01-23T15:41:02.341Z"
   },
   {
    "duration": 0,
    "start_time": "2025-01-23T15:41:02.480Z"
   },
   {
    "duration": 0,
    "start_time": "2025-01-23T15:41:02.482Z"
   },
   {
    "duration": 0,
    "start_time": "2025-01-23T15:41:02.483Z"
   },
   {
    "duration": 0,
    "start_time": "2025-01-23T15:41:02.484Z"
   },
   {
    "duration": 0,
    "start_time": "2025-01-23T15:41:02.486Z"
   },
   {
    "duration": 0,
    "start_time": "2025-01-23T15:41:02.487Z"
   },
   {
    "duration": 0,
    "start_time": "2025-01-23T15:41:02.488Z"
   },
   {
    "duration": 0,
    "start_time": "2025-01-23T15:41:02.489Z"
   },
   {
    "duration": 0,
    "start_time": "2025-01-23T15:41:02.490Z"
   },
   {
    "duration": 0,
    "start_time": "2025-01-23T15:41:02.491Z"
   },
   {
    "duration": 0,
    "start_time": "2025-01-23T15:41:02.492Z"
   },
   {
    "duration": 0,
    "start_time": "2025-01-23T15:41:02.493Z"
   },
   {
    "duration": 0,
    "start_time": "2025-01-23T15:41:02.494Z"
   },
   {
    "duration": 0,
    "start_time": "2025-01-23T15:41:02.495Z"
   },
   {
    "duration": 0,
    "start_time": "2025-01-23T15:41:02.496Z"
   },
   {
    "duration": 0,
    "start_time": "2025-01-23T15:41:02.498Z"
   },
   {
    "duration": 0,
    "start_time": "2025-01-23T15:41:02.499Z"
   },
   {
    "duration": 0,
    "start_time": "2025-01-23T15:41:02.501Z"
   },
   {
    "duration": 0,
    "start_time": "2025-01-23T15:41:02.502Z"
   },
   {
    "duration": 0,
    "start_time": "2025-01-23T15:41:02.504Z"
   },
   {
    "duration": 0,
    "start_time": "2025-01-23T15:41:02.506Z"
   },
   {
    "duration": 0,
    "start_time": "2025-01-23T15:41:02.507Z"
   },
   {
    "duration": 0,
    "start_time": "2025-01-23T15:41:02.509Z"
   },
   {
    "duration": 0,
    "start_time": "2025-01-23T15:41:02.554Z"
   },
   {
    "duration": 0,
    "start_time": "2025-01-23T15:41:02.555Z"
   },
   {
    "duration": 0,
    "start_time": "2025-01-23T15:41:02.557Z"
   },
   {
    "duration": 0,
    "start_time": "2025-01-23T15:41:02.558Z"
   },
   {
    "duration": 0,
    "start_time": "2025-01-23T15:41:02.559Z"
   },
   {
    "duration": 0,
    "start_time": "2025-01-23T15:41:02.561Z"
   },
   {
    "duration": 8,
    "start_time": "2025-01-23T15:41:40.396Z"
   },
   {
    "duration": 6,
    "start_time": "2025-01-23T15:41:50.955Z"
   },
   {
    "duration": 7,
    "start_time": "2025-01-23T15:42:01.544Z"
   },
   {
    "duration": 10,
    "start_time": "2025-01-23T15:42:09.067Z"
   },
   {
    "duration": 4,
    "start_time": "2025-01-23T15:42:27.481Z"
   },
   {
    "duration": 8,
    "start_time": "2025-01-23T15:42:29.349Z"
   },
   {
    "duration": 10,
    "start_time": "2025-01-23T15:42:30.917Z"
   },
   {
    "duration": 14,
    "start_time": "2025-01-23T15:42:48.743Z"
   },
   {
    "duration": 12,
    "start_time": "2025-01-23T15:42:58.183Z"
   },
   {
    "duration": 11,
    "start_time": "2025-01-23T15:43:01.710Z"
   },
   {
    "duration": 7,
    "start_time": "2025-01-23T15:43:01.854Z"
   },
   {
    "duration": 5,
    "start_time": "2025-01-23T15:43:01.992Z"
   },
   {
    "duration": 15,
    "start_time": "2025-01-23T15:43:02.431Z"
   },
   {
    "duration": 6,
    "start_time": "2025-01-23T15:43:02.704Z"
   },
   {
    "duration": 190,
    "start_time": "2025-01-23T15:43:02.841Z"
   },
   {
    "duration": 175,
    "start_time": "2025-01-23T15:43:03.123Z"
   },
   {
    "duration": 276,
    "start_time": "2025-01-23T15:43:03.385Z"
   },
   {
    "duration": 181,
    "start_time": "2025-01-23T15:43:03.663Z"
   },
   {
    "duration": 174,
    "start_time": "2025-01-23T15:43:04.264Z"
   },
   {
    "duration": 205,
    "start_time": "2025-01-23T15:43:04.440Z"
   },
   {
    "duration": 207,
    "start_time": "2025-01-23T15:43:04.647Z"
   },
   {
    "duration": 219,
    "start_time": "2025-01-23T15:43:04.856Z"
   },
   {
    "duration": 6,
    "start_time": "2025-01-23T15:43:05.077Z"
   },
   {
    "duration": 411,
    "start_time": "2025-01-23T15:43:05.084Z"
   },
   {
    "duration": 12,
    "start_time": "2025-01-23T15:43:05.498Z"
   },
   {
    "duration": 13,
    "start_time": "2025-01-23T15:43:05.511Z"
   },
   {
    "duration": 30,
    "start_time": "2025-01-23T15:43:05.526Z"
   },
   {
    "duration": 3,
    "start_time": "2025-01-23T15:43:05.557Z"
   },
   {
    "duration": 11,
    "start_time": "2025-01-23T15:43:05.562Z"
   },
   {
    "duration": 7,
    "start_time": "2025-01-23T15:43:05.575Z"
   },
   {
    "duration": 9,
    "start_time": "2025-01-23T15:43:05.583Z"
   },
   {
    "duration": 1138,
    "start_time": "2025-01-23T15:43:05.593Z"
   },
   {
    "duration": 23,
    "start_time": "2025-01-23T15:43:06.732Z"
   },
   {
    "duration": 9,
    "start_time": "2025-01-23T15:43:06.757Z"
   },
   {
    "duration": 12,
    "start_time": "2025-01-23T15:43:06.767Z"
   },
   {
    "duration": 4,
    "start_time": "2025-01-23T15:43:44.719Z"
   },
   {
    "duration": 94,
    "start_time": "2025-01-23T15:46:09.929Z"
   },
   {
    "duration": 9,
    "start_time": "2025-01-23T15:46:21.104Z"
   },
   {
    "duration": 9,
    "start_time": "2025-01-23T15:47:48.893Z"
   },
   {
    "duration": 12,
    "start_time": "2025-01-23T15:48:21.600Z"
   },
   {
    "duration": 96,
    "start_time": "2025-01-23T15:48:29.348Z"
   },
   {
    "duration": 9,
    "start_time": "2025-01-23T15:48:39.971Z"
   },
   {
    "duration": 22,
    "start_time": "2025-01-23T15:49:20.874Z"
   },
   {
    "duration": 4,
    "start_time": "2025-01-23T15:49:27.739Z"
   },
   {
    "duration": 16,
    "start_time": "2025-01-23T15:49:35.036Z"
   },
   {
    "duration": 16,
    "start_time": "2025-01-23T15:51:57.400Z"
   },
   {
    "duration": 14,
    "start_time": "2025-01-23T15:52:12.803Z"
   },
   {
    "duration": 2302,
    "start_time": "2025-01-23T15:52:49.662Z"
   },
   {
    "duration": 1357,
    "start_time": "2025-01-23T15:52:51.966Z"
   },
   {
    "duration": 60,
    "start_time": "2025-01-23T15:52:53.325Z"
   },
   {
    "duration": 15,
    "start_time": "2025-01-23T15:52:53.386Z"
   },
   {
    "duration": 12,
    "start_time": "2025-01-23T15:52:53.403Z"
   },
   {
    "duration": 18,
    "start_time": "2025-01-23T15:52:53.417Z"
   },
   {
    "duration": 16,
    "start_time": "2025-01-23T15:52:53.437Z"
   },
   {
    "duration": 15,
    "start_time": "2025-01-23T15:52:53.454Z"
   },
   {
    "duration": 6,
    "start_time": "2025-01-23T15:52:53.470Z"
   },
   {
    "duration": 12,
    "start_time": "2025-01-23T15:52:53.477Z"
   },
   {
    "duration": 8,
    "start_time": "2025-01-23T15:52:53.490Z"
   },
   {
    "duration": 10,
    "start_time": "2025-01-23T15:52:53.500Z"
   },
   {
    "duration": 28,
    "start_time": "2025-01-23T15:52:53.511Z"
   },
   {
    "duration": 10,
    "start_time": "2025-01-23T15:52:53.553Z"
   },
   {
    "duration": 10,
    "start_time": "2025-01-23T15:52:53.565Z"
   },
   {
    "duration": 7,
    "start_time": "2025-01-23T15:52:53.576Z"
   },
   {
    "duration": 7,
    "start_time": "2025-01-23T15:52:53.584Z"
   },
   {
    "duration": 9,
    "start_time": "2025-01-23T15:52:53.592Z"
   },
   {
    "duration": 6,
    "start_time": "2025-01-23T15:52:53.603Z"
   },
   {
    "duration": 17,
    "start_time": "2025-01-23T15:52:53.611Z"
   },
   {
    "duration": 16,
    "start_time": "2025-01-23T15:52:53.654Z"
   },
   {
    "duration": 3,
    "start_time": "2025-01-23T15:52:53.672Z"
   },
   {
    "duration": 26,
    "start_time": "2025-01-23T15:52:53.677Z"
   },
   {
    "duration": 4,
    "start_time": "2025-01-23T15:52:53.704Z"
   },
   {
    "duration": 216,
    "start_time": "2025-01-23T15:52:53.709Z"
   },
   {
    "duration": 147,
    "start_time": "2025-01-23T15:52:53.926Z"
   },
   {
    "duration": 153,
    "start_time": "2025-01-23T15:52:54.075Z"
   },
   {
    "duration": 274,
    "start_time": "2025-01-23T15:52:54.229Z"
   },
   {
    "duration": 6,
    "start_time": "2025-01-23T15:52:54.504Z"
   },
   {
    "duration": 157,
    "start_time": "2025-01-23T15:52:54.511Z"
   },
   {
    "duration": 6,
    "start_time": "2025-01-23T15:52:54.669Z"
   },
   {
    "duration": 189,
    "start_time": "2025-01-23T15:52:54.676Z"
   },
   {
    "duration": 233,
    "start_time": "2025-01-23T15:52:54.866Z"
   },
   {
    "duration": 212,
    "start_time": "2025-01-23T15:52:55.101Z"
   },
   {
    "duration": 189,
    "start_time": "2025-01-23T15:52:55.315Z"
   },
   {
    "duration": 1313,
    "start_time": "2025-01-23T15:52:55.506Z"
   },
   {
    "duration": 17,
    "start_time": "2025-01-23T15:52:56.821Z"
   },
   {
    "duration": 9,
    "start_time": "2025-01-23T15:52:56.840Z"
   },
   {
    "duration": 9,
    "start_time": "2025-01-23T15:52:56.850Z"
   },
   {
    "duration": 15,
    "start_time": "2025-01-23T15:52:56.861Z"
   },
   {
    "duration": 10,
    "start_time": "2025-01-23T15:52:56.881Z"
   },
   {
    "duration": 1105,
    "start_time": "2025-01-23T15:52:56.893Z"
   },
   {
    "duration": 5,
    "start_time": "2025-01-23T15:52:57.999Z"
   },
   {
    "duration": 23,
    "start_time": "2025-01-23T15:52:58.005Z"
   },
   {
    "duration": 13,
    "start_time": "2025-01-23T15:52:58.054Z"
   },
   {
    "duration": 36,
    "start_time": "2025-01-23T15:52:58.068Z"
   },
   {
    "duration": 59,
    "start_time": "2025-01-23T15:52:58.153Z"
   },
   {
    "duration": 15,
    "start_time": "2025-01-23T15:52:58.214Z"
   },
   {
    "duration": 24,
    "start_time": "2025-01-23T15:52:58.231Z"
   },
   {
    "duration": 15,
    "start_time": "2025-01-23T15:52:58.257Z"
   },
   {
    "duration": 31,
    "start_time": "2025-01-23T15:52:58.274Z"
   },
   {
    "duration": 16,
    "start_time": "2025-01-23T15:52:58.307Z"
   },
   {
    "duration": 17,
    "start_time": "2025-01-23T15:52:58.324Z"
   },
   {
    "duration": 10,
    "start_time": "2025-01-23T15:52:58.343Z"
   },
   {
    "duration": 12,
    "start_time": "2025-01-23T15:52:58.354Z"
   },
   {
    "duration": 13,
    "start_time": "2025-01-23T15:52:58.367Z"
   },
   {
    "duration": 13,
    "start_time": "2025-01-23T15:52:58.382Z"
   },
   {
    "duration": 15,
    "start_time": "2025-01-23T15:52:58.396Z"
   },
   {
    "duration": 26,
    "start_time": "2025-01-23T15:52:58.412Z"
   },
   {
    "duration": 11,
    "start_time": "2025-01-23T15:52:58.440Z"
   },
   {
    "duration": 14,
    "start_time": "2025-01-23T15:52:58.452Z"
   },
   {
    "duration": 9,
    "start_time": "2025-01-23T15:52:58.467Z"
   },
   {
    "duration": 6,
    "start_time": "2025-01-23T15:52:58.478Z"
   },
   {
    "duration": 5,
    "start_time": "2025-01-23T15:52:58.485Z"
   },
   {
    "duration": 18,
    "start_time": "2025-01-23T15:52:58.491Z"
   },
   {
    "duration": 5,
    "start_time": "2025-01-23T15:52:58.510Z"
   },
   {
    "duration": 207,
    "start_time": "2025-01-23T15:52:58.516Z"
   },
   {
    "duration": 282,
    "start_time": "2025-01-23T15:52:58.725Z"
   },
   {
    "duration": 194,
    "start_time": "2025-01-23T15:52:59.008Z"
   },
   {
    "duration": 170,
    "start_time": "2025-01-23T15:52:59.204Z"
   },
   {
    "duration": 179,
    "start_time": "2025-01-23T15:52:59.376Z"
   },
   {
    "duration": 195,
    "start_time": "2025-01-23T15:52:59.556Z"
   },
   {
    "duration": 216,
    "start_time": "2025-01-23T15:52:59.752Z"
   },
   {
    "duration": 239,
    "start_time": "2025-01-23T15:52:59.970Z"
   },
   {
    "duration": 6,
    "start_time": "2025-01-23T15:53:00.211Z"
   },
   {
    "duration": 451,
    "start_time": "2025-01-23T15:53:00.218Z"
   },
   {
    "duration": 11,
    "start_time": "2025-01-23T15:53:00.670Z"
   },
   {
    "duration": 11,
    "start_time": "2025-01-23T15:53:00.682Z"
   },
   {
    "duration": 18,
    "start_time": "2025-01-23T15:53:00.695Z"
   },
   {
    "duration": 4,
    "start_time": "2025-01-23T15:53:00.715Z"
   },
   {
    "duration": 23,
    "start_time": "2025-01-23T15:53:00.720Z"
   },
   {
    "duration": 38,
    "start_time": "2025-01-23T15:53:00.745Z"
   },
   {
    "duration": 22,
    "start_time": "2025-01-23T15:53:00.784Z"
   },
   {
    "duration": 1134,
    "start_time": "2025-01-23T15:53:00.808Z"
   },
   {
    "duration": 23,
    "start_time": "2025-01-23T15:53:01.943Z"
   },
   {
    "duration": 27,
    "start_time": "2025-01-23T15:53:01.967Z"
   },
   {
    "duration": 30,
    "start_time": "2025-01-23T15:53:01.996Z"
   },
   {
    "duration": 24,
    "start_time": "2025-01-23T15:53:02.027Z"
   },
   {
    "duration": 118,
    "start_time": "2025-01-23T15:53:02.053Z"
   },
   {
    "duration": 9,
    "start_time": "2025-01-23T15:53:08.502Z"
   },
   {
    "duration": 3,
    "start_time": "2025-01-23T15:54:07.943Z"
   },
   {
    "duration": 25,
    "start_time": "2025-01-23T15:54:09.598Z"
   },
   {
    "duration": 8,
    "start_time": "2025-01-23T15:54:28.062Z"
   },
   {
    "duration": 2449,
    "start_time": "2025-01-23T15:57:31.026Z"
   },
   {
    "duration": 2340,
    "start_time": "2025-01-23T15:57:33.477Z"
   },
   {
    "duration": 75,
    "start_time": "2025-01-23T15:57:35.818Z"
   },
   {
    "duration": 16,
    "start_time": "2025-01-23T15:57:35.894Z"
   },
   {
    "duration": 31,
    "start_time": "2025-01-23T15:57:35.913Z"
   },
   {
    "duration": 15,
    "start_time": "2025-01-23T15:57:35.945Z"
   },
   {
    "duration": 11,
    "start_time": "2025-01-23T15:57:35.962Z"
   },
   {
    "duration": 28,
    "start_time": "2025-01-23T15:57:35.975Z"
   },
   {
    "duration": 17,
    "start_time": "2025-01-23T15:57:36.004Z"
   },
   {
    "duration": 15,
    "start_time": "2025-01-23T15:57:36.023Z"
   },
   {
    "duration": 12,
    "start_time": "2025-01-23T15:57:36.040Z"
   },
   {
    "duration": 8,
    "start_time": "2025-01-23T15:57:36.053Z"
   },
   {
    "duration": 6,
    "start_time": "2025-01-23T15:57:36.063Z"
   },
   {
    "duration": 12,
    "start_time": "2025-01-23T15:57:36.073Z"
   },
   {
    "duration": 10,
    "start_time": "2025-01-23T15:57:36.087Z"
   },
   {
    "duration": 20,
    "start_time": "2025-01-23T15:57:36.098Z"
   },
   {
    "duration": 9,
    "start_time": "2025-01-23T15:57:36.120Z"
   },
   {
    "duration": 24,
    "start_time": "2025-01-23T15:57:36.130Z"
   },
   {
    "duration": 10,
    "start_time": "2025-01-23T15:57:36.155Z"
   },
   {
    "duration": 42,
    "start_time": "2025-01-23T15:57:36.166Z"
   },
   {
    "duration": 31,
    "start_time": "2025-01-23T15:57:36.210Z"
   },
   {
    "duration": 9,
    "start_time": "2025-01-23T15:57:36.242Z"
   },
   {
    "duration": 20,
    "start_time": "2025-01-23T15:57:36.252Z"
   },
   {
    "duration": 3,
    "start_time": "2025-01-23T15:57:36.273Z"
   },
   {
    "duration": 172,
    "start_time": "2025-01-23T15:57:36.278Z"
   },
   {
    "duration": 150,
    "start_time": "2025-01-23T15:57:36.454Z"
   },
   {
    "duration": 151,
    "start_time": "2025-01-23T15:57:36.605Z"
   },
   {
    "duration": 231,
    "start_time": "2025-01-23T15:57:36.757Z"
   },
   {
    "duration": 6,
    "start_time": "2025-01-23T15:57:36.989Z"
   },
   {
    "duration": 173,
    "start_time": "2025-01-23T15:57:36.996Z"
   },
   {
    "duration": 6,
    "start_time": "2025-01-23T15:57:37.171Z"
   },
   {
    "duration": 176,
    "start_time": "2025-01-23T15:57:37.178Z"
   },
   {
    "duration": 212,
    "start_time": "2025-01-23T15:57:37.355Z"
   },
   {
    "duration": 204,
    "start_time": "2025-01-23T15:57:37.568Z"
   },
   {
    "duration": 193,
    "start_time": "2025-01-23T15:57:37.774Z"
   },
   {
    "duration": 1286,
    "start_time": "2025-01-23T15:57:37.969Z"
   },
   {
    "duration": 16,
    "start_time": "2025-01-23T15:57:39.256Z"
   },
   {
    "duration": 3,
    "start_time": "2025-01-23T15:57:39.274Z"
   },
   {
    "duration": 13,
    "start_time": "2025-01-23T15:57:39.278Z"
   },
   {
    "duration": 6,
    "start_time": "2025-01-23T15:57:39.292Z"
   },
   {
    "duration": 5,
    "start_time": "2025-01-23T15:57:39.303Z"
   },
   {
    "duration": 1099,
    "start_time": "2025-01-23T15:57:39.309Z"
   },
   {
    "duration": 5,
    "start_time": "2025-01-23T15:57:40.410Z"
   },
   {
    "duration": 4,
    "start_time": "2025-01-23T15:57:40.416Z"
   },
   {
    "duration": 18,
    "start_time": "2025-01-23T15:57:40.421Z"
   },
   {
    "duration": 36,
    "start_time": "2025-01-23T15:57:40.454Z"
   },
   {
    "duration": 56,
    "start_time": "2025-01-23T15:57:40.491Z"
   },
   {
    "duration": 15,
    "start_time": "2025-01-23T15:57:40.549Z"
   },
   {
    "duration": 10,
    "start_time": "2025-01-23T15:57:40.565Z"
   },
   {
    "duration": 8,
    "start_time": "2025-01-23T15:57:40.577Z"
   },
   {
    "duration": 14,
    "start_time": "2025-01-23T15:57:40.586Z"
   },
   {
    "duration": 14,
    "start_time": "2025-01-23T15:57:40.601Z"
   },
   {
    "duration": 11,
    "start_time": "2025-01-23T15:57:40.617Z"
   },
   {
    "duration": 26,
    "start_time": "2025-01-23T15:57:40.629Z"
   },
   {
    "duration": 6,
    "start_time": "2025-01-23T15:57:40.656Z"
   },
   {
    "duration": 29,
    "start_time": "2025-01-23T15:57:40.664Z"
   },
   {
    "duration": 14,
    "start_time": "2025-01-23T15:57:40.694Z"
   },
   {
    "duration": 8,
    "start_time": "2025-01-23T15:57:40.710Z"
   },
   {
    "duration": 16,
    "start_time": "2025-01-23T15:57:40.719Z"
   },
   {
    "duration": 23,
    "start_time": "2025-01-23T15:57:40.736Z"
   },
   {
    "duration": 11,
    "start_time": "2025-01-23T15:57:40.760Z"
   },
   {
    "duration": 8,
    "start_time": "2025-01-23T15:57:40.773Z"
   },
   {
    "duration": 107,
    "start_time": "2025-01-23T15:57:40.783Z"
   },
   {
    "duration": 0,
    "start_time": "2025-01-23T15:57:40.892Z"
   },
   {
    "duration": 0,
    "start_time": "2025-01-23T15:57:40.893Z"
   },
   {
    "duration": 0,
    "start_time": "2025-01-23T15:57:40.894Z"
   },
   {
    "duration": 0,
    "start_time": "2025-01-23T15:57:40.895Z"
   },
   {
    "duration": 0,
    "start_time": "2025-01-23T15:57:40.896Z"
   },
   {
    "duration": 0,
    "start_time": "2025-01-23T15:57:40.896Z"
   },
   {
    "duration": 0,
    "start_time": "2025-01-23T15:57:40.897Z"
   },
   {
    "duration": 0,
    "start_time": "2025-01-23T15:57:40.899Z"
   },
   {
    "duration": 0,
    "start_time": "2025-01-23T15:57:40.899Z"
   },
   {
    "duration": 0,
    "start_time": "2025-01-23T15:57:40.900Z"
   },
   {
    "duration": 0,
    "start_time": "2025-01-23T15:57:40.901Z"
   },
   {
    "duration": 0,
    "start_time": "2025-01-23T15:57:40.902Z"
   },
   {
    "duration": 0,
    "start_time": "2025-01-23T15:57:40.903Z"
   },
   {
    "duration": 0,
    "start_time": "2025-01-23T15:57:40.904Z"
   },
   {
    "duration": 0,
    "start_time": "2025-01-23T15:57:40.905Z"
   },
   {
    "duration": 0,
    "start_time": "2025-01-23T15:57:40.906Z"
   },
   {
    "duration": 0,
    "start_time": "2025-01-23T15:57:40.907Z"
   },
   {
    "duration": 0,
    "start_time": "2025-01-23T15:57:40.908Z"
   },
   {
    "duration": 0,
    "start_time": "2025-01-23T15:57:40.909Z"
   },
   {
    "duration": 0,
    "start_time": "2025-01-23T15:57:40.910Z"
   },
   {
    "duration": 0,
    "start_time": "2025-01-23T15:57:40.911Z"
   },
   {
    "duration": 0,
    "start_time": "2025-01-23T15:57:40.912Z"
   },
   {
    "duration": 0,
    "start_time": "2025-01-23T15:57:40.913Z"
   },
   {
    "duration": 0,
    "start_time": "2025-01-23T15:57:40.954Z"
   },
   {
    "duration": 0,
    "start_time": "2025-01-23T15:57:40.955Z"
   },
   {
    "duration": 0,
    "start_time": "2025-01-23T15:57:40.956Z"
   },
   {
    "duration": 0,
    "start_time": "2025-01-23T15:57:40.957Z"
   },
   {
    "duration": 0,
    "start_time": "2025-01-23T15:57:40.958Z"
   },
   {
    "duration": 0,
    "start_time": "2025-01-23T15:57:40.959Z"
   },
   {
    "duration": 9,
    "start_time": "2025-01-23T15:57:48.707Z"
   },
   {
    "duration": 4,
    "start_time": "2025-01-23T15:58:01.952Z"
   },
   {
    "duration": 9,
    "start_time": "2025-01-23T15:58:05.757Z"
   },
   {
    "duration": 2382,
    "start_time": "2025-01-23T15:58:12.244Z"
   },
   {
    "duration": 1436,
    "start_time": "2025-01-23T15:58:14.629Z"
   },
   {
    "duration": 61,
    "start_time": "2025-01-23T15:58:16.068Z"
   },
   {
    "duration": 15,
    "start_time": "2025-01-23T15:58:16.132Z"
   },
   {
    "duration": 14,
    "start_time": "2025-01-23T15:58:16.148Z"
   },
   {
    "duration": 6,
    "start_time": "2025-01-23T15:58:16.164Z"
   },
   {
    "duration": 6,
    "start_time": "2025-01-23T15:58:16.171Z"
   },
   {
    "duration": 14,
    "start_time": "2025-01-23T15:58:16.179Z"
   },
   {
    "duration": 6,
    "start_time": "2025-01-23T15:58:16.194Z"
   },
   {
    "duration": 12,
    "start_time": "2025-01-23T15:58:16.202Z"
   },
   {
    "duration": 7,
    "start_time": "2025-01-23T15:58:16.215Z"
   },
   {
    "duration": 8,
    "start_time": "2025-01-23T15:58:16.253Z"
   },
   {
    "duration": 6,
    "start_time": "2025-01-23T15:58:16.262Z"
   },
   {
    "duration": 11,
    "start_time": "2025-01-23T15:58:16.270Z"
   },
   {
    "duration": 10,
    "start_time": "2025-01-23T15:58:16.282Z"
   },
   {
    "duration": 9,
    "start_time": "2025-01-23T15:58:16.293Z"
   },
   {
    "duration": 7,
    "start_time": "2025-01-23T15:58:16.303Z"
   },
   {
    "duration": 5,
    "start_time": "2025-01-23T15:58:16.311Z"
   },
   {
    "duration": 6,
    "start_time": "2025-01-23T15:58:16.354Z"
   },
   {
    "duration": 21,
    "start_time": "2025-01-23T15:58:16.361Z"
   },
   {
    "duration": 16,
    "start_time": "2025-01-23T15:58:16.384Z"
   },
   {
    "duration": 11,
    "start_time": "2025-01-23T15:58:16.402Z"
   },
   {
    "duration": 23,
    "start_time": "2025-01-23T15:58:16.415Z"
   },
   {
    "duration": 4,
    "start_time": "2025-01-23T15:58:16.439Z"
   },
   {
    "duration": 182,
    "start_time": "2025-01-23T15:58:16.453Z"
   },
   {
    "duration": 165,
    "start_time": "2025-01-23T15:58:16.636Z"
   },
   {
    "duration": 175,
    "start_time": "2025-01-23T15:58:16.803Z"
   },
   {
    "duration": 226,
    "start_time": "2025-01-23T15:58:16.981Z"
   },
   {
    "duration": 6,
    "start_time": "2025-01-23T15:58:17.209Z"
   },
   {
    "duration": 155,
    "start_time": "2025-01-23T15:58:17.216Z"
   },
   {
    "duration": 5,
    "start_time": "2025-01-23T15:58:17.373Z"
   },
   {
    "duration": 187,
    "start_time": "2025-01-23T15:58:17.380Z"
   },
   {
    "duration": 231,
    "start_time": "2025-01-23T15:58:17.569Z"
   },
   {
    "duration": 216,
    "start_time": "2025-01-23T15:58:17.802Z"
   },
   {
    "duration": 185,
    "start_time": "2025-01-23T15:58:18.020Z"
   },
   {
    "duration": 1312,
    "start_time": "2025-01-23T15:58:18.206Z"
   },
   {
    "duration": 17,
    "start_time": "2025-01-23T15:58:19.520Z"
   },
   {
    "duration": 5,
    "start_time": "2025-01-23T15:58:19.539Z"
   },
   {
    "duration": 5,
    "start_time": "2025-01-23T15:58:19.546Z"
   },
   {
    "duration": 5,
    "start_time": "2025-01-23T15:58:19.554Z"
   },
   {
    "duration": 4,
    "start_time": "2025-01-23T15:58:19.560Z"
   },
   {
    "duration": 1105,
    "start_time": "2025-01-23T15:58:19.566Z"
   },
   {
    "duration": 5,
    "start_time": "2025-01-23T15:58:20.673Z"
   },
   {
    "duration": 18,
    "start_time": "2025-01-23T15:58:20.679Z"
   },
   {
    "duration": 14,
    "start_time": "2025-01-23T15:58:20.698Z"
   },
   {
    "duration": 49,
    "start_time": "2025-01-23T15:58:20.713Z"
   },
   {
    "duration": 57,
    "start_time": "2025-01-23T15:58:20.763Z"
   },
   {
    "duration": 15,
    "start_time": "2025-01-23T15:58:20.822Z"
   },
   {
    "duration": 23,
    "start_time": "2025-01-23T15:58:20.839Z"
   },
   {
    "duration": 36,
    "start_time": "2025-01-23T15:58:20.864Z"
   },
   {
    "duration": 15,
    "start_time": "2025-01-23T15:58:20.902Z"
   },
   {
    "duration": 21,
    "start_time": "2025-01-23T15:58:20.918Z"
   },
   {
    "duration": 31,
    "start_time": "2025-01-23T15:58:20.941Z"
   },
   {
    "duration": 24,
    "start_time": "2025-01-23T15:58:20.974Z"
   },
   {
    "duration": 7,
    "start_time": "2025-01-23T15:58:20.999Z"
   },
   {
    "duration": 20,
    "start_time": "2025-01-23T15:58:21.008Z"
   },
   {
    "duration": 17,
    "start_time": "2025-01-23T15:58:21.029Z"
   },
   {
    "duration": 9,
    "start_time": "2025-01-23T15:58:21.047Z"
   },
   {
    "duration": 7,
    "start_time": "2025-01-23T15:58:21.057Z"
   },
   {
    "duration": 16,
    "start_time": "2025-01-23T15:58:21.066Z"
   },
   {
    "duration": 15,
    "start_time": "2025-01-23T15:58:21.083Z"
   },
   {
    "duration": 13,
    "start_time": "2025-01-23T15:58:21.099Z"
   },
   {
    "duration": 3,
    "start_time": "2025-01-23T15:58:21.114Z"
   },
   {
    "duration": 14,
    "start_time": "2025-01-23T15:58:21.119Z"
   },
   {
    "duration": 5,
    "start_time": "2025-01-23T15:58:21.135Z"
   },
   {
    "duration": 23,
    "start_time": "2025-01-23T15:58:21.141Z"
   },
   {
    "duration": 5,
    "start_time": "2025-01-23T15:58:21.165Z"
   },
   {
    "duration": 188,
    "start_time": "2025-01-23T15:58:21.171Z"
   },
   {
    "duration": 271,
    "start_time": "2025-01-23T15:58:21.360Z"
   },
   {
    "duration": 179,
    "start_time": "2025-01-23T15:58:21.633Z"
   },
   {
    "duration": 162,
    "start_time": "2025-01-23T15:58:21.814Z"
   },
   {
    "duration": 167,
    "start_time": "2025-01-23T15:58:21.977Z"
   },
   {
    "duration": 186,
    "start_time": "2025-01-23T15:58:22.146Z"
   },
   {
    "duration": 200,
    "start_time": "2025-01-23T15:58:22.333Z"
   },
   {
    "duration": 224,
    "start_time": "2025-01-23T15:58:22.534Z"
   },
   {
    "duration": 6,
    "start_time": "2025-01-23T15:58:22.760Z"
   },
   {
    "duration": 424,
    "start_time": "2025-01-23T15:58:22.767Z"
   },
   {
    "duration": 12,
    "start_time": "2025-01-23T15:58:23.193Z"
   },
   {
    "duration": 9,
    "start_time": "2025-01-23T15:58:23.206Z"
   },
   {
    "duration": 13,
    "start_time": "2025-01-23T15:58:23.216Z"
   },
   {
    "duration": 3,
    "start_time": "2025-01-23T15:58:23.230Z"
   },
   {
    "duration": 3,
    "start_time": "2025-01-23T15:58:23.254Z"
   },
   {
    "duration": 4,
    "start_time": "2025-01-23T15:58:23.259Z"
   },
   {
    "duration": 3,
    "start_time": "2025-01-23T15:58:23.264Z"
   },
   {
    "duration": 1096,
    "start_time": "2025-01-23T15:58:23.269Z"
   },
   {
    "duration": 24,
    "start_time": "2025-01-23T15:58:24.367Z"
   },
   {
    "duration": 5,
    "start_time": "2025-01-23T15:58:24.393Z"
   },
   {
    "duration": 15,
    "start_time": "2025-01-23T15:58:24.400Z"
   },
   {
    "duration": 6,
    "start_time": "2025-01-23T15:58:24.417Z"
   },
   {
    "duration": 29,
    "start_time": "2025-01-23T15:58:24.425Z"
   },
   {
    "duration": 127,
    "start_time": "2025-01-23T15:58:24.455Z"
   },
   {
    "duration": 8,
    "start_time": "2025-01-23T16:01:21.576Z"
   },
   {
    "duration": 17,
    "start_time": "2025-01-23T16:01:47.888Z"
   },
   {
    "duration": 2431,
    "start_time": "2025-01-23T16:01:57.225Z"
   },
   {
    "duration": 1418,
    "start_time": "2025-01-23T16:01:59.658Z"
   },
   {
    "duration": 71,
    "start_time": "2025-01-23T16:02:01.078Z"
   },
   {
    "duration": 15,
    "start_time": "2025-01-23T16:02:01.152Z"
   },
   {
    "duration": 17,
    "start_time": "2025-01-23T16:02:01.169Z"
   },
   {
    "duration": 12,
    "start_time": "2025-01-23T16:02:01.187Z"
   },
   {
    "duration": 19,
    "start_time": "2025-01-23T16:02:01.200Z"
   },
   {
    "duration": 22,
    "start_time": "2025-01-23T16:02:01.221Z"
   },
   {
    "duration": 7,
    "start_time": "2025-01-23T16:02:01.245Z"
   },
   {
    "duration": 22,
    "start_time": "2025-01-23T16:02:01.254Z"
   },
   {
    "duration": 24,
    "start_time": "2025-01-23T16:02:01.278Z"
   },
   {
    "duration": 6,
    "start_time": "2025-01-23T16:02:01.304Z"
   },
   {
    "duration": 13,
    "start_time": "2025-01-23T16:02:01.311Z"
   },
   {
    "duration": 37,
    "start_time": "2025-01-23T16:02:01.325Z"
   },
   {
    "duration": 39,
    "start_time": "2025-01-23T16:02:01.363Z"
   },
   {
    "duration": 31,
    "start_time": "2025-01-23T16:02:01.403Z"
   },
   {
    "duration": 18,
    "start_time": "2025-01-23T16:02:01.435Z"
   },
   {
    "duration": 33,
    "start_time": "2025-01-23T16:02:01.455Z"
   },
   {
    "duration": 33,
    "start_time": "2025-01-23T16:02:01.490Z"
   },
   {
    "duration": 25,
    "start_time": "2025-01-23T16:02:01.524Z"
   },
   {
    "duration": 34,
    "start_time": "2025-01-23T16:02:01.551Z"
   },
   {
    "duration": 10,
    "start_time": "2025-01-23T16:02:01.586Z"
   },
   {
    "duration": 24,
    "start_time": "2025-01-23T16:02:01.598Z"
   },
   {
    "duration": 25,
    "start_time": "2025-01-23T16:02:01.623Z"
   },
   {
    "duration": 194,
    "start_time": "2025-01-23T16:02:01.649Z"
   },
   {
    "duration": 149,
    "start_time": "2025-01-23T16:02:01.844Z"
   },
   {
    "duration": 154,
    "start_time": "2025-01-23T16:02:01.995Z"
   },
   {
    "duration": 220,
    "start_time": "2025-01-23T16:02:02.153Z"
   },
   {
    "duration": 5,
    "start_time": "2025-01-23T16:02:02.375Z"
   },
   {
    "duration": 182,
    "start_time": "2025-01-23T16:02:02.382Z"
   },
   {
    "duration": 6,
    "start_time": "2025-01-23T16:02:02.565Z"
   },
   {
    "duration": 195,
    "start_time": "2025-01-23T16:02:02.573Z"
   },
   {
    "duration": 222,
    "start_time": "2025-01-23T16:02:02.769Z"
   },
   {
    "duration": 211,
    "start_time": "2025-01-23T16:02:02.992Z"
   },
   {
    "duration": 193,
    "start_time": "2025-01-23T16:02:03.204Z"
   },
   {
    "duration": 1324,
    "start_time": "2025-01-23T16:02:03.399Z"
   },
   {
    "duration": 16,
    "start_time": "2025-01-23T16:02:04.724Z"
   },
   {
    "duration": 18,
    "start_time": "2025-01-23T16:02:04.742Z"
   },
   {
    "duration": 39,
    "start_time": "2025-01-23T16:02:04.762Z"
   },
   {
    "duration": 18,
    "start_time": "2025-01-23T16:02:04.803Z"
   },
   {
    "duration": 42,
    "start_time": "2025-01-23T16:02:04.823Z"
   },
   {
    "duration": 1071,
    "start_time": "2025-01-23T16:02:04.867Z"
   },
   {
    "duration": 5,
    "start_time": "2025-01-23T16:02:05.939Z"
   },
   {
    "duration": 22,
    "start_time": "2025-01-23T16:02:05.945Z"
   },
   {
    "duration": 29,
    "start_time": "2025-01-23T16:02:05.969Z"
   },
   {
    "duration": 45,
    "start_time": "2025-01-23T16:02:05.999Z"
   },
   {
    "duration": 80,
    "start_time": "2025-01-23T16:02:06.046Z"
   },
   {
    "duration": 15,
    "start_time": "2025-01-23T16:02:06.127Z"
   },
   {
    "duration": 32,
    "start_time": "2025-01-23T16:02:06.143Z"
   },
   {
    "duration": 30,
    "start_time": "2025-01-23T16:02:06.176Z"
   },
   {
    "duration": 19,
    "start_time": "2025-01-23T16:02:06.207Z"
   },
   {
    "duration": 25,
    "start_time": "2025-01-23T16:02:06.228Z"
   },
   {
    "duration": 27,
    "start_time": "2025-01-23T16:02:06.255Z"
   },
   {
    "duration": 17,
    "start_time": "2025-01-23T16:02:06.284Z"
   },
   {
    "duration": 37,
    "start_time": "2025-01-23T16:02:06.303Z"
   },
   {
    "duration": 25,
    "start_time": "2025-01-23T16:02:06.342Z"
   },
   {
    "duration": 52,
    "start_time": "2025-01-23T16:02:06.369Z"
   },
   {
    "duration": 17,
    "start_time": "2025-01-23T16:02:06.423Z"
   },
   {
    "duration": 27,
    "start_time": "2025-01-23T16:02:06.442Z"
   },
   {
    "duration": 32,
    "start_time": "2025-01-23T16:02:06.470Z"
   },
   {
    "duration": 12,
    "start_time": "2025-01-23T16:02:06.504Z"
   },
   {
    "duration": 13,
    "start_time": "2025-01-23T16:02:06.518Z"
   },
   {
    "duration": 13,
    "start_time": "2025-01-23T16:02:06.533Z"
   },
   {
    "duration": 34,
    "start_time": "2025-01-23T16:02:06.547Z"
   },
   {
    "duration": 7,
    "start_time": "2025-01-23T16:02:06.582Z"
   },
   {
    "duration": 45,
    "start_time": "2025-01-23T16:02:06.590Z"
   },
   {
    "duration": 34,
    "start_time": "2025-01-23T16:02:06.637Z"
   },
   {
    "duration": 247,
    "start_time": "2025-01-23T16:02:06.672Z"
   },
   {
    "duration": 279,
    "start_time": "2025-01-23T16:02:06.920Z"
   },
   {
    "duration": 183,
    "start_time": "2025-01-23T16:02:07.201Z"
   },
   {
    "duration": 172,
    "start_time": "2025-01-23T16:02:07.386Z"
   },
   {
    "duration": 171,
    "start_time": "2025-01-23T16:02:07.560Z"
   },
   {
    "duration": 211,
    "start_time": "2025-01-23T16:02:07.733Z"
   },
   {
    "duration": 203,
    "start_time": "2025-01-23T16:02:07.946Z"
   },
   {
    "duration": 217,
    "start_time": "2025-01-23T16:02:08.151Z"
   },
   {
    "duration": 7,
    "start_time": "2025-01-23T16:02:08.370Z"
   },
   {
    "duration": 425,
    "start_time": "2025-01-23T16:02:08.378Z"
   },
   {
    "duration": 12,
    "start_time": "2025-01-23T16:02:08.805Z"
   },
   {
    "duration": 17,
    "start_time": "2025-01-23T16:02:08.818Z"
   },
   {
    "duration": 24,
    "start_time": "2025-01-23T16:02:08.836Z"
   },
   {
    "duration": 3,
    "start_time": "2025-01-23T16:02:08.862Z"
   },
   {
    "duration": 3,
    "start_time": "2025-01-23T16:02:08.870Z"
   },
   {
    "duration": 7,
    "start_time": "2025-01-23T16:02:08.875Z"
   },
   {
    "duration": 6,
    "start_time": "2025-01-23T16:02:08.883Z"
   },
   {
    "duration": 1136,
    "start_time": "2025-01-23T16:02:08.890Z"
   },
   {
    "duration": 28,
    "start_time": "2025-01-23T16:02:10.028Z"
   },
   {
    "duration": 33,
    "start_time": "2025-01-23T16:02:10.058Z"
   },
   {
    "duration": 23,
    "start_time": "2025-01-23T16:02:10.093Z"
   },
   {
    "duration": 17,
    "start_time": "2025-01-23T16:02:10.117Z"
   },
   {
    "duration": 7,
    "start_time": "2025-01-23T16:02:10.136Z"
   },
   {
    "duration": 127,
    "start_time": "2025-01-23T16:02:10.144Z"
   },
   {
    "duration": 16,
    "start_time": "2025-01-23T16:03:01.868Z"
   },
   {
    "duration": 7,
    "start_time": "2025-01-23T16:03:13.889Z"
   },
   {
    "duration": 14,
    "start_time": "2025-01-23T16:03:31.218Z"
   },
   {
    "duration": 3,
    "start_time": "2025-01-23T16:03:33.656Z"
   },
   {
    "duration": 14,
    "start_time": "2025-01-23T16:05:04.756Z"
   },
   {
    "duration": 11,
    "start_time": "2025-01-23T16:05:15.170Z"
   },
   {
    "duration": 5,
    "start_time": "2025-01-23T16:05:31.138Z"
   },
   {
    "duration": 4,
    "start_time": "2025-01-23T16:05:32.438Z"
   },
   {
    "duration": 365,
    "start_time": "2025-01-23T16:05:57.552Z"
   },
   {
    "duration": 9,
    "start_time": "2025-01-23T16:05:58.134Z"
   },
   {
    "duration": 2356,
    "start_time": "2025-01-23T16:06:22.082Z"
   },
   {
    "duration": 1395,
    "start_time": "2025-01-23T16:06:24.442Z"
   },
   {
    "duration": 60,
    "start_time": "2025-01-23T16:06:25.839Z"
   },
   {
    "duration": 15,
    "start_time": "2025-01-23T16:06:25.900Z"
   },
   {
    "duration": 8,
    "start_time": "2025-01-23T16:06:25.917Z"
   },
   {
    "duration": 26,
    "start_time": "2025-01-23T16:06:25.926Z"
   },
   {
    "duration": 40,
    "start_time": "2025-01-23T16:06:25.953Z"
   },
   {
    "duration": 15,
    "start_time": "2025-01-23T16:06:25.995Z"
   },
   {
    "duration": 5,
    "start_time": "2025-01-23T16:06:26.012Z"
   },
   {
    "duration": 10,
    "start_time": "2025-01-23T16:06:26.019Z"
   },
   {
    "duration": 6,
    "start_time": "2025-01-23T16:06:26.030Z"
   },
   {
    "duration": 6,
    "start_time": "2025-01-23T16:06:26.037Z"
   },
   {
    "duration": 5,
    "start_time": "2025-01-23T16:06:26.045Z"
   },
   {
    "duration": 9,
    "start_time": "2025-01-23T16:06:26.055Z"
   },
   {
    "duration": 10,
    "start_time": "2025-01-23T16:06:26.066Z"
   },
   {
    "duration": 6,
    "start_time": "2025-01-23T16:06:26.077Z"
   },
   {
    "duration": 10,
    "start_time": "2025-01-23T16:06:26.084Z"
   },
   {
    "duration": 5,
    "start_time": "2025-01-23T16:06:26.095Z"
   },
   {
    "duration": 10,
    "start_time": "2025-01-23T16:06:26.101Z"
   },
   {
    "duration": 11,
    "start_time": "2025-01-23T16:06:26.112Z"
   },
   {
    "duration": 40,
    "start_time": "2025-01-23T16:06:26.124Z"
   },
   {
    "duration": 4,
    "start_time": "2025-01-23T16:06:26.165Z"
   },
   {
    "duration": 18,
    "start_time": "2025-01-23T16:06:26.170Z"
   },
   {
    "duration": 7,
    "start_time": "2025-01-23T16:06:26.190Z"
   },
   {
    "duration": 182,
    "start_time": "2025-01-23T16:06:26.199Z"
   },
   {
    "duration": 156,
    "start_time": "2025-01-23T16:06:26.383Z"
   },
   {
    "duration": 153,
    "start_time": "2025-01-23T16:06:26.540Z"
   },
   {
    "duration": 233,
    "start_time": "2025-01-23T16:06:26.695Z"
   },
   {
    "duration": 5,
    "start_time": "2025-01-23T16:06:26.930Z"
   },
   {
    "duration": 145,
    "start_time": "2025-01-23T16:06:26.937Z"
   },
   {
    "duration": 5,
    "start_time": "2025-01-23T16:06:27.084Z"
   },
   {
    "duration": 177,
    "start_time": "2025-01-23T16:06:27.090Z"
   },
   {
    "duration": 230,
    "start_time": "2025-01-23T16:06:27.269Z"
   },
   {
    "duration": 205,
    "start_time": "2025-01-23T16:06:27.501Z"
   },
   {
    "duration": 192,
    "start_time": "2025-01-23T16:06:27.708Z"
   },
   {
    "duration": 1313,
    "start_time": "2025-01-23T16:06:27.902Z"
   },
   {
    "duration": 18,
    "start_time": "2025-01-23T16:06:29.217Z"
   },
   {
    "duration": 7,
    "start_time": "2025-01-23T16:06:29.236Z"
   },
   {
    "duration": 7,
    "start_time": "2025-01-23T16:06:29.244Z"
   },
   {
    "duration": 6,
    "start_time": "2025-01-23T16:06:29.252Z"
   },
   {
    "duration": 3,
    "start_time": "2025-01-23T16:06:29.263Z"
   },
   {
    "duration": 1036,
    "start_time": "2025-01-23T16:06:29.267Z"
   },
   {
    "duration": 6,
    "start_time": "2025-01-23T16:06:30.304Z"
   },
   {
    "duration": 24,
    "start_time": "2025-01-23T16:06:30.311Z"
   },
   {
    "duration": 32,
    "start_time": "2025-01-23T16:06:30.336Z"
   },
   {
    "duration": 35,
    "start_time": "2025-01-23T16:06:30.370Z"
   },
   {
    "duration": 71,
    "start_time": "2025-01-23T16:06:30.407Z"
   },
   {
    "duration": 14,
    "start_time": "2025-01-23T16:06:30.480Z"
   },
   {
    "duration": 10,
    "start_time": "2025-01-23T16:06:30.496Z"
   },
   {
    "duration": 9,
    "start_time": "2025-01-23T16:06:30.507Z"
   },
   {
    "duration": 31,
    "start_time": "2025-01-23T16:06:30.518Z"
   },
   {
    "duration": 38,
    "start_time": "2025-01-23T16:06:30.550Z"
   },
   {
    "duration": 11,
    "start_time": "2025-01-23T16:06:30.589Z"
   },
   {
    "duration": 23,
    "start_time": "2025-01-23T16:06:30.602Z"
   },
   {
    "duration": 14,
    "start_time": "2025-01-23T16:06:30.627Z"
   },
   {
    "duration": 29,
    "start_time": "2025-01-23T16:06:30.642Z"
   },
   {
    "duration": 25,
    "start_time": "2025-01-23T16:06:30.673Z"
   },
   {
    "duration": 22,
    "start_time": "2025-01-23T16:06:30.699Z"
   },
   {
    "duration": 11,
    "start_time": "2025-01-23T16:06:30.723Z"
   },
   {
    "duration": 10,
    "start_time": "2025-01-23T16:06:30.735Z"
   },
   {
    "duration": 14,
    "start_time": "2025-01-23T16:06:30.746Z"
   },
   {
    "duration": 22,
    "start_time": "2025-01-23T16:06:30.762Z"
   },
   {
    "duration": 37,
    "start_time": "2025-01-23T16:06:30.786Z"
   },
   {
    "duration": 8,
    "start_time": "2025-01-23T16:06:30.825Z"
   },
   {
    "duration": 9,
    "start_time": "2025-01-23T16:06:30.834Z"
   },
   {
    "duration": 20,
    "start_time": "2025-01-23T16:06:30.845Z"
   },
   {
    "duration": 23,
    "start_time": "2025-01-23T16:06:30.867Z"
   },
   {
    "duration": 196,
    "start_time": "2025-01-23T16:06:30.891Z"
   },
   {
    "duration": 282,
    "start_time": "2025-01-23T16:06:31.089Z"
   },
   {
    "duration": 190,
    "start_time": "2025-01-23T16:06:31.373Z"
   },
   {
    "duration": 169,
    "start_time": "2025-01-23T16:06:31.564Z"
   },
   {
    "duration": 173,
    "start_time": "2025-01-23T16:06:31.735Z"
   },
   {
    "duration": 197,
    "start_time": "2025-01-23T16:06:31.909Z"
   },
   {
    "duration": 197,
    "start_time": "2025-01-23T16:06:32.108Z"
   },
   {
    "duration": 217,
    "start_time": "2025-01-23T16:06:32.307Z"
   },
   {
    "duration": 5,
    "start_time": "2025-01-23T16:06:32.526Z"
   },
   {
    "duration": 389,
    "start_time": "2025-01-23T16:06:32.533Z"
   },
   {
    "duration": 11,
    "start_time": "2025-01-23T16:06:32.924Z"
   },
   {
    "duration": 18,
    "start_time": "2025-01-23T16:06:32.936Z"
   },
   {
    "duration": 14,
    "start_time": "2025-01-23T16:06:32.955Z"
   },
   {
    "duration": 3,
    "start_time": "2025-01-23T16:06:32.970Z"
   },
   {
    "duration": 106,
    "start_time": "2025-01-23T16:06:32.975Z"
   },
   {
    "duration": 18,
    "start_time": "2025-01-23T16:06:33.083Z"
   },
   {
    "duration": 20,
    "start_time": "2025-01-23T16:06:33.103Z"
   },
   {
    "duration": 441,
    "start_time": "2025-01-23T16:06:33.124Z"
   },
   {
    "duration": 0,
    "start_time": "2025-01-23T16:06:33.567Z"
   },
   {
    "duration": 0,
    "start_time": "2025-01-23T16:06:33.568Z"
   },
   {
    "duration": 0,
    "start_time": "2025-01-23T16:06:33.569Z"
   },
   {
    "duration": 0,
    "start_time": "2025-01-23T16:06:33.570Z"
   },
   {
    "duration": 0,
    "start_time": "2025-01-23T16:06:33.571Z"
   },
   {
    "duration": 0,
    "start_time": "2025-01-23T16:06:33.572Z"
   },
   {
    "duration": 0,
    "start_time": "2025-01-23T16:06:33.573Z"
   },
   {
    "duration": 0,
    "start_time": "2025-01-23T16:06:33.574Z"
   },
   {
    "duration": 0,
    "start_time": "2025-01-23T16:06:33.575Z"
   },
   {
    "duration": 8218,
    "start_time": "2025-01-23T16:06:55.906Z"
   },
   {
    "duration": 17,
    "start_time": "2025-01-23T16:07:06.765Z"
   },
   {
    "duration": 3,
    "start_time": "2025-01-23T16:07:09.462Z"
   },
   {
    "duration": 12,
    "start_time": "2025-01-23T16:07:12.705Z"
   },
   {
    "duration": 4,
    "start_time": "2025-01-23T16:07:13.035Z"
   },
   {
    "duration": 4,
    "start_time": "2025-01-23T16:07:13.346Z"
   },
   {
    "duration": 8,
    "start_time": "2025-01-23T16:07:13.667Z"
   },
   {
    "duration": 13,
    "start_time": "2025-01-23T16:07:14.202Z"
   },
   {
    "duration": 6,
    "start_time": "2025-01-23T16:07:14.634Z"
   },
   {
    "duration": 4,
    "start_time": "2025-01-23T16:07:15.046Z"
   },
   {
    "duration": 2322,
    "start_time": "2025-01-23T16:09:25.645Z"
   },
   {
    "duration": 1893,
    "start_time": "2025-01-23T16:09:27.969Z"
   },
   {
    "duration": 90,
    "start_time": "2025-01-23T16:09:29.864Z"
   },
   {
    "duration": 14,
    "start_time": "2025-01-23T16:09:29.957Z"
   },
   {
    "duration": 9,
    "start_time": "2025-01-23T16:09:29.973Z"
   },
   {
    "duration": 46,
    "start_time": "2025-01-23T16:09:29.983Z"
   },
   {
    "duration": 32,
    "start_time": "2025-01-23T16:09:30.031Z"
   },
   {
    "duration": 53,
    "start_time": "2025-01-23T16:09:30.065Z"
   },
   {
    "duration": 24,
    "start_time": "2025-01-23T16:09:30.120Z"
   },
   {
    "duration": 15,
    "start_time": "2025-01-23T16:09:30.148Z"
   },
   {
    "duration": 8,
    "start_time": "2025-01-23T16:09:30.164Z"
   },
   {
    "duration": 6,
    "start_time": "2025-01-23T16:09:30.174Z"
   },
   {
    "duration": 25,
    "start_time": "2025-01-23T16:09:30.182Z"
   },
   {
    "duration": 35,
    "start_time": "2025-01-23T16:09:30.208Z"
   },
   {
    "duration": 31,
    "start_time": "2025-01-23T16:09:30.244Z"
   },
   {
    "duration": 51,
    "start_time": "2025-01-23T16:09:30.277Z"
   },
   {
    "duration": 30,
    "start_time": "2025-01-23T16:09:30.330Z"
   },
   {
    "duration": 15,
    "start_time": "2025-01-23T16:09:30.361Z"
   },
   {
    "duration": 36,
    "start_time": "2025-01-23T16:09:30.377Z"
   },
   {
    "duration": 25,
    "start_time": "2025-01-23T16:09:30.415Z"
   },
   {
    "duration": 25,
    "start_time": "2025-01-23T16:09:30.442Z"
   },
   {
    "duration": 23,
    "start_time": "2025-01-23T16:09:30.468Z"
   },
   {
    "duration": 49,
    "start_time": "2025-01-23T16:09:30.493Z"
   },
   {
    "duration": 19,
    "start_time": "2025-01-23T16:09:30.544Z"
   },
   {
    "duration": 191,
    "start_time": "2025-01-23T16:09:30.565Z"
   },
   {
    "duration": 156,
    "start_time": "2025-01-23T16:09:30.757Z"
   },
   {
    "duration": 158,
    "start_time": "2025-01-23T16:09:30.915Z"
   },
   {
    "duration": 232,
    "start_time": "2025-01-23T16:09:31.077Z"
   },
   {
    "duration": 6,
    "start_time": "2025-01-23T16:09:31.310Z"
   },
   {
    "duration": 157,
    "start_time": "2025-01-23T16:09:31.317Z"
   },
   {
    "duration": 5,
    "start_time": "2025-01-23T16:09:31.476Z"
   },
   {
    "duration": 199,
    "start_time": "2025-01-23T16:09:31.482Z"
   },
   {
    "duration": 221,
    "start_time": "2025-01-23T16:09:31.683Z"
   },
   {
    "duration": 222,
    "start_time": "2025-01-23T16:09:31.905Z"
   },
   {
    "duration": 181,
    "start_time": "2025-01-23T16:09:32.129Z"
   },
   {
    "duration": 1262,
    "start_time": "2025-01-23T16:09:32.312Z"
   },
   {
    "duration": 15,
    "start_time": "2025-01-23T16:09:33.576Z"
   },
   {
    "duration": 28,
    "start_time": "2025-01-23T16:09:33.592Z"
   },
   {
    "duration": 16,
    "start_time": "2025-01-23T16:09:33.622Z"
   },
   {
    "duration": 7,
    "start_time": "2025-01-23T16:09:33.639Z"
   },
   {
    "duration": 12,
    "start_time": "2025-01-23T16:09:33.648Z"
   },
   {
    "duration": 1053,
    "start_time": "2025-01-23T16:09:33.661Z"
   },
   {
    "duration": 4,
    "start_time": "2025-01-23T16:09:34.716Z"
   },
   {
    "duration": 11,
    "start_time": "2025-01-23T16:09:34.721Z"
   },
   {
    "duration": 37,
    "start_time": "2025-01-23T16:09:34.733Z"
   },
   {
    "duration": 34,
    "start_time": "2025-01-23T16:09:34.771Z"
   },
   {
    "duration": 58,
    "start_time": "2025-01-23T16:09:34.807Z"
   },
   {
    "duration": 16,
    "start_time": "2025-01-23T16:09:34.867Z"
   },
   {
    "duration": 21,
    "start_time": "2025-01-23T16:09:34.884Z"
   },
   {
    "duration": 9,
    "start_time": "2025-01-23T16:09:34.907Z"
   },
   {
    "duration": 14,
    "start_time": "2025-01-23T16:09:34.917Z"
   },
   {
    "duration": 106,
    "start_time": "2025-01-23T16:09:34.932Z"
   },
   {
    "duration": 0,
    "start_time": "2025-01-23T16:09:35.039Z"
   },
   {
    "duration": 0,
    "start_time": "2025-01-23T16:09:35.041Z"
   },
   {
    "duration": 0,
    "start_time": "2025-01-23T16:09:35.041Z"
   },
   {
    "duration": 0,
    "start_time": "2025-01-23T16:09:35.042Z"
   },
   {
    "duration": 0,
    "start_time": "2025-01-23T16:09:35.043Z"
   },
   {
    "duration": 0,
    "start_time": "2025-01-23T16:09:35.054Z"
   },
   {
    "duration": 0,
    "start_time": "2025-01-23T16:09:35.055Z"
   },
   {
    "duration": 0,
    "start_time": "2025-01-23T16:09:35.056Z"
   },
   {
    "duration": 0,
    "start_time": "2025-01-23T16:09:35.056Z"
   },
   {
    "duration": 0,
    "start_time": "2025-01-23T16:09:35.057Z"
   },
   {
    "duration": 0,
    "start_time": "2025-01-23T16:09:35.058Z"
   },
   {
    "duration": 0,
    "start_time": "2025-01-23T16:09:35.059Z"
   },
   {
    "duration": 0,
    "start_time": "2025-01-23T16:09:35.060Z"
   },
   {
    "duration": 0,
    "start_time": "2025-01-23T16:09:35.061Z"
   },
   {
    "duration": 0,
    "start_time": "2025-01-23T16:09:35.062Z"
   },
   {
    "duration": 0,
    "start_time": "2025-01-23T16:09:35.062Z"
   },
   {
    "duration": 0,
    "start_time": "2025-01-23T16:09:35.063Z"
   },
   {
    "duration": 0,
    "start_time": "2025-01-23T16:09:35.064Z"
   },
   {
    "duration": 0,
    "start_time": "2025-01-23T16:09:35.065Z"
   },
   {
    "duration": 0,
    "start_time": "2025-01-23T16:09:35.066Z"
   },
   {
    "duration": 0,
    "start_time": "2025-01-23T16:09:35.067Z"
   },
   {
    "duration": 0,
    "start_time": "2025-01-23T16:09:35.068Z"
   },
   {
    "duration": 0,
    "start_time": "2025-01-23T16:09:35.069Z"
   },
   {
    "duration": 0,
    "start_time": "2025-01-23T16:09:35.070Z"
   },
   {
    "duration": 0,
    "start_time": "2025-01-23T16:09:35.071Z"
   },
   {
    "duration": 0,
    "start_time": "2025-01-23T16:09:35.072Z"
   },
   {
    "duration": 0,
    "start_time": "2025-01-23T16:09:35.072Z"
   },
   {
    "duration": 0,
    "start_time": "2025-01-23T16:09:35.073Z"
   },
   {
    "duration": 0,
    "start_time": "2025-01-23T16:09:35.074Z"
   },
   {
    "duration": 0,
    "start_time": "2025-01-23T16:09:35.075Z"
   },
   {
    "duration": 0,
    "start_time": "2025-01-23T16:09:35.076Z"
   },
   {
    "duration": 0,
    "start_time": "2025-01-23T16:09:35.077Z"
   },
   {
    "duration": 0,
    "start_time": "2025-01-23T16:09:35.077Z"
   },
   {
    "duration": 0,
    "start_time": "2025-01-23T16:09:35.078Z"
   },
   {
    "duration": 0,
    "start_time": "2025-01-23T16:09:35.079Z"
   },
   {
    "duration": 0,
    "start_time": "2025-01-23T16:09:35.080Z"
   },
   {
    "duration": 0,
    "start_time": "2025-01-23T16:09:35.081Z"
   },
   {
    "duration": 0,
    "start_time": "2025-01-23T16:09:35.082Z"
   },
   {
    "duration": 0,
    "start_time": "2025-01-23T16:09:35.083Z"
   },
   {
    "duration": 0,
    "start_time": "2025-01-23T16:09:35.084Z"
   },
   {
    "duration": 0,
    "start_time": "2025-01-23T16:09:35.084Z"
   },
   {
    "duration": 0,
    "start_time": "2025-01-23T16:09:35.085Z"
   },
   {
    "duration": 0,
    "start_time": "2025-01-23T16:09:35.086Z"
   },
   {
    "duration": 15,
    "start_time": "2025-01-23T16:10:22.727Z"
   },
   {
    "duration": 11,
    "start_time": "2025-01-23T16:10:22.912Z"
   },
   {
    "duration": 7,
    "start_time": "2025-01-23T16:10:23.359Z"
   },
   {
    "duration": 10,
    "start_time": "2025-01-23T16:10:24.428Z"
   },
   {
    "duration": 16,
    "start_time": "2025-01-23T16:10:27.825Z"
   },
   {
    "duration": 10,
    "start_time": "2025-01-23T16:14:27.643Z"
   },
   {
    "duration": 14,
    "start_time": "2025-01-23T16:14:30.296Z"
   },
   {
    "duration": 4,
    "start_time": "2025-01-23T16:15:50.585Z"
   },
   {
    "duration": 5,
    "start_time": "2025-01-23T16:15:57.635Z"
   },
   {
    "duration": 14,
    "start_time": "2025-01-23T16:15:57.768Z"
   },
   {
    "duration": 13,
    "start_time": "2025-01-23T16:16:01.002Z"
   },
   {
    "duration": 2306,
    "start_time": "2025-01-23T16:16:25.393Z"
   },
   {
    "duration": 1396,
    "start_time": "2025-01-23T16:16:27.701Z"
   },
   {
    "duration": 70,
    "start_time": "2025-01-23T16:16:29.099Z"
   },
   {
    "duration": 14,
    "start_time": "2025-01-23T16:16:29.170Z"
   },
   {
    "duration": 20,
    "start_time": "2025-01-23T16:16:29.186Z"
   },
   {
    "duration": 8,
    "start_time": "2025-01-23T16:16:29.207Z"
   },
   {
    "duration": 24,
    "start_time": "2025-01-23T16:16:29.216Z"
   },
   {
    "duration": 18,
    "start_time": "2025-01-23T16:16:29.241Z"
   },
   {
    "duration": 6,
    "start_time": "2025-01-23T16:16:29.260Z"
   },
   {
    "duration": 10,
    "start_time": "2025-01-23T16:16:29.267Z"
   },
   {
    "duration": 6,
    "start_time": "2025-01-23T16:16:29.278Z"
   },
   {
    "duration": 6,
    "start_time": "2025-01-23T16:16:29.286Z"
   },
   {
    "duration": 11,
    "start_time": "2025-01-23T16:16:29.293Z"
   },
   {
    "duration": 21,
    "start_time": "2025-01-23T16:16:29.307Z"
   },
   {
    "duration": 9,
    "start_time": "2025-01-23T16:16:29.330Z"
   },
   {
    "duration": 5,
    "start_time": "2025-01-23T16:16:29.354Z"
   },
   {
    "duration": 5,
    "start_time": "2025-01-23T16:16:29.360Z"
   },
   {
    "duration": 4,
    "start_time": "2025-01-23T16:16:29.367Z"
   },
   {
    "duration": 6,
    "start_time": "2025-01-23T16:16:29.372Z"
   },
   {
    "duration": 127,
    "start_time": "2025-01-23T16:16:29.379Z"
   },
   {
    "duration": 0,
    "start_time": "2025-01-23T16:16:29.509Z"
   },
   {
    "duration": 0,
    "start_time": "2025-01-23T16:16:29.510Z"
   },
   {
    "duration": 0,
    "start_time": "2025-01-23T16:16:29.511Z"
   },
   {
    "duration": 0,
    "start_time": "2025-01-23T16:16:29.512Z"
   },
   {
    "duration": 0,
    "start_time": "2025-01-23T16:16:29.513Z"
   },
   {
    "duration": 0,
    "start_time": "2025-01-23T16:16:29.514Z"
   },
   {
    "duration": 0,
    "start_time": "2025-01-23T16:16:29.515Z"
   },
   {
    "duration": 0,
    "start_time": "2025-01-23T16:16:29.516Z"
   },
   {
    "duration": 0,
    "start_time": "2025-01-23T16:16:29.517Z"
   },
   {
    "duration": 0,
    "start_time": "2025-01-23T16:16:29.518Z"
   },
   {
    "duration": 0,
    "start_time": "2025-01-23T16:16:29.519Z"
   },
   {
    "duration": 0,
    "start_time": "2025-01-23T16:16:29.520Z"
   },
   {
    "duration": 0,
    "start_time": "2025-01-23T16:16:29.521Z"
   },
   {
    "duration": 0,
    "start_time": "2025-01-23T16:16:29.522Z"
   },
   {
    "duration": 0,
    "start_time": "2025-01-23T16:16:29.523Z"
   },
   {
    "duration": 0,
    "start_time": "2025-01-23T16:16:29.523Z"
   },
   {
    "duration": 0,
    "start_time": "2025-01-23T16:16:29.524Z"
   },
   {
    "duration": 0,
    "start_time": "2025-01-23T16:16:29.525Z"
   },
   {
    "duration": 0,
    "start_time": "2025-01-23T16:16:29.526Z"
   },
   {
    "duration": 0,
    "start_time": "2025-01-23T16:16:29.553Z"
   },
   {
    "duration": 0,
    "start_time": "2025-01-23T16:16:29.555Z"
   },
   {
    "duration": 0,
    "start_time": "2025-01-23T16:16:29.555Z"
   },
   {
    "duration": 0,
    "start_time": "2025-01-23T16:16:29.556Z"
   },
   {
    "duration": 0,
    "start_time": "2025-01-23T16:16:29.558Z"
   },
   {
    "duration": 0,
    "start_time": "2025-01-23T16:16:29.559Z"
   },
   {
    "duration": 0,
    "start_time": "2025-01-23T16:16:29.560Z"
   },
   {
    "duration": 0,
    "start_time": "2025-01-23T16:16:29.561Z"
   },
   {
    "duration": 0,
    "start_time": "2025-01-23T16:16:29.562Z"
   },
   {
    "duration": 0,
    "start_time": "2025-01-23T16:16:29.562Z"
   },
   {
    "duration": 0,
    "start_time": "2025-01-23T16:16:29.563Z"
   },
   {
    "duration": 0,
    "start_time": "2025-01-23T16:16:29.564Z"
   },
   {
    "duration": 0,
    "start_time": "2025-01-23T16:16:29.565Z"
   },
   {
    "duration": 0,
    "start_time": "2025-01-23T16:16:29.566Z"
   },
   {
    "duration": 0,
    "start_time": "2025-01-23T16:16:29.567Z"
   },
   {
    "duration": 0,
    "start_time": "2025-01-23T16:16:29.568Z"
   },
   {
    "duration": 0,
    "start_time": "2025-01-23T16:16:29.569Z"
   },
   {
    "duration": 0,
    "start_time": "2025-01-23T16:16:29.570Z"
   },
   {
    "duration": 0,
    "start_time": "2025-01-23T16:16:29.571Z"
   },
   {
    "duration": 1,
    "start_time": "2025-01-23T16:16:29.571Z"
   },
   {
    "duration": 0,
    "start_time": "2025-01-23T16:16:29.572Z"
   },
   {
    "duration": 0,
    "start_time": "2025-01-23T16:16:29.573Z"
   },
   {
    "duration": 0,
    "start_time": "2025-01-23T16:16:29.574Z"
   },
   {
    "duration": 0,
    "start_time": "2025-01-23T16:16:29.575Z"
   },
   {
    "duration": 0,
    "start_time": "2025-01-23T16:16:29.576Z"
   },
   {
    "duration": 0,
    "start_time": "2025-01-23T16:16:29.577Z"
   },
   {
    "duration": 0,
    "start_time": "2025-01-23T16:16:29.578Z"
   },
   {
    "duration": 0,
    "start_time": "2025-01-23T16:16:29.579Z"
   },
   {
    "duration": 0,
    "start_time": "2025-01-23T16:16:29.580Z"
   },
   {
    "duration": 0,
    "start_time": "2025-01-23T16:16:29.581Z"
   },
   {
    "duration": 0,
    "start_time": "2025-01-23T16:16:29.582Z"
   },
   {
    "duration": 0,
    "start_time": "2025-01-23T16:16:29.582Z"
   },
   {
    "duration": 0,
    "start_time": "2025-01-23T16:16:29.584Z"
   },
   {
    "duration": 0,
    "start_time": "2025-01-23T16:16:29.584Z"
   },
   {
    "duration": 0,
    "start_time": "2025-01-23T16:16:29.586Z"
   },
   {
    "duration": 0,
    "start_time": "2025-01-23T16:16:29.587Z"
   },
   {
    "duration": 0,
    "start_time": "2025-01-23T16:16:29.588Z"
   },
   {
    "duration": 0,
    "start_time": "2025-01-23T16:16:29.588Z"
   },
   {
    "duration": 0,
    "start_time": "2025-01-23T16:16:29.653Z"
   },
   {
    "duration": 0,
    "start_time": "2025-01-23T16:16:29.655Z"
   },
   {
    "duration": 0,
    "start_time": "2025-01-23T16:16:29.655Z"
   },
   {
    "duration": 0,
    "start_time": "2025-01-23T16:16:29.656Z"
   },
   {
    "duration": 0,
    "start_time": "2025-01-23T16:16:29.657Z"
   },
   {
    "duration": 0,
    "start_time": "2025-01-23T16:16:29.658Z"
   },
   {
    "duration": 0,
    "start_time": "2025-01-23T16:16:29.659Z"
   },
   {
    "duration": 0,
    "start_time": "2025-01-23T16:16:29.660Z"
   },
   {
    "duration": 0,
    "start_time": "2025-01-23T16:16:29.661Z"
   },
   {
    "duration": 0,
    "start_time": "2025-01-23T16:16:29.662Z"
   },
   {
    "duration": 0,
    "start_time": "2025-01-23T16:16:29.663Z"
   },
   {
    "duration": 0,
    "start_time": "2025-01-23T16:16:29.664Z"
   },
   {
    "duration": 0,
    "start_time": "2025-01-23T16:16:29.665Z"
   },
   {
    "duration": 0,
    "start_time": "2025-01-23T16:16:29.666Z"
   },
   {
    "duration": 0,
    "start_time": "2025-01-23T16:16:29.667Z"
   },
   {
    "duration": 0,
    "start_time": "2025-01-23T16:16:29.668Z"
   },
   {
    "duration": 0,
    "start_time": "2025-01-23T16:16:29.669Z"
   },
   {
    "duration": 2347,
    "start_time": "2025-01-23T16:17:39.208Z"
   },
   {
    "duration": 1377,
    "start_time": "2025-01-23T16:17:41.558Z"
   },
   {
    "duration": 60,
    "start_time": "2025-01-23T16:17:42.937Z"
   },
   {
    "duration": 14,
    "start_time": "2025-01-23T16:17:42.999Z"
   },
   {
    "duration": 9,
    "start_time": "2025-01-23T16:17:43.014Z"
   },
   {
    "duration": 6,
    "start_time": "2025-01-23T16:17:43.025Z"
   },
   {
    "duration": 11,
    "start_time": "2025-01-23T16:17:43.033Z"
   },
   {
    "duration": 14,
    "start_time": "2025-01-23T16:17:43.045Z"
   },
   {
    "duration": 5,
    "start_time": "2025-01-23T16:17:43.060Z"
   },
   {
    "duration": 17,
    "start_time": "2025-01-23T16:17:43.067Z"
   },
   {
    "duration": 6,
    "start_time": "2025-01-23T16:17:43.085Z"
   },
   {
    "duration": 7,
    "start_time": "2025-01-23T16:17:43.092Z"
   },
   {
    "duration": 5,
    "start_time": "2025-01-23T16:17:43.100Z"
   },
   {
    "duration": 11,
    "start_time": "2025-01-23T16:17:43.106Z"
   },
   {
    "duration": 36,
    "start_time": "2025-01-23T16:17:43.118Z"
   },
   {
    "duration": 22,
    "start_time": "2025-01-23T16:17:43.156Z"
   },
   {
    "duration": 10,
    "start_time": "2025-01-23T16:17:43.179Z"
   },
   {
    "duration": 5,
    "start_time": "2025-01-23T16:17:43.191Z"
   },
   {
    "duration": 6,
    "start_time": "2025-01-23T16:17:43.197Z"
   },
   {
    "duration": 8,
    "start_time": "2025-01-23T16:17:43.204Z"
   },
   {
    "duration": 15,
    "start_time": "2025-01-23T16:17:43.213Z"
   },
   {
    "duration": 25,
    "start_time": "2025-01-23T16:17:43.229Z"
   },
   {
    "duration": 14,
    "start_time": "2025-01-23T16:17:43.256Z"
   },
   {
    "duration": 3,
    "start_time": "2025-01-23T16:17:43.272Z"
   },
   {
    "duration": 187,
    "start_time": "2025-01-23T16:17:43.276Z"
   },
   {
    "duration": 147,
    "start_time": "2025-01-23T16:17:43.464Z"
   },
   {
    "duration": 155,
    "start_time": "2025-01-23T16:17:43.612Z"
   },
   {
    "duration": 224,
    "start_time": "2025-01-23T16:17:43.771Z"
   },
   {
    "duration": 5,
    "start_time": "2025-01-23T16:17:43.997Z"
   },
   {
    "duration": 144,
    "start_time": "2025-01-23T16:17:44.004Z"
   },
   {
    "duration": 6,
    "start_time": "2025-01-23T16:17:44.153Z"
   },
   {
    "duration": 179,
    "start_time": "2025-01-23T16:17:44.160Z"
   },
   {
    "duration": 256,
    "start_time": "2025-01-23T16:17:44.340Z"
   },
   {
    "duration": 209,
    "start_time": "2025-01-23T16:17:44.597Z"
   },
   {
    "duration": 193,
    "start_time": "2025-01-23T16:17:44.807Z"
   },
   {
    "duration": 1297,
    "start_time": "2025-01-23T16:17:45.001Z"
   },
   {
    "duration": 16,
    "start_time": "2025-01-23T16:17:46.300Z"
   },
   {
    "duration": 13,
    "start_time": "2025-01-23T16:17:46.318Z"
   },
   {
    "duration": 4,
    "start_time": "2025-01-23T16:17:46.332Z"
   },
   {
    "duration": 6,
    "start_time": "2025-01-23T16:17:46.337Z"
   },
   {
    "duration": 9,
    "start_time": "2025-01-23T16:17:46.345Z"
   },
   {
    "duration": 1059,
    "start_time": "2025-01-23T16:17:46.355Z"
   },
   {
    "duration": 5,
    "start_time": "2025-01-23T16:17:47.416Z"
   },
   {
    "duration": 5,
    "start_time": "2025-01-23T16:17:47.422Z"
   },
   {
    "duration": 32,
    "start_time": "2025-01-23T16:17:47.429Z"
   },
   {
    "duration": 35,
    "start_time": "2025-01-23T16:17:47.462Z"
   },
   {
    "duration": 59,
    "start_time": "2025-01-23T16:17:47.499Z"
   },
   {
    "duration": 7,
    "start_time": "2025-01-23T16:17:47.559Z"
   },
   {
    "duration": 3,
    "start_time": "2025-01-23T16:17:47.568Z"
   },
   {
    "duration": 15,
    "start_time": "2025-01-23T16:17:47.573Z"
   },
   {
    "duration": 13,
    "start_time": "2025-01-23T16:17:47.589Z"
   },
   {
    "duration": 43,
    "start_time": "2025-01-23T16:17:47.604Z"
   },
   {
    "duration": 11,
    "start_time": "2025-01-23T16:17:47.650Z"
   },
   {
    "duration": 8,
    "start_time": "2025-01-23T16:17:47.662Z"
   },
   {
    "duration": 25,
    "start_time": "2025-01-23T16:17:47.673Z"
   },
   {
    "duration": 33,
    "start_time": "2025-01-23T16:17:47.699Z"
   },
   {
    "duration": 110,
    "start_time": "2025-01-23T16:17:47.734Z"
   },
   {
    "duration": 0,
    "start_time": "2025-01-23T16:17:47.846Z"
   },
   {
    "duration": 0,
    "start_time": "2025-01-23T16:17:47.848Z"
   },
   {
    "duration": 0,
    "start_time": "2025-01-23T16:17:47.849Z"
   },
   {
    "duration": 0,
    "start_time": "2025-01-23T16:17:47.853Z"
   },
   {
    "duration": 0,
    "start_time": "2025-01-23T16:17:47.854Z"
   },
   {
    "duration": 0,
    "start_time": "2025-01-23T16:17:47.855Z"
   },
   {
    "duration": 0,
    "start_time": "2025-01-23T16:17:47.856Z"
   },
   {
    "duration": 0,
    "start_time": "2025-01-23T16:17:47.857Z"
   },
   {
    "duration": 0,
    "start_time": "2025-01-23T16:17:47.858Z"
   },
   {
    "duration": 0,
    "start_time": "2025-01-23T16:17:47.859Z"
   },
   {
    "duration": 0,
    "start_time": "2025-01-23T16:17:47.860Z"
   },
   {
    "duration": 0,
    "start_time": "2025-01-23T16:17:47.861Z"
   },
   {
    "duration": 0,
    "start_time": "2025-01-23T16:17:47.863Z"
   },
   {
    "duration": 0,
    "start_time": "2025-01-23T16:17:47.863Z"
   },
   {
    "duration": 0,
    "start_time": "2025-01-23T16:17:47.864Z"
   },
   {
    "duration": 0,
    "start_time": "2025-01-23T16:17:47.866Z"
   },
   {
    "duration": 0,
    "start_time": "2025-01-23T16:17:47.867Z"
   },
   {
    "duration": 0,
    "start_time": "2025-01-23T16:17:47.868Z"
   },
   {
    "duration": 0,
    "start_time": "2025-01-23T16:17:47.869Z"
   },
   {
    "duration": 0,
    "start_time": "2025-01-23T16:17:47.870Z"
   },
   {
    "duration": 0,
    "start_time": "2025-01-23T16:17:47.871Z"
   },
   {
    "duration": 0,
    "start_time": "2025-01-23T16:17:47.872Z"
   },
   {
    "duration": 0,
    "start_time": "2025-01-23T16:17:47.873Z"
   },
   {
    "duration": 0,
    "start_time": "2025-01-23T16:17:47.874Z"
   },
   {
    "duration": 0,
    "start_time": "2025-01-23T16:17:47.875Z"
   },
   {
    "duration": 0,
    "start_time": "2025-01-23T16:17:47.876Z"
   },
   {
    "duration": 0,
    "start_time": "2025-01-23T16:17:47.876Z"
   },
   {
    "duration": 0,
    "start_time": "2025-01-23T16:17:47.877Z"
   },
   {
    "duration": 0,
    "start_time": "2025-01-23T16:17:47.879Z"
   },
   {
    "duration": 0,
    "start_time": "2025-01-23T16:17:47.880Z"
   },
   {
    "duration": 0,
    "start_time": "2025-01-23T16:17:47.881Z"
   },
   {
    "duration": 0,
    "start_time": "2025-01-23T16:17:47.882Z"
   },
   {
    "duration": 0,
    "start_time": "2025-01-23T16:17:47.883Z"
   },
   {
    "duration": 0,
    "start_time": "2025-01-23T16:17:47.884Z"
   },
   {
    "duration": 0,
    "start_time": "2025-01-23T16:17:47.885Z"
   },
   {
    "duration": 0,
    "start_time": "2025-01-23T16:17:47.887Z"
   },
   {
    "duration": 0,
    "start_time": "2025-01-23T16:17:47.887Z"
   },
   {
    "duration": 0,
    "start_time": "2025-01-23T16:17:47.888Z"
   },
   {
    "duration": 0,
    "start_time": "2025-01-23T16:17:47.889Z"
   },
   {
    "duration": 0,
    "start_time": "2025-01-23T16:17:47.954Z"
   },
   {
    "duration": 0,
    "start_time": "2025-01-23T16:17:47.955Z"
   },
   {
    "duration": 0,
    "start_time": "2025-01-23T16:17:47.956Z"
   },
   {
    "duration": 0,
    "start_time": "2025-01-23T16:17:47.957Z"
   },
   {
    "duration": 0,
    "start_time": "2025-01-23T16:17:47.958Z"
   },
   {
    "duration": 11,
    "start_time": "2025-01-23T16:18:03.903Z"
   },
   {
    "duration": 8,
    "start_time": "2025-01-23T16:18:04.323Z"
   },
   {
    "duration": 7,
    "start_time": "2025-01-23T16:18:04.477Z"
   },
   {
    "duration": 13,
    "start_time": "2025-01-23T16:18:04.939Z"
   },
   {
    "duration": 11,
    "start_time": "2025-01-23T16:18:05.127Z"
   },
   {
    "duration": 11,
    "start_time": "2025-01-23T16:18:05.283Z"
   },
   {
    "duration": 7,
    "start_time": "2025-01-23T16:18:05.449Z"
   },
   {
    "duration": 10,
    "start_time": "2025-01-23T16:18:05.590Z"
   },
   {
    "duration": 5,
    "start_time": "2025-01-23T16:18:05.745Z"
   },
   {
    "duration": 11,
    "start_time": "2025-01-23T16:18:06.097Z"
   },
   {
    "duration": 1167,
    "start_time": "2025-01-23T16:18:06.555Z"
   },
   {
    "duration": 0,
    "start_time": "2025-01-23T16:18:07.724Z"
   },
   {
    "duration": 0,
    "start_time": "2025-01-23T16:18:07.725Z"
   },
   {
    "duration": 0,
    "start_time": "2025-01-23T16:18:07.727Z"
   },
   {
    "duration": 0,
    "start_time": "2025-01-23T16:18:07.728Z"
   },
   {
    "duration": 5,
    "start_time": "2025-01-23T16:18:07.803Z"
   },
   {
    "duration": 191,
    "start_time": "2025-01-23T16:18:08.935Z"
   },
   {
    "duration": 7,
    "start_time": "2025-01-23T16:18:31.955Z"
   },
   {
    "duration": 10,
    "start_time": "2025-01-23T16:18:32.104Z"
   },
   {
    "duration": 16,
    "start_time": "2025-01-23T16:18:38.607Z"
   },
   {
    "duration": 5,
    "start_time": "2025-01-23T16:18:38.855Z"
   },
   {
    "duration": 6,
    "start_time": "2025-01-23T16:18:39.065Z"
   },
   {
    "duration": 185,
    "start_time": "2025-01-23T16:18:39.215Z"
   },
   {
    "duration": 266,
    "start_time": "2025-01-23T16:18:39.511Z"
   },
   {
    "duration": 172,
    "start_time": "2025-01-23T16:18:39.823Z"
   },
   {
    "duration": 188,
    "start_time": "2025-01-23T16:18:40.122Z"
   },
   {
    "duration": 163,
    "start_time": "2025-01-23T16:18:40.856Z"
   },
   {
    "duration": 185,
    "start_time": "2025-01-23T16:18:41.236Z"
   },
   {
    "duration": 187,
    "start_time": "2025-01-23T16:18:41.542Z"
   },
   {
    "duration": 206,
    "start_time": "2025-01-23T16:18:41.854Z"
   },
   {
    "duration": 15,
    "start_time": "2025-01-23T16:18:42.439Z"
   },
   {
    "duration": 10,
    "start_time": "2025-01-23T16:18:42.599Z"
   },
   {
    "duration": 12,
    "start_time": "2025-01-23T16:18:42.905Z"
   },
   {
    "duration": 9,
    "start_time": "2025-01-23T16:20:40.937Z"
   },
   {
    "duration": 5,
    "start_time": "2025-01-23T16:21:35.232Z"
   },
   {
    "duration": 14,
    "start_time": "2025-01-23T16:23:43.516Z"
   },
   {
    "duration": 2280,
    "start_time": "2025-01-23T16:23:49.469Z"
   },
   {
    "duration": 1396,
    "start_time": "2025-01-23T16:23:51.752Z"
   },
   {
    "duration": 62,
    "start_time": "2025-01-23T16:23:53.150Z"
   },
   {
    "duration": 15,
    "start_time": "2025-01-23T16:23:53.214Z"
   },
   {
    "duration": 12,
    "start_time": "2025-01-23T16:23:53.231Z"
   },
   {
    "duration": 8,
    "start_time": "2025-01-23T16:23:53.244Z"
   },
   {
    "duration": 9,
    "start_time": "2025-01-23T16:23:53.254Z"
   },
   {
    "duration": 17,
    "start_time": "2025-01-23T16:23:53.265Z"
   },
   {
    "duration": 7,
    "start_time": "2025-01-23T16:23:53.283Z"
   },
   {
    "duration": 14,
    "start_time": "2025-01-23T16:23:53.291Z"
   },
   {
    "duration": 13,
    "start_time": "2025-01-23T16:23:53.307Z"
   },
   {
    "duration": 36,
    "start_time": "2025-01-23T16:23:53.321Z"
   },
   {
    "duration": 6,
    "start_time": "2025-01-23T16:23:53.358Z"
   },
   {
    "duration": 30,
    "start_time": "2025-01-23T16:23:53.367Z"
   },
   {
    "duration": 9,
    "start_time": "2025-01-23T16:23:53.399Z"
   },
   {
    "duration": 9,
    "start_time": "2025-01-23T16:23:53.409Z"
   },
   {
    "duration": 6,
    "start_time": "2025-01-23T16:23:53.419Z"
   },
   {
    "duration": 8,
    "start_time": "2025-01-23T16:23:53.426Z"
   },
   {
    "duration": 23,
    "start_time": "2025-01-23T16:23:53.436Z"
   },
   {
    "duration": 9,
    "start_time": "2025-01-23T16:23:53.460Z"
   },
   {
    "duration": 15,
    "start_time": "2025-01-23T16:23:53.470Z"
   },
   {
    "duration": 13,
    "start_time": "2025-01-23T16:23:53.486Z"
   },
   {
    "duration": 16,
    "start_time": "2025-01-23T16:23:53.500Z"
   },
   {
    "duration": 3,
    "start_time": "2025-01-23T16:23:53.517Z"
   },
   {
    "duration": 205,
    "start_time": "2025-01-23T16:23:53.522Z"
   },
   {
    "duration": 142,
    "start_time": "2025-01-23T16:23:53.729Z"
   },
   {
    "duration": 147,
    "start_time": "2025-01-23T16:23:53.872Z"
   },
   {
    "duration": 226,
    "start_time": "2025-01-23T16:23:54.021Z"
   },
   {
    "duration": 6,
    "start_time": "2025-01-23T16:23:54.249Z"
   },
   {
    "duration": 156,
    "start_time": "2025-01-23T16:23:54.256Z"
   },
   {
    "duration": 8,
    "start_time": "2025-01-23T16:23:54.414Z"
   },
   {
    "duration": 199,
    "start_time": "2025-01-23T16:23:54.424Z"
   },
   {
    "duration": 219,
    "start_time": "2025-01-23T16:23:54.624Z"
   },
   {
    "duration": 204,
    "start_time": "2025-01-23T16:23:54.844Z"
   },
   {
    "duration": 180,
    "start_time": "2025-01-23T16:23:55.053Z"
   },
   {
    "duration": 1281,
    "start_time": "2025-01-23T16:23:55.234Z"
   },
   {
    "duration": 16,
    "start_time": "2025-01-23T16:23:56.516Z"
   },
   {
    "duration": 4,
    "start_time": "2025-01-23T16:23:56.534Z"
   },
   {
    "duration": 9,
    "start_time": "2025-01-23T16:23:56.539Z"
   },
   {
    "duration": 16,
    "start_time": "2025-01-23T16:23:56.550Z"
   },
   {
    "duration": 3,
    "start_time": "2025-01-23T16:23:56.571Z"
   },
   {
    "duration": 1063,
    "start_time": "2025-01-23T16:23:56.575Z"
   },
   {
    "duration": 5,
    "start_time": "2025-01-23T16:23:57.639Z"
   },
   {
    "duration": 4,
    "start_time": "2025-01-23T16:23:57.653Z"
   },
   {
    "duration": 15,
    "start_time": "2025-01-23T16:23:57.658Z"
   },
   {
    "duration": 37,
    "start_time": "2025-01-23T16:23:57.674Z"
   },
   {
    "duration": 58,
    "start_time": "2025-01-23T16:23:57.713Z"
   },
   {
    "duration": 8,
    "start_time": "2025-01-23T16:23:57.773Z"
   },
   {
    "duration": 116,
    "start_time": "2025-01-23T16:23:57.783Z"
   },
   {
    "duration": 0,
    "start_time": "2025-01-23T16:23:57.901Z"
   },
   {
    "duration": 0,
    "start_time": "2025-01-23T16:23:57.902Z"
   },
   {
    "duration": 0,
    "start_time": "2025-01-23T16:23:57.903Z"
   },
   {
    "duration": 0,
    "start_time": "2025-01-23T16:23:57.905Z"
   },
   {
    "duration": 0,
    "start_time": "2025-01-23T16:23:57.906Z"
   },
   {
    "duration": 0,
    "start_time": "2025-01-23T16:23:57.906Z"
   },
   {
    "duration": 0,
    "start_time": "2025-01-23T16:23:57.908Z"
   },
   {
    "duration": 0,
    "start_time": "2025-01-23T16:23:57.909Z"
   },
   {
    "duration": 0,
    "start_time": "2025-01-23T16:23:57.910Z"
   },
   {
    "duration": 0,
    "start_time": "2025-01-23T16:23:57.911Z"
   },
   {
    "duration": 0,
    "start_time": "2025-01-23T16:23:57.912Z"
   },
   {
    "duration": 0,
    "start_time": "2025-01-23T16:23:57.914Z"
   },
   {
    "duration": 0,
    "start_time": "2025-01-23T16:23:57.914Z"
   },
   {
    "duration": 0,
    "start_time": "2025-01-23T16:23:57.915Z"
   },
   {
    "duration": 0,
    "start_time": "2025-01-23T16:23:57.917Z"
   },
   {
    "duration": 0,
    "start_time": "2025-01-23T16:23:57.918Z"
   },
   {
    "duration": 0,
    "start_time": "2025-01-23T16:23:57.918Z"
   },
   {
    "duration": 0,
    "start_time": "2025-01-23T16:23:57.919Z"
   },
   {
    "duration": 0,
    "start_time": "2025-01-23T16:23:57.920Z"
   },
   {
    "duration": 0,
    "start_time": "2025-01-23T16:23:57.921Z"
   },
   {
    "duration": 0,
    "start_time": "2025-01-23T16:23:57.921Z"
   },
   {
    "duration": 0,
    "start_time": "2025-01-23T16:23:57.922Z"
   },
   {
    "duration": 0,
    "start_time": "2025-01-23T16:23:57.923Z"
   },
   {
    "duration": 0,
    "start_time": "2025-01-23T16:23:57.954Z"
   },
   {
    "duration": 0,
    "start_time": "2025-01-23T16:23:57.954Z"
   },
   {
    "duration": 0,
    "start_time": "2025-01-23T16:23:57.955Z"
   },
   {
    "duration": 0,
    "start_time": "2025-01-23T16:23:57.956Z"
   },
   {
    "duration": 0,
    "start_time": "2025-01-23T16:23:57.957Z"
   },
   {
    "duration": 0,
    "start_time": "2025-01-23T16:23:57.959Z"
   },
   {
    "duration": 0,
    "start_time": "2025-01-23T16:23:57.959Z"
   },
   {
    "duration": 0,
    "start_time": "2025-01-23T16:23:57.960Z"
   },
   {
    "duration": 0,
    "start_time": "2025-01-23T16:23:57.961Z"
   },
   {
    "duration": 0,
    "start_time": "2025-01-23T16:23:57.962Z"
   },
   {
    "duration": 0,
    "start_time": "2025-01-23T16:23:57.963Z"
   },
   {
    "duration": 0,
    "start_time": "2025-01-23T16:23:57.964Z"
   },
   {
    "duration": 0,
    "start_time": "2025-01-23T16:23:57.965Z"
   },
   {
    "duration": 0,
    "start_time": "2025-01-23T16:23:57.966Z"
   },
   {
    "duration": 0,
    "start_time": "2025-01-23T16:23:57.967Z"
   },
   {
    "duration": 0,
    "start_time": "2025-01-23T16:23:57.968Z"
   },
   {
    "duration": 0,
    "start_time": "2025-01-23T16:23:57.969Z"
   },
   {
    "duration": 0,
    "start_time": "2025-01-23T16:23:57.970Z"
   },
   {
    "duration": 0,
    "start_time": "2025-01-23T16:23:57.971Z"
   },
   {
    "duration": 0,
    "start_time": "2025-01-23T16:23:57.971Z"
   },
   {
    "duration": 0,
    "start_time": "2025-01-23T16:23:57.972Z"
   },
   {
    "duration": 0,
    "start_time": "2025-01-23T16:23:57.973Z"
   },
   {
    "duration": 0,
    "start_time": "2025-01-23T16:23:57.975Z"
   },
   {
    "duration": 0,
    "start_time": "2025-01-23T16:23:57.976Z"
   },
   {
    "duration": 0,
    "start_time": "2025-01-23T16:23:57.976Z"
   },
   {
    "duration": 57,
    "start_time": "2025-01-23T16:24:41.665Z"
   },
   {
    "duration": 7,
    "start_time": "2025-01-23T16:24:41.929Z"
   },
   {
    "duration": 5,
    "start_time": "2025-01-23T16:24:42.213Z"
   },
   {
    "duration": 9,
    "start_time": "2025-01-23T16:24:43.374Z"
   },
   {
    "duration": 15,
    "start_time": "2025-01-23T16:24:44.133Z"
   },
   {
    "duration": 26,
    "start_time": "2025-01-23T16:24:46.764Z"
   },
   {
    "duration": 10,
    "start_time": "2025-01-23T16:24:46.951Z"
   },
   {
    "duration": 7,
    "start_time": "2025-01-23T16:24:47.089Z"
   },
   {
    "duration": 13,
    "start_time": "2025-01-23T16:24:47.242Z"
   },
   {
    "duration": 15,
    "start_time": "2025-01-23T16:24:47.844Z"
   },
   {
    "duration": 11,
    "start_time": "2025-01-23T16:24:48.018Z"
   },
   {
    "duration": 6,
    "start_time": "2025-01-23T16:24:48.179Z"
   },
   {
    "duration": 7,
    "start_time": "2025-01-23T16:24:48.317Z"
   },
   {
    "duration": 14,
    "start_time": "2025-01-23T16:24:48.768Z"
   },
   {
    "duration": 10,
    "start_time": "2025-01-23T16:24:48.930Z"
   },
   {
    "duration": 9,
    "start_time": "2025-01-23T16:24:49.095Z"
   },
   {
    "duration": 6,
    "start_time": "2025-01-23T16:24:49.435Z"
   },
   {
    "duration": 9,
    "start_time": "2025-01-23T16:24:49.590Z"
   },
   {
    "duration": 4,
    "start_time": "2025-01-23T16:24:49.739Z"
   },
   {
    "duration": 6,
    "start_time": "2025-01-23T16:24:49.897Z"
   },
   {
    "duration": 15,
    "start_time": "2025-01-23T16:24:50.508Z"
   },
   {
    "duration": 8,
    "start_time": "2025-01-23T16:24:50.802Z"
   },
   {
    "duration": 5,
    "start_time": "2025-01-23T16:24:50.966Z"
   },
   {
    "duration": 180,
    "start_time": "2025-01-23T16:24:51.128Z"
   },
   {
    "duration": 173,
    "start_time": "2025-01-23T16:24:51.443Z"
   },
   {
    "duration": 260,
    "start_time": "2025-01-23T16:24:51.737Z"
   },
   {
    "duration": 158,
    "start_time": "2025-01-23T16:24:52.041Z"
   },
   {
    "duration": 160,
    "start_time": "2025-01-23T16:24:52.343Z"
   },
   {
    "duration": 187,
    "start_time": "2025-01-23T16:24:52.657Z"
   },
   {
    "duration": 188,
    "start_time": "2025-01-23T16:24:52.977Z"
   },
   {
    "duration": 207,
    "start_time": "2025-01-23T16:24:53.280Z"
   },
   {
    "duration": 6,
    "start_time": "2025-01-23T16:24:53.723Z"
   },
   {
    "duration": 414,
    "start_time": "2025-01-23T16:24:53.888Z"
   },
   {
    "duration": 12,
    "start_time": "2025-01-23T16:24:54.304Z"
   },
   {
    "duration": 10,
    "start_time": "2025-01-23T16:24:54.762Z"
   },
   {
    "duration": 15,
    "start_time": "2025-01-23T16:24:54.925Z"
   },
   {
    "duration": 4,
    "start_time": "2025-01-23T16:24:55.237Z"
   },
   {
    "duration": 4,
    "start_time": "2025-01-23T16:24:55.402Z"
   },
   {
    "duration": 5,
    "start_time": "2025-01-23T16:24:56.082Z"
   },
   {
    "duration": 3,
    "start_time": "2025-01-23T16:24:56.546Z"
   },
   {
    "duration": 8255,
    "start_time": "2025-01-23T16:24:56.726Z"
   },
   {
    "duration": 16,
    "start_time": "2025-01-23T16:25:04.983Z"
   },
   {
    "duration": 87,
    "start_time": "2025-01-23T16:25:21.614Z"
   },
   {
    "duration": 4,
    "start_time": "2025-01-23T16:25:23.193Z"
   },
   {
    "duration": 12,
    "start_time": "2025-01-23T16:25:24.509Z"
   },
   {
    "duration": 5,
    "start_time": "2025-01-23T16:25:25.611Z"
   },
   {
    "duration": 4,
    "start_time": "2025-01-23T16:25:25.794Z"
   },
   {
    "duration": 7,
    "start_time": "2025-01-23T16:26:47.394Z"
   },
   {
    "duration": 15,
    "start_time": "2025-01-23T16:26:51.800Z"
   },
   {
    "duration": 8,
    "start_time": "2025-01-23T16:26:54.502Z"
   },
   {
    "duration": 13,
    "start_time": "2025-01-23T16:26:58.493Z"
   },
   {
    "duration": 16,
    "start_time": "2025-01-23T16:26:58.998Z"
   },
   {
    "duration": 1256,
    "start_time": "2025-01-23T16:27:32.473Z"
   },
   {
    "duration": 2342,
    "start_time": "2025-01-23T16:27:47.873Z"
   },
   {
    "duration": 1324,
    "start_time": "2025-01-23T16:27:50.217Z"
   },
   {
    "duration": 62,
    "start_time": "2025-01-23T16:27:51.542Z"
   },
   {
    "duration": 15,
    "start_time": "2025-01-23T16:27:51.606Z"
   },
   {
    "duration": 34,
    "start_time": "2025-01-23T16:27:51.623Z"
   },
   {
    "duration": 14,
    "start_time": "2025-01-23T16:27:51.659Z"
   },
   {
    "duration": 12,
    "start_time": "2025-01-23T16:27:51.675Z"
   },
   {
    "duration": 29,
    "start_time": "2025-01-23T16:27:51.688Z"
   },
   {
    "duration": 13,
    "start_time": "2025-01-23T16:27:51.719Z"
   },
   {
    "duration": 43,
    "start_time": "2025-01-23T16:27:51.734Z"
   },
   {
    "duration": 14,
    "start_time": "2025-01-23T16:27:51.779Z"
   },
   {
    "duration": 18,
    "start_time": "2025-01-23T16:27:51.795Z"
   },
   {
    "duration": 28,
    "start_time": "2025-01-23T16:27:51.814Z"
   },
   {
    "duration": 83,
    "start_time": "2025-01-23T16:27:51.843Z"
   },
   {
    "duration": 13,
    "start_time": "2025-01-23T16:27:51.928Z"
   },
   {
    "duration": 8,
    "start_time": "2025-01-23T16:27:51.943Z"
   },
   {
    "duration": 8,
    "start_time": "2025-01-23T16:27:51.953Z"
   },
   {
    "duration": 8,
    "start_time": "2025-01-23T16:27:51.962Z"
   },
   {
    "duration": 7,
    "start_time": "2025-01-23T16:27:51.972Z"
   },
   {
    "duration": 15,
    "start_time": "2025-01-23T16:27:51.980Z"
   },
   {
    "duration": 47,
    "start_time": "2025-01-23T16:27:51.996Z"
   },
   {
    "duration": 43,
    "start_time": "2025-01-23T16:27:52.044Z"
   },
   {
    "duration": 45,
    "start_time": "2025-01-23T16:27:52.089Z"
   },
   {
    "duration": 8,
    "start_time": "2025-01-23T16:27:52.136Z"
   },
   {
    "duration": 169,
    "start_time": "2025-01-23T16:27:52.146Z"
   },
   {
    "duration": 143,
    "start_time": "2025-01-23T16:27:52.317Z"
   },
   {
    "duration": 158,
    "start_time": "2025-01-23T16:27:52.462Z"
   },
   {
    "duration": 218,
    "start_time": "2025-01-23T16:27:52.624Z"
   },
   {
    "duration": 13,
    "start_time": "2025-01-23T16:27:52.844Z"
   },
   {
    "duration": 143,
    "start_time": "2025-01-23T16:27:52.859Z"
   },
   {
    "duration": 6,
    "start_time": "2025-01-23T16:27:53.004Z"
   },
   {
    "duration": 187,
    "start_time": "2025-01-23T16:27:53.011Z"
   },
   {
    "duration": 216,
    "start_time": "2025-01-23T16:27:53.199Z"
   },
   {
    "duration": 210,
    "start_time": "2025-01-23T16:27:53.416Z"
   },
   {
    "duration": 195,
    "start_time": "2025-01-23T16:27:53.628Z"
   },
   {
    "duration": 1269,
    "start_time": "2025-01-23T16:27:53.825Z"
   },
   {
    "duration": 14,
    "start_time": "2025-01-23T16:27:55.096Z"
   },
   {
    "duration": 36,
    "start_time": "2025-01-23T16:27:55.112Z"
   },
   {
    "duration": 36,
    "start_time": "2025-01-23T16:27:55.149Z"
   },
   {
    "duration": 7,
    "start_time": "2025-01-23T16:27:55.186Z"
   },
   {
    "duration": 9,
    "start_time": "2025-01-23T16:27:55.194Z"
   },
   {
    "duration": 1029,
    "start_time": "2025-01-23T16:27:55.204Z"
   },
   {
    "duration": 5,
    "start_time": "2025-01-23T16:27:56.234Z"
   },
   {
    "duration": 33,
    "start_time": "2025-01-23T16:27:56.240Z"
   },
   {
    "duration": 27,
    "start_time": "2025-01-23T16:27:56.274Z"
   },
   {
    "duration": 33,
    "start_time": "2025-01-23T16:27:56.302Z"
   },
   {
    "duration": 56,
    "start_time": "2025-01-23T16:27:56.336Z"
   },
   {
    "duration": 6,
    "start_time": "2025-01-23T16:27:56.394Z"
   },
   {
    "duration": 12,
    "start_time": "2025-01-23T16:27:56.402Z"
   },
   {
    "duration": 15,
    "start_time": "2025-01-23T16:27:56.415Z"
   },
   {
    "duration": 21,
    "start_time": "2025-01-23T16:27:56.432Z"
   },
   {
    "duration": 32,
    "start_time": "2025-01-23T16:27:56.454Z"
   },
   {
    "duration": 10,
    "start_time": "2025-01-23T16:27:56.488Z"
   },
   {
    "duration": 13,
    "start_time": "2025-01-23T16:27:56.499Z"
   },
   {
    "duration": 17,
    "start_time": "2025-01-23T16:27:56.514Z"
   },
   {
    "duration": 14,
    "start_time": "2025-01-23T16:27:56.533Z"
   },
   {
    "duration": 10,
    "start_time": "2025-01-23T16:27:56.549Z"
   },
   {
    "duration": 23,
    "start_time": "2025-01-23T16:27:56.560Z"
   },
   {
    "duration": 6,
    "start_time": "2025-01-23T16:27:56.585Z"
   },
   {
    "duration": 14,
    "start_time": "2025-01-23T16:27:56.592Z"
   },
   {
    "duration": 10,
    "start_time": "2025-01-23T16:27:56.607Z"
   },
   {
    "duration": 11,
    "start_time": "2025-01-23T16:27:56.618Z"
   },
   {
    "duration": 10,
    "start_time": "2025-01-23T16:27:56.630Z"
   },
   {
    "duration": 18,
    "start_time": "2025-01-23T16:27:56.641Z"
   },
   {
    "duration": 7,
    "start_time": "2025-01-23T16:27:56.661Z"
   },
   {
    "duration": 12,
    "start_time": "2025-01-23T16:27:56.669Z"
   },
   {
    "duration": 25,
    "start_time": "2025-01-23T16:27:56.682Z"
   },
   {
    "duration": 7,
    "start_time": "2025-01-23T16:27:56.708Z"
   },
   {
    "duration": 9,
    "start_time": "2025-01-23T16:27:56.716Z"
   },
   {
    "duration": 217,
    "start_time": "2025-01-23T16:27:56.726Z"
   },
   {
    "duration": 271,
    "start_time": "2025-01-23T16:27:56.945Z"
   },
   {
    "duration": 181,
    "start_time": "2025-01-23T16:27:57.218Z"
   },
   {
    "duration": 162,
    "start_time": "2025-01-23T16:27:57.400Z"
   },
   {
    "duration": 172,
    "start_time": "2025-01-23T16:27:57.563Z"
   },
   {
    "duration": 203,
    "start_time": "2025-01-23T16:27:57.737Z"
   },
   {
    "duration": 192,
    "start_time": "2025-01-23T16:27:57.941Z"
   },
   {
    "duration": 201,
    "start_time": "2025-01-23T16:27:58.134Z"
   },
   {
    "duration": 17,
    "start_time": "2025-01-23T16:27:58.337Z"
   },
   {
    "duration": 404,
    "start_time": "2025-01-23T16:27:58.355Z"
   },
   {
    "duration": 11,
    "start_time": "2025-01-23T16:27:58.760Z"
   },
   {
    "duration": 12,
    "start_time": "2025-01-23T16:27:58.772Z"
   },
   {
    "duration": 27,
    "start_time": "2025-01-23T16:27:58.789Z"
   },
   {
    "duration": 15,
    "start_time": "2025-01-23T16:27:58.817Z"
   },
   {
    "duration": 17,
    "start_time": "2025-01-23T16:27:58.833Z"
   },
   {
    "duration": 6,
    "start_time": "2025-01-23T16:27:58.851Z"
   },
   {
    "duration": 25,
    "start_time": "2025-01-23T16:27:58.858Z"
   },
   {
    "duration": 7907,
    "start_time": "2025-01-23T16:27:58.884Z"
   },
   {
    "duration": 18,
    "start_time": "2025-01-23T16:28:06.793Z"
   },
   {
    "duration": 11,
    "start_time": "2025-01-23T16:28:06.813Z"
   },
   {
    "duration": 30,
    "start_time": "2025-01-23T16:28:06.825Z"
   },
   {
    "duration": 24,
    "start_time": "2025-01-23T16:28:06.857Z"
   },
   {
    "duration": 6,
    "start_time": "2025-01-23T16:28:06.882Z"
   },
   {
    "duration": 15,
    "start_time": "2025-01-23T16:28:06.889Z"
   },
   {
    "duration": 16,
    "start_time": "2025-01-23T16:28:06.906Z"
   },
   {
    "duration": 36,
    "start_time": "2025-01-23T16:28:06.924Z"
   },
   {
    "duration": 17,
    "start_time": "2025-01-23T16:28:06.961Z"
   },
   {
    "duration": 11,
    "start_time": "2025-01-23T16:28:06.980Z"
   },
   {
    "duration": 34,
    "start_time": "2025-01-23T16:28:06.992Z"
   },
   {
    "duration": 8512,
    "start_time": "2025-01-23T17:18:46.073Z"
   },
   {
    "duration": 4377,
    "start_time": "2025-01-24T12:17:13.177Z"
   },
   {
    "duration": 1757,
    "start_time": "2025-01-24T12:17:17.557Z"
   },
   {
    "duration": 62,
    "start_time": "2025-01-24T12:17:19.316Z"
   },
   {
    "duration": 23,
    "start_time": "2025-01-24T12:17:19.381Z"
   },
   {
    "duration": 10,
    "start_time": "2025-01-24T12:17:19.406Z"
   },
   {
    "duration": 10,
    "start_time": "2025-01-24T12:17:19.418Z"
   },
   {
    "duration": 10,
    "start_time": "2025-01-24T12:17:19.431Z"
   },
   {
    "duration": 44,
    "start_time": "2025-01-24T12:17:19.443Z"
   },
   {
    "duration": 15,
    "start_time": "2025-01-24T12:17:19.489Z"
   },
   {
    "duration": 19,
    "start_time": "2025-01-24T12:17:19.506Z"
   },
   {
    "duration": 12,
    "start_time": "2025-01-24T12:17:19.527Z"
   },
   {
    "duration": 8,
    "start_time": "2025-01-24T12:17:19.541Z"
   },
   {
    "duration": 11,
    "start_time": "2025-01-24T12:17:19.551Z"
   },
   {
    "duration": 36,
    "start_time": "2025-01-24T12:17:19.563Z"
   },
   {
    "duration": 11,
    "start_time": "2025-01-24T12:17:19.601Z"
   },
   {
    "duration": 12,
    "start_time": "2025-01-24T12:17:19.613Z"
   },
   {
    "duration": 14,
    "start_time": "2025-01-24T12:17:19.627Z"
   },
   {
    "duration": 7,
    "start_time": "2025-01-24T12:17:19.642Z"
   },
   {
    "duration": 15,
    "start_time": "2025-01-24T12:17:19.651Z"
   },
   {
    "duration": 31,
    "start_time": "2025-01-24T12:17:19.668Z"
   },
   {
    "duration": 25,
    "start_time": "2025-01-24T12:17:19.702Z"
   },
   {
    "duration": 4,
    "start_time": "2025-01-24T12:17:19.729Z"
   },
   {
    "duration": 20,
    "start_time": "2025-01-24T12:17:19.734Z"
   },
   {
    "duration": 3,
    "start_time": "2025-01-24T12:17:19.756Z"
   },
   {
    "duration": 245,
    "start_time": "2025-01-24T12:17:19.762Z"
   },
   {
    "duration": 180,
    "start_time": "2025-01-24T12:17:20.043Z"
   },
   {
    "duration": 261,
    "start_time": "2025-01-24T12:17:20.376Z"
   },
   {
    "duration": 175,
    "start_time": "2025-01-24T12:17:20.722Z"
   },
   {
    "duration": 7,
    "start_time": "2025-01-24T12:17:20.900Z"
   },
   {
    "duration": 161,
    "start_time": "2025-01-24T12:17:21.217Z"
   },
   {
    "duration": 6,
    "start_time": "2025-01-24T12:17:21.398Z"
   },
   {
    "duration": 226,
    "start_time": "2025-01-24T12:17:21.698Z"
   },
   {
    "duration": 195,
    "start_time": "2025-01-24T12:17:22.005Z"
   },
   {
    "duration": 209,
    "start_time": "2025-01-24T12:17:29.966Z"
   },
   {
    "duration": 3,
    "start_time": "2025-01-24T12:24:09.518Z"
   },
   {
    "duration": 1369,
    "start_time": "2025-01-24T12:25:15.150Z"
   },
   {
    "duration": 138,
    "start_time": "2025-01-24T12:27:48.459Z"
   },
   {
    "duration": 14,
    "start_time": "2025-01-24T12:42:40.499Z"
   },
   {
    "duration": 14,
    "start_time": "2025-01-24T12:44:23.236Z"
   },
   {
    "duration": 13,
    "start_time": "2025-01-24T12:44:44.469Z"
   },
   {
    "duration": 14,
    "start_time": "2025-01-24T12:45:52.016Z"
   },
   {
    "duration": 14,
    "start_time": "2025-01-24T12:46:28.597Z"
   },
   {
    "duration": 16,
    "start_time": "2025-01-24T12:46:31.415Z"
   },
   {
    "duration": 0,
    "start_time": "2025-01-24T12:47:38.323Z"
   },
   {
    "duration": 7,
    "start_time": "2025-01-24T12:53:22.205Z"
   },
   {
    "duration": 1250,
    "start_time": "2025-01-24T12:53:33.171Z"
   },
   {
    "duration": 3749,
    "start_time": "2025-01-24T12:53:57.226Z"
   },
   {
    "duration": 3740,
    "start_time": "2025-01-24T12:54:11.974Z"
   },
   {
    "duration": 3836,
    "start_time": "2025-01-24T12:54:27.140Z"
   },
   {
    "duration": 128,
    "start_time": "2025-01-24T12:54:51.605Z"
   },
   {
    "duration": 3461,
    "start_time": "2025-01-24T12:56:21.418Z"
   },
   {
    "duration": 4080,
    "start_time": "2025-01-24T12:56:47.852Z"
   },
   {
    "duration": 4164,
    "start_time": "2025-01-24T12:57:00.074Z"
   },
   {
    "duration": 208,
    "start_time": "2025-01-24T12:57:13.821Z"
   },
   {
    "duration": 12,
    "start_time": "2025-01-24T12:57:23.376Z"
   },
   {
    "duration": 224,
    "start_time": "2025-01-24T12:58:27.044Z"
   },
   {
    "duration": 1166,
    "start_time": "2025-01-24T12:59:55.046Z"
   },
   {
    "duration": 1231,
    "start_time": "2025-01-24T13:00:22.470Z"
   },
   {
    "duration": 1996,
    "start_time": "2025-01-24T13:00:37.147Z"
   },
   {
    "duration": 2128,
    "start_time": "2025-01-24T13:00:44.194Z"
   },
   {
    "duration": 2106,
    "start_time": "2025-01-24T13:01:42.994Z"
   },
   {
    "duration": 12,
    "start_time": "2025-01-24T13:03:36.729Z"
   },
   {
    "duration": 3936,
    "start_time": "2025-01-24T13:03:53.581Z"
   },
   {
    "duration": 1946,
    "start_time": "2025-01-24T13:03:57.519Z"
   },
   {
    "duration": 62,
    "start_time": "2025-01-24T13:03:59.466Z"
   },
   {
    "duration": 18,
    "start_time": "2025-01-24T13:03:59.530Z"
   },
   {
    "duration": 20,
    "start_time": "2025-01-24T13:03:59.549Z"
   },
   {
    "duration": 17,
    "start_time": "2025-01-24T13:03:59.570Z"
   },
   {
    "duration": 14,
    "start_time": "2025-01-24T13:03:59.588Z"
   },
   {
    "duration": 28,
    "start_time": "2025-01-24T13:03:59.603Z"
   },
   {
    "duration": 7,
    "start_time": "2025-01-24T13:03:59.633Z"
   },
   {
    "duration": 14,
    "start_time": "2025-01-24T13:03:59.643Z"
   },
   {
    "duration": 7,
    "start_time": "2025-01-24T13:03:59.659Z"
   },
   {
    "duration": 21,
    "start_time": "2025-01-24T13:03:59.668Z"
   },
   {
    "duration": 7,
    "start_time": "2025-01-24T13:03:59.690Z"
   },
   {
    "duration": 37,
    "start_time": "2025-01-24T13:03:59.698Z"
   },
   {
    "duration": 22,
    "start_time": "2025-01-24T13:03:59.737Z"
   },
   {
    "duration": 21,
    "start_time": "2025-01-24T13:03:59.760Z"
   },
   {
    "duration": 7,
    "start_time": "2025-01-24T13:03:59.783Z"
   },
   {
    "duration": 9,
    "start_time": "2025-01-24T13:03:59.792Z"
   },
   {
    "duration": 34,
    "start_time": "2025-01-24T13:03:59.802Z"
   },
   {
    "duration": 49,
    "start_time": "2025-01-24T13:03:59.837Z"
   },
   {
    "duration": 42,
    "start_time": "2025-01-24T13:03:59.888Z"
   },
   {
    "duration": 22,
    "start_time": "2025-01-24T13:03:59.931Z"
   },
   {
    "duration": 48,
    "start_time": "2025-01-24T13:03:59.954Z"
   },
   {
    "duration": 28,
    "start_time": "2025-01-24T13:04:00.003Z"
   },
   {
    "duration": 264,
    "start_time": "2025-01-24T13:04:00.033Z"
   },
   {
    "duration": 190,
    "start_time": "2025-01-24T13:04:00.299Z"
   },
   {
    "duration": 176,
    "start_time": "2025-01-24T13:04:00.490Z"
   },
   {
    "duration": 260,
    "start_time": "2025-01-24T13:04:00.670Z"
   },
   {
    "duration": 7,
    "start_time": "2025-01-24T13:04:00.931Z"
   },
   {
    "duration": 261,
    "start_time": "2025-01-24T13:04:00.939Z"
   },
   {
    "duration": 6,
    "start_time": "2025-01-24T13:04:01.202Z"
   },
   {
    "duration": 219,
    "start_time": "2025-01-24T13:04:01.210Z"
   },
   {
    "duration": 197,
    "start_time": "2025-01-24T13:04:01.431Z"
   },
   {
    "duration": 266,
    "start_time": "2025-01-24T13:04:01.630Z"
   },
   {
    "duration": 222,
    "start_time": "2025-01-24T13:04:01.898Z"
   },
   {
    "duration": 2142,
    "start_time": "2025-01-24T13:04:02.122Z"
   },
   {
    "duration": 1485,
    "start_time": "2025-01-24T13:04:04.266Z"
   },
   {
    "duration": 18,
    "start_time": "2025-01-24T13:04:05.753Z"
   },
   {
    "duration": 30,
    "start_time": "2025-01-24T13:04:05.772Z"
   },
   {
    "duration": 22,
    "start_time": "2025-01-24T13:04:05.804Z"
   },
   {
    "duration": 9,
    "start_time": "2025-01-24T13:04:05.828Z"
   },
   {
    "duration": 56,
    "start_time": "2025-01-24T13:04:05.838Z"
   },
   {
    "duration": 1320,
    "start_time": "2025-01-24T13:04:05.896Z"
   },
   {
    "duration": 6,
    "start_time": "2025-01-24T13:04:07.218Z"
   },
   {
    "duration": 34,
    "start_time": "2025-01-24T13:04:07.225Z"
   },
   {
    "duration": 29,
    "start_time": "2025-01-24T13:04:07.260Z"
   },
   {
    "duration": 64,
    "start_time": "2025-01-24T13:04:07.291Z"
   },
   {
    "duration": 131,
    "start_time": "2025-01-24T13:04:07.357Z"
   },
   {
    "duration": 76,
    "start_time": "2025-01-24T13:04:07.490Z"
   },
   {
    "duration": 22,
    "start_time": "2025-01-24T13:04:07.568Z"
   },
   {
    "duration": 42,
    "start_time": "2025-01-24T13:04:07.592Z"
   },
   {
    "duration": 27,
    "start_time": "2025-01-24T13:04:07.635Z"
   },
   {
    "duration": 26,
    "start_time": "2025-01-24T13:04:07.664Z"
   },
   {
    "duration": 22,
    "start_time": "2025-01-24T13:04:07.692Z"
   },
   {
    "duration": 27,
    "start_time": "2025-01-24T13:04:07.716Z"
   },
   {
    "duration": 37,
    "start_time": "2025-01-24T13:04:07.745Z"
   },
   {
    "duration": 26,
    "start_time": "2025-01-24T13:04:07.784Z"
   },
   {
    "duration": 26,
    "start_time": "2025-01-24T13:04:07.811Z"
   },
   {
    "duration": 21,
    "start_time": "2025-01-24T13:04:07.839Z"
   },
   {
    "duration": 23,
    "start_time": "2025-01-24T13:04:07.862Z"
   },
   {
    "duration": 20,
    "start_time": "2025-01-24T13:04:07.886Z"
   },
   {
    "duration": 19,
    "start_time": "2025-01-24T13:04:07.908Z"
   },
   {
    "duration": 27,
    "start_time": "2025-01-24T13:04:07.929Z"
   },
   {
    "duration": 26,
    "start_time": "2025-01-24T13:04:07.958Z"
   },
   {
    "duration": 11,
    "start_time": "2025-01-24T13:04:07.986Z"
   },
   {
    "duration": 7,
    "start_time": "2025-01-24T13:04:07.999Z"
   },
   {
    "duration": 22,
    "start_time": "2025-01-24T13:04:08.008Z"
   },
   {
    "duration": 23,
    "start_time": "2025-01-24T13:04:08.032Z"
   },
   {
    "duration": 38,
    "start_time": "2025-01-24T13:04:08.056Z"
   },
   {
    "duration": 17,
    "start_time": "2025-01-24T13:04:08.096Z"
   },
   {
    "duration": 211,
    "start_time": "2025-01-24T13:04:08.115Z"
   },
   {
    "duration": 313,
    "start_time": "2025-01-24T13:04:08.327Z"
   },
   {
    "duration": 218,
    "start_time": "2025-01-24T13:04:08.641Z"
   },
   {
    "duration": 203,
    "start_time": "2025-01-24T13:04:08.860Z"
   },
   {
    "duration": 229,
    "start_time": "2025-01-24T13:04:09.065Z"
   },
   {
    "duration": 235,
    "start_time": "2025-01-24T13:04:09.296Z"
   },
   {
    "duration": 234,
    "start_time": "2025-01-24T13:04:09.533Z"
   },
   {
    "duration": 269,
    "start_time": "2025-01-24T13:04:09.769Z"
   },
   {
    "duration": 8,
    "start_time": "2025-01-24T13:04:10.040Z"
   },
   {
    "duration": 444,
    "start_time": "2025-01-24T13:04:10.049Z"
   },
   {
    "duration": 15,
    "start_time": "2025-01-24T13:04:10.495Z"
   },
   {
    "duration": 11,
    "start_time": "2025-01-24T13:04:10.516Z"
   },
   {
    "duration": 18,
    "start_time": "2025-01-24T13:04:10.529Z"
   },
   {
    "duration": 5,
    "start_time": "2025-01-24T13:04:10.549Z"
   },
   {
    "duration": 5,
    "start_time": "2025-01-24T13:04:10.587Z"
   },
   {
    "duration": 23,
    "start_time": "2025-01-24T13:04:10.594Z"
   },
   {
    "duration": 14,
    "start_time": "2025-01-24T13:04:10.619Z"
   },
   {
    "duration": 9777,
    "start_time": "2025-01-24T13:04:10.635Z"
   },
   {
    "duration": 21,
    "start_time": "2025-01-24T13:04:20.414Z"
   },
   {
    "duration": 46,
    "start_time": "2025-01-24T13:04:20.436Z"
   },
   {
    "duration": 28,
    "start_time": "2025-01-24T13:04:20.483Z"
   },
   {
    "duration": 34,
    "start_time": "2025-01-24T13:04:20.512Z"
   },
   {
    "duration": 39,
    "start_time": "2025-01-24T13:04:20.548Z"
   },
   {
    "duration": 9,
    "start_time": "2025-01-24T13:04:20.589Z"
   },
   {
    "duration": 47,
    "start_time": "2025-01-24T13:04:20.600Z"
   },
   {
    "duration": 43,
    "start_time": "2025-01-24T13:04:20.649Z"
   },
   {
    "duration": 15,
    "start_time": "2025-01-24T13:04:20.694Z"
   },
   {
    "duration": 36,
    "start_time": "2025-01-24T13:04:20.711Z"
   },
   {
    "duration": 149,
    "start_time": "2025-01-24T13:05:33.025Z"
   },
   {
    "duration": 2663,
    "start_time": "2025-01-24T13:05:40.269Z"
   },
   {
    "duration": 1509,
    "start_time": "2025-01-24T13:05:42.935Z"
   },
   {
    "duration": 62,
    "start_time": "2025-01-24T13:05:44.445Z"
   },
   {
    "duration": 17,
    "start_time": "2025-01-24T13:05:44.508Z"
   },
   {
    "duration": 11,
    "start_time": "2025-01-24T13:05:44.526Z"
   },
   {
    "duration": 39,
    "start_time": "2025-01-24T13:05:44.538Z"
   },
   {
    "duration": 12,
    "start_time": "2025-01-24T13:05:44.579Z"
   },
   {
    "duration": 18,
    "start_time": "2025-01-24T13:05:44.592Z"
   },
   {
    "duration": 6,
    "start_time": "2025-01-24T13:05:44.611Z"
   },
   {
    "duration": 21,
    "start_time": "2025-01-24T13:05:44.620Z"
   },
   {
    "duration": 18,
    "start_time": "2025-01-24T13:05:44.643Z"
   },
   {
    "duration": 11,
    "start_time": "2025-01-24T13:05:44.663Z"
   },
   {
    "duration": 11,
    "start_time": "2025-01-24T13:05:44.675Z"
   },
   {
    "duration": 12,
    "start_time": "2025-01-24T13:05:44.689Z"
   },
   {
    "duration": 10,
    "start_time": "2025-01-24T13:05:44.702Z"
   },
   {
    "duration": 12,
    "start_time": "2025-01-24T13:05:44.714Z"
   },
   {
    "duration": 8,
    "start_time": "2025-01-24T13:05:44.728Z"
   },
   {
    "duration": 26,
    "start_time": "2025-01-24T13:05:44.738Z"
   },
   {
    "duration": 8,
    "start_time": "2025-01-24T13:05:44.765Z"
   },
   {
    "duration": 17,
    "start_time": "2025-01-24T13:05:44.775Z"
   },
   {
    "duration": 24,
    "start_time": "2025-01-24T13:05:44.794Z"
   },
   {
    "duration": 13,
    "start_time": "2025-01-24T13:05:44.819Z"
   },
   {
    "duration": 20,
    "start_time": "2025-01-24T13:05:44.833Z"
   },
   {
    "duration": 17,
    "start_time": "2025-01-24T13:05:44.855Z"
   },
   {
    "duration": 195,
    "start_time": "2025-01-24T13:05:44.874Z"
   },
   {
    "duration": 178,
    "start_time": "2025-01-24T13:05:45.072Z"
   },
   {
    "duration": 187,
    "start_time": "2025-01-24T13:05:45.252Z"
   },
   {
    "duration": 256,
    "start_time": "2025-01-24T13:05:45.445Z"
   },
   {
    "duration": 6,
    "start_time": "2025-01-24T13:05:45.704Z"
   },
   {
    "duration": 165,
    "start_time": "2025-01-24T13:05:45.712Z"
   },
   {
    "duration": 10,
    "start_time": "2025-01-24T13:05:45.879Z"
   },
   {
    "duration": 212,
    "start_time": "2025-01-24T13:05:45.891Z"
   },
   {
    "duration": 193,
    "start_time": "2025-01-24T13:05:46.104Z"
   },
   {
    "duration": 261,
    "start_time": "2025-01-24T13:05:46.299Z"
   },
   {
    "duration": 224,
    "start_time": "2025-01-24T13:05:46.562Z"
   },
   {
    "duration": 2126,
    "start_time": "2025-01-24T13:05:46.787Z"
   },
   {
    "duration": 1480,
    "start_time": "2025-01-24T13:05:48.915Z"
   },
   {
    "duration": 19,
    "start_time": "2025-01-24T13:05:50.396Z"
   },
   {
    "duration": 15,
    "start_time": "2025-01-24T13:05:50.416Z"
   },
   {
    "duration": 20,
    "start_time": "2025-01-24T13:05:50.432Z"
   },
   {
    "duration": 17,
    "start_time": "2025-01-24T13:05:50.454Z"
   },
   {
    "duration": 34,
    "start_time": "2025-01-24T13:05:50.473Z"
   },
   {
    "duration": 1263,
    "start_time": "2025-01-24T13:05:50.508Z"
   },
   {
    "duration": 5,
    "start_time": "2025-01-24T13:05:51.773Z"
   },
   {
    "duration": 16,
    "start_time": "2025-01-24T13:05:51.786Z"
   },
   {
    "duration": 70,
    "start_time": "2025-01-24T13:05:51.804Z"
   },
   {
    "duration": 71,
    "start_time": "2025-01-24T13:05:51.876Z"
   },
   {
    "duration": 67,
    "start_time": "2025-01-24T13:05:51.950Z"
   },
   {
    "duration": 8,
    "start_time": "2025-01-24T13:05:52.019Z"
   },
   {
    "duration": 16,
    "start_time": "2025-01-24T13:05:52.029Z"
   },
   {
    "duration": 9,
    "start_time": "2025-01-24T13:05:52.047Z"
   },
   {
    "duration": 38,
    "start_time": "2025-01-24T13:05:52.058Z"
   },
   {
    "duration": 58,
    "start_time": "2025-01-24T13:05:52.098Z"
   },
   {
    "duration": 12,
    "start_time": "2025-01-24T13:05:52.158Z"
   },
   {
    "duration": 10,
    "start_time": "2025-01-24T13:05:52.172Z"
   },
   {
    "duration": 14,
    "start_time": "2025-01-24T13:05:52.185Z"
   },
   {
    "duration": 19,
    "start_time": "2025-01-24T13:05:52.200Z"
   },
   {
    "duration": 20,
    "start_time": "2025-01-24T13:05:52.221Z"
   },
   {
    "duration": 20,
    "start_time": "2025-01-24T13:05:52.244Z"
   },
   {
    "duration": 9,
    "start_time": "2025-01-24T13:05:52.266Z"
   },
   {
    "duration": 22,
    "start_time": "2025-01-24T13:05:52.277Z"
   },
   {
    "duration": 48,
    "start_time": "2025-01-24T13:05:52.300Z"
   },
   {
    "duration": 20,
    "start_time": "2025-01-24T13:05:52.350Z"
   },
   {
    "duration": 7,
    "start_time": "2025-01-24T13:05:52.372Z"
   },
   {
    "duration": 17,
    "start_time": "2025-01-24T13:05:52.380Z"
   },
   {
    "duration": 9,
    "start_time": "2025-01-24T13:05:52.399Z"
   },
   {
    "duration": 10,
    "start_time": "2025-01-24T13:05:52.410Z"
   },
   {
    "duration": 25,
    "start_time": "2025-01-24T13:05:52.421Z"
   },
   {
    "duration": 18,
    "start_time": "2025-01-24T13:05:52.447Z"
   },
   {
    "duration": 17,
    "start_time": "2025-01-24T13:05:52.466Z"
   },
   {
    "duration": 128,
    "start_time": "2025-01-24T13:05:52.485Z"
   },
   {
    "duration": 0,
    "start_time": "2025-01-24T13:05:52.616Z"
   },
   {
    "duration": 0,
    "start_time": "2025-01-24T13:05:52.617Z"
   },
   {
    "duration": 0,
    "start_time": "2025-01-24T13:05:52.619Z"
   },
   {
    "duration": 0,
    "start_time": "2025-01-24T13:05:52.620Z"
   },
   {
    "duration": 0,
    "start_time": "2025-01-24T13:05:52.621Z"
   },
   {
    "duration": 0,
    "start_time": "2025-01-24T13:05:52.622Z"
   },
   {
    "duration": 0,
    "start_time": "2025-01-24T13:05:52.623Z"
   },
   {
    "duration": 0,
    "start_time": "2025-01-24T13:05:52.624Z"
   },
   {
    "duration": 0,
    "start_time": "2025-01-24T13:05:52.625Z"
   },
   {
    "duration": 0,
    "start_time": "2025-01-24T13:05:52.627Z"
   },
   {
    "duration": 0,
    "start_time": "2025-01-24T13:05:52.628Z"
   },
   {
    "duration": 0,
    "start_time": "2025-01-24T13:05:52.629Z"
   },
   {
    "duration": 0,
    "start_time": "2025-01-24T13:05:52.630Z"
   },
   {
    "duration": 0,
    "start_time": "2025-01-24T13:05:52.631Z"
   },
   {
    "duration": 0,
    "start_time": "2025-01-24T13:05:52.632Z"
   },
   {
    "duration": 0,
    "start_time": "2025-01-24T13:05:52.633Z"
   },
   {
    "duration": 0,
    "start_time": "2025-01-24T13:05:52.634Z"
   },
   {
    "duration": 0,
    "start_time": "2025-01-24T13:05:52.635Z"
   },
   {
    "duration": 0,
    "start_time": "2025-01-24T13:05:52.636Z"
   },
   {
    "duration": 0,
    "start_time": "2025-01-24T13:05:52.637Z"
   },
   {
    "duration": 0,
    "start_time": "2025-01-24T13:05:52.638Z"
   },
   {
    "duration": 0,
    "start_time": "2025-01-24T13:05:52.639Z"
   },
   {
    "duration": 0,
    "start_time": "2025-01-24T13:05:52.640Z"
   },
   {
    "duration": 0,
    "start_time": "2025-01-24T13:05:52.641Z"
   },
   {
    "duration": 0,
    "start_time": "2025-01-24T13:05:52.642Z"
   },
   {
    "duration": 0,
    "start_time": "2025-01-24T13:05:52.643Z"
   },
   {
    "duration": 0,
    "start_time": "2025-01-24T13:05:52.686Z"
   },
   {
    "duration": 0,
    "start_time": "2025-01-24T13:05:52.687Z"
   },
   {
    "duration": 38,
    "start_time": "2025-01-24T13:06:17.415Z"
   },
   {
    "duration": 18,
    "start_time": "2025-01-24T13:06:31.739Z"
   },
   {
    "duration": 413,
    "start_time": "2025-01-24T13:06:41.395Z"
   },
   {
    "duration": 202,
    "start_time": "2025-01-24T13:06:51.503Z"
   },
   {
    "duration": 101,
    "start_time": "2025-01-24T13:07:11.243Z"
   },
   {
    "duration": 205,
    "start_time": "2025-01-24T13:07:23.628Z"
   },
   {
    "duration": 214,
    "start_time": "2025-01-24T13:07:23.956Z"
   },
   {
    "duration": 186,
    "start_time": "2025-01-24T13:07:24.253Z"
   },
   {
    "duration": 191,
    "start_time": "2025-01-24T13:07:24.875Z"
   },
   {
    "duration": 211,
    "start_time": "2025-01-24T13:07:26.197Z"
   },
   {
    "duration": 227,
    "start_time": "2025-01-24T13:07:26.801Z"
   },
   {
    "duration": 232,
    "start_time": "2025-01-24T13:07:44.033Z"
   },
   {
    "duration": 201,
    "start_time": "2025-01-24T13:07:51.611Z"
   },
   {
    "duration": 227,
    "start_time": "2025-01-24T13:07:54.331Z"
   },
   {
    "duration": 246,
    "start_time": "2025-01-24T13:09:09.835Z"
   },
   {
    "duration": 7,
    "start_time": "2025-01-24T13:09:10.563Z"
   },
   {
    "duration": 554,
    "start_time": "2025-01-24T13:09:10.706Z"
   },
   {
    "duration": 15,
    "start_time": "2025-01-24T13:09:13.120Z"
   },
   {
    "duration": 11,
    "start_time": "2025-01-24T13:09:13.542Z"
   },
   {
    "duration": 17,
    "start_time": "2025-01-24T13:09:13.686Z"
   },
   {
    "duration": 5,
    "start_time": "2025-01-24T13:09:16.450Z"
   },
   {
    "duration": 4,
    "start_time": "2025-01-24T13:09:16.775Z"
   },
   {
    "duration": 5,
    "start_time": "2025-01-24T13:09:33.416Z"
   },
   {
    "duration": 4,
    "start_time": "2025-01-24T13:10:41.982Z"
   },
   {
    "duration": 4,
    "start_time": "2025-01-24T13:10:46.840Z"
   },
   {
    "duration": 15,
    "start_time": "2025-01-24T13:11:23.689Z"
   },
   {
    "duration": 19,
    "start_time": "2025-01-24T13:11:30.826Z"
   },
   {
    "duration": 97,
    "start_time": "2025-01-24T13:11:36.815Z"
   },
   {
    "duration": 18,
    "start_time": "2025-01-24T13:11:41.450Z"
   },
   {
    "duration": 16,
    "start_time": "2025-01-24T13:11:46.885Z"
   },
   {
    "duration": 9,
    "start_time": "2025-01-24T13:11:52.346Z"
   },
   {
    "duration": 4,
    "start_time": "2025-01-24T13:12:02.439Z"
   },
   {
    "duration": 3661,
    "start_time": "2025-01-24T13:12:19.030Z"
   },
   {
    "duration": 1879,
    "start_time": "2025-01-24T13:12:22.693Z"
   },
   {
    "duration": 63,
    "start_time": "2025-01-24T13:12:24.573Z"
   },
   {
    "duration": 17,
    "start_time": "2025-01-24T13:12:24.639Z"
   },
   {
    "duration": 21,
    "start_time": "2025-01-24T13:12:24.658Z"
   },
   {
    "duration": 23,
    "start_time": "2025-01-24T13:12:24.681Z"
   },
   {
    "duration": 11,
    "start_time": "2025-01-24T13:12:24.706Z"
   },
   {
    "duration": 18,
    "start_time": "2025-01-24T13:12:24.719Z"
   },
   {
    "duration": 8,
    "start_time": "2025-01-24T13:12:24.739Z"
   },
   {
    "duration": 13,
    "start_time": "2025-01-24T13:12:24.749Z"
   },
   {
    "duration": 7,
    "start_time": "2025-01-24T13:12:24.763Z"
   },
   {
    "duration": 9,
    "start_time": "2025-01-24T13:12:24.786Z"
   },
   {
    "duration": 33,
    "start_time": "2025-01-24T13:12:24.796Z"
   },
   {
    "duration": 29,
    "start_time": "2025-01-24T13:12:24.831Z"
   },
   {
    "duration": 17,
    "start_time": "2025-01-24T13:12:24.861Z"
   },
   {
    "duration": 24,
    "start_time": "2025-01-24T13:12:24.880Z"
   },
   {
    "duration": 18,
    "start_time": "2025-01-24T13:12:24.906Z"
   },
   {
    "duration": 30,
    "start_time": "2025-01-24T13:12:24.926Z"
   },
   {
    "duration": 27,
    "start_time": "2025-01-24T13:12:24.958Z"
   },
   {
    "duration": 14,
    "start_time": "2025-01-24T13:12:24.987Z"
   },
   {
    "duration": 32,
    "start_time": "2025-01-24T13:12:25.003Z"
   },
   {
    "duration": 39,
    "start_time": "2025-01-24T13:12:25.037Z"
   },
   {
    "duration": 69,
    "start_time": "2025-01-24T13:12:25.078Z"
   },
   {
    "duration": 32,
    "start_time": "2025-01-24T13:12:25.149Z"
   },
   {
    "duration": 257,
    "start_time": "2025-01-24T13:12:25.183Z"
   },
   {
    "duration": 173,
    "start_time": "2025-01-24T13:12:25.442Z"
   },
   {
    "duration": 179,
    "start_time": "2025-01-24T13:12:25.617Z"
   },
   {
    "duration": 241,
    "start_time": "2025-01-24T13:12:25.800Z"
   },
   {
    "duration": 6,
    "start_time": "2025-01-24T13:12:26.043Z"
   },
   {
    "duration": 168,
    "start_time": "2025-01-24T13:12:26.050Z"
   },
   {
    "duration": 6,
    "start_time": "2025-01-24T13:12:26.219Z"
   },
   {
    "duration": 217,
    "start_time": "2025-01-24T13:12:26.227Z"
   },
   {
    "duration": 226,
    "start_time": "2025-01-24T13:12:26.446Z"
   },
   {
    "duration": 240,
    "start_time": "2025-01-24T13:12:26.674Z"
   },
   {
    "duration": 221,
    "start_time": "2025-01-24T13:12:26.916Z"
   },
   {
    "duration": 2161,
    "start_time": "2025-01-24T13:12:27.140Z"
   },
   {
    "duration": 1460,
    "start_time": "2025-01-24T13:12:29.303Z"
   },
   {
    "duration": 18,
    "start_time": "2025-01-24T13:12:30.764Z"
   },
   {
    "duration": 14,
    "start_time": "2025-01-24T13:12:30.786Z"
   },
   {
    "duration": 19,
    "start_time": "2025-01-24T13:12:30.802Z"
   },
   {
    "duration": 16,
    "start_time": "2025-01-24T13:12:30.823Z"
   },
   {
    "duration": 63,
    "start_time": "2025-01-24T13:12:30.841Z"
   },
   {
    "duration": 1258,
    "start_time": "2025-01-24T13:12:30.906Z"
   },
   {
    "duration": 7,
    "start_time": "2025-01-24T13:12:32.165Z"
   },
   {
    "duration": 21,
    "start_time": "2025-01-24T13:12:32.173Z"
   },
   {
    "duration": 39,
    "start_time": "2025-01-24T13:12:32.196Z"
   },
   {
    "duration": 54,
    "start_time": "2025-01-24T13:12:32.238Z"
   },
   {
    "duration": 74,
    "start_time": "2025-01-24T13:12:32.294Z"
   },
   {
    "duration": 7,
    "start_time": "2025-01-24T13:12:32.370Z"
   },
   {
    "duration": 8,
    "start_time": "2025-01-24T13:12:32.378Z"
   },
   {
    "duration": 14,
    "start_time": "2025-01-24T13:12:32.387Z"
   },
   {
    "duration": 39,
    "start_time": "2025-01-24T13:12:32.402Z"
   },
   {
    "duration": 24,
    "start_time": "2025-01-24T13:12:32.443Z"
   },
   {
    "duration": 45,
    "start_time": "2025-01-24T13:12:32.469Z"
   },
   {
    "duration": 46,
    "start_time": "2025-01-24T13:12:32.515Z"
   },
   {
    "duration": 33,
    "start_time": "2025-01-24T13:12:32.562Z"
   },
   {
    "duration": 23,
    "start_time": "2025-01-24T13:12:32.597Z"
   },
   {
    "duration": 47,
    "start_time": "2025-01-24T13:12:32.622Z"
   },
   {
    "duration": 24,
    "start_time": "2025-01-24T13:12:32.670Z"
   },
   {
    "duration": 28,
    "start_time": "2025-01-24T13:12:32.696Z"
   },
   {
    "duration": 25,
    "start_time": "2025-01-24T13:12:32.726Z"
   },
   {
    "duration": 29,
    "start_time": "2025-01-24T13:12:32.753Z"
   },
   {
    "duration": 30,
    "start_time": "2025-01-24T13:12:32.784Z"
   },
   {
    "duration": 27,
    "start_time": "2025-01-24T13:12:32.816Z"
   },
   {
    "duration": 26,
    "start_time": "2025-01-24T13:12:32.845Z"
   },
   {
    "duration": 28,
    "start_time": "2025-01-24T13:12:32.873Z"
   },
   {
    "duration": 20,
    "start_time": "2025-01-24T13:12:32.903Z"
   },
   {
    "duration": 41,
    "start_time": "2025-01-24T13:12:32.925Z"
   },
   {
    "duration": 30,
    "start_time": "2025-01-24T13:12:32.969Z"
   },
   {
    "duration": 21,
    "start_time": "2025-01-24T13:12:33.000Z"
   },
   {
    "duration": 220,
    "start_time": "2025-01-24T13:12:33.023Z"
   },
   {
    "duration": 329,
    "start_time": "2025-01-24T13:12:33.245Z"
   },
   {
    "duration": 221,
    "start_time": "2025-01-24T13:12:33.576Z"
   },
   {
    "duration": 209,
    "start_time": "2025-01-24T13:12:33.799Z"
   },
   {
    "duration": 204,
    "start_time": "2025-01-24T13:12:34.010Z"
   },
   {
    "duration": 240,
    "start_time": "2025-01-24T13:12:34.216Z"
   },
   {
    "duration": 241,
    "start_time": "2025-01-24T13:12:34.458Z"
   },
   {
    "duration": 258,
    "start_time": "2025-01-24T13:12:34.701Z"
   },
   {
    "duration": 7,
    "start_time": "2025-01-24T13:12:34.960Z"
   },
   {
    "duration": 496,
    "start_time": "2025-01-24T13:12:34.968Z"
   },
   {
    "duration": 13,
    "start_time": "2025-01-24T13:12:35.465Z"
   },
   {
    "duration": 11,
    "start_time": "2025-01-24T13:12:35.490Z"
   },
   {
    "duration": 63,
    "start_time": "2025-01-24T13:12:35.502Z"
   },
   {
    "duration": 66,
    "start_time": "2025-01-24T13:12:35.567Z"
   },
   {
    "duration": 41,
    "start_time": "2025-01-24T13:12:35.634Z"
   },
   {
    "duration": 172,
    "start_time": "2025-01-24T13:12:35.676Z"
   },
   {
    "duration": 0,
    "start_time": "2025-01-24T13:12:35.849Z"
   },
   {
    "duration": 0,
    "start_time": "2025-01-24T13:12:35.851Z"
   },
   {
    "duration": 0,
    "start_time": "2025-01-24T13:12:35.852Z"
   },
   {
    "duration": 0,
    "start_time": "2025-01-24T13:12:35.853Z"
   },
   {
    "duration": 0,
    "start_time": "2025-01-24T13:12:35.854Z"
   },
   {
    "duration": 0,
    "start_time": "2025-01-24T13:12:35.855Z"
   },
   {
    "duration": 0,
    "start_time": "2025-01-24T13:12:35.856Z"
   },
   {
    "duration": 0,
    "start_time": "2025-01-24T13:12:35.857Z"
   },
   {
    "duration": 0,
    "start_time": "2025-01-24T13:12:35.858Z"
   },
   {
    "duration": 0,
    "start_time": "2025-01-24T13:12:35.859Z"
   },
   {
    "duration": 0,
    "start_time": "2025-01-24T13:12:35.860Z"
   },
   {
    "duration": 0,
    "start_time": "2025-01-24T13:12:35.861Z"
   },
   {
    "duration": 6,
    "start_time": "2025-01-24T13:12:45.671Z"
   },
   {
    "duration": 10,
    "start_time": "2025-01-24T13:12:50.719Z"
   },
   {
    "duration": 9,
    "start_time": "2025-01-24T13:12:55.649Z"
   },
   {
    "duration": 9,
    "start_time": "2025-01-24T13:12:58.415Z"
   },
   {
    "duration": 11,
    "start_time": "2025-01-24T13:13:09.284Z"
   },
   {
    "duration": 9,
    "start_time": "2025-01-24T13:13:11.458Z"
   },
   {
    "duration": 6,
    "start_time": "2025-01-24T13:13:12.054Z"
   },
   {
    "duration": 11,
    "start_time": "2025-01-24T13:13:24.727Z"
   },
   {
    "duration": 4,
    "start_time": "2025-01-24T13:13:37.698Z"
   },
   {
    "duration": 3484,
    "start_time": "2025-01-24T13:13:51.053Z"
   },
   {
    "duration": 1524,
    "start_time": "2025-01-24T13:13:54.539Z"
   },
   {
    "duration": 62,
    "start_time": "2025-01-24T13:13:56.064Z"
   },
   {
    "duration": 18,
    "start_time": "2025-01-24T13:13:56.128Z"
   },
   {
    "duration": 20,
    "start_time": "2025-01-24T13:13:56.147Z"
   },
   {
    "duration": 24,
    "start_time": "2025-01-24T13:13:56.168Z"
   },
   {
    "duration": 27,
    "start_time": "2025-01-24T13:13:56.193Z"
   },
   {
    "duration": 30,
    "start_time": "2025-01-24T13:13:56.222Z"
   },
   {
    "duration": 32,
    "start_time": "2025-01-24T13:13:56.254Z"
   },
   {
    "duration": 20,
    "start_time": "2025-01-24T13:13:56.289Z"
   },
   {
    "duration": 11,
    "start_time": "2025-01-24T13:13:56.310Z"
   },
   {
    "duration": 11,
    "start_time": "2025-01-24T13:13:56.323Z"
   },
   {
    "duration": 27,
    "start_time": "2025-01-24T13:13:56.335Z"
   },
   {
    "duration": 14,
    "start_time": "2025-01-24T13:13:56.364Z"
   },
   {
    "duration": 11,
    "start_time": "2025-01-24T13:13:56.379Z"
   },
   {
    "duration": 9,
    "start_time": "2025-01-24T13:13:56.391Z"
   },
   {
    "duration": 9,
    "start_time": "2025-01-24T13:13:56.402Z"
   },
   {
    "duration": 5,
    "start_time": "2025-01-24T13:13:56.413Z"
   },
   {
    "duration": 13,
    "start_time": "2025-01-24T13:13:56.419Z"
   },
   {
    "duration": 31,
    "start_time": "2025-01-24T13:13:56.434Z"
   },
   {
    "duration": 35,
    "start_time": "2025-01-24T13:13:56.467Z"
   },
   {
    "duration": 6,
    "start_time": "2025-01-24T13:13:56.505Z"
   },
   {
    "duration": 31,
    "start_time": "2025-01-24T13:13:56.513Z"
   },
   {
    "duration": 20,
    "start_time": "2025-01-24T13:13:56.547Z"
   },
   {
    "duration": 207,
    "start_time": "2025-01-24T13:13:56.569Z"
   },
   {
    "duration": 179,
    "start_time": "2025-01-24T13:13:56.778Z"
   },
   {
    "duration": 177,
    "start_time": "2025-01-24T13:13:56.959Z"
   },
   {
    "duration": 255,
    "start_time": "2025-01-24T13:13:57.141Z"
   },
   {
    "duration": 6,
    "start_time": "2025-01-24T13:13:57.398Z"
   },
   {
    "duration": 170,
    "start_time": "2025-01-24T13:13:57.405Z"
   },
   {
    "duration": 12,
    "start_time": "2025-01-24T13:13:57.577Z"
   },
   {
    "duration": 269,
    "start_time": "2025-01-24T13:13:57.591Z"
   },
   {
    "duration": 189,
    "start_time": "2025-01-24T13:13:57.862Z"
   },
   {
    "duration": 246,
    "start_time": "2025-01-24T13:13:58.052Z"
   },
   {
    "duration": 229,
    "start_time": "2025-01-24T13:13:58.301Z"
   },
   {
    "duration": 2121,
    "start_time": "2025-01-24T13:13:58.532Z"
   },
   {
    "duration": 1528,
    "start_time": "2025-01-24T13:14:00.654Z"
   },
   {
    "duration": 18,
    "start_time": "2025-01-24T13:14:02.184Z"
   },
   {
    "duration": 8,
    "start_time": "2025-01-24T13:14:02.203Z"
   },
   {
    "duration": 7,
    "start_time": "2025-01-24T13:14:02.213Z"
   },
   {
    "duration": 10,
    "start_time": "2025-01-24T13:14:02.222Z"
   },
   {
    "duration": 45,
    "start_time": "2025-01-24T13:14:02.234Z"
   },
   {
    "duration": 1277,
    "start_time": "2025-01-24T13:14:02.280Z"
   },
   {
    "duration": 6,
    "start_time": "2025-01-24T13:14:03.558Z"
   },
   {
    "duration": 39,
    "start_time": "2025-01-24T13:14:03.565Z"
   },
   {
    "duration": 28,
    "start_time": "2025-01-24T13:14:03.605Z"
   },
   {
    "duration": 85,
    "start_time": "2025-01-24T13:14:03.635Z"
   },
   {
    "duration": 66,
    "start_time": "2025-01-24T13:14:03.722Z"
   },
   {
    "duration": 7,
    "start_time": "2025-01-24T13:14:03.790Z"
   },
   {
    "duration": 11,
    "start_time": "2025-01-24T13:14:03.799Z"
   },
   {
    "duration": 9,
    "start_time": "2025-01-24T13:14:03.812Z"
   },
   {
    "duration": 18,
    "start_time": "2025-01-24T13:14:03.823Z"
   },
   {
    "duration": 35,
    "start_time": "2025-01-24T13:14:03.843Z"
   },
   {
    "duration": 21,
    "start_time": "2025-01-24T13:14:03.880Z"
   },
   {
    "duration": 18,
    "start_time": "2025-01-24T13:14:03.903Z"
   },
   {
    "duration": 51,
    "start_time": "2025-01-24T13:14:03.923Z"
   },
   {
    "duration": 22,
    "start_time": "2025-01-24T13:14:03.976Z"
   },
   {
    "duration": 32,
    "start_time": "2025-01-24T13:14:04.000Z"
   },
   {
    "duration": 8,
    "start_time": "2025-01-24T13:14:04.034Z"
   },
   {
    "duration": 22,
    "start_time": "2025-01-24T13:14:04.043Z"
   },
   {
    "duration": 34,
    "start_time": "2025-01-24T13:14:04.067Z"
   },
   {
    "duration": 20,
    "start_time": "2025-01-24T13:14:04.103Z"
   },
   {
    "duration": 10,
    "start_time": "2025-01-24T13:14:04.125Z"
   },
   {
    "duration": 51,
    "start_time": "2025-01-24T13:14:04.137Z"
   },
   {
    "duration": 18,
    "start_time": "2025-01-24T13:14:04.190Z"
   },
   {
    "duration": 12,
    "start_time": "2025-01-24T13:14:04.210Z"
   },
   {
    "duration": 20,
    "start_time": "2025-01-24T13:14:04.224Z"
   },
   {
    "duration": 50,
    "start_time": "2025-01-24T13:14:04.246Z"
   },
   {
    "duration": 21,
    "start_time": "2025-01-24T13:14:04.297Z"
   },
   {
    "duration": 9,
    "start_time": "2025-01-24T13:14:04.320Z"
   },
   {
    "duration": 197,
    "start_time": "2025-01-24T13:14:04.331Z"
   },
   {
    "duration": 325,
    "start_time": "2025-01-24T13:14:04.530Z"
   },
   {
    "duration": 213,
    "start_time": "2025-01-24T13:14:04.857Z"
   },
   {
    "duration": 202,
    "start_time": "2025-01-24T13:14:05.072Z"
   },
   {
    "duration": 194,
    "start_time": "2025-01-24T13:14:05.275Z"
   },
   {
    "duration": 235,
    "start_time": "2025-01-24T13:14:05.471Z"
   },
   {
    "duration": 236,
    "start_time": "2025-01-24T13:14:05.707Z"
   },
   {
    "duration": 256,
    "start_time": "2025-01-24T13:14:05.945Z"
   },
   {
    "duration": 6,
    "start_time": "2025-01-24T13:14:06.203Z"
   },
   {
    "duration": 492,
    "start_time": "2025-01-24T13:14:06.211Z"
   },
   {
    "duration": 13,
    "start_time": "2025-01-24T13:14:06.704Z"
   },
   {
    "duration": 46,
    "start_time": "2025-01-24T13:14:06.723Z"
   },
   {
    "duration": 43,
    "start_time": "2025-01-24T13:14:06.771Z"
   },
   {
    "duration": 10,
    "start_time": "2025-01-24T13:14:06.815Z"
   },
   {
    "duration": 8,
    "start_time": "2025-01-24T13:14:06.827Z"
   },
   {
    "duration": 27,
    "start_time": "2025-01-24T13:14:06.837Z"
   },
   {
    "duration": 133,
    "start_time": "2025-01-24T13:14:06.866Z"
   },
   {
    "duration": 0,
    "start_time": "2025-01-24T13:14:07.001Z"
   },
   {
    "duration": 0,
    "start_time": "2025-01-24T13:14:07.002Z"
   },
   {
    "duration": 0,
    "start_time": "2025-01-24T13:14:07.003Z"
   },
   {
    "duration": 0,
    "start_time": "2025-01-24T13:14:07.004Z"
   },
   {
    "duration": 0,
    "start_time": "2025-01-24T13:14:07.005Z"
   },
   {
    "duration": 0,
    "start_time": "2025-01-24T13:14:07.006Z"
   },
   {
    "duration": 0,
    "start_time": "2025-01-24T13:14:07.007Z"
   },
   {
    "duration": 0,
    "start_time": "2025-01-24T13:14:07.008Z"
   },
   {
    "duration": 0,
    "start_time": "2025-01-24T13:14:07.009Z"
   },
   {
    "duration": 0,
    "start_time": "2025-01-24T13:14:07.010Z"
   },
   {
    "duration": 0,
    "start_time": "2025-01-24T13:14:07.011Z"
   },
   {
    "duration": 7,
    "start_time": "2025-01-24T13:14:18.314Z"
   },
   {
    "duration": 4,
    "start_time": "2025-01-24T13:14:21.172Z"
   },
   {
    "duration": 3,
    "start_time": "2025-01-24T13:14:26.945Z"
   },
   {
    "duration": 9492,
    "start_time": "2025-01-24T13:14:27.554Z"
   },
   {
    "duration": 21,
    "start_time": "2025-01-24T13:14:37.048Z"
   },
   {
    "duration": 5,
    "start_time": "2025-01-24T13:14:56.041Z"
   },
   {
    "duration": 12,
    "start_time": "2025-01-24T13:15:13.815Z"
   },
   {
    "duration": 14,
    "start_time": "2025-01-24T13:15:14.021Z"
   },
   {
    "duration": 15,
    "start_time": "2025-01-24T13:15:27.055Z"
   },
   {
    "duration": 9,
    "start_time": "2025-01-24T13:15:27.431Z"
   },
   {
    "duration": 14,
    "start_time": "2025-01-24T13:15:38.615Z"
   },
   {
    "duration": 18,
    "start_time": "2025-01-24T13:15:39.079Z"
   },
   {
    "duration": 2677,
    "start_time": "2025-01-24T13:15:56.851Z"
   },
   {
    "duration": 1624,
    "start_time": "2025-01-24T13:15:59.530Z"
   },
   {
    "duration": 63,
    "start_time": "2025-01-24T13:16:01.156Z"
   },
   {
    "duration": 17,
    "start_time": "2025-01-24T13:16:01.222Z"
   },
   {
    "duration": 38,
    "start_time": "2025-01-24T13:16:01.241Z"
   },
   {
    "duration": 97,
    "start_time": "2025-01-24T13:16:01.280Z"
   },
   {
    "duration": 122,
    "start_time": "2025-01-24T13:16:01.379Z"
   },
   {
    "duration": 21,
    "start_time": "2025-01-24T13:16:01.503Z"
   },
   {
    "duration": 8,
    "start_time": "2025-01-24T13:16:01.526Z"
   },
   {
    "duration": 142,
    "start_time": "2025-01-24T13:16:01.537Z"
   },
   {
    "duration": 37,
    "start_time": "2025-01-24T13:16:01.681Z"
   },
   {
    "duration": 59,
    "start_time": "2025-01-24T13:16:01.720Z"
   },
   {
    "duration": 17,
    "start_time": "2025-01-24T13:16:01.781Z"
   },
   {
    "duration": 30,
    "start_time": "2025-01-24T13:16:01.800Z"
   },
   {
    "duration": 15,
    "start_time": "2025-01-24T13:16:01.832Z"
   },
   {
    "duration": 41,
    "start_time": "2025-01-24T13:16:01.849Z"
   },
   {
    "duration": 17,
    "start_time": "2025-01-24T13:16:01.892Z"
   },
   {
    "duration": 24,
    "start_time": "2025-01-24T13:16:01.911Z"
   },
   {
    "duration": 42,
    "start_time": "2025-01-24T13:16:01.937Z"
   },
   {
    "duration": 27,
    "start_time": "2025-01-24T13:16:01.981Z"
   },
   {
    "duration": 27,
    "start_time": "2025-01-24T13:16:02.009Z"
   },
   {
    "duration": 27,
    "start_time": "2025-01-24T13:16:02.037Z"
   },
   {
    "duration": 58,
    "start_time": "2025-01-24T13:16:02.065Z"
   },
   {
    "duration": 35,
    "start_time": "2025-01-24T13:16:02.125Z"
   },
   {
    "duration": 221,
    "start_time": "2025-01-24T13:16:02.162Z"
   },
   {
    "duration": 171,
    "start_time": "2025-01-24T13:16:02.385Z"
   },
   {
    "duration": 177,
    "start_time": "2025-01-24T13:16:02.557Z"
   },
   {
    "duration": 258,
    "start_time": "2025-01-24T13:16:02.738Z"
   },
   {
    "duration": 6,
    "start_time": "2025-01-24T13:16:02.997Z"
   },
   {
    "duration": 176,
    "start_time": "2025-01-24T13:16:03.004Z"
   },
   {
    "duration": 8,
    "start_time": "2025-01-24T13:16:03.181Z"
   },
   {
    "duration": 216,
    "start_time": "2025-01-24T13:16:03.191Z"
   },
   {
    "duration": 194,
    "start_time": "2025-01-24T13:16:03.409Z"
   },
   {
    "duration": 244,
    "start_time": "2025-01-24T13:16:03.605Z"
   },
   {
    "duration": 223,
    "start_time": "2025-01-24T13:16:03.850Z"
   },
   {
    "duration": 2168,
    "start_time": "2025-01-24T13:16:04.074Z"
   },
   {
    "duration": 1512,
    "start_time": "2025-01-24T13:16:06.243Z"
   },
   {
    "duration": 18,
    "start_time": "2025-01-24T13:16:07.756Z"
   },
   {
    "duration": 21,
    "start_time": "2025-01-24T13:16:07.776Z"
   },
   {
    "duration": 20,
    "start_time": "2025-01-24T13:16:07.799Z"
   },
   {
    "duration": 35,
    "start_time": "2025-01-24T13:16:07.821Z"
   },
   {
    "duration": 25,
    "start_time": "2025-01-24T13:16:07.858Z"
   },
   {
    "duration": 1300,
    "start_time": "2025-01-24T13:16:07.885Z"
   },
   {
    "duration": 5,
    "start_time": "2025-01-24T13:16:09.187Z"
   },
   {
    "duration": 9,
    "start_time": "2025-01-24T13:16:09.193Z"
   },
   {
    "duration": 36,
    "start_time": "2025-01-24T13:16:09.204Z"
   },
   {
    "duration": 46,
    "start_time": "2025-01-24T13:16:09.241Z"
   },
   {
    "duration": 145,
    "start_time": "2025-01-24T13:16:09.290Z"
   },
   {
    "duration": 9,
    "start_time": "2025-01-24T13:16:09.437Z"
   },
   {
    "duration": 20,
    "start_time": "2025-01-24T13:16:09.447Z"
   },
   {
    "duration": 14,
    "start_time": "2025-01-24T13:16:09.469Z"
   },
   {
    "duration": 34,
    "start_time": "2025-01-24T13:16:09.485Z"
   },
   {
    "duration": 17,
    "start_time": "2025-01-24T13:16:09.521Z"
   },
   {
    "duration": 12,
    "start_time": "2025-01-24T13:16:09.540Z"
   },
   {
    "duration": 33,
    "start_time": "2025-01-24T13:16:09.553Z"
   },
   {
    "duration": 17,
    "start_time": "2025-01-24T13:16:09.587Z"
   },
   {
    "duration": 16,
    "start_time": "2025-01-24T13:16:09.605Z"
   },
   {
    "duration": 12,
    "start_time": "2025-01-24T13:16:09.623Z"
   },
   {
    "duration": 7,
    "start_time": "2025-01-24T13:16:09.637Z"
   },
   {
    "duration": 59,
    "start_time": "2025-01-24T13:16:09.646Z"
   },
   {
    "duration": 15,
    "start_time": "2025-01-24T13:16:09.707Z"
   },
   {
    "duration": 32,
    "start_time": "2025-01-24T13:16:09.724Z"
   },
   {
    "duration": 24,
    "start_time": "2025-01-24T13:16:09.757Z"
   },
   {
    "duration": 31,
    "start_time": "2025-01-24T13:16:09.783Z"
   },
   {
    "duration": 30,
    "start_time": "2025-01-24T13:16:09.816Z"
   },
   {
    "duration": 12,
    "start_time": "2025-01-24T13:16:09.848Z"
   },
   {
    "duration": 15,
    "start_time": "2025-01-24T13:16:09.861Z"
   },
   {
    "duration": 21,
    "start_time": "2025-01-24T13:16:09.878Z"
   },
   {
    "duration": 8,
    "start_time": "2025-01-24T13:16:09.902Z"
   },
   {
    "duration": 9,
    "start_time": "2025-01-24T13:16:09.912Z"
   },
   {
    "duration": 209,
    "start_time": "2025-01-24T13:16:09.923Z"
   },
   {
    "duration": 325,
    "start_time": "2025-01-24T13:16:10.134Z"
   },
   {
    "duration": 217,
    "start_time": "2025-01-24T13:16:10.461Z"
   },
   {
    "duration": 192,
    "start_time": "2025-01-24T13:16:10.680Z"
   },
   {
    "duration": 198,
    "start_time": "2025-01-24T13:16:10.874Z"
   },
   {
    "duration": 229,
    "start_time": "2025-01-24T13:16:11.074Z"
   },
   {
    "duration": 240,
    "start_time": "2025-01-24T13:16:11.305Z"
   },
   {
    "duration": 250,
    "start_time": "2025-01-24T13:16:11.547Z"
   },
   {
    "duration": 8,
    "start_time": "2025-01-24T13:16:11.799Z"
   },
   {
    "duration": 463,
    "start_time": "2025-01-24T13:16:11.809Z"
   },
   {
    "duration": 18,
    "start_time": "2025-01-24T13:16:12.274Z"
   },
   {
    "duration": 10,
    "start_time": "2025-01-24T13:16:12.298Z"
   },
   {
    "duration": 20,
    "start_time": "2025-01-24T13:16:12.310Z"
   },
   {
    "duration": 5,
    "start_time": "2025-01-24T13:16:12.331Z"
   },
   {
    "duration": 5,
    "start_time": "2025-01-24T13:16:12.337Z"
   },
   {
    "duration": 5,
    "start_time": "2025-01-24T13:16:12.344Z"
   },
   {
    "duration": 37,
    "start_time": "2025-01-24T13:16:12.351Z"
   },
   {
    "duration": 3,
    "start_time": "2025-01-24T13:16:12.390Z"
   },
   {
    "duration": 10524,
    "start_time": "2025-01-24T13:16:12.395Z"
   },
   {
    "duration": 22,
    "start_time": "2025-01-24T13:16:22.921Z"
   },
   {
    "duration": 17,
    "start_time": "2025-01-24T13:16:22.945Z"
   },
   {
    "duration": 29,
    "start_time": "2025-01-24T13:16:22.964Z"
   },
   {
    "duration": 25,
    "start_time": "2025-01-24T13:16:22.995Z"
   },
   {
    "duration": 12,
    "start_time": "2025-01-24T13:16:23.022Z"
   },
   {
    "duration": 13,
    "start_time": "2025-01-24T13:16:23.036Z"
   },
   {
    "duration": 261,
    "start_time": "2025-01-24T13:26:50.746Z"
   },
   {
    "duration": 209,
    "start_time": "2025-01-24T13:27:03.565Z"
   },
   {
    "duration": 227,
    "start_time": "2025-01-24T13:27:15.648Z"
   },
   {
    "duration": 328,
    "start_time": "2025-01-24T13:27:21.653Z"
   },
   {
    "duration": 122,
    "start_time": "2025-01-24T13:29:36.699Z"
   },
   {
    "duration": 2730,
    "start_time": "2025-01-24T13:29:57.842Z"
   },
   {
    "duration": 1694,
    "start_time": "2025-01-24T13:30:00.575Z"
   },
   {
    "duration": 73,
    "start_time": "2025-01-24T13:30:02.270Z"
   },
   {
    "duration": 17,
    "start_time": "2025-01-24T13:30:02.345Z"
   },
   {
    "duration": 64,
    "start_time": "2025-01-24T13:30:02.363Z"
   },
   {
    "duration": 55,
    "start_time": "2025-01-24T13:30:02.429Z"
   },
   {
    "duration": 27,
    "start_time": "2025-01-24T13:30:02.486Z"
   },
   {
    "duration": 56,
    "start_time": "2025-01-24T13:30:02.514Z"
   },
   {
    "duration": 16,
    "start_time": "2025-01-24T13:30:02.572Z"
   },
   {
    "duration": 53,
    "start_time": "2025-01-24T13:30:02.591Z"
   },
   {
    "duration": 64,
    "start_time": "2025-01-24T13:30:02.645Z"
   },
   {
    "duration": 9,
    "start_time": "2025-01-24T13:30:02.711Z"
   },
   {
    "duration": 68,
    "start_time": "2025-01-24T13:30:02.721Z"
   },
   {
    "duration": 46,
    "start_time": "2025-01-24T13:30:02.791Z"
   },
   {
    "duration": 57,
    "start_time": "2025-01-24T13:30:02.839Z"
   },
   {
    "duration": 25,
    "start_time": "2025-01-24T13:30:02.898Z"
   },
   {
    "duration": 64,
    "start_time": "2025-01-24T13:30:02.925Z"
   },
   {
    "duration": 46,
    "start_time": "2025-01-24T13:30:02.992Z"
   },
   {
    "duration": 49,
    "start_time": "2025-01-24T13:30:03.040Z"
   },
   {
    "duration": 38,
    "start_time": "2025-01-24T13:30:03.090Z"
   },
   {
    "duration": 65,
    "start_time": "2025-01-24T13:30:03.131Z"
   },
   {
    "duration": 39,
    "start_time": "2025-01-24T13:30:03.197Z"
   },
   {
    "duration": 93,
    "start_time": "2025-01-24T13:30:03.238Z"
   },
   {
    "duration": 58,
    "start_time": "2025-01-24T13:30:03.333Z"
   },
   {
    "duration": 460,
    "start_time": "2025-01-24T13:30:03.393Z"
   },
   {
    "duration": 175,
    "start_time": "2025-01-24T13:30:03.855Z"
   },
   {
    "duration": 183,
    "start_time": "2025-01-24T13:30:04.032Z"
   },
   {
    "duration": 254,
    "start_time": "2025-01-24T13:30:04.220Z"
   },
   {
    "duration": 11,
    "start_time": "2025-01-24T13:30:04.476Z"
   },
   {
    "duration": 168,
    "start_time": "2025-01-24T13:30:04.489Z"
   },
   {
    "duration": 6,
    "start_time": "2025-01-24T13:30:04.659Z"
   },
   {
    "duration": 298,
    "start_time": "2025-01-24T13:30:04.666Z"
   },
   {
    "duration": 189,
    "start_time": "2025-01-24T13:30:04.966Z"
   },
   {
    "duration": 246,
    "start_time": "2025-01-24T13:30:05.157Z"
   },
   {
    "duration": 246,
    "start_time": "2025-01-24T13:30:05.405Z"
   },
   {
    "duration": 2188,
    "start_time": "2025-01-24T13:30:05.653Z"
   },
   {
    "duration": 1477,
    "start_time": "2025-01-24T13:30:07.842Z"
   },
   {
    "duration": 18,
    "start_time": "2025-01-24T13:30:09.321Z"
   },
   {
    "duration": 18,
    "start_time": "2025-01-24T13:30:09.341Z"
   },
   {
    "duration": 62,
    "start_time": "2025-01-24T13:30:09.361Z"
   },
   {
    "duration": 80,
    "start_time": "2025-01-24T13:30:09.425Z"
   },
   {
    "duration": 7,
    "start_time": "2025-01-24T13:30:09.507Z"
   },
   {
    "duration": 1294,
    "start_time": "2025-01-24T13:30:09.516Z"
   },
   {
    "duration": 5,
    "start_time": "2025-01-24T13:30:10.812Z"
   },
   {
    "duration": 7,
    "start_time": "2025-01-24T13:30:10.819Z"
   },
   {
    "duration": 15,
    "start_time": "2025-01-24T13:30:10.828Z"
   },
   {
    "duration": 61,
    "start_time": "2025-01-24T13:30:10.845Z"
   },
   {
    "duration": 59,
    "start_time": "2025-01-24T13:30:10.908Z"
   },
   {
    "duration": 8,
    "start_time": "2025-01-24T13:30:10.969Z"
   },
   {
    "duration": 7,
    "start_time": "2025-01-24T13:30:10.978Z"
   },
   {
    "duration": 26,
    "start_time": "2025-01-24T13:30:10.986Z"
   },
   {
    "duration": 42,
    "start_time": "2025-01-24T13:30:11.014Z"
   },
   {
    "duration": 18,
    "start_time": "2025-01-24T13:30:11.058Z"
   },
   {
    "duration": 23,
    "start_time": "2025-01-24T13:30:11.078Z"
   },
   {
    "duration": 18,
    "start_time": "2025-01-24T13:30:11.103Z"
   },
   {
    "duration": 24,
    "start_time": "2025-01-24T13:30:11.123Z"
   },
   {
    "duration": 19,
    "start_time": "2025-01-24T13:30:11.149Z"
   },
   {
    "duration": 23,
    "start_time": "2025-01-24T13:30:11.170Z"
   },
   {
    "duration": 7,
    "start_time": "2025-01-24T13:30:11.194Z"
   },
   {
    "duration": 7,
    "start_time": "2025-01-24T13:30:11.203Z"
   },
   {
    "duration": 15,
    "start_time": "2025-01-24T13:30:11.211Z"
   },
   {
    "duration": 15,
    "start_time": "2025-01-24T13:30:11.228Z"
   },
   {
    "duration": 10,
    "start_time": "2025-01-24T13:30:11.245Z"
   },
   {
    "duration": 7,
    "start_time": "2025-01-24T13:30:11.285Z"
   },
   {
    "duration": 37,
    "start_time": "2025-01-24T13:30:11.294Z"
   },
   {
    "duration": 27,
    "start_time": "2025-01-24T13:30:11.333Z"
   },
   {
    "duration": 13,
    "start_time": "2025-01-24T13:30:11.361Z"
   },
   {
    "duration": 17,
    "start_time": "2025-01-24T13:30:11.376Z"
   },
   {
    "duration": 110,
    "start_time": "2025-01-24T13:30:11.395Z"
   },
   {
    "duration": 10,
    "start_time": "2025-01-24T13:30:11.507Z"
   },
   {
    "duration": 229,
    "start_time": "2025-01-24T13:30:11.518Z"
   },
   {
    "duration": 145,
    "start_time": "2025-01-24T13:30:11.750Z"
   },
   {
    "duration": 0,
    "start_time": "2025-01-24T13:30:11.898Z"
   },
   {
    "duration": 0,
    "start_time": "2025-01-24T13:30:11.900Z"
   },
   {
    "duration": 0,
    "start_time": "2025-01-24T13:30:11.901Z"
   },
   {
    "duration": 0,
    "start_time": "2025-01-24T13:30:11.902Z"
   },
   {
    "duration": 0,
    "start_time": "2025-01-24T13:30:11.904Z"
   },
   {
    "duration": 0,
    "start_time": "2025-01-24T13:30:11.905Z"
   },
   {
    "duration": 0,
    "start_time": "2025-01-24T13:30:11.906Z"
   },
   {
    "duration": 0,
    "start_time": "2025-01-24T13:30:11.907Z"
   },
   {
    "duration": 0,
    "start_time": "2025-01-24T13:30:11.908Z"
   },
   {
    "duration": 0,
    "start_time": "2025-01-24T13:30:11.909Z"
   },
   {
    "duration": 0,
    "start_time": "2025-01-24T13:30:11.910Z"
   },
   {
    "duration": 0,
    "start_time": "2025-01-24T13:30:11.911Z"
   },
   {
    "duration": 0,
    "start_time": "2025-01-24T13:30:11.912Z"
   },
   {
    "duration": 0,
    "start_time": "2025-01-24T13:30:11.913Z"
   },
   {
    "duration": 0,
    "start_time": "2025-01-24T13:30:12.051Z"
   },
   {
    "duration": 0,
    "start_time": "2025-01-24T13:30:12.052Z"
   },
   {
    "duration": 0,
    "start_time": "2025-01-24T13:30:12.053Z"
   },
   {
    "duration": 0,
    "start_time": "2025-01-24T13:30:12.054Z"
   },
   {
    "duration": 0,
    "start_time": "2025-01-24T13:30:12.055Z"
   },
   {
    "duration": 0,
    "start_time": "2025-01-24T13:30:12.055Z"
   },
   {
    "duration": 0,
    "start_time": "2025-01-24T13:30:12.056Z"
   },
   {
    "duration": 0,
    "start_time": "2025-01-24T13:30:12.058Z"
   },
   {
    "duration": 0,
    "start_time": "2025-01-24T13:30:12.059Z"
   },
   {
    "duration": 0,
    "start_time": "2025-01-24T13:30:12.060Z"
   },
   {
    "duration": 0,
    "start_time": "2025-01-24T13:30:12.061Z"
   },
   {
    "duration": 17,
    "start_time": "2025-01-24T13:30:58.181Z"
   },
   {
    "duration": 13,
    "start_time": "2025-01-24T13:31:32.352Z"
   },
   {
    "duration": 5,
    "start_time": "2025-01-24T13:31:37.835Z"
   },
   {
    "duration": 12,
    "start_time": "2025-01-24T13:31:52.791Z"
   },
   {
    "duration": 16,
    "start_time": "2025-01-24T13:33:16.153Z"
   },
   {
    "duration": 15,
    "start_time": "2025-01-24T13:33:30.802Z"
   },
   {
    "duration": 14,
    "start_time": "2025-01-24T13:33:46.065Z"
   },
   {
    "duration": 14,
    "start_time": "2025-01-24T13:34:58.342Z"
   },
   {
    "duration": 12,
    "start_time": "2025-01-24T13:35:06.822Z"
   },
   {
    "duration": 13,
    "start_time": "2025-01-24T13:35:11.927Z"
   },
   {
    "duration": 19,
    "start_time": "2025-01-24T13:35:17.840Z"
   },
   {
    "duration": 15,
    "start_time": "2025-01-24T13:35:19.683Z"
   },
   {
    "duration": 16,
    "start_time": "2025-01-24T13:35:54.325Z"
   },
   {
    "duration": 16,
    "start_time": "2025-01-24T13:35:59.934Z"
   },
   {
    "duration": 12,
    "start_time": "2025-01-24T13:36:19.041Z"
   },
   {
    "duration": 21,
    "start_time": "2025-01-24T13:37:06.891Z"
   },
   {
    "duration": 22,
    "start_time": "2025-01-24T13:37:31.527Z"
   },
   {
    "duration": 15,
    "start_time": "2025-01-24T13:38:03.219Z"
   },
   {
    "duration": 9,
    "start_time": "2025-01-24T13:38:41.068Z"
   },
   {
    "duration": 8,
    "start_time": "2025-01-24T13:39:01.703Z"
   },
   {
    "duration": 13,
    "start_time": "2025-01-24T13:39:06.227Z"
   },
   {
    "duration": 19,
    "start_time": "2025-01-24T13:39:46.336Z"
   },
   {
    "duration": 6,
    "start_time": "2025-01-24T13:40:22.935Z"
   },
   {
    "duration": 12,
    "start_time": "2025-01-24T13:40:26.146Z"
   },
   {
    "duration": 9,
    "start_time": "2025-01-24T13:40:34.844Z"
   },
   {
    "duration": 15,
    "start_time": "2025-01-24T13:40:43.428Z"
   },
   {
    "duration": 92,
    "start_time": "2025-05-12T13:46:54.942Z"
   }
  ],
  "kernelspec": {
   "display_name": "Python 3 (ipykernel)",
   "language": "python",
   "name": "python3"
  },
  "language_info": {
   "codemirror_mode": {
    "name": "ipython",
    "version": 3
   },
   "file_extension": ".py",
   "mimetype": "text/x-python",
   "name": "python",
   "nbconvert_exporter": "python",
   "pygments_lexer": "ipython3",
   "version": "3.9.5"
  },
  "toc": {
   "base_numbering": 1,
   "nav_menu": {},
   "number_sections": true,
   "sideBar": true,
   "skip_h1_title": true,
   "title_cell": "Table of Contents",
   "title_sidebar": "Contents",
   "toc_cell": false,
   "toc_position": {
    "height": "calc(100% - 180px)",
    "left": "10px",
    "top": "150px",
    "width": "413.75px"
   },
   "toc_section_display": true,
   "toc_window_display": false
  }
 },
 "nbformat": 4,
 "nbformat_minor": 5
}
