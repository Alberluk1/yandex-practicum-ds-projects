{
 "cells": [
  {
   "cell_type": "markdown",
   "metadata": {},
   "source": [
    "# Проект: Выбор локации для скважины"
   ]
  },
  {
   "cell_type": "markdown",
   "metadata": {},
   "source": [
    "## Описание проекта\n",
    "Этот проект направлен на решение задачи выбора оптимальных локаций для бурения нефтяных или газовых скважин. На основе исторических данных о скважинах и окружающих их факторах (таких как географические, геологические и другие переменные) был проведён анализ, целью которого было выявление наиболее перспективных мест для размещения новых скважин.\n",
    "\n",
    "Для решения этой задачи использовались методы анализа данных, включая построение модели машинного обучения для прогнозирования потенциальной продуктивности скважины в зависимости от множества факторов.\n",
    "\n",
    "Проект включает следующие этапы:\n",
    "\n",
    "1) Сбор и подготовка данных: Загрузка и очистка данных, устранение пропусков и обработка аномальных значений.\n",
    "\n",
    "2) Анализ данных: Оценка зависимости между различными параметрами, создание визуализаций для выявления закономерностей.\n",
    "\n",
    "3) Моделирование: Применение методов машинного обучения (например, регрессии или кластеризации) для прогнозирования производительности скважин и выбора лучших локаций.\n",
    "\n",
    "4) Оценка качества модели: Оценка точности модели с использованием метрик качества и тестовых данных."
   ]
  },
  {
   "cell_type": "markdown",
   "metadata": {},
   "source": [
    "## Цель проекта\n",
    "Целью данного проекта является создание модели, которая поможет оптимизировать процессы бурения скважин, обеспечив максимальную производительность при минимальных затратах. Результаты могут быть использованы в качестве рекомендации для выбора локаций для новых скважин на основе анализа исторических данных."
   ]
  },
  {
   "cell_type": "markdown",
   "metadata": {},
   "source": [
    "## Практическая направленность\n",
    "Проект помогает в принятии более обоснованных решений при выборе локации для бурения, что может значительно снизить риски и затраты, а также повысить общую эффективность работы нефтегазовых компаний. Использование аналитических и машинных методов для выбора оптимальных мест для бурения является важным этапом в развитии нефтегазовой отрасли, позволяя минимизировать расходы и повысить доходность."
   ]
  },
  {
   "cell_type": "markdown",
   "metadata": {},
   "source": [
    "## Загрузка и подготовка данных"
   ]
  },
  {
   "cell_type": "code",
   "execution_count": 1,
   "metadata": {},
   "outputs": [
    {
     "name": "stdout",
     "output_type": "stream",
     "text": [
      "Requirement already satisfied: phik in /opt/conda/lib/python3.9/site-packages (0.12.4)\n",
      "Requirement already satisfied: numpy>=1.18.0 in /opt/conda/lib/python3.9/site-packages (from phik) (1.21.1)\n",
      "Requirement already satisfied: joblib>=0.14.1 in /opt/conda/lib/python3.9/site-packages (from phik) (1.1.0)\n",
      "Requirement already satisfied: pandas>=0.25.1 in /opt/conda/lib/python3.9/site-packages (from phik) (1.2.4)\n",
      "Requirement already satisfied: scipy>=1.5.2 in /opt/conda/lib/python3.9/site-packages (from phik) (1.9.1)\n",
      "Requirement already satisfied: matplotlib>=2.2.3 in /opt/conda/lib/python3.9/site-packages (from phik) (3.3.4)\n",
      "Requirement already satisfied: pillow>=6.2.0 in /opt/conda/lib/python3.9/site-packages (from matplotlib>=2.2.3->phik) (8.4.0)\n",
      "Requirement already satisfied: pyparsing!=2.0.4,!=2.1.2,!=2.1.6,>=2.0.3 in /opt/conda/lib/python3.9/site-packages (from matplotlib>=2.2.3->phik) (2.4.7)\n",
      "Requirement already satisfied: python-dateutil>=2.1 in /opt/conda/lib/python3.9/site-packages (from matplotlib>=2.2.3->phik) (2.8.1)\n",
      "Requirement already satisfied: kiwisolver>=1.0.1 in /opt/conda/lib/python3.9/site-packages (from matplotlib>=2.2.3->phik) (1.4.4)\n",
      "Requirement already satisfied: cycler>=0.10 in /opt/conda/lib/python3.9/site-packages (from matplotlib>=2.2.3->phik) (0.11.0)\n",
      "Requirement already satisfied: pytz>=2017.3 in /opt/conda/lib/python3.9/site-packages (from pandas>=0.25.1->phik) (2021.1)\n",
      "Requirement already satisfied: six>=1.5 in /opt/conda/lib/python3.9/site-packages (from python-dateutil>=2.1->matplotlib>=2.2.3->phik) (1.16.0)\n",
      "Note: you may need to restart the kernel to use updated packages.\n"
     ]
    }
   ],
   "source": [
    "pip install phik"
   ]
  },
  {
   "cell_type": "code",
   "execution_count": 2,
   "metadata": {},
   "outputs": [],
   "source": [
    "import pandas as pd\n",
    "from numpy.random import RandomState\n",
    "\n",
    "from phik import phik_matrix\n",
    "from phik.report import plot_correlation_matrix\n",
    "\n",
    "from sklearn.model_selection import train_test_split\n",
    "from sklearn.preprocessing import StandardScaler, MinMaxScaler\n",
    "from sklearn.model_selection import train_test_split, RandomizedSearchCV\n",
    "from sklearn.pipeline import Pipeline\n",
    "from sklearn.compose import ColumnTransformer\n",
    "from sklearn.metrics import mean_squared_error\n",
    "\n",
    "from sklearn.linear_model import LinearRegression\n",
    "from sklearn.tree import DecisionTreeRegressor"
   ]
  },
  {
   "cell_type": "code",
   "execution_count": 3,
   "metadata": {},
   "outputs": [],
   "source": [
    "data_1 = pd.read_csv('/datasets/geo_data_0.csv')\n",
    "data_2 = pd.read_csv('/datasets/geo_data_1.csv')\n",
    "data_3 = pd.read_csv('/datasets/geo_data_2.csv')"
   ]
  },
  {
   "cell_type": "code",
   "execution_count": 4,
   "metadata": {},
   "outputs": [
    {
     "data": {
      "text/html": [
       "<div>\n",
       "<style scoped>\n",
       "    .dataframe tbody tr th:only-of-type {\n",
       "        vertical-align: middle;\n",
       "    }\n",
       "\n",
       "    .dataframe tbody tr th {\n",
       "        vertical-align: top;\n",
       "    }\n",
       "\n",
       "    .dataframe thead th {\n",
       "        text-align: right;\n",
       "    }\n",
       "</style>\n",
       "<table border=\"1\" class=\"dataframe\">\n",
       "  <thead>\n",
       "    <tr style=\"text-align: right;\">\n",
       "      <th></th>\n",
       "      <th>id</th>\n",
       "      <th>f0</th>\n",
       "      <th>f1</th>\n",
       "      <th>f2</th>\n",
       "      <th>product</th>\n",
       "    </tr>\n",
       "  </thead>\n",
       "  <tbody>\n",
       "    <tr>\n",
       "      <th>0</th>\n",
       "      <td>txEyH</td>\n",
       "      <td>0.705745</td>\n",
       "      <td>-0.497823</td>\n",
       "      <td>1.221170</td>\n",
       "      <td>105.280062</td>\n",
       "    </tr>\n",
       "    <tr>\n",
       "      <th>1</th>\n",
       "      <td>2acmU</td>\n",
       "      <td>1.334711</td>\n",
       "      <td>-0.340164</td>\n",
       "      <td>4.365080</td>\n",
       "      <td>73.037750</td>\n",
       "    </tr>\n",
       "    <tr>\n",
       "      <th>2</th>\n",
       "      <td>409Wp</td>\n",
       "      <td>1.022732</td>\n",
       "      <td>0.151990</td>\n",
       "      <td>1.419926</td>\n",
       "      <td>85.265647</td>\n",
       "    </tr>\n",
       "    <tr>\n",
       "      <th>3</th>\n",
       "      <td>iJLyR</td>\n",
       "      <td>-0.032172</td>\n",
       "      <td>0.139033</td>\n",
       "      <td>2.978566</td>\n",
       "      <td>168.620776</td>\n",
       "    </tr>\n",
       "    <tr>\n",
       "      <th>4</th>\n",
       "      <td>Xdl7t</td>\n",
       "      <td>1.988431</td>\n",
       "      <td>0.155413</td>\n",
       "      <td>4.751769</td>\n",
       "      <td>154.036647</td>\n",
       "    </tr>\n",
       "  </tbody>\n",
       "</table>\n",
       "</div>"
      ],
      "text/plain": [
       "      id        f0        f1        f2     product\n",
       "0  txEyH  0.705745 -0.497823  1.221170  105.280062\n",
       "1  2acmU  1.334711 -0.340164  4.365080   73.037750\n",
       "2  409Wp  1.022732  0.151990  1.419926   85.265647\n",
       "3  iJLyR -0.032172  0.139033  2.978566  168.620776\n",
       "4  Xdl7t  1.988431  0.155413  4.751769  154.036647"
      ]
     },
     "execution_count": 4,
     "metadata": {},
     "output_type": "execute_result"
    }
   ],
   "source": [
    "data_1.head()"
   ]
  },
  {
   "cell_type": "code",
   "execution_count": 5,
   "metadata": {},
   "outputs": [
    {
     "name": "stdout",
     "output_type": "stream",
     "text": [
      "<class 'pandas.core.frame.DataFrame'>\n",
      "RangeIndex: 100000 entries, 0 to 99999\n",
      "Data columns (total 5 columns):\n",
      " #   Column   Non-Null Count   Dtype  \n",
      "---  ------   --------------   -----  \n",
      " 0   id       100000 non-null  object \n",
      " 1   f0       100000 non-null  float64\n",
      " 2   f1       100000 non-null  float64\n",
      " 3   f2       100000 non-null  float64\n",
      " 4   product  100000 non-null  float64\n",
      "dtypes: float64(4), object(1)\n",
      "memory usage: 3.8+ MB\n"
     ]
    }
   ],
   "source": [
    "data_1.info()"
   ]
  },
  {
   "cell_type": "code",
   "execution_count": 6,
   "metadata": {},
   "outputs": [
    {
     "data": {
      "text/plain": [
       "0"
      ]
     },
     "execution_count": 6,
     "metadata": {},
     "output_type": "execute_result"
    }
   ],
   "source": [
    "data_1.duplicated().sum()"
   ]
  },
  {
   "cell_type": "code",
   "execution_count": 7,
   "metadata": {},
   "outputs": [
    {
     "data": {
      "text/plain": [
       "10"
      ]
     },
     "execution_count": 7,
     "metadata": {},
     "output_type": "execute_result"
    }
   ],
   "source": [
    "data_1['id'].duplicated().sum()"
   ]
  },
  {
   "cell_type": "code",
   "execution_count": 8,
   "metadata": {},
   "outputs": [],
   "source": [
    "data_1 = data_1.drop_duplicates(subset=['id'])"
   ]
  },
  {
   "cell_type": "code",
   "execution_count": 9,
   "metadata": {},
   "outputs": [
    {
     "data": {
      "text/html": [
       "<div>\n",
       "<style scoped>\n",
       "    .dataframe tbody tr th:only-of-type {\n",
       "        vertical-align: middle;\n",
       "    }\n",
       "\n",
       "    .dataframe tbody tr th {\n",
       "        vertical-align: top;\n",
       "    }\n",
       "\n",
       "    .dataframe thead th {\n",
       "        text-align: right;\n",
       "    }\n",
       "</style>\n",
       "<table border=\"1\" class=\"dataframe\">\n",
       "  <thead>\n",
       "    <tr style=\"text-align: right;\">\n",
       "      <th></th>\n",
       "      <th>id</th>\n",
       "      <th>f0</th>\n",
       "      <th>f1</th>\n",
       "      <th>f2</th>\n",
       "      <th>product</th>\n",
       "    </tr>\n",
       "  </thead>\n",
       "  <tbody>\n",
       "    <tr>\n",
       "      <th>0</th>\n",
       "      <td>kBEdx</td>\n",
       "      <td>-15.001348</td>\n",
       "      <td>-8.276000</td>\n",
       "      <td>-0.005876</td>\n",
       "      <td>3.179103</td>\n",
       "    </tr>\n",
       "    <tr>\n",
       "      <th>1</th>\n",
       "      <td>62mP7</td>\n",
       "      <td>14.272088</td>\n",
       "      <td>-3.475083</td>\n",
       "      <td>0.999183</td>\n",
       "      <td>26.953261</td>\n",
       "    </tr>\n",
       "    <tr>\n",
       "      <th>2</th>\n",
       "      <td>vyE1P</td>\n",
       "      <td>6.263187</td>\n",
       "      <td>-5.948386</td>\n",
       "      <td>5.001160</td>\n",
       "      <td>134.766305</td>\n",
       "    </tr>\n",
       "    <tr>\n",
       "      <th>3</th>\n",
       "      <td>KcrkZ</td>\n",
       "      <td>-13.081196</td>\n",
       "      <td>-11.506057</td>\n",
       "      <td>4.999415</td>\n",
       "      <td>137.945408</td>\n",
       "    </tr>\n",
       "    <tr>\n",
       "      <th>4</th>\n",
       "      <td>AHL4O</td>\n",
       "      <td>12.702195</td>\n",
       "      <td>-8.147433</td>\n",
       "      <td>5.004363</td>\n",
       "      <td>134.766305</td>\n",
       "    </tr>\n",
       "  </tbody>\n",
       "</table>\n",
       "</div>"
      ],
      "text/plain": [
       "      id         f0         f1        f2     product\n",
       "0  kBEdx -15.001348  -8.276000 -0.005876    3.179103\n",
       "1  62mP7  14.272088  -3.475083  0.999183   26.953261\n",
       "2  vyE1P   6.263187  -5.948386  5.001160  134.766305\n",
       "3  KcrkZ -13.081196 -11.506057  4.999415  137.945408\n",
       "4  AHL4O  12.702195  -8.147433  5.004363  134.766305"
      ]
     },
     "execution_count": 9,
     "metadata": {},
     "output_type": "execute_result"
    }
   ],
   "source": [
    "data_2.head()"
   ]
  },
  {
   "cell_type": "code",
   "execution_count": 10,
   "metadata": {},
   "outputs": [
    {
     "name": "stdout",
     "output_type": "stream",
     "text": [
      "<class 'pandas.core.frame.DataFrame'>\n",
      "RangeIndex: 100000 entries, 0 to 99999\n",
      "Data columns (total 5 columns):\n",
      " #   Column   Non-Null Count   Dtype  \n",
      "---  ------   --------------   -----  \n",
      " 0   id       100000 non-null  object \n",
      " 1   f0       100000 non-null  float64\n",
      " 2   f1       100000 non-null  float64\n",
      " 3   f2       100000 non-null  float64\n",
      " 4   product  100000 non-null  float64\n",
      "dtypes: float64(4), object(1)\n",
      "memory usage: 3.8+ MB\n"
     ]
    }
   ],
   "source": [
    "data_2.info()"
   ]
  },
  {
   "cell_type": "code",
   "execution_count": 11,
   "metadata": {},
   "outputs": [
    {
     "data": {
      "text/plain": [
       "0"
      ]
     },
     "execution_count": 11,
     "metadata": {},
     "output_type": "execute_result"
    }
   ],
   "source": [
    "data_2.duplicated().sum()"
   ]
  },
  {
   "cell_type": "code",
   "execution_count": 12,
   "metadata": {},
   "outputs": [],
   "source": [
    "data_1 = data_1.drop_duplicates(subset=['id'])"
   ]
  },
  {
   "cell_type": "code",
   "execution_count": 13,
   "metadata": {},
   "outputs": [
    {
     "data": {
      "text/html": [
       "<div>\n",
       "<style scoped>\n",
       "    .dataframe tbody tr th:only-of-type {\n",
       "        vertical-align: middle;\n",
       "    }\n",
       "\n",
       "    .dataframe tbody tr th {\n",
       "        vertical-align: top;\n",
       "    }\n",
       "\n",
       "    .dataframe thead th {\n",
       "        text-align: right;\n",
       "    }\n",
       "</style>\n",
       "<table border=\"1\" class=\"dataframe\">\n",
       "  <thead>\n",
       "    <tr style=\"text-align: right;\">\n",
       "      <th></th>\n",
       "      <th>id</th>\n",
       "      <th>f0</th>\n",
       "      <th>f1</th>\n",
       "      <th>f2</th>\n",
       "      <th>product</th>\n",
       "    </tr>\n",
       "  </thead>\n",
       "  <tbody>\n",
       "    <tr>\n",
       "      <th>0</th>\n",
       "      <td>fwXo0</td>\n",
       "      <td>-1.146987</td>\n",
       "      <td>0.963328</td>\n",
       "      <td>-0.828965</td>\n",
       "      <td>27.758673</td>\n",
       "    </tr>\n",
       "    <tr>\n",
       "      <th>1</th>\n",
       "      <td>WJtFt</td>\n",
       "      <td>0.262778</td>\n",
       "      <td>0.269839</td>\n",
       "      <td>-2.530187</td>\n",
       "      <td>56.069697</td>\n",
       "    </tr>\n",
       "    <tr>\n",
       "      <th>2</th>\n",
       "      <td>ovLUW</td>\n",
       "      <td>0.194587</td>\n",
       "      <td>0.289035</td>\n",
       "      <td>-5.586433</td>\n",
       "      <td>62.871910</td>\n",
       "    </tr>\n",
       "    <tr>\n",
       "      <th>3</th>\n",
       "      <td>q6cA6</td>\n",
       "      <td>2.236060</td>\n",
       "      <td>-0.553760</td>\n",
       "      <td>0.930038</td>\n",
       "      <td>114.572842</td>\n",
       "    </tr>\n",
       "    <tr>\n",
       "      <th>4</th>\n",
       "      <td>WPMUX</td>\n",
       "      <td>-0.515993</td>\n",
       "      <td>1.716266</td>\n",
       "      <td>5.899011</td>\n",
       "      <td>149.600746</td>\n",
       "    </tr>\n",
       "  </tbody>\n",
       "</table>\n",
       "</div>"
      ],
      "text/plain": [
       "      id        f0        f1        f2     product\n",
       "0  fwXo0 -1.146987  0.963328 -0.828965   27.758673\n",
       "1  WJtFt  0.262778  0.269839 -2.530187   56.069697\n",
       "2  ovLUW  0.194587  0.289035 -5.586433   62.871910\n",
       "3  q6cA6  2.236060 -0.553760  0.930038  114.572842\n",
       "4  WPMUX -0.515993  1.716266  5.899011  149.600746"
      ]
     },
     "execution_count": 13,
     "metadata": {},
     "output_type": "execute_result"
    }
   ],
   "source": [
    "data_3.head()"
   ]
  },
  {
   "cell_type": "code",
   "execution_count": 14,
   "metadata": {},
   "outputs": [
    {
     "name": "stdout",
     "output_type": "stream",
     "text": [
      "<class 'pandas.core.frame.DataFrame'>\n",
      "RangeIndex: 100000 entries, 0 to 99999\n",
      "Data columns (total 5 columns):\n",
      " #   Column   Non-Null Count   Dtype  \n",
      "---  ------   --------------   -----  \n",
      " 0   id       100000 non-null  object \n",
      " 1   f0       100000 non-null  float64\n",
      " 2   f1       100000 non-null  float64\n",
      " 3   f2       100000 non-null  float64\n",
      " 4   product  100000 non-null  float64\n",
      "dtypes: float64(4), object(1)\n",
      "memory usage: 3.8+ MB\n"
     ]
    }
   ],
   "source": [
    "data_3.info()"
   ]
  },
  {
   "cell_type": "code",
   "execution_count": 15,
   "metadata": {},
   "outputs": [],
   "source": [
    "data_1 = data_1.drop_duplicates(subset=['id'])"
   ]
  },
  {
   "cell_type": "code",
   "execution_count": 16,
   "metadata": {},
   "outputs": [
    {
     "data": {
      "text/plain": [
       "0"
      ]
     },
     "execution_count": 16,
     "metadata": {},
     "output_type": "execute_result"
    }
   ],
   "source": [
    "data_3.duplicated().sum()"
   ]
  },
  {
   "cell_type": "code",
   "execution_count": 17,
   "metadata": {},
   "outputs": [],
   "source": [
    "data_1 = data_1.drop('id', axis = 1)\n",
    "data_2 = data_2.drop('id', axis = 1)\n",
    "data_3 = data_3.drop('id', axis = 1)"
   ]
  },
  {
   "cell_type": "code",
   "execution_count": 18,
   "metadata": {},
   "outputs": [
    {
     "name": "stdout",
     "output_type": "stream",
     "text": [
      "interval columns not set, guessing: ['f0', 'f1', 'f2', 'product']\n"
     ]
    },
    {
     "data": {
      "image/png": "[encoded data removed]",
      "text/plain": [
       "<Figure size 1440x1080 with 2 Axes>"
      ]
     },
     "metadata": {
      "needs_background": "light"
     },
     "output_type": "display_data"
    }
   ],
   "source": [
    "phik_overview = data_1.phik_matrix()\n",
    "\n",
    "plot_correlation_matrix(\n",
    "  phik_overview.values,\n",
    "    x_labels=phik_overview.columns,\n",
    "    y_labels=phik_overview.index,\n",
    "    vmin=0, vmax=1, color_map='Greens',\n",
    "    title=r'correlation $\\phi_K$',\n",
    "    fontsize_factor=1.5,\n",
    "    figsize=(20, 15)\n",
    ")  "
   ]
  },
  {
   "cell_type": "code",
   "execution_count": 19,
   "metadata": {},
   "outputs": [
    {
     "name": "stdout",
     "output_type": "stream",
     "text": [
      "interval columns not set, guessing: ['f0', 'f1', 'f2', 'product']\n"
     ]
    },
    {
     "data": {
      "image/png": "[encoded data removed]",
      "text/plain": [
       "<Figure size 1440x1080 with 2 Axes>"
      ]
     },
     "metadata": {
      "needs_background": "light"
     },
     "output_type": "display_data"
    }
   ],
   "source": [
    "phik_overview = data_2.phik_matrix()\n",
    "\n",
    "plot_correlation_matrix(\n",
    "  phik_overview.values,\n",
    "    x_labels=phik_overview.columns,\n",
    "    y_labels=phik_overview.index,\n",
    "    vmin=0, vmax=1, color_map='Greens',\n",
    "    title=r'correlation $\\phi_K$',\n",
    "    fontsize_factor=1.5,\n",
    "    figsize=(20, 15)\n",
    ")  "
   ]
  },
  {
   "cell_type": "code",
   "execution_count": 20,
   "metadata": {},
   "outputs": [
    {
     "name": "stdout",
     "output_type": "stream",
     "text": [
      "interval columns not set, guessing: ['f0', 'f1', 'f2', 'product']\n"
     ]
    },
    {
     "data": {
      "image/png": "[encoded data removed]",
      "text/plain": [
       "<Figure size 1440x1080 with 2 Axes>"
      ]
     },
     "metadata": {
      "needs_background": "light"
     },
     "output_type": "display_data"
    }
   ],
   "source": [
    "phik_overview = data_3.phik_matrix()\n",
    "\n",
    "plot_correlation_matrix(\n",
    "  phik_overview.values,\n",
    "    x_labels=phik_overview.columns,\n",
    "    y_labels=phik_overview.index,\n",
    "    vmin=0, vmax=1, color_map='Greens',\n",
    "    title=r'correlation $\\phi_K$',\n",
    "    fontsize_factor=1.5,\n",
    "    figsize=(20, 15)\n",
    ")  "
   ]
  },
  {
   "cell_type": "markdown",
   "metadata": {},
   "source": [
    "## Обучение и проверка модели"
   ]
  },
  {
   "cell_type": "code",
   "execution_count": 21,
   "metadata": {},
   "outputs": [
    {
     "data": {
      "text/html": [
       "<div>\n",
       "<style scoped>\n",
       "    .dataframe tbody tr th:only-of-type {\n",
       "        vertical-align: middle;\n",
       "    }\n",
       "\n",
       "    .dataframe tbody tr th {\n",
       "        vertical-align: top;\n",
       "    }\n",
       "\n",
       "    .dataframe thead th {\n",
       "        text-align: right;\n",
       "    }\n",
       "</style>\n",
       "<table border=\"1\" class=\"dataframe\">\n",
       "  <thead>\n",
       "    <tr style=\"text-align: right;\">\n",
       "      <th></th>\n",
       "      <th>f0</th>\n",
       "      <th>f1</th>\n",
       "      <th>f2</th>\n",
       "      <th>product</th>\n",
       "    </tr>\n",
       "  </thead>\n",
       "  <tbody>\n",
       "    <tr>\n",
       "      <th>0</th>\n",
       "      <td>0.705745</td>\n",
       "      <td>-0.497823</td>\n",
       "      <td>1.221170</td>\n",
       "      <td>105.280062</td>\n",
       "    </tr>\n",
       "    <tr>\n",
       "      <th>1</th>\n",
       "      <td>1.334711</td>\n",
       "      <td>-0.340164</td>\n",
       "      <td>4.365080</td>\n",
       "      <td>73.037750</td>\n",
       "    </tr>\n",
       "    <tr>\n",
       "      <th>2</th>\n",
       "      <td>1.022732</td>\n",
       "      <td>0.151990</td>\n",
       "      <td>1.419926</td>\n",
       "      <td>85.265647</td>\n",
       "    </tr>\n",
       "    <tr>\n",
       "      <th>3</th>\n",
       "      <td>-0.032172</td>\n",
       "      <td>0.139033</td>\n",
       "      <td>2.978566</td>\n",
       "      <td>168.620776</td>\n",
       "    </tr>\n",
       "    <tr>\n",
       "      <th>4</th>\n",
       "      <td>1.988431</td>\n",
       "      <td>0.155413</td>\n",
       "      <td>4.751769</td>\n",
       "      <td>154.036647</td>\n",
       "    </tr>\n",
       "    <tr>\n",
       "      <th>...</th>\n",
       "      <td>...</td>\n",
       "      <td>...</td>\n",
       "      <td>...</td>\n",
       "      <td>...</td>\n",
       "    </tr>\n",
       "    <tr>\n",
       "      <th>99995</th>\n",
       "      <td>0.971957</td>\n",
       "      <td>0.370953</td>\n",
       "      <td>6.075346</td>\n",
       "      <td>110.744026</td>\n",
       "    </tr>\n",
       "    <tr>\n",
       "      <th>99996</th>\n",
       "      <td>1.392429</td>\n",
       "      <td>-0.382606</td>\n",
       "      <td>1.273912</td>\n",
       "      <td>122.346843</td>\n",
       "    </tr>\n",
       "    <tr>\n",
       "      <th>99997</th>\n",
       "      <td>1.029585</td>\n",
       "      <td>0.018787</td>\n",
       "      <td>-1.348308</td>\n",
       "      <td>64.375443</td>\n",
       "    </tr>\n",
       "    <tr>\n",
       "      <th>99998</th>\n",
       "      <td>0.998163</td>\n",
       "      <td>-0.528582</td>\n",
       "      <td>1.583869</td>\n",
       "      <td>74.040764</td>\n",
       "    </tr>\n",
       "    <tr>\n",
       "      <th>99999</th>\n",
       "      <td>1.764754</td>\n",
       "      <td>-0.266417</td>\n",
       "      <td>5.722849</td>\n",
       "      <td>149.633246</td>\n",
       "    </tr>\n",
       "  </tbody>\n",
       "</table>\n",
       "<p>99990 rows × 4 columns</p>\n",
       "</div>"
      ],
      "text/plain": [
       "             f0        f1        f2     product\n",
       "0      0.705745 -0.497823  1.221170  105.280062\n",
       "1      1.334711 -0.340164  4.365080   73.037750\n",
       "2      1.022732  0.151990  1.419926   85.265647\n",
       "3     -0.032172  0.139033  2.978566  168.620776\n",
       "4      1.988431  0.155413  4.751769  154.036647\n",
       "...         ...       ...       ...         ...\n",
       "99995  0.971957  0.370953  6.075346  110.744026\n",
       "99996  1.392429 -0.382606  1.273912  122.346843\n",
       "99997  1.029585  0.018787 -1.348308   64.375443\n",
       "99998  0.998163 -0.528582  1.583869   74.040764\n",
       "99999  1.764754 -0.266417  5.722849  149.633246\n",
       "\n",
       "[99990 rows x 4 columns]"
      ]
     },
     "execution_count": 21,
     "metadata": {},
     "output_type": "execute_result"
    }
   ],
   "source": [
    "data_1"
   ]
  },
  {
   "cell_type": "code",
   "execution_count": 22,
   "metadata": {},
   "outputs": [],
   "source": [
    "dct = {'val': {}, 'predicts': {}, 'score': {}}\n",
    "RANDOM_STATE = 42 \n",
    "\n",
    "dats = [data_1, data_2, data_3]\n",
    "\n",
    "scaler = StandardScaler()\n",
    "model = LinearRegression()\n",
    "\n",
    "for j, i in enumerate(dats):\n",
    "    X_train, X_val, y_train, y_val = train_test_split(i.drop('product', axis = 1), i['product'], \\\n",
    "                                                      test_size = 0.25, random_state = RANDOM_STATE)\n",
    "    X_train_sc = scaler.fit_transform(X_train)\n",
    "    X_val_sc = scaler.transform(X_val)\n",
    "    model.fit(X_train_sc, y_train)\n",
    "    pred = model.predict(X_val_sc)\n",
    "    dct['val']['data_'+str(j+1)] = (y_val, model.predict(X_val_sc))\n",
    "    \n",
    "    dct['predicts']['data_'+str(j+1)] = pred\n",
    "    dct['score']['data_'+str(j+1)] = mean_squared_error(y_val, pred) ** 0.5"
   ]
  },
  {
   "cell_type": "code",
   "execution_count": 23,
   "metadata": {},
   "outputs": [
    {
     "data": {
      "text/plain": [
       "{'data_1': 37.68508926201444,\n",
       " 'data_2': 0.8902801001028846,\n",
       " 'data_3': 40.145872311342174}"
      ]
     },
     "execution_count": 23,
     "metadata": {},
     "output_type": "execute_result"
    }
   ],
   "source": [
    "dct['score']"
   ]
  },
  {
   "cell_type": "code",
   "execution_count": 24,
   "metadata": {
    "scrolled": true
   },
   "outputs": [
    {
     "name": "stdout",
     "output_type": "stream",
     "text": [
      "92.60984027552017\n",
      "68.7128780391376\n",
      "94.77102387765939\n"
     ]
    }
   ],
   "source": [
    "print(dct['val']['data_1'][1].mean())\n",
    "print(dct['val']['data_2'][1].mean())\n",
    "print(dct['val']['data_3'][1].mean())"
   ]
  },
  {
   "cell_type": "markdown",
   "metadata": {},
   "source": [
    "1) самая маленькая ошибка в первом регионе и самое большое количество запасов\n",
    "\n",
    "2) во втором регионе самое маленькое количество запасов и самая большая ошибка\n",
    "\n",
    "3) в третьем регионе среднее количество запасов и средняя ошибка\n"
   ]
  },
  {
   "cell_type": "markdown",
   "metadata": {},
   "source": [
    "## Подготовка к расчёту прибыли"
   ]
  },
  {
   "cell_type": "code",
   "execution_count": 25,
   "metadata": {},
   "outputs": [
    {
     "name": "stdout",
     "output_type": "stream",
     "text": [
      "111.11 тыс. баррелей\n"
     ]
    }
   ],
   "source": [
    "points = 500\n",
    "final_points = 200\n",
    "money = 10 * (10 ** 9)\n",
    "price_per_bar = 450000\n",
    "prob_of_loss = 0.025\n",
    "\n",
    "answer = (money/(price_per_bar))/(final_points)\n",
    "print(round(answer, 2), 'тыс. баррелей')"
   ]
  },
  {
   "cell_type": "markdown",
   "metadata": {},
   "source": [
    "получается что нам нужно чтобы каждая из 200 скважин добывала по 111 объёма сырья, но наши средние результаты по всем регионам оказались хуже"
   ]
  },
  {
   "cell_type": "markdown",
   "metadata": {},
   "source": [
    "## Расчёт прибыли и рисков "
   ]
  },
  {
   "cell_type": "code",
   "execution_count": 26,
   "metadata": {},
   "outputs": [],
   "source": [
    "def income(pred, true):\n",
    "    pred = pd.Series(pred).sort_values(ascending=False)[:final_points]\n",
    "    true = true.reset_index(drop = True)[pred.index]\n",
    "    sum_true = true.sum() \n",
    "    return round((sum_true * price_per_bar) - money,2)"
   ]
  },
  {
   "cell_type": "code",
   "execution_count": 27,
   "metadata": {},
   "outputs": [
    {
     "name": "stdout",
     "output_type": "stream",
     "text": [
      "3468529787.42\n",
      "2415086696.68\n",
      "2598571759.37\n"
     ]
    }
   ],
   "source": [
    "print(income(dct['val']['data_1'][1], dct['val']['data_1'][0]))\n",
    "print(income(dct['val']['data_2'][1], dct['val']['data_2'][0]))\n",
    "print(income(dct['val']['data_3'][1], dct['val']['data_3'][0]))"
   ]
  },
  {
   "cell_type": "code",
   "execution_count": 28,
   "metadata": {},
   "outputs": [],
   "source": [
    "RANDOM_STATE = RandomState(RANDOM_STATE) "
   ]
  },
  {
   "cell_type": "code",
   "execution_count": 29,
   "metadata": {},
   "outputs": [],
   "source": [
    "def risk(true, pred):\n",
    "    samples = []\n",
    "    for i in range(1000):\n",
    "        sample = pd.Series(pred).sample(n = 500, replace=True, random_state=RANDOM_STATE)\n",
    "        samples.append(income(sample, true))\n",
    "    samples = pd.Series(samples)\n",
    "    print(samples.mean())\n",
    "    print(samples.apply(lambda x: x < 0).sum() / len(samples) * 100, \"%\")\n",
    "    \n",
    "    lower = samples.quantile(0.025)\n",
    "    upper = samples.quantile(0.975)\n",
    "    return lower, upper"
   ]
  },
  {
   "cell_type": "code",
   "execution_count": 30,
   "metadata": {
    "scrolled": false
   },
   "outputs": [
    {
     "name": "stdout",
     "output_type": "stream",
     "text": [
      "403572063.95497996\n",
      "5.8999999999999995 %\n",
      "(-137690003.15350002, 902848310.7737501) \n",
      "\n",
      "452604335.4165\n",
      "0.7000000000000001 %\n",
      "(59605450.235750005, 860793726.05) \n",
      "\n",
      "378821164.86257\n",
      "8.5 %\n",
      "(-136367065.3115, 897945577.7809999) \n",
      "\n"
     ]
    }
   ],
   "source": [
    "print(risk(dct['val']['data_1'][0], dct['val']['data_1'][1]), '\\n')\n",
    "print(risk(dct['val']['data_2'][0], dct['val']['data_2'][1]), '\\n')\n",
    "print(risk(dct['val']['data_3'][0], dct['val']['data_3'][1]), '\\n')"
   ]
  },
  {
   "cell_type": "markdown",
   "metadata": {},
   "source": [
    "Вывод: \n",
    "\n",
    "Первый регион имеет: \n",
    "\n",
    "    1) средняя прибыль: 403572063.95\n",
    "    \n",
    "    2) риск: 5.9 %\n",
    "    \n",
    "    3) доверительный интервал: (-137690003.15, 902848310.77) \n",
    "    \n",
    "Второй регион имеет: \n",
    "\n",
    "    1) средняя прибыль: 452604335.41\n",
    "    \n",
    "    2) риск: 0.7 %\n",
    "    \n",
    "    3) доверительный интервал: (59605450.24, 860793726.05) \n",
    "   \n",
    "Третий регион имеет: \n",
    "\n",
    "    1) средняя прибыль: 378821164.86\n",
    "    \n",
    "    2) риск: 8.5 %\n",
    "    \n",
    "    3) доверительный интервал: (-136367065.31, 897945577.78) \n",
    "    \n",
    "\n",
    "по условию риск должен быть < 2.5%, следовательно стоит выбрать второй регион "
   ]
  }
 ],
 "metadata": {
  "ExecuteTimeLog": [
   {
    "duration": 429,
    "start_time": "2025-02-05T16:46:14.218Z"
   },
   {
    "duration": 667,
    "start_time": "2025-02-05T16:46:14.649Z"
   },
   {
    "duration": 20,
    "start_time": "2025-02-05T16:46:20.544Z"
   },
   {
    "duration": 9,
    "start_time": "2025-02-05T16:46:24.571Z"
   },
   {
    "duration": 17,
    "start_time": "2025-02-05T16:46:42.544Z"
   },
   {
    "duration": 70,
    "start_time": "2025-02-05T16:48:04.834Z"
   },
   {
    "duration": 61,
    "start_time": "2025-02-05T16:48:08.309Z"
   },
   {
    "duration": 13,
    "start_time": "2025-02-05T16:48:28.701Z"
   },
   {
    "duration": 10,
    "start_time": "2025-02-05T16:48:31.914Z"
   },
   {
    "duration": 16,
    "start_time": "2025-02-05T16:48:41.535Z"
   },
   {
    "duration": 52,
    "start_time": "2025-02-05T16:48:51.643Z"
   },
   {
    "duration": 10,
    "start_time": "2025-02-05T16:48:56.672Z"
   },
   {
    "duration": 16,
    "start_time": "2025-02-05T16:49:01.933Z"
   },
   {
    "duration": 54,
    "start_time": "2025-02-05T16:49:08.221Z"
   },
   {
    "duration": 3731,
    "start_time": "2025-02-05T16:55:07.852Z"
   },
   {
    "duration": 1028,
    "start_time": "2025-02-05T16:55:16.005Z"
   },
   {
    "duration": 48,
    "start_time": "2025-02-05T16:56:19.038Z"
   },
   {
    "duration": 994,
    "start_time": "2025-02-05T16:56:24.767Z"
   },
   {
    "duration": 768,
    "start_time": "2025-02-05T16:56:32.482Z"
   },
   {
    "duration": 788,
    "start_time": "2025-02-05T16:56:40.604Z"
   },
   {
    "duration": 9468,
    "start_time": "2025-02-05T16:57:13.212Z"
   },
   {
    "duration": 3,
    "start_time": "2025-02-05T16:57:53.896Z"
   },
   {
    "duration": 450,
    "start_time": "2025-02-05T16:57:54.091Z"
   },
   {
    "duration": 12,
    "start_time": "2025-02-05T16:57:54.543Z"
   },
   {
    "duration": 25,
    "start_time": "2025-02-05T16:57:54.557Z"
   },
   {
    "duration": 60,
    "start_time": "2025-02-05T16:57:54.587Z"
   },
   {
    "duration": 11,
    "start_time": "2025-02-05T16:57:54.730Z"
   },
   {
    "duration": 17,
    "start_time": "2025-02-05T16:57:54.894Z"
   },
   {
    "duration": 48,
    "start_time": "2025-02-05T16:57:55.056Z"
   },
   {
    "duration": 11,
    "start_time": "2025-02-05T16:57:55.228Z"
   },
   {
    "duration": 17,
    "start_time": "2025-02-05T16:57:55.396Z"
   },
   {
    "duration": 51,
    "start_time": "2025-02-05T16:57:55.582Z"
   },
   {
    "duration": 26,
    "start_time": "2025-02-05T16:57:55.773Z"
   },
   {
    "duration": 8,
    "start_time": "2025-02-05T16:58:15.408Z"
   },
   {
    "duration": 801,
    "start_time": "2025-02-05T16:58:16.068Z"
   },
   {
    "duration": 794,
    "start_time": "2025-02-05T16:58:19.096Z"
   },
   {
    "duration": 813,
    "start_time": "2025-02-05T16:58:19.893Z"
   },
   {
    "duration": 37,
    "start_time": "2025-02-05T17:04:31.396Z"
   },
   {
    "duration": 4,
    "start_time": "2025-02-05T17:04:40.325Z"
   },
   {
    "duration": 5,
    "start_time": "2025-02-05T17:04:42.468Z"
   },
   {
    "duration": 9,
    "start_time": "2025-02-05T17:04:49.965Z"
   },
   {
    "duration": 2646,
    "start_time": "2025-02-05T17:04:56.852Z"
   },
   {
    "duration": 1377,
    "start_time": "2025-02-05T17:04:59.501Z"
   },
   {
    "duration": 454,
    "start_time": "2025-02-05T17:05:00.880Z"
   },
   {
    "duration": 14,
    "start_time": "2025-02-05T17:05:01.336Z"
   },
   {
    "duration": 23,
    "start_time": "2025-02-05T17:05:01.352Z"
   },
   {
    "duration": 71,
    "start_time": "2025-02-05T17:05:01.377Z"
   },
   {
    "duration": 11,
    "start_time": "2025-02-05T17:05:01.449Z"
   },
   {
    "duration": 64,
    "start_time": "2025-02-05T17:05:01.462Z"
   },
   {
    "duration": 60,
    "start_time": "2025-02-05T17:05:01.528Z"
   },
   {
    "duration": 10,
    "start_time": "2025-02-05T17:05:01.590Z"
   },
   {
    "duration": 25,
    "start_time": "2025-02-05T17:05:01.602Z"
   },
   {
    "duration": 125,
    "start_time": "2025-02-05T17:05:01.629Z"
   },
   {
    "duration": 36,
    "start_time": "2025-02-05T17:05:01.756Z"
   },
   {
    "duration": 934,
    "start_time": "2025-02-05T17:05:01.795Z"
   },
   {
    "duration": 796,
    "start_time": "2025-02-05T17:05:02.731Z"
   },
   {
    "duration": 334,
    "start_time": "2025-02-05T17:05:03.529Z"
   },
   {
    "duration": 0,
    "start_time": "2025-02-05T17:05:03.866Z"
   },
   {
    "duration": 0,
    "start_time": "2025-02-05T17:05:03.867Z"
   },
   {
    "duration": 5,
    "start_time": "2025-02-05T17:05:57.673Z"
   },
   {
    "duration": 12,
    "start_time": "2025-02-05T17:05:58.726Z"
   },
   {
    "duration": 821,
    "start_time": "2025-02-05T17:06:01.619Z"
   },
   {
    "duration": 2616,
    "start_time": "2025-02-05T17:13:20.949Z"
   },
   {
    "duration": 1355,
    "start_time": "2025-02-05T17:13:23.568Z"
   },
   {
    "duration": 450,
    "start_time": "2025-02-05T17:13:24.925Z"
   },
   {
    "duration": 23,
    "start_time": "2025-02-05T17:13:25.377Z"
   },
   {
    "duration": 16,
    "start_time": "2025-02-05T17:13:25.403Z"
   },
   {
    "duration": 52,
    "start_time": "2025-02-05T17:13:25.420Z"
   },
   {
    "duration": 31,
    "start_time": "2025-02-05T17:13:25.474Z"
   },
   {
    "duration": 21,
    "start_time": "2025-02-05T17:13:25.507Z"
   },
   {
    "duration": 51,
    "start_time": "2025-02-05T17:13:25.529Z"
   },
   {
    "duration": 10,
    "start_time": "2025-02-05T17:13:25.599Z"
   },
   {
    "duration": 17,
    "start_time": "2025-02-05T17:13:25.611Z"
   },
   {
    "duration": 72,
    "start_time": "2025-02-05T17:13:25.630Z"
   },
   {
    "duration": 15,
    "start_time": "2025-02-05T17:13:25.704Z"
   },
   {
    "duration": 912,
    "start_time": "2025-02-05T17:13:25.722Z"
   },
   {
    "duration": 788,
    "start_time": "2025-02-05T17:13:26.635Z"
   },
   {
    "duration": 4,
    "start_time": "2025-02-05T17:13:27.425Z"
   },
   {
    "duration": 789,
    "start_time": "2025-02-05T17:13:27.431Z"
   },
   {
    "duration": 214,
    "start_time": "2025-02-05T17:14:53.010Z"
   },
   {
    "duration": 499,
    "start_time": "2025-02-05T17:14:53.619Z"
   },
   {
    "duration": 12,
    "start_time": "2025-02-05T17:14:54.126Z"
   },
   {
    "duration": 20,
    "start_time": "2025-02-05T17:14:54.156Z"
   },
   {
    "duration": 56,
    "start_time": "2025-02-05T17:14:54.185Z"
   },
   {
    "duration": 11,
    "start_time": "2025-02-05T17:14:54.243Z"
   },
   {
    "duration": 33,
    "start_time": "2025-02-05T17:14:54.266Z"
   },
   {
    "duration": 50,
    "start_time": "2025-02-05T17:14:54.302Z"
   },
   {
    "duration": 12,
    "start_time": "2025-02-05T17:14:54.355Z"
   },
   {
    "duration": 17,
    "start_time": "2025-02-05T17:14:54.399Z"
   },
   {
    "duration": 57,
    "start_time": "2025-02-05T17:14:54.419Z"
   },
   {
    "duration": 27,
    "start_time": "2025-02-05T17:14:54.478Z"
   },
   {
    "duration": 809,
    "start_time": "2025-02-05T17:14:54.508Z"
   },
   {
    "duration": 913,
    "start_time": "2025-02-05T17:14:55.320Z"
   },
   {
    "duration": 4,
    "start_time": "2025-02-05T17:14:56.235Z"
   },
   {
    "duration": 790,
    "start_time": "2025-02-05T17:14:56.241Z"
   },
   {
    "duration": 115,
    "start_time": "2025-02-05T17:19:49.005Z"
   },
   {
    "duration": 13,
    "start_time": "2025-02-05T17:20:21.991Z"
   },
   {
    "duration": 51,
    "start_time": "2025-02-05T17:21:17.851Z"
   },
   {
    "duration": 30,
    "start_time": "2025-02-05T17:21:23.296Z"
   },
   {
    "duration": 19,
    "start_time": "2025-02-05T17:21:34.382Z"
   },
   {
    "duration": 14,
    "start_time": "2025-02-05T17:21:38.427Z"
   },
   {
    "duration": 9,
    "start_time": "2025-02-05T17:21:41.290Z"
   },
   {
    "duration": 12,
    "start_time": "2025-02-05T17:22:57.675Z"
   },
   {
    "duration": 46,
    "start_time": "2025-02-05T17:24:27.058Z"
   },
   {
    "duration": 443,
    "start_time": "2025-02-05T17:24:27.806Z"
   },
   {
    "duration": 12,
    "start_time": "2025-02-05T17:24:28.312Z"
   },
   {
    "duration": 16,
    "start_time": "2025-02-05T17:24:28.342Z"
   },
   {
    "duration": 51,
    "start_time": "2025-02-05T17:24:28.372Z"
   },
   {
    "duration": 9,
    "start_time": "2025-02-05T17:24:28.425Z"
   },
   {
    "duration": 16,
    "start_time": "2025-02-05T17:24:28.451Z"
   },
   {
    "duration": 45,
    "start_time": "2025-02-05T17:24:28.482Z"
   },
   {
    "duration": 10,
    "start_time": "2025-02-05T17:24:28.529Z"
   },
   {
    "duration": 15,
    "start_time": "2025-02-05T17:24:28.543Z"
   },
   {
    "duration": 56,
    "start_time": "2025-02-05T17:24:28.578Z"
   },
   {
    "duration": 9,
    "start_time": "2025-02-05T17:24:28.636Z"
   },
   {
    "duration": 778,
    "start_time": "2025-02-05T17:24:28.647Z"
   },
   {
    "duration": 791,
    "start_time": "2025-02-05T17:24:29.428Z"
   },
   {
    "duration": 4,
    "start_time": "2025-02-05T17:24:30.221Z"
   },
   {
    "duration": 854,
    "start_time": "2025-02-05T17:24:30.227Z"
   },
   {
    "duration": 19,
    "start_time": "2025-02-05T17:24:31.082Z"
   },
   {
    "duration": 13,
    "start_time": "2025-02-05T17:24:31.102Z"
   },
   {
    "duration": 15,
    "start_time": "2025-02-05T17:24:31.117Z"
   },
   {
    "duration": 4,
    "start_time": "2025-02-05T17:24:47.135Z"
   },
   {
    "duration": 12,
    "start_time": "2025-02-05T17:26:12.260Z"
   },
   {
    "duration": 13,
    "start_time": "2025-02-05T17:26:17.239Z"
   },
   {
    "duration": 20,
    "start_time": "2025-02-05T17:26:17.627Z"
   },
   {
    "duration": 13,
    "start_time": "2025-02-05T17:27:37.317Z"
   },
   {
    "duration": 12,
    "start_time": "2025-02-05T17:27:55.056Z"
   },
   {
    "duration": 13,
    "start_time": "2025-02-05T17:28:08.494Z"
   },
   {
    "duration": 11,
    "start_time": "2025-02-05T17:28:20.929Z"
   },
   {
    "duration": 4,
    "start_time": "2025-02-05T17:29:12.846Z"
   },
   {
    "duration": 432,
    "start_time": "2025-02-05T17:29:14.179Z"
   },
   {
    "duration": 10,
    "start_time": "2025-02-05T17:29:14.613Z"
   },
   {
    "duration": 47,
    "start_time": "2025-02-05T17:29:14.625Z"
   },
   {
    "duration": 49,
    "start_time": "2025-02-05T17:29:14.674Z"
   },
   {
    "duration": 10,
    "start_time": "2025-02-05T17:29:14.834Z"
   },
   {
    "duration": 16,
    "start_time": "2025-02-05T17:29:15.013Z"
   },
   {
    "duration": 50,
    "start_time": "2025-02-05T17:29:15.175Z"
   },
   {
    "duration": 10,
    "start_time": "2025-02-05T17:29:15.356Z"
   },
   {
    "duration": 16,
    "start_time": "2025-02-05T17:29:15.519Z"
   },
   {
    "duration": 47,
    "start_time": "2025-02-05T17:29:15.694Z"
   },
   {
    "duration": 9,
    "start_time": "2025-02-05T17:29:15.868Z"
   },
   {
    "duration": 776,
    "start_time": "2025-02-05T17:29:16.043Z"
   },
   {
    "duration": 778,
    "start_time": "2025-02-05T17:29:16.821Z"
   },
   {
    "duration": 4,
    "start_time": "2025-02-05T17:29:17.601Z"
   },
   {
    "duration": 783,
    "start_time": "2025-02-05T17:29:17.607Z"
   },
   {
    "duration": 17,
    "start_time": "2025-02-05T17:29:18.392Z"
   },
   {
    "duration": 13,
    "start_time": "2025-02-05T17:29:18.410Z"
   },
   {
    "duration": 18,
    "start_time": "2025-02-05T17:29:18.425Z"
   },
   {
    "duration": 7749,
    "start_time": "2025-02-05T17:29:28.379Z"
   },
   {
    "duration": 5,
    "start_time": "2025-02-05T17:30:20.510Z"
   },
   {
    "duration": 5,
    "start_time": "2025-02-05T17:31:39.595Z"
   },
   {
    "duration": 4,
    "start_time": "2025-02-05T17:32:46.432Z"
   },
   {
    "duration": 7730,
    "start_time": "2025-02-05T17:32:50.216Z"
   },
   {
    "duration": 6424,
    "start_time": "2025-02-05T17:33:35.988Z"
   },
   {
    "duration": 13,
    "start_time": "2025-02-05T17:33:58.133Z"
   },
   {
    "duration": 11,
    "start_time": "2025-02-05T17:34:01.822Z"
   },
   {
    "duration": 6766,
    "start_time": "2025-02-05T17:34:24.569Z"
   },
   {
    "duration": 245,
    "start_time": "2025-02-05T17:34:36.518Z"
   },
   {
    "duration": 7614,
    "start_time": "2025-02-05T17:34:41.408Z"
   },
   {
    "duration": 7527,
    "start_time": "2025-02-05T17:35:10.545Z"
   },
   {
    "duration": 7717,
    "start_time": "2025-02-05T17:35:59.161Z"
   },
   {
    "duration": 2756,
    "start_time": "2025-02-05T17:36:09.379Z"
   },
   {
    "duration": 1466,
    "start_time": "2025-02-05T17:36:12.137Z"
   },
   {
    "duration": 468,
    "start_time": "2025-02-05T17:36:13.604Z"
   },
   {
    "duration": 15,
    "start_time": "2025-02-05T17:36:14.074Z"
   },
   {
    "duration": 58,
    "start_time": "2025-02-05T17:36:14.092Z"
   },
   {
    "duration": 52,
    "start_time": "2025-02-05T17:36:14.152Z"
   },
   {
    "duration": 10,
    "start_time": "2025-02-05T17:36:14.205Z"
   },
   {
    "duration": 17,
    "start_time": "2025-02-05T17:36:14.217Z"
   },
   {
    "duration": 65,
    "start_time": "2025-02-05T17:36:14.235Z"
   },
   {
    "duration": 10,
    "start_time": "2025-02-05T17:36:14.302Z"
   },
   {
    "duration": 24,
    "start_time": "2025-02-05T17:36:14.313Z"
   },
   {
    "duration": 63,
    "start_time": "2025-02-05T17:36:14.338Z"
   },
   {
    "duration": 14,
    "start_time": "2025-02-05T17:36:14.403Z"
   },
   {
    "duration": 908,
    "start_time": "2025-02-05T17:36:14.419Z"
   },
   {
    "duration": 784,
    "start_time": "2025-02-05T17:36:15.329Z"
   },
   {
    "duration": 4,
    "start_time": "2025-02-05T17:36:16.115Z"
   },
   {
    "duration": 783,
    "start_time": "2025-02-05T17:36:16.120Z"
   },
   {
    "duration": 11,
    "start_time": "2025-02-05T17:36:16.905Z"
   },
   {
    "duration": 12,
    "start_time": "2025-02-05T17:36:16.918Z"
   },
   {
    "duration": 7729,
    "start_time": "2025-02-05T17:36:16.932Z"
   },
   {
    "duration": 111,
    "start_time": "2025-02-05T17:36:36.352Z"
   },
   {
    "duration": 11,
    "start_time": "2025-02-05T17:36:39.722Z"
   },
   {
    "duration": 5,
    "start_time": "2025-02-05T17:36:46.983Z"
   },
   {
    "duration": 7650,
    "start_time": "2025-02-05T17:37:01.655Z"
   },
   {
    "duration": 4,
    "start_time": "2025-02-05T17:37:09.307Z"
   },
   {
    "duration": 2571,
    "start_time": "2025-02-05T17:37:20.590Z"
   },
   {
    "duration": 1507,
    "start_time": "2025-02-05T17:37:23.163Z"
   },
   {
    "duration": 442,
    "start_time": "2025-02-05T17:37:24.671Z"
   },
   {
    "duration": 15,
    "start_time": "2025-02-05T17:37:25.115Z"
   },
   {
    "duration": 17,
    "start_time": "2025-02-05T17:37:25.132Z"
   },
   {
    "duration": 72,
    "start_time": "2025-02-05T17:37:25.150Z"
   },
   {
    "duration": 9,
    "start_time": "2025-02-05T17:37:25.223Z"
   },
   {
    "duration": 23,
    "start_time": "2025-02-05T17:37:25.234Z"
   },
   {
    "duration": 61,
    "start_time": "2025-02-05T17:37:25.258Z"
   },
   {
    "duration": 10,
    "start_time": "2025-02-05T17:37:25.321Z"
   },
   {
    "duration": 38,
    "start_time": "2025-02-05T17:37:25.333Z"
   },
   {
    "duration": 51,
    "start_time": "2025-02-05T17:37:25.373Z"
   },
   {
    "duration": 13,
    "start_time": "2025-02-05T17:37:25.426Z"
   },
   {
    "duration": 882,
    "start_time": "2025-02-05T17:37:25.442Z"
   },
   {
    "duration": 780,
    "start_time": "2025-02-05T17:37:26.326Z"
   },
   {
    "duration": 4,
    "start_time": "2025-02-05T17:37:27.108Z"
   },
   {
    "duration": 791,
    "start_time": "2025-02-05T17:37:27.113Z"
   },
   {
    "duration": 12,
    "start_time": "2025-02-05T17:37:27.906Z"
   },
   {
    "duration": 12,
    "start_time": "2025-02-05T17:37:27.920Z"
   },
   {
    "duration": 7810,
    "start_time": "2025-02-05T17:37:27.933Z"
   },
   {
    "duration": 6326,
    "start_time": "2025-02-05T17:38:12.021Z"
   },
   {
    "duration": 7064,
    "start_time": "2025-02-05T17:39:57.317Z"
   },
   {
    "duration": 7817,
    "start_time": "2025-02-05T17:40:33.245Z"
   },
   {
    "duration": 7976,
    "start_time": "2025-02-05T17:43:01.935Z"
   },
   {
    "duration": 7642,
    "start_time": "2025-02-05T17:43:24.148Z"
   },
   {
    "duration": 8023,
    "start_time": "2025-02-05T17:43:43.582Z"
   },
   {
    "duration": 7976,
    "start_time": "2025-02-05T17:44:47.896Z"
   },
   {
    "duration": 7914,
    "start_time": "2025-02-05T17:45:55.873Z"
   },
   {
    "duration": 14,
    "start_time": "2025-02-05T17:46:45.511Z"
   },
   {
    "duration": 21,
    "start_time": "2025-02-05T17:47:07.165Z"
   },
   {
    "duration": 5,
    "start_time": "2025-02-05T17:50:35.443Z"
   },
   {
    "duration": 7784,
    "start_time": "2025-02-05T17:50:43.045Z"
   },
   {
    "duration": 229,
    "start_time": "2025-02-05T17:50:51.954Z"
   },
   {
    "duration": 30,
    "start_time": "2025-02-05T17:51:18.426Z"
   },
   {
    "duration": 29,
    "start_time": "2025-02-05T17:51:35.600Z"
   },
   {
    "duration": 49,
    "start_time": "2025-02-05T18:08:17.605Z"
   },
   {
    "duration": 11,
    "start_time": "2025-02-05T18:08:23.334Z"
   },
   {
    "duration": 13,
    "start_time": "2025-02-05T18:08:31.602Z"
   },
   {
    "duration": 53,
    "start_time": "2025-02-05T18:08:41.500Z"
   },
   {
    "duration": 11,
    "start_time": "2025-02-05T18:11:07.282Z"
   },
   {
    "duration": 5,
    "start_time": "2025-02-05T18:11:33.938Z"
   },
   {
    "duration": 75,
    "start_time": "2025-02-05T18:14:29.221Z"
   },
   {
    "duration": 36,
    "start_time": "2025-02-05T18:14:35.308Z"
   },
   {
    "duration": 43,
    "start_time": "2025-02-05T18:15:14.362Z"
   },
   {
    "duration": 326,
    "start_time": "2025-02-05T18:15:30.988Z"
   },
   {
    "duration": 6,
    "start_time": "2025-02-05T18:15:40.276Z"
   },
   {
    "duration": 4,
    "start_time": "2025-02-05T18:16:33.212Z"
   },
   {
    "duration": 11,
    "start_time": "2025-02-05T18:16:47.891Z"
   },
   {
    "duration": 6,
    "start_time": "2025-02-05T18:16:52.303Z"
   },
   {
    "duration": 4,
    "start_time": "2025-02-05T18:17:35.777Z"
   },
   {
    "duration": 11,
    "start_time": "2025-02-05T18:19:22.216Z"
   },
   {
    "duration": 5,
    "start_time": "2025-02-05T18:19:26.391Z"
   },
   {
    "duration": 414,
    "start_time": "2025-02-05T18:19:48.095Z"
   },
   {
    "duration": 100,
    "start_time": "2025-02-05T18:19:48.600Z"
   },
   {
    "duration": 4,
    "start_time": "2025-02-05T18:19:49.326Z"
   },
   {
    "duration": 4,
    "start_time": "2025-02-05T18:29:18.190Z"
   },
   {
    "duration": 4,
    "start_time": "2025-02-05T18:29:25.110Z"
   },
   {
    "duration": 184,
    "start_time": "2025-02-05T18:30:04.726Z"
   },
   {
    "duration": 5,
    "start_time": "2025-02-05T18:30:14.221Z"
   },
   {
    "duration": 4,
    "start_time": "2025-02-05T18:42:19.689Z"
   },
   {
    "duration": 5,
    "start_time": "2025-02-05T18:42:26.165Z"
   },
   {
    "duration": 36,
    "start_time": "2025-02-05T18:42:41.125Z"
   },
   {
    "duration": 38,
    "start_time": "2025-02-05T18:42:52.493Z"
   },
   {
    "duration": 360,
    "start_time": "2025-02-05T20:31:00.650Z"
   },
   {
    "duration": 6,
    "start_time": "2025-02-05T20:31:01.100Z"
   },
   {
    "duration": 6,
    "start_time": "2025-02-05T20:31:02.293Z"
   },
   {
    "duration": 10,
    "start_time": "2025-02-05T20:31:13.049Z"
   },
   {
    "duration": 11,
    "start_time": "2025-02-05T20:31:20.351Z"
   },
   {
    "duration": 10,
    "start_time": "2025-02-05T20:31:28.424Z"
   },
   {
    "duration": 9,
    "start_time": "2025-02-05T20:31:33.725Z"
   },
   {
    "duration": 12,
    "start_time": "2025-02-05T20:31:40.252Z"
   },
   {
    "duration": 5,
    "start_time": "2025-02-05T20:31:44.683Z"
   },
   {
    "duration": 4,
    "start_time": "2025-02-05T20:31:48.911Z"
   },
   {
    "duration": 5,
    "start_time": "2025-02-05T20:31:58.990Z"
   },
   {
    "duration": 5,
    "start_time": "2025-02-05T20:31:59.849Z"
   },
   {
    "duration": 4,
    "start_time": "2025-02-05T20:34:49.213Z"
   },
   {
    "duration": 12,
    "start_time": "2025-02-05T20:35:24.376Z"
   },
   {
    "duration": 420,
    "start_time": "2025-02-05T20:37:53.682Z"
   },
   {
    "duration": 6,
    "start_time": "2025-02-05T20:37:54.200Z"
   },
   {
    "duration": 5,
    "start_time": "2025-02-05T20:37:54.312Z"
   },
   {
    "duration": 5,
    "start_time": "2025-02-05T20:37:55.035Z"
   },
   {
    "duration": 3,
    "start_time": "2025-02-05T20:38:00.744Z"
   },
   {
    "duration": 11,
    "start_time": "2025-02-05T20:38:00.956Z"
   },
   {
    "duration": 18,
    "start_time": "2025-02-05T20:38:05.946Z"
   },
   {
    "duration": 350,
    "start_time": "2025-02-05T20:38:27.657Z"
   },
   {
    "duration": 5,
    "start_time": "2025-02-05T20:38:28.224Z"
   },
   {
    "duration": 4,
    "start_time": "2025-02-05T20:38:28.492Z"
   },
   {
    "duration": 8,
    "start_time": "2025-02-05T20:38:29.449Z"
   },
   {
    "duration": 5,
    "start_time": "2025-02-05T20:38:30.350Z"
   },
   {
    "duration": 10,
    "start_time": "2025-02-05T20:38:31.827Z"
   },
   {
    "duration": 4,
    "start_time": "2025-02-05T20:39:12.846Z"
   },
   {
    "duration": 7,
    "start_time": "2025-02-05T20:39:13.187Z"
   },
   {
    "duration": 19,
    "start_time": "2025-02-05T20:39:30.523Z"
   },
   {
    "duration": 4,
    "start_time": "2025-02-05T20:40:13.480Z"
   },
   {
    "duration": 17,
    "start_time": "2025-02-05T20:40:13.851Z"
   },
   {
    "duration": 4,
    "start_time": "2025-02-05T20:41:27.969Z"
   },
   {
    "duration": 19,
    "start_time": "2025-02-05T20:41:28.866Z"
   },
   {
    "duration": 3,
    "start_time": "2025-02-05T20:41:34.059Z"
   },
   {
    "duration": 15,
    "start_time": "2025-02-05T20:41:34.415Z"
   },
   {
    "duration": 402,
    "start_time": "2025-02-05T20:41:40.904Z"
   },
   {
    "duration": 91,
    "start_time": "2025-02-05T20:41:41.309Z"
   },
   {
    "duration": 4,
    "start_time": "2025-02-05T20:41:41.560Z"
   },
   {
    "duration": 4,
    "start_time": "2025-02-05T20:41:42.954Z"
   },
   {
    "duration": 3,
    "start_time": "2025-02-05T20:41:47.014Z"
   },
   {
    "duration": 18,
    "start_time": "2025-02-05T20:41:47.195Z"
   },
   {
    "duration": 3426,
    "start_time": "2025-02-06T11:33:36.787Z"
   },
   {
    "duration": 1551,
    "start_time": "2025-02-06T11:33:40.215Z"
   },
   {
    "duration": 423,
    "start_time": "2025-02-06T11:33:41.768Z"
   },
   {
    "duration": 14,
    "start_time": "2025-02-06T11:33:42.193Z"
   },
   {
    "duration": 52,
    "start_time": "2025-02-06T11:33:42.209Z"
   },
   {
    "duration": 46,
    "start_time": "2025-02-06T11:33:42.263Z"
   },
   {
    "duration": 10,
    "start_time": "2025-02-06T11:33:42.310Z"
   },
   {
    "duration": 19,
    "start_time": "2025-02-06T11:33:42.322Z"
   },
   {
    "duration": 58,
    "start_time": "2025-02-06T11:33:42.343Z"
   },
   {
    "duration": 9,
    "start_time": "2025-02-06T11:33:42.403Z"
   },
   {
    "duration": 16,
    "start_time": "2025-02-06T11:33:42.414Z"
   },
   {
    "duration": 43,
    "start_time": "2025-02-06T11:33:42.432Z"
   },
   {
    "duration": 13,
    "start_time": "2025-02-06T11:33:42.499Z"
   },
   {
    "duration": 893,
    "start_time": "2025-02-06T11:33:42.514Z"
   },
   {
    "duration": 708,
    "start_time": "2025-02-06T11:33:43.408Z"
   },
   {
    "duration": 4,
    "start_time": "2025-02-06T11:33:44.117Z"
   },
   {
    "duration": 689,
    "start_time": "2025-02-06T11:33:44.122Z"
   },
   {
    "duration": 11,
    "start_time": "2025-02-06T11:33:44.813Z"
   },
   {
    "duration": 24,
    "start_time": "2025-02-06T11:33:44.825Z"
   },
   {
    "duration": 7,
    "start_time": "2025-02-06T11:33:44.851Z"
   },
   {
    "duration": 450,
    "start_time": "2025-02-06T11:33:44.860Z"
   },
   {
    "duration": 91,
    "start_time": "2025-02-06T11:33:45.312Z"
   },
   {
    "duration": 127,
    "start_time": "2025-02-06T11:33:45.405Z"
   },
   {
    "duration": 38,
    "start_time": "2025-02-06T11:33:45.534Z"
   },
   {
    "duration": 63,
    "start_time": "2025-02-06T11:33:45.574Z"
   },
   {
    "duration": 58,
    "start_time": "2025-02-06T11:33:45.639Z"
   },
   {
    "duration": 0,
    "start_time": "2025-02-06T11:33:45.699Z"
   },
   {
    "duration": 3,
    "start_time": "2025-02-06T11:36:43.660Z"
   },
   {
    "duration": 229,
    "start_time": "2025-02-06T11:36:44.203Z"
   },
   {
    "duration": 55,
    "start_time": "2025-02-06T11:37:02.134Z"
   },
   {
    "duration": 55,
    "start_time": "2025-02-06T11:37:04.938Z"
   },
   {
    "duration": 113,
    "start_time": "2025-02-06T11:37:07.276Z"
   },
   {
    "duration": 60,
    "start_time": "2025-02-06T11:48:31.519Z"
   },
   {
    "duration": 78,
    "start_time": "2025-02-06T11:48:38.193Z"
   },
   {
    "duration": 16,
    "start_time": "2025-02-06T11:56:30.203Z"
   },
   {
    "duration": 3,
    "start_time": "2025-02-06T11:56:37.929Z"
   },
   {
    "duration": 14,
    "start_time": "2025-02-06T11:56:38.235Z"
   },
   {
    "duration": 4,
    "start_time": "2025-02-06T12:04:14.786Z"
   },
   {
    "duration": 4,
    "start_time": "2025-02-06T12:10:56.542Z"
   },
   {
    "duration": 10,
    "start_time": "2025-02-06T12:12:32.771Z"
   },
   {
    "duration": 5,
    "start_time": "2025-02-06T12:12:41.795Z"
   },
   {
    "duration": 19,
    "start_time": "2025-02-06T12:12:42.216Z"
   },
   {
    "duration": 4,
    "start_time": "2025-02-06T12:13:07.859Z"
   },
   {
    "duration": 27,
    "start_time": "2025-02-06T12:13:08.326Z"
   },
   {
    "duration": 27,
    "start_time": "2025-02-06T12:13:29.855Z"
   },
   {
    "duration": 4,
    "start_time": "2025-02-06T12:13:31.517Z"
   },
   {
    "duration": 29,
    "start_time": "2025-02-06T12:13:32.474Z"
   },
   {
    "duration": 3,
    "start_time": "2025-02-06T12:14:23.718Z"
   },
   {
    "duration": 356,
    "start_time": "2025-02-06T12:14:24.597Z"
   },
   {
    "duration": 4,
    "start_time": "2025-02-06T12:14:42.550Z"
   },
   {
    "duration": 1112,
    "start_time": "2025-02-06T12:14:42.984Z"
   },
   {
    "duration": 4,
    "start_time": "2025-02-06T12:15:05.115Z"
   },
   {
    "duration": 3299,
    "start_time": "2025-02-06T12:15:05.480Z"
   },
   {
    "duration": 1104,
    "start_time": "2025-02-06T12:15:21.647Z"
   },
   {
    "duration": 3390,
    "start_time": "2025-02-06T12:15:38.355Z"
   },
   {
    "duration": 3301,
    "start_time": "2025-02-06T12:16:01.813Z"
   },
   {
    "duration": 14,
    "start_time": "2025-02-06T12:16:54.391Z"
   },
   {
    "duration": 4,
    "start_time": "2025-02-06T12:16:54.908Z"
   },
   {
    "duration": 3340,
    "start_time": "2025-02-06T12:16:55.246Z"
   },
   {
    "duration": 4,
    "start_time": "2025-02-06T12:17:31.937Z"
   },
   {
    "duration": 3352,
    "start_time": "2025-02-06T12:17:33.120Z"
   },
   {
    "duration": 4,
    "start_time": "2025-02-06T12:21:35.079Z"
   },
   {
    "duration": 3298,
    "start_time": "2025-02-06T12:21:35.563Z"
   },
   {
    "duration": 4,
    "start_time": "2025-02-06T12:22:33.430Z"
   },
   {
    "duration": 6988,
    "start_time": "2025-02-06T12:22:34.414Z"
   },
   {
    "duration": 4,
    "start_time": "2025-02-06T12:23:07.543Z"
   },
   {
    "duration": 19,
    "start_time": "2025-02-06T12:23:08.931Z"
   },
   {
    "duration": 4,
    "start_time": "2025-02-06T12:23:12.215Z"
   },
   {
    "duration": 16,
    "start_time": "2025-02-06T12:23:12.692Z"
   },
   {
    "duration": 4,
    "start_time": "2025-02-06T12:23:16.045Z"
   },
   {
    "duration": 15,
    "start_time": "2025-02-06T12:23:16.496Z"
   },
   {
    "duration": 4,
    "start_time": "2025-02-06T12:23:33.957Z"
   },
   {
    "duration": 4280,
    "start_time": "2025-02-06T12:23:34.437Z"
   },
   {
    "duration": 2461,
    "start_time": "2025-02-06T12:24:16.715Z"
   },
   {
    "duration": 1377,
    "start_time": "2025-02-06T12:24:19.178Z"
   },
   {
    "duration": 384,
    "start_time": "2025-02-06T12:24:20.557Z"
   },
   {
    "duration": 14,
    "start_time": "2025-02-06T12:24:20.943Z"
   },
   {
    "duration": 29,
    "start_time": "2025-02-06T12:24:20.959Z"
   },
   {
    "duration": 45,
    "start_time": "2025-02-06T12:24:20.989Z"
   },
   {
    "duration": 9,
    "start_time": "2025-02-06T12:24:21.036Z"
   },
   {
    "duration": 17,
    "start_time": "2025-02-06T12:24:21.046Z"
   },
   {
    "duration": 64,
    "start_time": "2025-02-06T12:24:21.064Z"
   },
   {
    "duration": 10,
    "start_time": "2025-02-06T12:24:21.129Z"
   },
   {
    "duration": 25,
    "start_time": "2025-02-06T12:24:21.141Z"
   },
   {
    "duration": 56,
    "start_time": "2025-02-06T12:24:21.167Z"
   },
   {
    "duration": 11,
    "start_time": "2025-02-06T12:24:21.225Z"
   },
   {
    "duration": 827,
    "start_time": "2025-02-06T12:24:21.239Z"
   },
   {
    "duration": 742,
    "start_time": "2025-02-06T12:24:22.067Z"
   },
   {
    "duration": 4,
    "start_time": "2025-02-06T12:24:22.811Z"
   },
   {
    "duration": 679,
    "start_time": "2025-02-06T12:24:22.816Z"
   },
   {
    "duration": 12,
    "start_time": "2025-02-06T12:24:23.496Z"
   },
   {
    "duration": 16,
    "start_time": "2025-02-06T12:24:23.509Z"
   },
   {
    "duration": 4,
    "start_time": "2025-02-06T12:24:23.526Z"
   },
   {
    "duration": 569,
    "start_time": "2025-02-06T12:24:23.531Z"
   },
   {
    "duration": 5,
    "start_time": "2025-02-06T12:24:24.103Z"
   },
   {
    "duration": 11,
    "start_time": "2025-02-06T12:24:24.199Z"
   },
   {
    "duration": 13,
    "start_time": "2025-02-06T12:24:24.211Z"
   },
   {
    "duration": 5,
    "start_time": "2025-02-06T12:24:24.225Z"
   },
   {
    "duration": 27,
    "start_time": "2025-02-06T12:24:24.231Z"
   },
   {
    "duration": 4,
    "start_time": "2025-02-06T12:24:24.261Z"
   },
   {
    "duration": 3385,
    "start_time": "2025-02-06T12:24:24.267Z"
   },
   {
    "duration": 4,
    "start_time": "2025-02-06T12:27:49.906Z"
   },
   {
    "duration": 15,
    "start_time": "2025-02-06T12:27:50.265Z"
   },
   {
    "duration": 4,
    "start_time": "2025-02-06T12:27:51.006Z"
   },
   {
    "duration": 3311,
    "start_time": "2025-02-06T12:27:51.597Z"
   },
   {
    "duration": 4,
    "start_time": "2025-02-06T12:27:58.937Z"
   },
   {
    "duration": 15,
    "start_time": "2025-02-06T12:27:59.117Z"
   },
   {
    "duration": 4,
    "start_time": "2025-02-06T12:27:59.675Z"
   },
   {
    "duration": 6,
    "start_time": "2025-02-06T12:29:30.022Z"
   },
   {
    "duration": 4,
    "start_time": "2025-02-06T12:29:30.642Z"
   },
   {
    "duration": 3590,
    "start_time": "2025-02-06T12:29:31.319Z"
   },
   {
    "duration": 5,
    "start_time": "2025-02-06T12:29:39.000Z"
   },
   {
    "duration": 3369,
    "start_time": "2025-02-06T12:29:39.549Z"
   },
   {
    "duration": 4,
    "start_time": "2025-02-06T12:30:26.547Z"
   },
   {
    "duration": 3404,
    "start_time": "2025-02-06T12:30:27.129Z"
   },
   {
    "duration": 4,
    "start_time": "2025-02-06T12:31:32.219Z"
   },
   {
    "duration": 3465,
    "start_time": "2025-02-06T12:31:32.587Z"
   },
   {
    "duration": 4,
    "start_time": "2025-02-06T12:31:45.954Z"
   },
   {
    "duration": 6232,
    "start_time": "2025-02-06T12:31:46.650Z"
   },
   {
    "duration": 4,
    "start_time": "2025-02-06T12:31:57.914Z"
   },
   {
    "duration": 3540,
    "start_time": "2025-02-06T12:31:58.137Z"
   },
   {
    "duration": 4,
    "start_time": "2025-02-06T12:32:05.855Z"
   },
   {
    "duration": 3469,
    "start_time": "2025-02-06T12:32:06.119Z"
   },
   {
    "duration": 281,
    "start_time": "2025-02-06T12:33:48.836Z"
   },
   {
    "duration": 4,
    "start_time": "2025-02-06T12:33:49.355Z"
   },
   {
    "duration": 4,
    "start_time": "2025-02-06T12:33:50.375Z"
   },
   {
    "duration": 5,
    "start_time": "2025-02-06T12:33:53.906Z"
   },
   {
    "duration": 4,
    "start_time": "2025-02-06T12:33:55.127Z"
   },
   {
    "duration": 15,
    "start_time": "2025-02-06T12:34:05.220Z"
   },
   {
    "duration": 357,
    "start_time": "2025-02-06T12:34:26.447Z"
   },
   {
    "duration": 4,
    "start_time": "2025-02-06T12:34:27.056Z"
   },
   {
    "duration": 104,
    "start_time": "2025-02-06T12:34:27.904Z"
   },
   {
    "duration": 10,
    "start_time": "2025-02-06T12:34:42.914Z"
   },
   {
    "duration": 10,
    "start_time": "2025-02-06T12:34:55.854Z"
   },
   {
    "duration": 5,
    "start_time": "2025-02-06T12:35:04.815Z"
   },
   {
    "duration": 5,
    "start_time": "2025-02-06T12:35:08.542Z"
   },
   {
    "duration": 3,
    "start_time": "2025-02-06T12:35:10.417Z"
   },
   {
    "duration": 10,
    "start_time": "2025-02-06T12:35:18.972Z"
   },
   {
    "duration": 23,
    "start_time": "2025-02-06T12:35:25.683Z"
   },
   {
    "duration": 10,
    "start_time": "2025-02-06T12:37:02.148Z"
   },
   {
    "duration": 49,
    "start_time": "2025-02-06T12:37:10.160Z"
   },
   {
    "duration": 389,
    "start_time": "2025-02-06T12:38:15.713Z"
   },
   {
    "duration": 96,
    "start_time": "2025-02-06T12:38:16.104Z"
   },
   {
    "duration": 7,
    "start_time": "2025-02-06T12:38:16.202Z"
   },
   {
    "duration": 4,
    "start_time": "2025-02-06T12:38:16.789Z"
   },
   {
    "duration": 3,
    "start_time": "2025-02-06T12:38:19.802Z"
   },
   {
    "duration": 80,
    "start_time": "2025-02-06T12:38:36.826Z"
   },
   {
    "duration": 8,
    "start_time": "2025-02-06T12:40:21.793Z"
   },
   {
    "duration": 16,
    "start_time": "2025-02-06T12:40:22.920Z"
   },
   {
    "duration": 16,
    "start_time": "2025-02-06T12:40:28.041Z"
   },
   {
    "duration": 10,
    "start_time": "2025-02-06T12:40:44.575Z"
   },
   {
    "duration": 5,
    "start_time": "2025-02-06T12:41:01.143Z"
   },
   {
    "duration": 10,
    "start_time": "2025-02-06T12:41:05.525Z"
   },
   {
    "duration": 198,
    "start_time": "2025-02-06T12:41:34.155Z"
   },
   {
    "duration": 2348,
    "start_time": "2025-02-06T12:41:45.086Z"
   },
   {
    "duration": 10,
    "start_time": "2025-02-06T12:42:22.377Z"
   },
   {
    "duration": 44,
    "start_time": "2025-02-06T12:42:28.758Z"
   },
   {
    "duration": 9,
    "start_time": "2025-02-06T12:42:35.880Z"
   },
   {
    "duration": 341,
    "start_time": "2025-02-06T12:42:47.967Z"
   },
   {
    "duration": 4,
    "start_time": "2025-02-06T12:42:48.501Z"
   },
   {
    "duration": 5,
    "start_time": "2025-02-06T12:42:48.617Z"
   },
   {
    "duration": 4,
    "start_time": "2025-02-06T12:42:49.129Z"
   },
   {
    "duration": 3,
    "start_time": "2025-02-06T12:42:49.892Z"
   },
   {
    "duration": 1396,
    "start_time": "2025-02-06T12:42:50.062Z"
   },
   {
    "duration": 0,
    "start_time": "2025-02-06T12:42:51.459Z"
   },
   {
    "duration": 1426,
    "start_time": "2025-02-06T12:43:02.228Z"
   },
   {
    "duration": 0,
    "start_time": "2025-02-06T12:43:03.656Z"
   },
   {
    "duration": 0,
    "start_time": "2025-02-06T12:43:03.657Z"
   },
   {
    "duration": 14,
    "start_time": "2025-02-06T12:43:08.498Z"
   },
   {
    "duration": 4,
    "start_time": "2025-02-06T12:43:09.000Z"
   },
   {
    "duration": 3391,
    "start_time": "2025-02-06T12:43:09.610Z"
   },
   {
    "duration": 5,
    "start_time": "2025-02-06T12:44:53.638Z"
   },
   {
    "duration": 5,
    "start_time": "2025-02-06T12:44:56.654Z"
   },
   {
    "duration": 9,
    "start_time": "2025-02-06T12:45:33.712Z"
   },
   {
    "duration": 5,
    "start_time": "2025-02-06T12:45:50.392Z"
   },
   {
    "duration": 4,
    "start_time": "2025-02-06T12:46:12.702Z"
   },
   {
    "duration": 5,
    "start_time": "2025-02-06T12:46:15.644Z"
   },
   {
    "duration": 15,
    "start_time": "2025-02-06T12:46:16.265Z"
   },
   {
    "duration": 5,
    "start_time": "2025-02-06T12:46:16.714Z"
   },
   {
    "duration": 9,
    "start_time": "2025-02-06T12:46:41.110Z"
   },
   {
    "duration": 6,
    "start_time": "2025-02-06T12:46:46.039Z"
   },
   {
    "duration": 392,
    "start_time": "2025-02-06T13:42:11.008Z"
   },
   {
    "duration": 97,
    "start_time": "2025-02-06T13:42:11.406Z"
   },
   {
    "duration": 10,
    "start_time": "2025-02-06T13:42:11.732Z"
   },
   {
    "duration": 4,
    "start_time": "2025-02-06T13:42:31.888Z"
   },
   {
    "duration": 5,
    "start_time": "2025-02-06T13:42:36.991Z"
   },
   {
    "duration": 5,
    "start_time": "2025-02-06T13:42:37.965Z"
   },
   {
    "duration": 3,
    "start_time": "2025-02-06T13:42:39.980Z"
   },
   {
    "duration": 4,
    "start_time": "2025-02-06T13:42:40.500Z"
   },
   {
    "duration": 6,
    "start_time": "2025-02-06T13:42:43.830Z"
   },
   {
    "duration": 13,
    "start_time": "2025-02-06T13:42:44.607Z"
   },
   {
    "duration": 5,
    "start_time": "2025-02-06T13:42:53.220Z"
   },
   {
    "duration": 5,
    "start_time": "2025-02-06T13:42:59.576Z"
   },
   {
    "duration": 5,
    "start_time": "2025-02-06T13:43:08.558Z"
   },
   {
    "duration": 350,
    "start_time": "2025-02-06T13:44:22.653Z"
   },
   {
    "duration": 346,
    "start_time": "2025-02-06T13:44:35.471Z"
   },
   {
    "duration": 320,
    "start_time": "2025-02-06T13:45:51.091Z"
   },
   {
    "duration": 366,
    "start_time": "2025-02-06T13:45:57.638Z"
   },
   {
    "duration": 416,
    "start_time": "2025-02-06T13:46:02.688Z"
   },
   {
    "duration": 365,
    "start_time": "2025-02-06T13:46:10.242Z"
   },
   {
    "duration": 373,
    "start_time": "2025-02-06T13:46:16.832Z"
   },
   {
    "duration": 5,
    "start_time": "2025-02-06T13:46:17.208Z"
   },
   {
    "duration": 8,
    "start_time": "2025-02-06T13:46:17.302Z"
   },
   {
    "duration": 4,
    "start_time": "2025-02-06T13:46:18.065Z"
   },
   {
    "duration": 3,
    "start_time": "2025-02-06T13:46:18.983Z"
   },
   {
    "duration": 5,
    "start_time": "2025-02-06T13:46:19.133Z"
   },
   {
    "duration": 6,
    "start_time": "2025-02-06T13:46:19.281Z"
   },
   {
    "duration": 5,
    "start_time": "2025-02-06T13:46:19.688Z"
   },
   {
    "duration": 27,
    "start_time": "2025-02-06T13:46:20.543Z"
   },
   {
    "duration": 8,
    "start_time": "2025-02-06T13:46:45.233Z"
   },
   {
    "duration": 15,
    "start_time": "2025-02-06T13:47:05.923Z"
   },
   {
    "duration": 4,
    "start_time": "2025-02-06T13:47:08.267Z"
   },
   {
    "duration": 3515,
    "start_time": "2025-02-06T13:47:25.364Z"
   },
   {
    "duration": 4,
    "start_time": "2025-02-06T13:49:20.022Z"
   },
   {
    "duration": 5,
    "start_time": "2025-02-06T13:49:20.385Z"
   },
   {
    "duration": 5,
    "start_time": "2025-02-06T13:49:20.828Z"
   },
   {
    "duration": 16,
    "start_time": "2025-02-06T13:49:21.377Z"
   },
   {
    "duration": 4,
    "start_time": "2025-02-06T13:49:23.207Z"
   },
   {
    "duration": 3511,
    "start_time": "2025-02-06T13:49:24.144Z"
   },
   {
    "duration": 366,
    "start_time": "2025-02-06T13:54:55.346Z"
   },
   {
    "duration": 4,
    "start_time": "2025-02-06T13:54:55.901Z"
   },
   {
    "duration": 5,
    "start_time": "2025-02-06T13:54:56.709Z"
   },
   {
    "duration": 4,
    "start_time": "2025-02-06T13:54:58.294Z"
   },
   {
    "duration": 3,
    "start_time": "2025-02-06T13:54:59.441Z"
   },
   {
    "duration": 15,
    "start_time": "2025-02-06T13:54:59.573Z"
   },
   {
    "duration": 18,
    "start_time": "2025-02-06T13:54:59.695Z"
   },
   {
    "duration": 3377,
    "start_time": "2025-02-06T13:54:59.842Z"
   },
   {
    "duration": 2321,
    "start_time": "2025-02-06T13:57:37.385Z"
   },
   {
    "duration": 1352,
    "start_time": "2025-02-06T13:57:39.708Z"
   },
   {
    "duration": 386,
    "start_time": "2025-02-06T13:57:41.062Z"
   },
   {
    "duration": 15,
    "start_time": "2025-02-06T13:57:41.450Z"
   },
   {
    "duration": 15,
    "start_time": "2025-02-06T13:57:41.467Z"
   },
   {
    "duration": 57,
    "start_time": "2025-02-06T13:57:41.484Z"
   },
   {
    "duration": 10,
    "start_time": "2025-02-06T13:57:41.543Z"
   },
   {
    "duration": 122,
    "start_time": "2025-02-06T13:57:41.555Z"
   },
   {
    "duration": 101,
    "start_time": "2025-02-06T13:57:41.678Z"
   },
   {
    "duration": 8,
    "start_time": "2025-02-06T13:57:41.781Z"
   },
   {
    "duration": 15,
    "start_time": "2025-02-06T13:57:41.791Z"
   },
   {
    "duration": 69,
    "start_time": "2025-02-06T13:57:41.808Z"
   },
   {
    "duration": 12,
    "start_time": "2025-02-06T13:57:41.879Z"
   },
   {
    "duration": 815,
    "start_time": "2025-02-06T13:57:41.893Z"
   },
   {
    "duration": 735,
    "start_time": "2025-02-06T13:57:42.710Z"
   },
   {
    "duration": 4,
    "start_time": "2025-02-06T13:57:43.446Z"
   },
   {
    "duration": 724,
    "start_time": "2025-02-06T13:57:43.451Z"
   },
   {
    "duration": 10,
    "start_time": "2025-02-06T13:57:44.177Z"
   },
   {
    "duration": 11,
    "start_time": "2025-02-06T13:57:44.200Z"
   },
   {
    "duration": 491,
    "start_time": "2025-02-06T13:57:44.212Z"
   },
   {
    "duration": 95,
    "start_time": "2025-02-06T13:57:44.707Z"
   },
   {
    "duration": 96,
    "start_time": "2025-02-06T13:57:44.804Z"
   },
   {
    "duration": 5,
    "start_time": "2025-02-06T13:57:44.902Z"
   },
   {
    "duration": 5,
    "start_time": "2025-02-06T13:57:44.909Z"
   },
   {
    "duration": 15,
    "start_time": "2025-02-06T13:57:44.915Z"
   },
   {
    "duration": 4,
    "start_time": "2025-02-06T13:57:44.932Z"
   },
   {
    "duration": 3450,
    "start_time": "2025-02-06T13:57:44.937Z"
   },
   {
    "duration": 355,
    "start_time": "2025-02-06T14:00:37.951Z"
   },
   {
    "duration": 4,
    "start_time": "2025-02-06T14:00:38.629Z"
   },
   {
    "duration": 5,
    "start_time": "2025-02-06T14:00:39.095Z"
   },
   {
    "duration": 5,
    "start_time": "2025-02-06T14:00:41.750Z"
   },
   {
    "duration": 4,
    "start_time": "2025-02-06T14:00:43.032Z"
   },
   {
    "duration": 16,
    "start_time": "2025-02-06T14:00:43.220Z"
   },
   {
    "duration": 4,
    "start_time": "2025-02-06T14:00:44.327Z"
   },
   {
    "duration": 3428,
    "start_time": "2025-02-06T14:00:44.491Z"
   },
   {
    "duration": 372,
    "start_time": "2025-02-06T14:01:43.139Z"
   },
   {
    "duration": 361,
    "start_time": "2025-02-06T14:01:49.844Z"
   },
   {
    "duration": 5,
    "start_time": "2025-02-06T14:04:02.165Z"
   },
   {
    "duration": 112,
    "start_time": "2025-02-06T14:04:02.591Z"
   },
   {
    "duration": 4,
    "start_time": "2025-02-06T14:04:06.713Z"
   },
   {
    "duration": 4,
    "start_time": "2025-02-06T14:04:14.727Z"
   },
   {
    "duration": 14,
    "start_time": "2025-02-06T14:04:15.135Z"
   },
   {
    "duration": 18,
    "start_time": "2025-02-06T14:05:11.720Z"
   },
   {
    "duration": 5,
    "start_time": "2025-02-06T14:05:17.411Z"
   },
   {
    "duration": 19,
    "start_time": "2025-02-06T14:05:17.673Z"
   },
   {
    "duration": 3419,
    "start_time": "2025-02-06T14:05:22.783Z"
   },
   {
    "duration": 15,
    "start_time": "2025-02-06T14:05:28.692Z"
   },
   {
    "duration": 16,
    "start_time": "2025-02-06T14:05:36.520Z"
   },
   {
    "duration": 3,
    "start_time": "2025-02-06T14:05:44.308Z"
   },
   {
    "duration": 25,
    "start_time": "2025-02-06T14:05:44.652Z"
   },
   {
    "duration": 16,
    "start_time": "2025-02-06T14:05:52.558Z"
   },
   {
    "duration": 4,
    "start_time": "2025-02-06T14:06:57.264Z"
   },
   {
    "duration": 15,
    "start_time": "2025-02-06T14:06:57.735Z"
   },
   {
    "duration": 4,
    "start_time": "2025-02-06T14:07:01.398Z"
   },
   {
    "duration": 14,
    "start_time": "2025-02-06T14:07:01.772Z"
   },
   {
    "duration": 4,
    "start_time": "2025-02-06T14:07:55.699Z"
   },
   {
    "duration": 3393,
    "start_time": "2025-02-06T14:07:56.000Z"
   },
   {
    "duration": 3031,
    "start_time": "2025-02-06T18:31:50.116Z"
   },
   {
    "duration": 1807,
    "start_time": "2025-02-06T18:31:53.149Z"
   },
   {
    "duration": 454,
    "start_time": "2025-02-06T18:31:54.958Z"
   },
   {
    "duration": 17,
    "start_time": "2025-02-06T18:31:55.414Z"
   },
   {
    "duration": 15,
    "start_time": "2025-02-06T18:31:55.433Z"
   },
   {
    "duration": 69,
    "start_time": "2025-02-06T18:31:55.450Z"
   },
   {
    "duration": 11,
    "start_time": "2025-02-06T18:31:55.521Z"
   },
   {
    "duration": 14,
    "start_time": "2025-02-06T18:31:55.534Z"
   },
   {
    "duration": 55,
    "start_time": "2025-02-06T18:31:55.571Z"
   },
   {
    "duration": 14,
    "start_time": "2025-02-06T18:31:55.628Z"
   },
   {
    "duration": 13,
    "start_time": "2025-02-06T18:31:55.643Z"
   },
   {
    "duration": 49,
    "start_time": "2025-02-06T18:31:55.673Z"
   },
   {
    "duration": 13,
    "start_time": "2025-02-06T18:31:55.724Z"
   },
   {
    "duration": 983,
    "start_time": "2025-02-06T18:31:55.740Z"
   },
   {
    "duration": 869,
    "start_time": "2025-02-06T18:31:56.726Z"
   },
   {
    "duration": 3,
    "start_time": "2025-02-06T18:31:57.597Z"
   },
   {
    "duration": 818,
    "start_time": "2025-02-06T18:31:57.602Z"
   },
   {
    "duration": 11,
    "start_time": "2025-02-06T18:31:58.421Z"
   },
   {
    "duration": 544,
    "start_time": "2025-02-06T18:31:58.434Z"
   },
   {
    "duration": 90,
    "start_time": "2025-02-06T18:31:58.983Z"
   },
   {
    "duration": 6,
    "start_time": "2025-02-06T18:31:59.076Z"
   },
   {
    "duration": 16,
    "start_time": "2025-02-06T18:31:59.084Z"
   },
   {
    "duration": 6,
    "start_time": "2025-02-06T18:31:59.102Z"
   },
   {
    "duration": 22,
    "start_time": "2025-02-06T18:31:59.110Z"
   },
   {
    "duration": 7,
    "start_time": "2025-02-06T18:31:59.134Z"
   },
   {
    "duration": 3819,
    "start_time": "2025-02-06T18:31:59.143Z"
   },
   {
    "duration": 7,
    "start_time": "2025-02-06T18:37:33.745Z"
   },
   {
    "duration": 9,
    "start_time": "2025-02-06T18:38:54.013Z"
   },
   {
    "duration": 54,
    "start_time": "2025-02-06T18:39:59.289Z"
   },
   {
    "duration": 10,
    "start_time": "2025-02-06T18:40:07.062Z"
   },
   {
    "duration": 7,
    "start_time": "2025-02-06T18:40:07.560Z"
   },
   {
    "duration": 3548,
    "start_time": "2025-02-07T13:14:51.927Z"
   },
   {
    "duration": 1625,
    "start_time": "2025-02-07T13:14:55.478Z"
   },
   {
    "duration": 414,
    "start_time": "2025-02-07T13:14:57.105Z"
   },
   {
    "duration": 15,
    "start_time": "2025-02-07T13:14:57.520Z"
   },
   {
    "duration": 20,
    "start_time": "2025-02-07T13:14:57.538Z"
   },
   {
    "duration": 49,
    "start_time": "2025-02-07T13:14:57.565Z"
   },
   {
    "duration": 9,
    "start_time": "2025-02-07T13:14:57.616Z"
   },
   {
    "duration": 36,
    "start_time": "2025-02-07T13:14:57.626Z"
   },
   {
    "duration": 45,
    "start_time": "2025-02-07T13:14:57.666Z"
   },
   {
    "duration": 10,
    "start_time": "2025-02-07T13:14:57.712Z"
   },
   {
    "duration": 37,
    "start_time": "2025-02-07T13:14:57.724Z"
   },
   {
    "duration": 57,
    "start_time": "2025-02-07T13:14:57.763Z"
   },
   {
    "duration": 14,
    "start_time": "2025-02-07T13:14:57.821Z"
   },
   {
    "duration": 925,
    "start_time": "2025-02-07T13:14:57.837Z"
   },
   {
    "duration": 776,
    "start_time": "2025-02-07T13:14:58.764Z"
   },
   {
    "duration": 4,
    "start_time": "2025-02-07T13:14:59.542Z"
   },
   {
    "duration": 740,
    "start_time": "2025-02-07T13:14:59.547Z"
   },
   {
    "duration": 11,
    "start_time": "2025-02-07T13:15:00.289Z"
   },
   {
    "duration": 472,
    "start_time": "2025-02-07T13:15:00.302Z"
   },
   {
    "duration": 84,
    "start_time": "2025-02-07T13:15:00.781Z"
   },
   {
    "duration": 7,
    "start_time": "2025-02-07T13:15:00.872Z"
   },
   {
    "duration": 90,
    "start_time": "2025-02-07T13:15:00.881Z"
   },
   {
    "duration": 5,
    "start_time": "2025-02-07T13:15:00.973Z"
   },
   {
    "duration": 26,
    "start_time": "2025-02-07T13:15:00.980Z"
   },
   {
    "duration": 180,
    "start_time": "2025-02-07T13:15:01.008Z"
   },
   {
    "duration": 0,
    "start_time": "2025-02-07T13:15:01.191Z"
   },
   {
    "duration": 0,
    "start_time": "2025-02-07T13:15:01.192Z"
   },
   {
    "duration": 2552,
    "start_time": "2025-02-07T13:15:11.474Z"
   },
   {
    "duration": 1503,
    "start_time": "2025-02-07T13:15:14.029Z"
   },
   {
    "duration": 412,
    "start_time": "2025-02-07T13:15:15.534Z"
   },
   {
    "duration": 22,
    "start_time": "2025-02-07T13:15:15.947Z"
   },
   {
    "duration": 16,
    "start_time": "2025-02-07T13:15:15.972Z"
   },
   {
    "duration": 46,
    "start_time": "2025-02-07T13:15:15.990Z"
   },
   {
    "duration": 26,
    "start_time": "2025-02-07T13:15:16.038Z"
   },
   {
    "duration": 30,
    "start_time": "2025-02-07T13:15:16.066Z"
   },
   {
    "duration": 74,
    "start_time": "2025-02-07T13:15:16.098Z"
   },
   {
    "duration": 11,
    "start_time": "2025-02-07T13:15:16.175Z"
   },
   {
    "duration": 17,
    "start_time": "2025-02-07T13:15:16.188Z"
   },
   {
    "duration": 71,
    "start_time": "2025-02-07T13:15:16.207Z"
   },
   {
    "duration": 13,
    "start_time": "2025-02-07T13:15:16.279Z"
   },
   {
    "duration": 898,
    "start_time": "2025-02-07T13:15:16.295Z"
   },
   {
    "duration": 780,
    "start_time": "2025-02-07T13:15:17.195Z"
   },
   {
    "duration": 4,
    "start_time": "2025-02-07T13:15:17.977Z"
   },
   {
    "duration": 794,
    "start_time": "2025-02-07T13:15:17.982Z"
   },
   {
    "duration": 11,
    "start_time": "2025-02-07T13:15:18.779Z"
   },
   {
    "duration": 391,
    "start_time": "2025-02-07T13:15:18.792Z"
   },
   {
    "duration": 9,
    "start_time": "2025-02-07T13:15:19.258Z"
   },
   {
    "duration": 8,
    "start_time": "2025-02-07T13:15:19.269Z"
   },
   {
    "duration": 9,
    "start_time": "2025-02-07T13:15:19.357Z"
   },
   {
    "duration": 4,
    "start_time": "2025-02-07T13:15:19.367Z"
   },
   {
    "duration": 15,
    "start_time": "2025-02-07T13:15:19.374Z"
   },
   {
    "duration": 3,
    "start_time": "2025-02-07T13:15:19.391Z"
   },
   {
    "duration": 5,
    "start_time": "2025-02-07T13:15:19.396Z"
   },
   {
    "duration": 3090,
    "start_time": "2025-02-07T13:15:19.403Z"
   },
   {
    "duration": 2577,
    "start_time": "2025-02-07T13:15:44.155Z"
   },
   {
    "duration": 1452,
    "start_time": "2025-02-07T13:15:46.734Z"
   },
   {
    "duration": 414,
    "start_time": "2025-02-07T13:15:48.188Z"
   },
   {
    "duration": 14,
    "start_time": "2025-02-07T13:15:48.604Z"
   },
   {
    "duration": 15,
    "start_time": "2025-02-07T13:15:48.620Z"
   },
   {
    "duration": 63,
    "start_time": "2025-02-07T13:15:48.637Z"
   },
   {
    "duration": 9,
    "start_time": "2025-02-07T13:15:48.701Z"
   },
   {
    "duration": 17,
    "start_time": "2025-02-07T13:15:48.712Z"
   },
   {
    "duration": 66,
    "start_time": "2025-02-07T13:15:48.730Z"
   },
   {
    "duration": 9,
    "start_time": "2025-02-07T13:15:48.797Z"
   },
   {
    "duration": 15,
    "start_time": "2025-02-07T13:15:48.808Z"
   },
   {
    "duration": 78,
    "start_time": "2025-02-07T13:15:48.824Z"
   },
   {
    "duration": 12,
    "start_time": "2025-02-07T13:15:48.904Z"
   },
   {
    "duration": 878,
    "start_time": "2025-02-07T13:15:48.919Z"
   },
   {
    "duration": 779,
    "start_time": "2025-02-07T13:15:49.798Z"
   },
   {
    "duration": 811,
    "start_time": "2025-02-07T13:15:50.579Z"
   },
   {
    "duration": 11,
    "start_time": "2025-02-07T13:15:51.392Z"
   },
   {
    "duration": 366,
    "start_time": "2025-02-07T13:15:51.405Z"
   },
   {
    "duration": 6,
    "start_time": "2025-02-07T13:15:51.773Z"
   },
   {
    "duration": 86,
    "start_time": "2025-02-07T13:15:51.782Z"
   },
   {
    "duration": 7,
    "start_time": "2025-02-07T13:15:51.870Z"
   },
   {
    "duration": 87,
    "start_time": "2025-02-07T13:15:51.878Z"
   },
   {
    "duration": 18,
    "start_time": "2025-02-07T13:15:51.969Z"
   },
   {
    "duration": 3,
    "start_time": "2025-02-07T13:15:51.989Z"
   },
   {
    "duration": 4,
    "start_time": "2025-02-07T13:15:51.994Z"
   },
   {
    "duration": 2997,
    "start_time": "2025-02-07T13:15:52.000Z"
   },
   {
    "duration": 1461,
    "start_time": "2025-02-07T17:12:21.380Z"
   },
   {
    "duration": 4,
    "start_time": "2025-02-07T17:12:28.800Z"
   },
   {
    "duration": 394,
    "start_time": "2025-02-07T17:12:28.962Z"
   },
   {
    "duration": 10,
    "start_time": "2025-02-07T17:12:29.358Z"
   },
   {
    "duration": 15,
    "start_time": "2025-02-07T17:12:29.369Z"
   },
   {
    "duration": 43,
    "start_time": "2025-02-07T17:12:29.472Z"
   },
   {
    "duration": 19,
    "start_time": "2025-02-07T17:12:29.638Z"
   },
   {
    "duration": 9,
    "start_time": "2025-02-07T17:13:23.967Z"
   },
   {
    "duration": 46,
    "start_time": "2025-02-07T17:13:27.781Z"
   },
   {
    "duration": 42,
    "start_time": "2025-02-07T17:18:14.634Z"
   },
   {
    "duration": 9,
    "start_time": "2025-02-07T17:19:09.077Z"
   },
   {
    "duration": 378,
    "start_time": "2025-02-07T17:19:19.535Z"
   },
   {
    "duration": 11,
    "start_time": "2025-02-07T17:19:19.915Z"
   },
   {
    "duration": 15,
    "start_time": "2025-02-07T17:19:19.927Z"
   },
   {
    "duration": 41,
    "start_time": "2025-02-07T17:19:20.035Z"
   },
   {
    "duration": 17,
    "start_time": "2025-02-07T17:19:20.222Z"
   },
   {
    "duration": 22,
    "start_time": "2025-02-07T17:19:20.405Z"
   },
   {
    "duration": 9,
    "start_time": "2025-02-07T17:19:20.583Z"
   },
   {
    "duration": 19,
    "start_time": "2025-02-07T17:19:21.506Z"
   },
   {
    "duration": 39,
    "start_time": "2025-02-07T17:19:21.659Z"
   },
   {
    "duration": 14,
    "start_time": "2025-02-07T17:19:33.220Z"
   },
   {
    "duration": 2463,
    "start_time": "2025-02-07T17:19:58.341Z"
   },
   {
    "duration": 1348,
    "start_time": "2025-02-07T17:20:00.806Z"
   },
   {
    "duration": 386,
    "start_time": "2025-02-07T17:20:02.155Z"
   },
   {
    "duration": 18,
    "start_time": "2025-02-07T17:20:02.543Z"
   },
   {
    "duration": 15,
    "start_time": "2025-02-07T17:20:02.563Z"
   },
   {
    "duration": 45,
    "start_time": "2025-02-07T17:20:02.580Z"
   },
   {
    "duration": 37,
    "start_time": "2025-02-07T17:20:02.627Z"
   },
   {
    "duration": 27,
    "start_time": "2025-02-07T17:20:02.666Z"
   },
   {
    "duration": 9,
    "start_time": "2025-02-07T17:20:02.695Z"
   },
   {
    "duration": 30,
    "start_time": "2025-02-07T17:20:02.705Z"
   },
   {
    "duration": 59,
    "start_time": "2025-02-07T17:20:02.736Z"
   },
   {
    "duration": 26,
    "start_time": "2025-02-07T17:20:02.796Z"
   },
   {
    "duration": 9,
    "start_time": "2025-02-07T17:20:02.824Z"
   },
   {
    "duration": 43,
    "start_time": "2025-02-07T17:20:02.835Z"
   },
   {
    "duration": 24,
    "start_time": "2025-02-07T17:20:02.879Z"
   },
   {
    "duration": 54,
    "start_time": "2025-02-07T17:20:02.905Z"
   },
   {
    "duration": 12,
    "start_time": "2025-02-07T17:20:02.960Z"
   },
   {
    "duration": 805,
    "start_time": "2025-02-07T17:20:02.973Z"
   },
   {
    "duration": 728,
    "start_time": "2025-02-07T17:20:03.780Z"
   },
   {
    "duration": 758,
    "start_time": "2025-02-07T17:20:04.509Z"
   },
   {
    "duration": 11,
    "start_time": "2025-02-07T17:20:05.270Z"
   },
   {
    "duration": 383,
    "start_time": "2025-02-07T17:20:05.283Z"
   },
   {
    "duration": 5,
    "start_time": "2025-02-07T17:20:05.669Z"
   },
   {
    "duration": 6,
    "start_time": "2025-02-07T17:20:05.759Z"
   },
   {
    "duration": 93,
    "start_time": "2025-02-07T17:20:05.767Z"
   },
   {
    "duration": 34,
    "start_time": "2025-02-07T17:20:05.862Z"
   },
   {
    "duration": 23,
    "start_time": "2025-02-07T17:20:05.897Z"
   },
   {
    "duration": 3,
    "start_time": "2025-02-07T17:20:05.922Z"
   },
   {
    "duration": 4,
    "start_time": "2025-02-07T17:20:05.926Z"
   },
   {
    "duration": 2914,
    "start_time": "2025-02-07T17:20:05.932Z"
   },
   {
    "duration": 4,
    "start_time": "2025-02-07T17:23:16.079Z"
   },
   {
    "duration": 5,
    "start_time": "2025-02-07T17:23:26.070Z"
   },
   {
    "duration": 8598,
    "start_time": "2025-02-08T12:05:44.537Z"
   },
   {
    "duration": 1634,
    "start_time": "2025-02-08T12:05:53.138Z"
   },
   {
    "duration": 369,
    "start_time": "2025-02-08T12:05:54.774Z"
   },
   {
    "duration": 16,
    "start_time": "2025-02-08T12:05:55.145Z"
   },
   {
    "duration": 19,
    "start_time": "2025-02-08T12:05:55.163Z"
   },
   {
    "duration": 42,
    "start_time": "2025-02-08T12:05:55.184Z"
   },
   {
    "duration": 16,
    "start_time": "2025-02-08T12:05:55.228Z"
   },
   {
    "duration": 21,
    "start_time": "2025-02-08T12:05:55.262Z"
   },
   {
    "duration": 9,
    "start_time": "2025-02-08T12:05:55.284Z"
   },
   {
    "duration": 22,
    "start_time": "2025-02-08T12:05:55.295Z"
   },
   {
    "duration": 57,
    "start_time": "2025-02-08T12:05:55.318Z"
   },
   {
    "duration": 25,
    "start_time": "2025-02-08T12:05:55.377Z"
   },
   {
    "duration": 9,
    "start_time": "2025-02-08T12:05:55.404Z"
   },
   {
    "duration": 16,
    "start_time": "2025-02-08T12:05:55.414Z"
   },
   {
    "duration": 42,
    "start_time": "2025-02-08T12:05:55.431Z"
   },
   {
    "duration": 43,
    "start_time": "2025-02-08T12:05:55.474Z"
   },
   {
    "duration": 11,
    "start_time": "2025-02-08T12:05:55.518Z"
   },
   {
    "duration": 855,
    "start_time": "2025-02-08T12:05:55.530Z"
   },
   {
    "duration": 651,
    "start_time": "2025-02-08T12:05:56.387Z"
   },
   {
    "duration": 697,
    "start_time": "2025-02-08T12:05:57.040Z"
   },
   {
    "duration": 10,
    "start_time": "2025-02-08T12:05:57.739Z"
   },
   {
    "duration": 416,
    "start_time": "2025-02-08T12:05:57.761Z"
   },
   {
    "duration": 86,
    "start_time": "2025-02-08T12:05:58.179Z"
   },
   {
    "duration": 95,
    "start_time": "2025-02-08T12:05:58.267Z"
   },
   {
    "duration": 19,
    "start_time": "2025-02-08T12:05:58.363Z"
   },
   {
    "duration": 4,
    "start_time": "2025-02-08T12:05:58.383Z"
   },
   {
    "duration": 15,
    "start_time": "2025-02-08T12:05:58.388Z"
   },
   {
    "duration": 3,
    "start_time": "2025-02-08T12:05:58.405Z"
   },
   {
    "duration": 37,
    "start_time": "2025-02-08T12:05:58.409Z"
   },
   {
    "duration": 3849,
    "start_time": "2025-02-08T12:05:58.447Z"
   },
   {
    "duration": 3,
    "start_time": "2025-02-08T12:06:11.395Z"
   },
   {
    "duration": 15,
    "start_time": "2025-02-08T12:06:11.619Z"
   },
   {
    "duration": 911,
    "start_time": "2025-02-08T12:06:11.774Z"
   },
   {
    "duration": 0,
    "start_time": "2025-02-08T12:06:12.686Z"
   },
   {
    "duration": 0,
    "start_time": "2025-02-08T12:06:12.688Z"
   },
   {
    "duration": 2335,
    "start_time": "2025-02-08T12:06:31.928Z"
   },
   {
    "duration": 1408,
    "start_time": "2025-02-08T12:06:34.265Z"
   },
   {
    "duration": 365,
    "start_time": "2025-02-08T12:06:35.675Z"
   },
   {
    "duration": 13,
    "start_time": "2025-02-08T12:06:36.042Z"
   },
   {
    "duration": 41,
    "start_time": "2025-02-08T12:06:36.056Z"
   },
   {
    "duration": 54,
    "start_time": "2025-02-08T12:06:36.099Z"
   },
   {
    "duration": 16,
    "start_time": "2025-02-08T12:06:36.154Z"
   },
   {
    "duration": 40,
    "start_time": "2025-02-08T12:06:36.171Z"
   },
   {
    "duration": 35,
    "start_time": "2025-02-08T12:06:36.212Z"
   },
   {
    "duration": 29,
    "start_time": "2025-02-08T12:06:36.249Z"
   },
   {
    "duration": 57,
    "start_time": "2025-02-08T12:06:36.279Z"
   },
   {
    "duration": 26,
    "start_time": "2025-02-08T12:06:36.337Z"
   },
   {
    "duration": 17,
    "start_time": "2025-02-08T12:06:36.364Z"
   },
   {
    "duration": 43,
    "start_time": "2025-02-08T12:06:36.383Z"
   },
   {
    "duration": 23,
    "start_time": "2025-02-08T12:06:36.427Z"
   },
   {
    "duration": 44,
    "start_time": "2025-02-08T12:06:36.452Z"
   },
   {
    "duration": 10,
    "start_time": "2025-02-08T12:06:36.498Z"
   },
   {
    "duration": 787,
    "start_time": "2025-02-08T12:06:36.509Z"
   },
   {
    "duration": 664,
    "start_time": "2025-02-08T12:06:37.297Z"
   },
   {
    "duration": 669,
    "start_time": "2025-02-08T12:06:37.962Z"
   },
   {
    "duration": 10,
    "start_time": "2025-02-08T12:06:38.632Z"
   },
   {
    "duration": 330,
    "start_time": "2025-02-08T12:06:38.644Z"
   },
   {
    "duration": 5,
    "start_time": "2025-02-08T12:06:38.976Z"
   },
   {
    "duration": 6,
    "start_time": "2025-02-08T12:06:39.062Z"
   },
   {
    "duration": 94,
    "start_time": "2025-02-08T12:06:39.070Z"
   },
   {
    "duration": 4,
    "start_time": "2025-02-08T12:06:39.166Z"
   },
   {
    "duration": 14,
    "start_time": "2025-02-08T12:06:39.171Z"
   },
   {
    "duration": 5,
    "start_time": "2025-02-08T12:06:39.186Z"
   },
   {
    "duration": 4,
    "start_time": "2025-02-08T12:06:39.192Z"
   },
   {
    "duration": 2710,
    "start_time": "2025-02-08T12:06:39.198Z"
   },
   {
    "duration": 6,
    "start_time": "2025-02-08T12:08:25.548Z"
   }
  ],
  "kernelspec": {
   "display_name": "Python 3 (ipykernel)",
   "language": "python",
   "name": "python3"
  },
  "language_info": {
   "codemirror_mode": {
    "name": "ipython",
    "version": 3
   },
   "file_extension": ".py",
   "mimetype": "text/x-python",
   "name": "python",
   "nbconvert_exporter": "python",
   "pygments_lexer": "ipython3",
   "version": "3.9.5"
  },
  "toc": {
   "base_numbering": 1,
   "nav_menu": {},
   "number_sections": true,
   "sideBar": true,
   "skip_h1_title": true,
   "title_cell": "Table of Contents",
   "title_sidebar": "Contents",
   "toc_cell": false,
   "toc_position": {},
   "toc_section_display": true,
   "toc_window_display": false
  }
 },
 "nbformat": 4,
 "nbformat_minor": 2
}
